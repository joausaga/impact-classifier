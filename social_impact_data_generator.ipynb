{
 "cells": [
  {
   "cell_type": "markdown",
   "metadata": {},
   "source": [
    "# Generation of Social Impact Dataset (Semi-automatic Approach)"
   ]
  },
  {
   "cell_type": "markdown",
   "metadata": {},
   "source": [
    "In this project, I propose to leverage machine learning and natural language processing techniques to build a text classifier that automatizes the processing and identification of evidence of social impact in research documents. The proposal aims to solve  a classification problem in which the model takes a sentence as input and produces as output a binary answer (1=True, 0=False) that states whether the sentence contains or not evidence of social impact.\n",
    "\n",
    "The input of the machine learning model will be sentences of the research documents and the output will be whether or not the sentence provides evidence of social impact. Therefore, training a machine-learning algorithm to automatically identify evidence of social impact in text documents requires having a dataset of examples of sentences that provide evidence of impact.\n",
    "\n",
    "In this notebook, I try a couple techniques, namely sentiment analysis and k-means, to see whether I can automatize part of process of generating the data set to train and test our classifier. The idea of using sentiment analysis is to focus the manual processing only on sentences with a positive tone since it is expected that sentences with evidence of social impact are written in a positive tone.\n",
    "\n",
    "The final dataset will include both sentences that contain evidence of social impact of research and sentences that do not contain evidence of social impact. \n",
    "\n",
    "Summaries of the societal impact of Medical, Health, and Biological research published by the Research Excellence Framework (REF)---REF is the evaluation system used in the United Kingdom to measure the quality of research of their higher education institutions---will be used to build the dataset.\n",
    "\n",
    "From all research fields, this project focuses on Medical, Health, and Biological science because the ultimately goal is to understand the social impact of the research projects of the Spanish National Institue of Bioinformatics (INB by its Spanish Acronym), which is an institution that conducts medical and biological investigations."
   ]
  },
  {
   "cell_type": "markdown",
   "metadata": {},
   "source": [
    "## Load dependencies"
   ]
  },
  {
   "cell_type": "code",
   "execution_count": 27,
   "metadata": {},
   "outputs": [],
   "source": [
    "import pandas as pd\n",
    "import numpy as np\n",
    "import matplotlib.pyplot as plt\n",
    "import os\n",
    "import re\n",
    "\n",
    "from nltk.tokenize import sent_tokenize, word_tokenize"
   ]
  },
  {
   "cell_type": "code",
   "execution_count": 3,
   "metadata": {},
   "outputs": [
    {
     "name": "stdout",
     "output_type": "stream",
     "text": [
      "Directory of project: /home/jorge/Dropbox/Development/impact-classifier\n"
     ]
    }
   ],
   "source": [
    "project_dir = os.getcwd()\n",
    "print('Directory of project: {}'.format(project_dir))"
   ]
  },
  {
   "cell_type": "markdown",
   "metadata": {},
   "source": [
    "## Load data"
   ]
  },
  {
   "cell_type": "markdown",
   "metadata": {},
   "source": [
    "The data were extracted from the impact case studies published by REF (Research Excellence Framework) and it contains the summary of societal impact of Medical, Health, and Biological research. Summaries can be access [here](https://impact.ref.ac.uk/casestudies/Results.aspx?Type=I&Tag=5085)."
   ]
  },
  {
   "cell_type": "code",
   "execution_count": 4,
   "metadata": {},
   "outputs": [],
   "source": [
    "data = pd.read_csv('data/social_impact_ref_bio_medicine.csv')"
   ]
  },
  {
   "cell_type": "code",
   "execution_count": 5,
   "metadata": {},
   "outputs": [
    {
     "data": {
      "text/html": [
       "<div>\n",
       "<style scoped>\n",
       "    .dataframe tbody tr th:only-of-type {\n",
       "        vertical-align: middle;\n",
       "    }\n",
       "\n",
       "    .dataframe tbody tr th {\n",
       "        vertical-align: top;\n",
       "    }\n",
       "\n",
       "    .dataframe thead th {\n",
       "        text-align: right;\n",
       "    }\n",
       "</style>\n",
       "<table border=\"1\" class=\"dataframe\">\n",
       "  <thead>\n",
       "    <tr style=\"text-align: right;\">\n",
       "      <th></th>\n",
       "      <th>Case Study Id</th>\n",
       "      <th>Institution</th>\n",
       "      <th>Unit of Assessment</th>\n",
       "      <th>Title</th>\n",
       "      <th>Summary of the impact</th>\n",
       "    </tr>\n",
       "  </thead>\n",
       "  <tbody>\n",
       "    <tr>\n",
       "      <th>0</th>\n",
       "      <td>942</td>\n",
       "      <td>\\n    University of Kent and University of Gre...</td>\n",
       "      <td>Allied Health Professions, Dentistry, Nursing ...</td>\n",
       "      <td>\\n    The Guide to Receptors and Channels: a k...</td>\n",
       "      <td>\\n    The Guide to Receptors and Channels has ...</td>\n",
       "    </tr>\n",
       "    <tr>\n",
       "      <th>1</th>\n",
       "      <td>3405</td>\n",
       "      <td>\\nCardiff University\\n</td>\n",
       "      <td>Geography, Environmental Studies and Archaeology</td>\n",
       "      <td>\\nChanging people's perceptions of the human:a...</td>\n",
       "      <td>\\nThe Cardiff Osteological Research Group (COR...</td>\n",
       "    </tr>\n",
       "    <tr>\n",
       "      <th>2</th>\n",
       "      <td>15620</td>\n",
       "      <td>\\n    Royal Veterinary College\\n</td>\n",
       "      <td>Agriculture, Veterinary and Food Science</td>\n",
       "      <td>\\n    Giant Animals: evolution and biomechanic...</td>\n",
       "      <td>\\n    Professor Hutchinson's team has pursued ...</td>\n",
       "    </tr>\n",
       "    <tr>\n",
       "      <th>3</th>\n",
       "      <td>16710</td>\n",
       "      <td>\\n    University of Cambridge\\n</td>\n",
       "      <td>Physics</td>\n",
       "      <td>\\n    Mainstreaming Biological Physics in the ...</td>\n",
       "      <td>\\n    Material has been prepared for the Insti...</td>\n",
       "    </tr>\n",
       "    <tr>\n",
       "      <th>4</th>\n",
       "      <td>18226</td>\n",
       "      <td>\\n    University of Chester\\n</td>\n",
       "      <td>Psychology, Psychiatry and Neuroscience</td>\n",
       "      <td>\\n    Informing Global Improvements on the Wel...</td>\n",
       "      <td>\\n    This research programme has provided con...</td>\n",
       "    </tr>\n",
       "  </tbody>\n",
       "</table>\n",
       "</div>"
      ],
      "text/plain": [
       "   Case Study Id                                        Institution  \\\n",
       "0            942  \\n    University of Kent and University of Gre...   \n",
       "1           3405                             \\nCardiff University\\n   \n",
       "2          15620               \\n    Royal Veterinary College\\n       \n",
       "3          16710                \\n    University of Cambridge\\n       \n",
       "4          18226                  \\n    University of Chester\\n       \n",
       "\n",
       "                                  Unit of Assessment  \\\n",
       "0  Allied Health Professions, Dentistry, Nursing ...   \n",
       "1   Geography, Environmental Studies and Archaeology   \n",
       "2           Agriculture, Veterinary and Food Science   \n",
       "3                                            Physics   \n",
       "4            Psychology, Psychiatry and Neuroscience   \n",
       "\n",
       "                                               Title  \\\n",
       "0  \\n    The Guide to Receptors and Channels: a k...   \n",
       "1  \\nChanging people's perceptions of the human:a...   \n",
       "2  \\n    Giant Animals: evolution and biomechanic...   \n",
       "3  \\n    Mainstreaming Biological Physics in the ...   \n",
       "4  \\n    Informing Global Improvements on the Wel...   \n",
       "\n",
       "                               Summary of the impact  \n",
       "0  \\n    The Guide to Receptors and Channels has ...  \n",
       "1  \\nThe Cardiff Osteological Research Group (COR...  \n",
       "2  \\n    Professor Hutchinson's team has pursued ...  \n",
       "3  \\n    Material has been prepared for the Insti...  \n",
       "4  \\n    This research programme has provided con...  "
      ]
     },
     "execution_count": 5,
     "metadata": {},
     "output_type": "execute_result"
    }
   ],
   "source": [
    "data.head()"
   ]
  },
  {
   "cell_type": "markdown",
   "metadata": {},
   "source": [
    "Special attention will be paid to the column **Summary of the impact**, which is the column of interest here."
   ]
  },
  {
   "cell_type": "code",
   "execution_count": 6,
   "metadata": {},
   "outputs": [
    {
     "name": "stdout",
     "output_type": "stream",
     "text": [
      "Data set dimension. Rows: 571, Columns: 5\n"
     ]
    }
   ],
   "source": [
    "print('Data set dimension. Rows: {0}, Columns: {1}'.format(data.shape[0], data.shape[1]))"
   ]
  },
  {
   "cell_type": "markdown",
   "metadata": {},
   "source": [
    "## Clean and Transform Data"
   ]
  },
  {
   "cell_type": "markdown",
   "metadata": {},
   "source": [
    "Remove no-ascii characters and split summaries of impact into sentences."
   ]
  },
  {
   "cell_type": "code",
   "execution_count": 7,
   "metadata": {},
   "outputs": [],
   "source": [
    "def process_data(text):\n",
    "    # remove any character except letter, numbers, and percentage sign\n",
    "    text = re.sub(r\"[^a-zA-Z0-9%]\", \" \", text.lower())\n",
    "    # remove newlines, tabs, and extra spaces\n",
    "    text = re.sub(r\"\\t\", \" \", text)\n",
    "    text = re.sub(r\"\\n\", \" \", text)\n",
    "    text = re.sub(\"  \", \" \", text)\n",
    "    text = re.sub(\"   \", \" \", text)\n",
    "    text = text.strip()  # remove leading and trailing spaces\n",
    "    return text"
   ]
  },
  {
   "cell_type": "code",
   "execution_count": 8,
   "metadata": {},
   "outputs": [],
   "source": [
    "clean_data = pd.DataFrame(columns=['title', 'impact_sentence'])\n",
    "for i in data.index:\n",
    "    title = process_data(data.loc[i, 'Title'])\n",
    "    sentences = sent_tokenize(data.loc[i, 'Summary of the impact'])\n",
    "    for sentence in sentences:\n",
    "        clean_data = clean_data.append({'title': title, 'impact_sentence': process_data(sentence)}, \n",
    "                                       ignore_index=True)        "
   ]
  },
  {
   "cell_type": "code",
   "execution_count": 9,
   "metadata": {},
   "outputs": [
    {
     "data": {
      "text/html": [
       "<div>\n",
       "<style scoped>\n",
       "    .dataframe tbody tr th:only-of-type {\n",
       "        vertical-align: middle;\n",
       "    }\n",
       "\n",
       "    .dataframe tbody tr th {\n",
       "        vertical-align: top;\n",
       "    }\n",
       "\n",
       "    .dataframe thead th {\n",
       "        text-align: right;\n",
       "    }\n",
       "</style>\n",
       "<table border=\"1\" class=\"dataframe\">\n",
       "  <thead>\n",
       "    <tr style=\"text-align: right;\">\n",
       "      <th></th>\n",
       "      <th>title</th>\n",
       "      <th>impact_sentence</th>\n",
       "    </tr>\n",
       "  </thead>\n",
       "  <tbody>\n",
       "    <tr>\n",
       "      <th>0</th>\n",
       "      <td>the guide to receptors and channels a key tool...</td>\n",
       "      <td>the guide to receptors and channels has contri...</td>\n",
       "    </tr>\n",
       "    <tr>\n",
       "      <th>1</th>\n",
       "      <td>the guide to receptors and channels a key tool...</td>\n",
       "      <td>the key tools it provides have influenced appr...</td>\n",
       "    </tr>\n",
       "    <tr>\n",
       "      <th>2</th>\n",
       "      <td>the guide to receptors and channels a key tool...</td>\n",
       "      <td>it is used widely as a teaching aid for  under...</td>\n",
       "    </tr>\n",
       "    <tr>\n",
       "      <th>3</th>\n",
       "      <td>the guide to receptors and channels a key tool...</td>\n",
       "      <td>it led to the  formation of the guide to pharm...</td>\n",
       "    </tr>\n",
       "    <tr>\n",
       "      <th>4</th>\n",
       "      <td>changing people s perceptions of the human ani...</td>\n",
       "      <td>the cardiff osteological research group corg h...</td>\n",
       "    </tr>\n",
       "  </tbody>\n",
       "</table>\n",
       "</div>"
      ],
      "text/plain": [
       "                                               title  \\\n",
       "0  the guide to receptors and channels a key tool...   \n",
       "1  the guide to receptors and channels a key tool...   \n",
       "2  the guide to receptors and channels a key tool...   \n",
       "3  the guide to receptors and channels a key tool...   \n",
       "4  changing people s perceptions of the human ani...   \n",
       "\n",
       "                                     impact_sentence  \n",
       "0  the guide to receptors and channels has contri...  \n",
       "1  the key tools it provides have influenced appr...  \n",
       "2  it is used widely as a teaching aid for  under...  \n",
       "3  it led to the  formation of the guide to pharm...  \n",
       "4  the cardiff osteological research group corg h...  "
      ]
     },
     "execution_count": 9,
     "metadata": {},
     "output_type": "execute_result"
    }
   ],
   "source": [
    "clean_data.head()"
   ]
  },
  {
   "cell_type": "code",
   "execution_count": 21,
   "metadata": {},
   "outputs": [
    {
     "name": "stdout",
     "output_type": "stream",
     "text": [
      "Total number of sentences: 2373\n"
     ]
    }
   ],
   "source": [
    "print('Total number of sentences: {0}'.format(clean_data.shape[0]))"
   ]
  },
  {
   "cell_type": "markdown",
   "metadata": {},
   "source": [
    "## Sentiment Analysis of sentences"
   ]
  },
  {
   "cell_type": "markdown",
   "metadata": {},
   "source": [
    "Sentiment analysis is used to focus the manual processing only on sentences with a positive tone since it is expected that sentences with evidence of social impact are written using a positive attitude."
   ]
  },
  {
   "cell_type": "code",
   "execution_count": null,
   "metadata": {},
   "outputs": [],
   "source": [
    "# Load the required libraries\n",
    "from vaderSentiment.vaderSentiment import SentimentIntensityAnalyzer"
   ]
  },
  {
   "cell_type": "code",
   "execution_count": 10,
   "metadata": {},
   "outputs": [],
   "source": [
    "analyzer = SentimentIntensityAnalyzer()"
   ]
  },
  {
   "cell_type": "code",
   "execution_count": 17,
   "metadata": {},
   "outputs": [],
   "source": [
    "def analyze_sentiment(row):\n",
    "    score = analyzer.polarity_scores(row['impact_sentence'])\n",
    "    if score['compound'] >= 0.05:\n",
    "        sentiment = 'positive'\n",
    "    elif 0.05 > score['compound'] >= -0.05:\n",
    "        sentiment = 'neutral'\n",
    "    else:\n",
    "        sentiment = 'negative'    \n",
    "    \n",
    "    return pd.Series([row['title'], row['impact_sentence'], sentiment, score['compound']], \n",
    "                     index=['title', 'sentence', 'sentiment', 'score'])    "
   ]
  },
  {
   "cell_type": "code",
   "execution_count": 18,
   "metadata": {},
   "outputs": [],
   "source": [
    "#todo: remove stopwords before applying sentiment\n",
    "sa_impact_text = clean_data.apply(analyze_sentiment, axis=1)"
   ]
  },
  {
   "cell_type": "code",
   "execution_count": 54,
   "metadata": {},
   "outputs": [
    {
     "data": {
      "text/html": [
       "<div>\n",
       "<style scoped>\n",
       "    .dataframe tbody tr th:only-of-type {\n",
       "        vertical-align: middle;\n",
       "    }\n",
       "\n",
       "    .dataframe tbody tr th {\n",
       "        vertical-align: top;\n",
       "    }\n",
       "\n",
       "    .dataframe thead th {\n",
       "        text-align: right;\n",
       "    }\n",
       "</style>\n",
       "<table border=\"1\" class=\"dataframe\">\n",
       "  <thead>\n",
       "    <tr style=\"text-align: right;\">\n",
       "      <th></th>\n",
       "      <th>title</th>\n",
       "      <th>sentence</th>\n",
       "      <th>sentiment</th>\n",
       "      <th>score</th>\n",
       "    </tr>\n",
       "  </thead>\n",
       "  <tbody>\n",
       "    <tr>\n",
       "      <th>0</th>\n",
       "      <td>the guide to receptors and channels a key tool in the maintenance and   development of pharmacology</td>\n",
       "      <td>the guide to receptors and channels has contributed to the  development and maintenance of the intellectual infrastructure of  pharmacology</td>\n",
       "      <td>positive</td>\n",
       "      <td>0.5106</td>\n",
       "    </tr>\n",
       "    <tr>\n",
       "      <th>1</th>\n",
       "      <td>the guide to receptors and channels a key tool in the maintenance and   development of pharmacology</td>\n",
       "      <td>the key tools it provides have influenced appropriate  identification of lead drug targets and how best to study them and as a  result it has received endorsement and financial support from the  pharmaceutical industry</td>\n",
       "      <td>positive</td>\n",
       "      <td>0.8481</td>\n",
       "    </tr>\n",
       "    <tr>\n",
       "      <th>2</th>\n",
       "      <td>the guide to receptors and channels a key tool in the maintenance and   development of pharmacology</td>\n",
       "      <td>it is used widely as a teaching aid for  undergraduates and research postgraduates and provides the general public  with accurate information on prescription drug action</td>\n",
       "      <td>neutral</td>\n",
       "      <td>0.0000</td>\n",
       "    </tr>\n",
       "    <tr>\n",
       "      <th>3</th>\n",
       "      <td>the guide to receptors and channels a key tool in the maintenance and   development of pharmacology</td>\n",
       "      <td>it led to the  formation of the guide to pharmacology website in collaboration with the  international union of basic and clinical pharmacology</td>\n",
       "      <td>neutral</td>\n",
       "      <td>0.0000</td>\n",
       "    </tr>\n",
       "    <tr>\n",
       "      <th>4</th>\n",
       "      <td>changing people s perceptions of the human animal relationship</td>\n",
       "      <td>the cardiff osteological research group corg has researched the complex relationship between animals and people across britain europe and beyond</td>\n",
       "      <td>neutral</td>\n",
       "      <td>0.0000</td>\n",
       "    </tr>\n",
       "    <tr>\n",
       "      <th>5</th>\n",
       "      <td>changing people s perceptions of the human animal relationship</td>\n",
       "      <td>corg has taken its research as the basis for a programme of activities that seeks to challenge modern attitudes to animals through archaeological studies and to provoke reflection on the present relevance and future development of animals</td>\n",
       "      <td>negative</td>\n",
       "      <td>-0.3400</td>\n",
       "    </tr>\n",
       "    <tr>\n",
       "      <th>6</th>\n",
       "      <td>changing people s perceptions of the human animal relationship</td>\n",
       "      <td>their impact has built on relationships developed with artists and practitioners in creative industries who have been influenced by the issues researched</td>\n",
       "      <td>positive</td>\n",
       "      <td>0.4404</td>\n",
       "    </tr>\n",
       "    <tr>\n",
       "      <th>7</th>\n",
       "      <td>changing people s perceptions of the human animal relationship</td>\n",
       "      <td>by encouraging a range of audiences to consider the economic social ritual and symbolic roles of animals corg has enriched informed and changed the perspectives of individuals who do not normally engage with the archaeological past including target groups traditionally excluded from or not aware of academic research</td>\n",
       "      <td>neutral</td>\n",
       "      <td>-0.0093</td>\n",
       "    </tr>\n",
       "    <tr>\n",
       "      <th>8</th>\n",
       "      <td>giant animals evolution and biomechanics inspiring future science</td>\n",
       "      <td>professor hutchinson s team has pursued research into movement of large  land animals and how  they have evolved under biomechanical constraints such as gravity which  dominate their  lifestyles</td>\n",
       "      <td>negative</td>\n",
       "      <td>-0.1280</td>\n",
       "    </tr>\n",
       "    <tr>\n",
       "      <th>9</th>\n",
       "      <td>giant animals evolution and biomechanics inspiring future science</td>\n",
       "      <td>their findings relating to elephants and to dinosaurs  applying physics maths and  computer science to study the natural world have captured the public s  imagination through a  variety of engagement activities</td>\n",
       "      <td>positive</td>\n",
       "      <td>0.6705</td>\n",
       "    </tr>\n",
       "  </tbody>\n",
       "</table>\n",
       "</div>"
      ],
      "text/plain": [
       "                                                                                                 title  \\\n",
       "0  the guide to receptors and channels a key tool in the maintenance and   development of pharmacology   \n",
       "1  the guide to receptors and channels a key tool in the maintenance and   development of pharmacology   \n",
       "2  the guide to receptors and channels a key tool in the maintenance and   development of pharmacology   \n",
       "3  the guide to receptors and channels a key tool in the maintenance and   development of pharmacology   \n",
       "4                                       changing people s perceptions of the human animal relationship   \n",
       "5                                       changing people s perceptions of the human animal relationship   \n",
       "6                                       changing people s perceptions of the human animal relationship   \n",
       "7                                       changing people s perceptions of the human animal relationship   \n",
       "8                                    giant animals evolution and biomechanics inspiring future science   \n",
       "9                                    giant animals evolution and biomechanics inspiring future science   \n",
       "\n",
       "                                                                                                                                                                                                                                                                                                                        sentence  \\\n",
       "0                                                                                                                                                                                    the guide to receptors and channels has contributed to the  development and maintenance of the intellectual infrastructure of  pharmacology   \n",
       "1                                                                                                     the key tools it provides have influenced appropriate  identification of lead drug targets and how best to study them and as a  result it has received endorsement and financial support from the  pharmaceutical industry   \n",
       "2                                                                                                                                                      it is used widely as a teaching aid for  undergraduates and research postgraduates and provides the general public  with accurate information on prescription drug action   \n",
       "3                                                                                                                                                                                it led to the  formation of the guide to pharmacology website in collaboration with the  international union of basic and clinical pharmacology   \n",
       "4                                                                                                                                                                               the cardiff osteological research group corg has researched the complex relationship between animals and people across britain europe and beyond   \n",
       "5                                                                                 corg has taken its research as the basis for a programme of activities that seeks to challenge modern attitudes to animals through archaeological studies and to provoke reflection on the present relevance and future development of animals   \n",
       "6                                                                                                                                                                      their impact has built on relationships developed with artists and practitioners in creative industries who have been influenced by the issues researched   \n",
       "7  by encouraging a range of audiences to consider the economic social ritual and symbolic roles of animals corg has enriched informed and changed the perspectives of individuals who do not normally engage with the archaeological past including target groups traditionally excluded from or not aware of academic research   \n",
       "8                                                                                                                             professor hutchinson s team has pursued research into movement of large  land animals and how  they have evolved under biomechanical constraints such as gravity which  dominate their  lifestyles   \n",
       "9                                                                                                             their findings relating to elephants and to dinosaurs  applying physics maths and  computer science to study the natural world have captured the public s  imagination through a  variety of engagement activities   \n",
       "\n",
       "  sentiment   score  \n",
       "0  positive  0.5106  \n",
       "1  positive  0.8481  \n",
       "2   neutral  0.0000  \n",
       "3   neutral  0.0000  \n",
       "4   neutral  0.0000  \n",
       "5  negative -0.3400  \n",
       "6  positive  0.4404  \n",
       "7   neutral -0.0093  \n",
       "8  negative -0.1280  \n",
       "9  positive  0.6705  "
      ]
     },
     "execution_count": 54,
     "metadata": {},
     "output_type": "execute_result"
    }
   ],
   "source": [
    "sa_impact_text.head(10)"
   ]
  },
  {
   "cell_type": "code",
   "execution_count": 30,
   "metadata": {},
   "outputs": [
    {
     "data": {
      "text/plain": [
       "positive    1346\n",
       "neutral      579\n",
       "negative     448\n",
       "Name: sentiment, dtype: int64"
      ]
     },
     "execution_count": 30,
     "metadata": {},
     "output_type": "execute_result"
    }
   ],
   "source": [
    "dist_sentiments = sa_impact_text['sentiment'].value_counts()\n",
    "dist_sentiments"
   ]
  },
  {
   "cell_type": "code",
   "execution_count": 31,
   "metadata": {},
   "outputs": [
    {
     "data": {
      "image/png": "[encoded data removed]",
      "text/plain": [
       "<Figure size 432x288 with 1 Axes>"
      ]
     },
     "metadata": {
      "needs_background": "light"
     },
     "output_type": "display_data"
    }
   ],
   "source": [
    "plt.bar(dist_sentiments.index, dist_sentiments, color=['green', 'red', 'gray'])\n",
    "plt.title('Sentiment of sentences')\n",
    "plt.show()"
   ]
  },
  {
   "cell_type": "markdown",
   "metadata": {},
   "source": [
    "### Sanity check"
   ]
  },
  {
   "cell_type": "markdown",
   "metadata": {},
   "source": [
    "The plan now is to manually random sample of the positive sentences to check whether they contain evidence of social impact. However, before we have to make sure that neutral and negative sentences (false negatives) are correct. So, let's manually inspect a random sample of sentences in the neutral and negative group. We will discard the option of using sentiment analysis to automatically identifies sentences with evidence of social impact if we find more 5% of error in either group, neutral or negative."
   ]
  },
  {
   "cell_type": "code",
   "execution_count": 39,
   "metadata": {},
   "outputs": [],
   "source": [
    "# avoid pandas to truncate string columns\n",
    "pd.set_option('display.max_colwidth', None)"
   ]
  },
  {
   "cell_type": "code",
   "execution_count": 53,
   "metadata": {},
   "outputs": [],
   "source": [
    "sample_size = 20"
   ]
  },
  {
   "cell_type": "code",
   "execution_count": 43,
   "metadata": {},
   "outputs": [
    {
     "data": {
      "text/plain": [
       "(50, 4)"
      ]
     },
     "execution_count": 43,
     "metadata": {},
     "output_type": "execute_result"
    }
   ],
   "source": [
    "sample_negative = sa_impact_text[sa_impact_text['sentiment']=='negative'].sample(n=sample_size, random_state=1)\n",
    "sample_negative.shape"
   ]
  },
  {
   "cell_type": "code",
   "execution_count": 44,
   "metadata": {},
   "outputs": [
    {
     "data": {
      "text/html": [
       "<div>\n",
       "<style scoped>\n",
       "    .dataframe tbody tr th:only-of-type {\n",
       "        vertical-align: middle;\n",
       "    }\n",
       "\n",
       "    .dataframe tbody tr th {\n",
       "        vertical-align: top;\n",
       "    }\n",
       "\n",
       "    .dataframe thead th {\n",
       "        text-align: right;\n",
       "    }\n",
       "</style>\n",
       "<table border=\"1\" class=\"dataframe\">\n",
       "  <thead>\n",
       "    <tr style=\"text-align: right;\">\n",
       "      <th></th>\n",
       "      <th>title</th>\n",
       "      <th>sentence</th>\n",
       "      <th>sentiment</th>\n",
       "      <th>score</th>\n",
       "    </tr>\n",
       "  </thead>\n",
       "  <tbody>\n",
       "    <tr>\n",
       "      <th>1026</th>\n",
       "      <td>informing rights based challenges to mainstream policy responses to   human trafficking</td>\n",
       "      <td>o connell davidson s pioneering research delivered the first systematic  study of the demand for prostitution and domestic work and contested  mainstream policy responses to human trafficking childhood and migration</td>\n",
       "      <td>negative</td>\n",
       "      <td>-0.1280</td>\n",
       "    </tr>\n",
       "    <tr>\n",
       "      <th>1497</th>\n",
       "      <td>reshaping resilience practices a co production approach</td>\n",
       "      <td>collaborative research with practitioners parents and young people has  led to the development of resilient therapy rt a new approach to  building resilience in disadvantaged families</td>\n",
       "      <td>negative</td>\n",
       "      <td>-0.4019</td>\n",
       "    </tr>\n",
       "    <tr>\n",
       "      <th>1002</th>\n",
       "      <td>the big picture show depictions of truce at the imperial war museum</td>\n",
       "      <td>second a big picture   show bps  part of the rolling programme at the imperial war museum  north iwmn</td>\n",
       "      <td>negative</td>\n",
       "      <td>-0.5994</td>\n",
       "    </tr>\n",
       "    <tr>\n",
       "      <th>183</th>\n",
       "      <td>how the development and application of techniques for assessing the   payback or impact from health research informs policies to support   health research</td>\n",
       "      <td>second  many stakeholders made extensive use the findings of payback studies in  public debate and private lobbying for public expenditure on health  research</td>\n",
       "      <td>negative</td>\n",
       "      <td>-0.0772</td>\n",
       "    </tr>\n",
       "    <tr>\n",
       "      <th>1262</th>\n",
       "      <td>bullying cyberbullying and e safety in children and young people the  impact of research by the unit for child and youth studies york st john  university</td>\n",
       "      <td>research has shown that being a victim of bullying can have serious  and long term  negative effects on psychological well being hawker amp boulton 2000</td>\n",
       "      <td>negative</td>\n",
       "      <td>-0.8360</td>\n",
       "    </tr>\n",
       "  </tbody>\n",
       "</table>\n",
       "</div>"
      ],
      "text/plain": [
       "                                                                                                                                                           title  \\\n",
       "1026                                                                     informing rights based challenges to mainstream policy responses to   human trafficking   \n",
       "1497                                                                                                     reshaping resilience practices a co production approach   \n",
       "1002                                                                                         the big picture show depictions of truce at the imperial war museum   \n",
       "183   how the development and application of techniques for assessing the   payback or impact from health research informs policies to support   health research   \n",
       "1262   bullying cyberbullying and e safety in children and young people the  impact of research by the unit for child and youth studies york st john  university   \n",
       "\n",
       "                                                                                                                                                                                                                     sentence  \\\n",
       "1026  o connell davidson s pioneering research delivered the first systematic  study of the demand for prostitution and domestic work and contested  mainstream policy responses to human trafficking childhood and migration   \n",
       "1497                                  collaborative research with practitioners parents and young people has  led to the development of resilient therapy rt a new approach to  building resilience in disadvantaged families   \n",
       "1002                                                                                                                    second a big picture   show bps  part of the rolling programme at the imperial war museum  north iwmn   \n",
       "183                                                            second  many stakeholders made extensive use the findings of payback studies in  public debate and private lobbying for public expenditure on health  research   \n",
       "1262                                                                 research has shown that being a victim of bullying can have serious  and long term  negative effects on psychological well being hawker amp boulton 2000   \n",
       "\n",
       "     sentiment   score  \n",
       "1026  negative -0.1280  \n",
       "1497  negative -0.4019  \n",
       "1002  negative -0.5994  \n",
       "183   negative -0.0772  \n",
       "1262  negative -0.8360  "
      ]
     },
     "execution_count": 44,
     "metadata": {},
     "output_type": "execute_result"
    }
   ],
   "source": [
    "sample_negative.head()"
   ]
  },
  {
   "cell_type": "code",
   "execution_count": 49,
   "metadata": {},
   "outputs": [],
   "source": [
    "sample_negative.to_csv('data/sa_evaluation/sample_negative_sentences.csv')"
   ]
  },
  {
   "cell_type": "markdown",
   "metadata": {},
   "source": [
    "Sentences in the negative sample were imported in [here](https://docs.google.com/spreadsheets/d/1UFmlKuCEoOB8toKuQUCTWBBL6ZO2RhhLJloomJtaqvY/edit#gid=0). After a manual inspection of the sentences, we found that the sentiment analysis could correctly derive the sentiment of only 12% of the sentences. So, it produced an **error of 0.88**. It seems that the negative term (e.g., disadvantages, abuse, human trafficking, victim, bullying) used to express social situations that has changed because of the research, undermined the correct classification of sentences."
   ]
  },
  {
   "cell_type": "code",
   "execution_count": 38,
   "metadata": {},
   "outputs": [
    {
     "data": {
      "text/plain": [
       "(20, 4)"
      ]
     },
     "execution_count": 38,
     "metadata": {},
     "output_type": "execute_result"
    }
   ],
   "source": [
    "sample_neutral = sa_impact_text[sa_impact_text['sentiment']=='neutral'].sample(n=sample_size, random_state=1)\n",
    "sample_neutral.shape"
   ]
  },
  {
   "cell_type": "code",
   "execution_count": 46,
   "metadata": {},
   "outputs": [
    {
     "data": {
      "text/html": [
       "<div>\n",
       "<style scoped>\n",
       "    .dataframe tbody tr th:only-of-type {\n",
       "        vertical-align: middle;\n",
       "    }\n",
       "\n",
       "    .dataframe tbody tr th {\n",
       "        vertical-align: top;\n",
       "    }\n",
       "\n",
       "    .dataframe thead th {\n",
       "        text-align: right;\n",
       "    }\n",
       "</style>\n",
       "<table border=\"1\" class=\"dataframe\">\n",
       "  <thead>\n",
       "    <tr style=\"text-align: right;\">\n",
       "      <th></th>\n",
       "      <th>title</th>\n",
       "      <th>sentence</th>\n",
       "      <th>sentiment</th>\n",
       "      <th>score</th>\n",
       "    </tr>\n",
       "  </thead>\n",
       "  <tbody>\n",
       "    <tr>\n",
       "      <th>887</th>\n",
       "      <td>empowering french front line hospital nursing managers to deal   positively with the pressures of modernisation</td>\n",
       "      <td>vaughan rogers work with ca</td>\n",
       "      <td>neutral</td>\n",
       "      <td>0.0</td>\n",
       "    </tr>\n",
       "    <tr>\n",
       "      <th>1767</th>\n",
       "      <td>building a safer surgical workforce driving innovation in simulation  training amp educational research</td>\n",
       "      <td>this body of  multidisciplinary research brings together imperial s contributions in  simulation science skills assessment performance shaping factors  educational theory and surgical practice to contribute to national and  international healthcare education and policy</td>\n",
       "      <td>neutral</td>\n",
       "      <td>0.0</td>\n",
       "    </tr>\n",
       "    <tr>\n",
       "      <th>1515</th>\n",
       "      <td>redesigning tourism policy and practices in africa</td>\n",
       "      <td>in the gambia the research led to the  ministry of tourism and culture developing service standards and  establishing the  8364 2 7m gambia tourism and hospitability institute</td>\n",
       "      <td>neutral</td>\n",
       "      <td>0.0</td>\n",
       "    </tr>\n",
       "    <tr>\n",
       "      <th>1744</th>\n",
       "      <td>human rights and older people</td>\n",
       "      <td>this case study involves the research of professor john williams on the  law and older people and its impact on health and welfare practitioners  and public policy law and services within the uk and his contribution to  an international debate on the need for a un convention on the rights of  older people</td>\n",
       "      <td>neutral</td>\n",
       "      <td>0.0</td>\n",
       "    </tr>\n",
       "    <tr>\n",
       "      <th>2003</th>\n",
       "      <td>emerging biomedical technologies shaping practices and influencing   policy</td>\n",
       "      <td>professor andrew webster s sociological research on developments in  biomedical science has been impactful in shaping regulatory practice and  influencing policy in relation to biobanking stem cell research and  regenerative medicine</td>\n",
       "      <td>neutral</td>\n",
       "      <td>0.0</td>\n",
       "    </tr>\n",
       "  </tbody>\n",
       "</table>\n",
       "</div>"
      ],
      "text/plain": [
       "                                                                                                                title  \\\n",
       "887   empowering french front line hospital nursing managers to deal   positively with the pressures of modernisation   \n",
       "1767          building a safer surgical workforce driving innovation in simulation  training amp educational research   \n",
       "1515                                                               redesigning tourism policy and practices in africa   \n",
       "1744                                                                                    human rights and older people   \n",
       "2003                                      emerging biomedical technologies shaping practices and influencing   policy   \n",
       "\n",
       "                                                                                                                                                                                                                                                                                                                sentence  \\\n",
       "887                                                                                                                                                                                                                                                                                          vaughan rogers work with ca   \n",
       "1767                                       this body of  multidisciplinary research brings together imperial s contributions in  simulation science skills assessment performance shaping factors  educational theory and surgical practice to contribute to national and  international healthcare education and policy   \n",
       "1515                                                                                                                                     in the gambia the research led to the  ministry of tourism and culture developing service standards and  establishing the  8364 2 7m gambia tourism and hospitability institute   \n",
       "1744  this case study involves the research of professor john williams on the  law and older people and its impact on health and welfare practitioners  and public policy law and services within the uk and his contribution to  an international debate on the need for a un convention on the rights of  older people   \n",
       "2003                                                                           professor andrew webster s sociological research on developments in  biomedical science has been impactful in shaping regulatory practice and  influencing policy in relation to biobanking stem cell research and  regenerative medicine   \n",
       "\n",
       "     sentiment  score  \n",
       "887    neutral    0.0  \n",
       "1767   neutral    0.0  \n",
       "1515   neutral    0.0  \n",
       "1744   neutral    0.0  \n",
       "2003   neutral    0.0  "
      ]
     },
     "execution_count": 46,
     "metadata": {},
     "output_type": "execute_result"
    }
   ],
   "source": [
    "sample_neutral.head()"
   ]
  },
  {
   "cell_type": "code",
   "execution_count": 51,
   "metadata": {},
   "outputs": [],
   "source": [
    "sample_neutral.to_csv('data/sa_evaluation/sample_neutral_sentences.csv')"
   ]
  },
  {
   "cell_type": "markdown",
   "metadata": {},
   "source": [
    "Sentences in the negative sample were imported in [here](https://docs.google.com/spreadsheets/d/1UFmlKuCEoOB8toKuQUCTWBBL6ZO2RhhLJloomJtaqvY/edit#gid=1799513637). After a manual inspection of the sentences, we found that the sentiment analysis could correctly derive the sentiment of 45% of the sentences. So, it produced an **error of 0.55**."
   ]
  },
  {
   "cell_type": "markdown",
   "metadata": {},
   "source": [
    "Due to the high-errors, we discarded the idea of using sentiment analysis to automoatically identify sentences with evidence of social impact."
   ]
  },
  {
   "cell_type": "markdown",
   "metadata": {},
   "source": [
    "---\n",
    "## K-means"
   ]
  },
  {
   "cell_type": "markdown",
   "metadata": {},
   "source": [
    "The code in this section is an adaptation of the document clustering tutorial presented in the blog post [Document Clustering with Python](http://brandonrose.org/clustering_mobile)"
   ]
  },
  {
   "cell_type": "code",
   "execution_count": 69,
   "metadata": {},
   "outputs": [],
   "source": [
    "# Import the required libraries\n",
    "from sklearn.feature_extraction.text import TfidfVectorizer, CountVectorizer\n",
    "from sklearn.cluster import KMeans\n",
    "from sklearn.metrics.pairwise import cosine_similarity\n",
    "from nltk.stem.snowball import SnowballStemmer\n",
    "\n",
    "import joblib\n",
    "import nltk"
   ]
  },
  {
   "cell_type": "code",
   "execution_count": 70,
   "metadata": {},
   "outputs": [],
   "source": [
    "stopwords = nltk.corpus.stopwords.words('english')\n",
    "stemmer = SnowballStemmer(\"english\")"
   ]
  },
  {
   "cell_type": "code",
   "execution_count": 161,
   "metadata": {},
   "outputs": [],
   "source": [
    "def tokenize_sentence(sentence, do_stemming=True):\n",
    "    # tokenize sentence by words\n",
    "    tokens = word_tokenize(sentence)\n",
    "    filtered_tokens = []\n",
    "    # filter out any tokens not containing numbers and letters\n",
    "    for token in tokens:\n",
    "        if re.search('[a-zA-Z0-9]', token) and token not in stopwords:\n",
    "            filtered_tokens.append(token)\n",
    "    if do_stemming:\n",
    "        stems = [stemmer.stem(t) for t in filtered_tokens]\n",
    "        return stems\n",
    "    else:\n",
    "        return filtered_tokens"
   ]
  },
  {
   "cell_type": "code",
   "execution_count": 162,
   "metadata": {},
   "outputs": [],
   "source": [
    "vocabulary_stemmed = []\n",
    "vocabulary = []\n",
    "for sentence in list(clean_data['impact_sentence']):\n",
    "    vocabulary_stemmed.extend(tokenize_sentence(sentence))\n",
    "    vocabulary.extend(tokenize_sentence(sentence, do_stemming=False))"
   ]
  },
  {
   "cell_type": "code",
   "execution_count": 163,
   "metadata": {},
   "outputs": [
    {
     "name": "stdout",
     "output_type": "stream",
     "text": [
      "There are 43163 items in vocabulary\n"
     ]
    }
   ],
   "source": [
    "vocabulary_df = pd.DataFrame({'words': vocabulary}, index = vocabulary_stemmed)\n",
    "print('There are ' + str(vocabulary_df.shape[0]) + ' items in vocabulary')"
   ]
  },
  {
   "cell_type": "code",
   "execution_count": 164,
   "metadata": {},
   "outputs": [
    {
     "data": {
      "text/html": [
       "<div>\n",
       "<style scoped>\n",
       "    .dataframe tbody tr th:only-of-type {\n",
       "        vertical-align: middle;\n",
       "    }\n",
       "\n",
       "    .dataframe tbody tr th {\n",
       "        vertical-align: top;\n",
       "    }\n",
       "\n",
       "    .dataframe thead th {\n",
       "        text-align: right;\n",
       "    }\n",
       "</style>\n",
       "<table border=\"1\" class=\"dataframe\">\n",
       "  <thead>\n",
       "    <tr style=\"text-align: right;\">\n",
       "      <th></th>\n",
       "      <th>words</th>\n",
       "    </tr>\n",
       "  </thead>\n",
       "  <tbody>\n",
       "    <tr>\n",
       "      <th>guid</th>\n",
       "      <td>guide</td>\n",
       "    </tr>\n",
       "    <tr>\n",
       "      <th>receptor</th>\n",
       "      <td>receptors</td>\n",
       "    </tr>\n",
       "    <tr>\n",
       "      <th>channel</th>\n",
       "      <td>channels</td>\n",
       "    </tr>\n",
       "    <tr>\n",
       "      <th>contribut</th>\n",
       "      <td>contributed</td>\n",
       "    </tr>\n",
       "    <tr>\n",
       "      <th>develop</th>\n",
       "      <td>development</td>\n",
       "    </tr>\n",
       "  </tbody>\n",
       "</table>\n",
       "</div>"
      ],
      "text/plain": [
       "                 words\n",
       "guid             guide\n",
       "receptor     receptors\n",
       "channel       channels\n",
       "contribut  contributed\n",
       "develop    development"
      ]
     },
     "execution_count": 164,
     "metadata": {},
     "output_type": "execute_result"
    }
   ],
   "source": [
    "vocabulary_df.head()"
   ]
  },
  {
   "cell_type": "code",
   "execution_count": 186,
   "metadata": {},
   "outputs": [],
   "source": [
    "#define vectorizer\n",
    "tfidf_vectorizer = TfidfVectorizer(max_df=0.7, max_features=500,\n",
    "                                   min_df=0.03, use_idf=True, tokenizer=tokenize_sentence, \n",
    "                                   ngram_range=(1,3))\n",
    "#fit the vectorizer to sentences\n",
    "tfidf_matrix = tfidf_vectorizer.fit_transform(list(clean_data['impact_sentence']))"
   ]
  },
  {
   "cell_type": "code",
   "execution_count": 187,
   "metadata": {},
   "outputs": [
    {
     "data": {
      "text/html": [
       "<div>\n",
       "<style scoped>\n",
       "    .dataframe tbody tr th:only-of-type {\n",
       "        vertical-align: middle;\n",
       "    }\n",
       "\n",
       "    .dataframe tbody tr th {\n",
       "        vertical-align: top;\n",
       "    }\n",
       "\n",
       "    .dataframe thead th {\n",
       "        text-align: right;\n",
       "    }\n",
       "</style>\n",
       "<table border=\"1\" class=\"dataframe\">\n",
       "  <thead>\n",
       "    <tr style=\"text-align: right;\">\n",
       "      <th></th>\n",
       "      <th>across</th>\n",
       "      <th>activ</th>\n",
       "      <th>also</th>\n",
       "      <th>approach</th>\n",
       "      <th>awar</th>\n",
       "      <th>base</th>\n",
       "      <th>benefit</th>\n",
       "      <th>bodi</th>\n",
       "      <th>care</th>\n",
       "      <th>case</th>\n",
       "      <th>...</th>\n",
       "      <th>understand</th>\n",
       "      <th>univers</th>\n",
       "      <th>use</th>\n",
       "      <th>well</th>\n",
       "      <th>wide</th>\n",
       "      <th>within</th>\n",
       "      <th>work</th>\n",
       "      <th>world</th>\n",
       "      <th>young</th>\n",
       "      <th>young peopl</th>\n",
       "    </tr>\n",
       "  </thead>\n",
       "  <tbody>\n",
       "    <tr>\n",
       "      <th>0</th>\n",
       "      <td>0.000000</td>\n",
       "      <td>0.0</td>\n",
       "      <td>0.0</td>\n",
       "      <td>0.0</td>\n",
       "      <td>0.0</td>\n",
       "      <td>0.0</td>\n",
       "      <td>0.0</td>\n",
       "      <td>0.0</td>\n",
       "      <td>0.0</td>\n",
       "      <td>0.0</td>\n",
       "      <td>...</td>\n",
       "      <td>0.0</td>\n",
       "      <td>0.0</td>\n",
       "      <td>0.000000</td>\n",
       "      <td>0.0</td>\n",
       "      <td>0.000000</td>\n",
       "      <td>0.0</td>\n",
       "      <td>0.0</td>\n",
       "      <td>0.0</td>\n",
       "      <td>0.0</td>\n",
       "      <td>0.0</td>\n",
       "    </tr>\n",
       "    <tr>\n",
       "      <th>1</th>\n",
       "      <td>0.000000</td>\n",
       "      <td>0.0</td>\n",
       "      <td>0.0</td>\n",
       "      <td>0.0</td>\n",
       "      <td>0.0</td>\n",
       "      <td>0.0</td>\n",
       "      <td>0.0</td>\n",
       "      <td>0.0</td>\n",
       "      <td>0.0</td>\n",
       "      <td>0.0</td>\n",
       "      <td>...</td>\n",
       "      <td>0.0</td>\n",
       "      <td>0.0</td>\n",
       "      <td>0.000000</td>\n",
       "      <td>0.0</td>\n",
       "      <td>0.000000</td>\n",
       "      <td>0.0</td>\n",
       "      <td>0.0</td>\n",
       "      <td>0.0</td>\n",
       "      <td>0.0</td>\n",
       "      <td>0.0</td>\n",
       "    </tr>\n",
       "    <tr>\n",
       "      <th>2</th>\n",
       "      <td>0.000000</td>\n",
       "      <td>0.0</td>\n",
       "      <td>0.0</td>\n",
       "      <td>0.0</td>\n",
       "      <td>0.0</td>\n",
       "      <td>0.0</td>\n",
       "      <td>0.0</td>\n",
       "      <td>0.0</td>\n",
       "      <td>0.0</td>\n",
       "      <td>0.0</td>\n",
       "      <td>...</td>\n",
       "      <td>0.0</td>\n",
       "      <td>0.0</td>\n",
       "      <td>0.380713</td>\n",
       "      <td>0.0</td>\n",
       "      <td>0.533639</td>\n",
       "      <td>0.0</td>\n",
       "      <td>0.0</td>\n",
       "      <td>0.0</td>\n",
       "      <td>0.0</td>\n",
       "      <td>0.0</td>\n",
       "    </tr>\n",
       "    <tr>\n",
       "      <th>3</th>\n",
       "      <td>0.000000</td>\n",
       "      <td>0.0</td>\n",
       "      <td>0.0</td>\n",
       "      <td>0.0</td>\n",
       "      <td>0.0</td>\n",
       "      <td>0.0</td>\n",
       "      <td>0.0</td>\n",
       "      <td>0.0</td>\n",
       "      <td>0.0</td>\n",
       "      <td>0.0</td>\n",
       "      <td>...</td>\n",
       "      <td>0.0</td>\n",
       "      <td>0.0</td>\n",
       "      <td>0.000000</td>\n",
       "      <td>0.0</td>\n",
       "      <td>0.000000</td>\n",
       "      <td>0.0</td>\n",
       "      <td>0.0</td>\n",
       "      <td>0.0</td>\n",
       "      <td>0.0</td>\n",
       "      <td>0.0</td>\n",
       "    </tr>\n",
       "    <tr>\n",
       "      <th>4</th>\n",
       "      <td>0.540384</td>\n",
       "      <td>0.0</td>\n",
       "      <td>0.0</td>\n",
       "      <td>0.0</td>\n",
       "      <td>0.0</td>\n",
       "      <td>0.0</td>\n",
       "      <td>0.0</td>\n",
       "      <td>0.0</td>\n",
       "      <td>0.0</td>\n",
       "      <td>0.0</td>\n",
       "      <td>...</td>\n",
       "      <td>0.0</td>\n",
       "      <td>0.0</td>\n",
       "      <td>0.000000</td>\n",
       "      <td>0.0</td>\n",
       "      <td>0.000000</td>\n",
       "      <td>0.0</td>\n",
       "      <td>0.0</td>\n",
       "      <td>0.0</td>\n",
       "      <td>0.0</td>\n",
       "      <td>0.0</td>\n",
       "    </tr>\n",
       "  </tbody>\n",
       "</table>\n",
       "<p>5 rows × 93 columns</p>\n",
       "</div>"
      ],
      "text/plain": [
       "     across  activ  also  approach  awar  base  benefit  bodi  care  case  \\\n",
       "0  0.000000    0.0   0.0       0.0   0.0   0.0      0.0   0.0   0.0   0.0   \n",
       "1  0.000000    0.0   0.0       0.0   0.0   0.0      0.0   0.0   0.0   0.0   \n",
       "2  0.000000    0.0   0.0       0.0   0.0   0.0      0.0   0.0   0.0   0.0   \n",
       "3  0.000000    0.0   0.0       0.0   0.0   0.0      0.0   0.0   0.0   0.0   \n",
       "4  0.540384    0.0   0.0       0.0   0.0   0.0      0.0   0.0   0.0   0.0   \n",
       "\n",
       "   ...  understand  univers       use  well      wide  within  work  world  \\\n",
       "0  ...         0.0      0.0  0.000000   0.0  0.000000     0.0   0.0    0.0   \n",
       "1  ...         0.0      0.0  0.000000   0.0  0.000000     0.0   0.0    0.0   \n",
       "2  ...         0.0      0.0  0.380713   0.0  0.533639     0.0   0.0    0.0   \n",
       "3  ...         0.0      0.0  0.000000   0.0  0.000000     0.0   0.0    0.0   \n",
       "4  ...         0.0      0.0  0.000000   0.0  0.000000     0.0   0.0    0.0   \n",
       "\n",
       "   young  young peopl  \n",
       "0    0.0          0.0  \n",
       "1    0.0          0.0  \n",
       "2    0.0          0.0  \n",
       "3    0.0          0.0  \n",
       "4    0.0          0.0  \n",
       "\n",
       "[5 rows x 93 columns]"
      ]
     },
     "execution_count": 187,
     "metadata": {},
     "output_type": "execute_result"
    }
   ],
   "source": [
    "pd.DataFrame(tfidf_matrix.toarray(), columns=tfidf_vectorizer.get_feature_names()).head()"
   ]
  },
  {
   "cell_type": "code",
   "execution_count": 188,
   "metadata": {},
   "outputs": [
    {
     "name": "stdout",
     "output_type": "stream",
     "text": [
      "['across', 'activ', 'also', 'approach', 'awar', 'base', 'benefit', 'bodi', 'care', 'case', 'case studi', 'centr', 'chang', 'child', 'children', 'communiti', 'contribut', 'countri', 'debat', 'demonstr', 'design', 'develop', 'direct', 'educ', 'effect', 'engag', 'enhanc', 'evalu', 'evid', 'famili', 'find', 'first', 'focus', 'govern', 'group', 'guidelin', 'health', 'help', 'impact', 'improv', 'includ', 'increas', 'influenc', 'inform', 'intern', 'intervent', 'issu', 'key', 'lead', 'led', 'level', 'local', 'major', 'manag', 'media', 'nation', 'need', 'new', 'organis', 'patient', 'peopl', 'perform', 'polici', 'practic', 'practition', 'profession', 'professor', 'programm', 'project', 'provid', 'public', 'relat', 'research', 'result', 'school', 'servic', 'signific', 'social', 'sport', 'studi', 'support', 'train', 'uk', 'understand', 'univers', 'use', 'well', 'wide', 'within', 'work', 'world', 'young', 'young peopl']\n"
     ]
    }
   ],
   "source": [
    "terms = tfidf_vectorizer.get_feature_names()\n",
    "print(terms)"
   ]
  },
  {
   "cell_type": "code",
   "execution_count": 193,
   "metadata": {},
   "outputs": [],
   "source": [
    "# let's start with two clusters (sentences with evidence of social and sentences with no evidence)\n",
    "num_clusters = 2\n",
    "km_model = KMeans(n_clusters=num_clusters)\n",
    "km_model.fit(tfidf_matrix)\n",
    "clusters = km_model.labels_.tolist()"
   ]
  },
  {
   "cell_type": "code",
   "execution_count": 194,
   "metadata": {},
   "outputs": [],
   "source": [
    "sentences = {'title': list(clean_data['title']), 'sentence': list(clean_data['impact_sentence']), \n",
    "             'cluster': clusters}\n",
    "clusters_df = pd.DataFrame(sentences, index = [clusters] , columns = ['title', 'sentence'])"
   ]
  },
  {
   "cell_type": "code",
   "execution_count": 195,
   "metadata": {},
   "outputs": [
    {
     "data": {
      "text/html": [
       "<div>\n",
       "<style scoped>\n",
       "    .dataframe tbody tr th:only-of-type {\n",
       "        vertical-align: middle;\n",
       "    }\n",
       "\n",
       "    .dataframe tbody tr th {\n",
       "        vertical-align: top;\n",
       "    }\n",
       "\n",
       "    .dataframe thead th {\n",
       "        text-align: right;\n",
       "    }\n",
       "</style>\n",
       "<table border=\"1\" class=\"dataframe\">\n",
       "  <thead>\n",
       "    <tr style=\"text-align: right;\">\n",
       "      <th></th>\n",
       "      <th>title</th>\n",
       "      <th>sentence</th>\n",
       "    </tr>\n",
       "  </thead>\n",
       "  <tbody>\n",
       "    <tr>\n",
       "      <th>1</th>\n",
       "      <td>the guide to receptors and channels a key tool in the maintenance and   development of pharmacology</td>\n",
       "      <td>the guide to receptors and channels has contributed to the  development and maintenance of the intellectual infrastructure of  pharmacology</td>\n",
       "    </tr>\n",
       "    <tr>\n",
       "      <th>1</th>\n",
       "      <td>the guide to receptors and channels a key tool in the maintenance and   development of pharmacology</td>\n",
       "      <td>the key tools it provides have influenced appropriate  identification of lead drug targets and how best to study them and as a  result it has received endorsement and financial support from the  pharmaceutical industry</td>\n",
       "    </tr>\n",
       "    <tr>\n",
       "      <th>0</th>\n",
       "      <td>the guide to receptors and channels a key tool in the maintenance and   development of pharmacology</td>\n",
       "      <td>it is used widely as a teaching aid for  undergraduates and research postgraduates and provides the general public  with accurate information on prescription drug action</td>\n",
       "    </tr>\n",
       "    <tr>\n",
       "      <th>1</th>\n",
       "      <td>the guide to receptors and channels a key tool in the maintenance and   development of pharmacology</td>\n",
       "      <td>it led to the  formation of the guide to pharmacology website in collaboration with the  international union of basic and clinical pharmacology</td>\n",
       "    </tr>\n",
       "    <tr>\n",
       "      <th>1</th>\n",
       "      <td>changing people s perceptions of the human animal relationship</td>\n",
       "      <td>the cardiff osteological research group corg has researched the complex relationship between animals and people across britain europe and beyond</td>\n",
       "    </tr>\n",
       "  </tbody>\n",
       "</table>\n",
       "</div>"
      ],
      "text/plain": [
       "                                                                                                 title  \\\n",
       "1  the guide to receptors and channels a key tool in the maintenance and   development of pharmacology   \n",
       "1  the guide to receptors and channels a key tool in the maintenance and   development of pharmacology   \n",
       "0  the guide to receptors and channels a key tool in the maintenance and   development of pharmacology   \n",
       "1  the guide to receptors and channels a key tool in the maintenance and   development of pharmacology   \n",
       "1                                       changing people s perceptions of the human animal relationship   \n",
       "\n",
       "                                                                                                                                                                                                                     sentence  \n",
       "1                                                                                 the guide to receptors and channels has contributed to the  development and maintenance of the intellectual infrastructure of  pharmacology  \n",
       "1  the key tools it provides have influenced appropriate  identification of lead drug targets and how best to study them and as a  result it has received endorsement and financial support from the  pharmaceutical industry  \n",
       "0                                                   it is used widely as a teaching aid for  undergraduates and research postgraduates and provides the general public  with accurate information on prescription drug action  \n",
       "1                                                                             it led to the  formation of the guide to pharmacology website in collaboration with the  international union of basic and clinical pharmacology  \n",
       "1                                                                            the cardiff osteological research group corg has researched the complex relationship between animals and people across britain europe and beyond  "
      ]
     },
     "execution_count": 195,
     "metadata": {},
     "output_type": "execute_result"
    }
   ],
   "source": [
    "clusters_df.head()"
   ]
  },
  {
   "cell_type": "code",
   "execution_count": 196,
   "metadata": {},
   "outputs": [
    {
     "name": "stdout",
     "output_type": "stream",
     "text": [
      "Top terms per cluster:\n",
      "\n",
      "Cluster 0 words: public, health, research, policy, impact, engage,\n",
      "\n",
      "Cluster 1 words: research, development, policy, impact, uk, used,\n",
      "\n",
      "\n"
     ]
    }
   ],
   "source": [
    "print(\"Top terms per cluster:\")\n",
    "print()\n",
    "#sort cluster centers by proximity to centroid\n",
    "order_centroids = km_model.cluster_centers_.argsort()[:, ::-1] \n",
    "words_per_cluster = 6\n",
    "for i in range(num_clusters):\n",
    "    print(\"Cluster %d words:\" % i, end='')    \n",
    "    for ind in order_centroids[i, :words_per_cluster]:\n",
    "        print(' %s' % vocabulary_df.loc[terms[ind].split(' ')].values.tolist()[0][0], end=',')\n",
    "    print() #add whitespace\n",
    "    print() #add whitespace\n",
    "    \n",
    "print()"
   ]
  }
 ],
 "metadata": {
  "kernelspec": {
   "display_name": "Python 3",
   "language": "python",
   "name": "python3"
  },
  "language_info": {
   "codemirror_mode": {
    "name": "ipython",
    "version": 3
   },
   "file_extension": ".py",
   "mimetype": "text/x-python",
   "name": "python",
   "nbconvert_exporter": "python",
   "pygments_lexer": "ipython3",
   "version": "3.6.9"
  }
 },
 "nbformat": 4,
 "nbformat_minor": 2
}
