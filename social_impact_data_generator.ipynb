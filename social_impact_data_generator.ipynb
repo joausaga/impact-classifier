{
 "cells": [
  {
   "cell_type": "markdown",
   "metadata": {},
   "source": [
    "# Generation of Social Impact Dataset (Semi-automatic Approach)"
   ]
  },
  {
   "cell_type": "markdown",
   "metadata": {},
   "source": [
    "In this project, I propose to leverage machine learning and natural language processing techniques to build a text classifier that automatizes the processing and identification of evidence of social impact in research documents. The proposal aims to solve  a classification problem in which the model takes a sentence as input and produces as output a binary answer (1=True, 0=False) that states whether the sentence contains or not evidence of social impact.\n",
    "\n",
    "The input of the machine learning model will be sentences of the research documents and the output will be whether or not the sentence provides evidence of social impact. Therefore, training a machine-learning algorithm to automatically identify evidence of social impact in text documents requires having a dataset of examples of sentences that provide evidence of impact.\n",
    "\n",
    "In this notebook, I try a couple techniques, namely sentiment analysis and k-means, to see whether I can automatize part of process of generating the data set to train and test our classifier. The idea of using sentiment analysis is to focus the manual processing only on sentences with a positive tone since it is expected that sentences with evidence of social impact are written in a positive tone.\n",
    "\n",
    "The final dataset will include both sentences that contain evidence of social impact of research and sentences that do not contain evidence of social impact. \n",
    "\n",
    "Summaries of the societal impact of Medical, Health, and Biological research published by the Research Excellence Framework (REF)---REF is the evaluation system used in the United Kingdom to measure the quality of research of their higher education institutions---will be used to build the dataset.\n",
    "\n",
    "From all research fields, this project focuses on Medical, Health, and Biological science because the ultimately goal is to understand the social impact of the research projects of the Spanish National Institue of Bioinformatics (INB by its Spanish Acronym), which is an institution that conducts medical and biological investigations."
   ]
  },
  {
   "cell_type": "markdown",
   "metadata": {},
   "source": [
    "## Load dependencies"
   ]
  },
  {
   "cell_type": "code",
   "execution_count": 22,
   "metadata": {},
   "outputs": [],
   "source": [
    "import pandas as pd\n",
    "import numpy as np\n",
    "import os\n",
    "import re\n",
    "\n",
    "from vaderSentiment.vaderSentiment import SentimentIntensityAnalyzer\n",
    "from nltk.tokenize import sent_tokenize, word_tokenize"
   ]
  },
  {
   "cell_type": "code",
   "execution_count": 10,
   "metadata": {},
   "outputs": [
    {
     "name": "stdout",
     "output_type": "stream",
     "text": [
      "Directory of project: /home/jorge/Dropbox/Development/impact-classifier\n"
     ]
    }
   ],
   "source": [
    "project_dir = os.getcwd()\n",
    "print('Directory of project: {}'.format(project_dir))"
   ]
  },
  {
   "cell_type": "markdown",
   "metadata": {},
   "source": [
    "## Load data"
   ]
  },
  {
   "cell_type": "markdown",
   "metadata": {},
   "source": [
    "The data were extracted from the impact case studies published by REF (Research Excellence Framework) and it contains the summary of societal impact of Medical, Health, and Biological research. Summaries can be access [here](https://impact.ref.ac.uk/casestudies/Results.aspx?Type=I&Tag=5085)."
   ]
  },
  {
   "cell_type": "code",
   "execution_count": 11,
   "metadata": {},
   "outputs": [],
   "source": [
    "data = pd.read_csv('data/social_impact_ref_bio_medicine.csv')"
   ]
  },
  {
   "cell_type": "code",
   "execution_count": 12,
   "metadata": {},
   "outputs": [
    {
     "data": {
      "text/html": [
       "<div>\n",
       "<style scoped>\n",
       "    .dataframe tbody tr th:only-of-type {\n",
       "        vertical-align: middle;\n",
       "    }\n",
       "\n",
       "    .dataframe tbody tr th {\n",
       "        vertical-align: top;\n",
       "    }\n",
       "\n",
       "    .dataframe thead th {\n",
       "        text-align: right;\n",
       "    }\n",
       "</style>\n",
       "<table border=\"1\" class=\"dataframe\">\n",
       "  <thead>\n",
       "    <tr style=\"text-align: right;\">\n",
       "      <th></th>\n",
       "      <th>Case Study Id</th>\n",
       "      <th>Institution</th>\n",
       "      <th>Unit of Assessment</th>\n",
       "      <th>Title</th>\n",
       "      <th>Summary of the impact</th>\n",
       "    </tr>\n",
       "  </thead>\n",
       "  <tbody>\n",
       "    <tr>\n",
       "      <th>0</th>\n",
       "      <td>942</td>\n",
       "      <td>\\n    University of Kent and University of Gre...</td>\n",
       "      <td>Allied Health Professions, Dentistry, Nursing ...</td>\n",
       "      <td>\\n    The Guide to Receptors and Channels: a k...</td>\n",
       "      <td>\\n    The Guide to Receptors and Channels has ...</td>\n",
       "    </tr>\n",
       "    <tr>\n",
       "      <th>1</th>\n",
       "      <td>3405</td>\n",
       "      <td>\\nCardiff University\\n</td>\n",
       "      <td>Geography, Environmental Studies and Archaeology</td>\n",
       "      <td>\\nChanging people's perceptions of the human:a...</td>\n",
       "      <td>\\nThe Cardiff Osteological Research Group (COR...</td>\n",
       "    </tr>\n",
       "    <tr>\n",
       "      <th>2</th>\n",
       "      <td>15620</td>\n",
       "      <td>\\n    Royal Veterinary College\\n</td>\n",
       "      <td>Agriculture, Veterinary and Food Science</td>\n",
       "      <td>\\n    Giant Animals: evolution and biomechanic...</td>\n",
       "      <td>\\n    Professor Hutchinson's team has pursued ...</td>\n",
       "    </tr>\n",
       "    <tr>\n",
       "      <th>3</th>\n",
       "      <td>16710</td>\n",
       "      <td>\\n    University of Cambridge\\n</td>\n",
       "      <td>Physics</td>\n",
       "      <td>\\n    Mainstreaming Biological Physics in the ...</td>\n",
       "      <td>\\n    Material has been prepared for the Insti...</td>\n",
       "    </tr>\n",
       "    <tr>\n",
       "      <th>4</th>\n",
       "      <td>18226</td>\n",
       "      <td>\\n    University of Chester\\n</td>\n",
       "      <td>Psychology, Psychiatry and Neuroscience</td>\n",
       "      <td>\\n    Informing Global Improvements on the Wel...</td>\n",
       "      <td>\\n    This research programme has provided con...</td>\n",
       "    </tr>\n",
       "  </tbody>\n",
       "</table>\n",
       "</div>"
      ],
      "text/plain": [
       "   Case Study Id                                        Institution  \\\n",
       "0            942  \\n    University of Kent and University of Gre...   \n",
       "1           3405                             \\nCardiff University\\n   \n",
       "2          15620               \\n    Royal Veterinary College\\n       \n",
       "3          16710                \\n    University of Cambridge\\n       \n",
       "4          18226                  \\n    University of Chester\\n       \n",
       "\n",
       "                                  Unit of Assessment  \\\n",
       "0  Allied Health Professions, Dentistry, Nursing ...   \n",
       "1   Geography, Environmental Studies and Archaeology   \n",
       "2           Agriculture, Veterinary and Food Science   \n",
       "3                                            Physics   \n",
       "4            Psychology, Psychiatry and Neuroscience   \n",
       "\n",
       "                                               Title  \\\n",
       "0  \\n    The Guide to Receptors and Channels: a k...   \n",
       "1  \\nChanging people's perceptions of the human:a...   \n",
       "2  \\n    Giant Animals: evolution and biomechanic...   \n",
       "3  \\n    Mainstreaming Biological Physics in the ...   \n",
       "4  \\n    Informing Global Improvements on the Wel...   \n",
       "\n",
       "                               Summary of the impact  \n",
       "0  \\n    The Guide to Receptors and Channels has ...  \n",
       "1  \\nThe Cardiff Osteological Research Group (COR...  \n",
       "2  \\n    Professor Hutchinson's team has pursued ...  \n",
       "3  \\n    Material has been prepared for the Insti...  \n",
       "4  \\n    This research programme has provided con...  "
      ]
     },
     "execution_count": 12,
     "metadata": {},
     "output_type": "execute_result"
    }
   ],
   "source": [
    "data.head()"
   ]
  },
  {
   "cell_type": "markdown",
   "metadata": {},
   "source": [
    "Special attention will be paid to the column **Summary of the impact**, which is the column of interest here."
   ]
  },
  {
   "cell_type": "code",
   "execution_count": 15,
   "metadata": {},
   "outputs": [
    {
     "name": "stdout",
     "output_type": "stream",
     "text": [
      "Data set dimension. Rows: 571, Columns: 5\n"
     ]
    }
   ],
   "source": [
    "print('Data set dimension. Rows: {0}, Columns: {1}'.format(data.shape[0], data.shape[1]))"
   ]
  },
  {
   "cell_type": "markdown",
   "metadata": {},
   "source": [
    "## Clean and Transform Data"
   ]
  },
  {
   "cell_type": "markdown",
   "metadata": {},
   "source": [
    "Remove no-ascii characters and split summaries of impact into sentences."
   ]
  },
  {
   "cell_type": "code",
   "execution_count": 25,
   "metadata": {},
   "outputs": [],
   "source": [
    "def process_data(text):\n",
    "    # remove any character except letter, numbers, and percentage sign\n",
    "    text = re.sub(r\"[^a-zA-Z0-9%]\", \" \", text.lower())\n",
    "    # remove newlines, tabs, and extra spaces\n",
    "    text = re.sub(r\"\\t\", \" \", text)\n",
    "    text = re.sub(r\"\\n\", \" \", text)\n",
    "    text = re.sub(\"  \", \" \", text)\n",
    "    text = re.sub(\"   \", \" \", text)\n",
    "    text = text.strip()  # remove leading and trailing spaces\n",
    "    return text"
   ]
  },
  {
   "cell_type": "code",
   "execution_count": 50,
   "metadata": {},
   "outputs": [],
   "source": [
    "clean_data = pd.DataFrame(columns=['title', 'impact_sentence'])\n",
    "for i in data.index:\n",
    "    title = process_data(data.loc[i, 'Title'])\n",
    "    sentences = sent_tokenize(data.loc[i, 'Summary of the impact'])\n",
    "    for sentence in sentences:\n",
    "        clean_data = clean_data.append({'title': title, 'impact_sentence': process_data(sentence)}, \n",
    "                                       ignore_index=True)        "
   ]
  },
  {
   "cell_type": "code",
   "execution_count": 51,
   "metadata": {},
   "outputs": [
    {
     "data": {
      "text/html": [
       "<div>\n",
       "<style scoped>\n",
       "    .dataframe tbody tr th:only-of-type {\n",
       "        vertical-align: middle;\n",
       "    }\n",
       "\n",
       "    .dataframe tbody tr th {\n",
       "        vertical-align: top;\n",
       "    }\n",
       "\n",
       "    .dataframe thead th {\n",
       "        text-align: right;\n",
       "    }\n",
       "</style>\n",
       "<table border=\"1\" class=\"dataframe\">\n",
       "  <thead>\n",
       "    <tr style=\"text-align: right;\">\n",
       "      <th></th>\n",
       "      <th>title</th>\n",
       "      <th>impact_sentence</th>\n",
       "    </tr>\n",
       "  </thead>\n",
       "  <tbody>\n",
       "    <tr>\n",
       "      <th>0</th>\n",
       "      <td>the guide to receptors and channels a key tool...</td>\n",
       "      <td>the guide to receptors and channels has contri...</td>\n",
       "    </tr>\n",
       "    <tr>\n",
       "      <th>1</th>\n",
       "      <td>the guide to receptors and channels a key tool...</td>\n",
       "      <td>the key tools it provides have influenced appr...</td>\n",
       "    </tr>\n",
       "    <tr>\n",
       "      <th>2</th>\n",
       "      <td>the guide to receptors and channels a key tool...</td>\n",
       "      <td>it is used widely as a teaching aid for  under...</td>\n",
       "    </tr>\n",
       "    <tr>\n",
       "      <th>3</th>\n",
       "      <td>the guide to receptors and channels a key tool...</td>\n",
       "      <td>it led to the  formation of the guide to pharm...</td>\n",
       "    </tr>\n",
       "    <tr>\n",
       "      <th>4</th>\n",
       "      <td>changing people s perceptions of the human ani...</td>\n",
       "      <td>the cardiff osteological research group corg h...</td>\n",
       "    </tr>\n",
       "  </tbody>\n",
       "</table>\n",
       "</div>"
      ],
      "text/plain": [
       "                                               title  \\\n",
       "0  the guide to receptors and channels a key tool...   \n",
       "1  the guide to receptors and channels a key tool...   \n",
       "2  the guide to receptors and channels a key tool...   \n",
       "3  the guide to receptors and channels a key tool...   \n",
       "4  changing people s perceptions of the human ani...   \n",
       "\n",
       "                                     impact_sentence  \n",
       "0  the guide to receptors and channels has contri...  \n",
       "1  the key tools it provides have influenced appr...  \n",
       "2  it is used widely as a teaching aid for  under...  \n",
       "3  it led to the  formation of the guide to pharm...  \n",
       "4  the cardiff osteological research group corg h...  "
      ]
     },
     "execution_count": 51,
     "metadata": {},
     "output_type": "execute_result"
    }
   ],
   "source": [
    "clean_data.head()"
   ]
  },
  {
   "cell_type": "markdown",
   "metadata": {},
   "source": [
    "## Apply Sentiment Analysis"
   ]
  },
  {
   "cell_type": "markdown",
   "metadata": {},
   "source": [
    "Sentiment analysis is used to focus the manual processing only on sentences with a positive tone since it is expected that sentences with evidence of social impact are written using a positive attitude."
   ]
  },
  {
   "cell_type": "code",
   "execution_count": 53,
   "metadata": {},
   "outputs": [],
   "source": [
    "analyzer = SentimentIntensityAnalyzer()"
   ]
  },
  {
   "cell_type": "code",
   "execution_count": 54,
   "metadata": {},
   "outputs": [],
   "source": [
    "def analyze_sentiment(row):\n",
    "    score = analyzer.polarity_scores(row['impact_sentence'])\n",
    "    ret_dict = {'title': row['title'], 'sentence': row['impact_sentence']}\n",
    "    if score['compound'] >= 0.05:        \n",
    "        ret_dict['sentiment'] = 'positive'\n",
    "    elif 0.05 > score['compound'] >= -0.05:\n",
    "        ret_dict['sentiment'] = 'neutral'\n",
    "    else:\n",
    "        ret_dict['sentiment'] = 'negative'\n",
    "    ret_dict['score'] = score['compound']\n",
    "    return ret_dict"
   ]
  },
  {
   "cell_type": "code",
   "execution_count": 55,
   "metadata": {},
   "outputs": [],
   "source": [
    "sa_impact_text = pd.DataFrame(columns=['title', 'sentence', 'score', 'sentiment'])\n",
    "sa_impact_text = clean_data.apply(analyze_sentiment, axis=1)"
   ]
  },
  {
   "cell_type": "code",
   "execution_count": 56,
   "metadata": {},
   "outputs": [
    {
     "data": {
      "text/plain": [
       "0    {'title': 'the guide to receptors and channels...\n",
       "1    {'title': 'the guide to receptors and channels...\n",
       "2    {'title': 'the guide to receptors and channels...\n",
       "3    {'title': 'the guide to receptors and channels...\n",
       "4    {'title': 'changing people s perceptions of th...\n",
       "dtype: object"
      ]
     },
     "execution_count": 56,
     "metadata": {},
     "output_type": "execute_result"
    }
   ],
   "source": [
    "sa_impact_text.head()"
   ]
  }
 ],
 "metadata": {
  "kernelspec": {
   "display_name": "Python 3",
   "language": "python",
   "name": "python3"
  },
  "language_info": {
   "codemirror_mode": {
    "name": "ipython",
    "version": 3
   },
   "file_extension": ".py",
   "mimetype": "text/x-python",
   "name": "python",
   "nbconvert_exporter": "python",
   "pygments_lexer": "ipython3",
   "version": "3.6.9"
  }
 },
 "nbformat": 4,
 "nbformat_minor": 2
}
