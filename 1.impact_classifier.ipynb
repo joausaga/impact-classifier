{
 "cells": [
  {
   "cell_type": "markdown",
   "metadata": {},
   "source": [
    "# Impact Classifier"
   ]
  },
  {
   "cell_type": "markdown",
   "metadata": {},
   "source": [
    "The project proposes to leverage machine learning (ML) and natural language processing (NLP) techniques to build a text classifier that automatizes the processing and identification of evidence of social impact in research documents. The proposal aims to solve a classification problem in which the model takes a sentence contained in a research document as input and produces as output a binary answer (1=True, 0=False) that states whether the sentence contains or not evidence of social impact, respectively.\n",
    "\n",
    "From all research fields, this project focuses on Medical, Health, and Biological science because the ultimately goal is to understand the social impact of the research projects of the Spanish National Institue of Bioinformatics (INB by its Spanish Acronym), which is an institution that conducts medical and biological investigations.\n",
    "\n",
    "The goal of this notebook is to describe the methodology followed to develop a machine learning classifier able to automatically identify sentences of social impact in research documents."
   ]
  },
  {
   "cell_type": "markdown",
   "metadata": {},
   "source": [
    "## Load libraries"
   ]
  },
  {
   "cell_type": "code",
   "execution_count": 1,
   "metadata": {},
   "outputs": [
    {
     "name": "stderr",
     "output_type": "stream",
     "text": [
      "[nltk_data] Downloading package stopwords to\n",
      "[nltk_data]     /home/Life/jsaldiva/nltk_data...\n",
      "[nltk_data]   Package stopwords is already up-to-date!\n",
      "[nltk_data] Downloading package wordnet to\n",
      "[nltk_data]     /home/Life/jsaldiva/nltk_data...\n",
      "[nltk_data]   Package wordnet is already up-to-date!\n",
      "[nltk_data] Downloading package stopwords to\n",
      "[nltk_data]     /home/Life/jsaldiva/nltk_data...\n",
      "[nltk_data]   Package stopwords is already up-to-date!\n",
      "[nltk_data] Downloading package wordnet to\n",
      "[nltk_data]     /home/Life/jsaldiva/nltk_data...\n",
      "[nltk_data]   Package wordnet is already up-to-date!\n"
     ]
    }
   ],
   "source": [
    "import glob\n",
    "import numpy as np\n",
    "import nltk\n",
    "import os\n",
    "import pandas as pd\n",
    "import re\n",
    "import matplotlib.pyplot as plt\n",
    "import sys\n",
    "import joblib\n",
    "import json\n",
    "import pickle\n",
    "import seaborn as sns\n",
    "\n",
    "\n",
    "nltk.download(\"stopwords\")\n",
    "nltk.download('wordnet')\n",
    "\n",
    "from nltk.corpus import stopwords\n",
    "from nltk.stem.porter import *\n",
    "from nltk.stem import WordNetLemmatizer\n",
    "from nltk.tokenize import word_tokenize, sent_tokenize\n",
    "from nltk.probability import FreqDist\n",
    "\n",
    "from sklearn.feature_extraction.text import CountVectorizer\n",
    "from sklearn.feature_extraction.text import TfidfVectorizer\n",
    "from sklearn import metrics\n",
    "from sklearn import model_selection\n",
    "from sklearn.model_selection import cross_val_score, KFold, RandomizedSearchCV, GridSearchCV, learning_curve, train_test_split\n",
    "from sklearn.naive_bayes import GaussianNB\n",
    "from sklearn.svm import SVC\n",
    "from sklearn.ensemble import RandomForestClassifier, GradientBoostingClassifier, VotingClassifier\n",
    "from sklearn.linear_model import LogisticRegression\n",
    "from sklearn.model_selection import KFold\n",
    "\n",
    "from bs4 import BeautifulSoup\n",
    "from text_processor import *\n",
    "from tqdm import tqdm\n",
    "from wordcloud import WordCloud, STOPWORDS, ImageColorGenerator\n",
    "from utils import save_model, get_features_and_labels, plot_learning_curve\n",
    "\n",
    "%matplotlib inline\n",
    "pd.set_option('display.max_colwidth',1000)"
   ]
  },
  {
   "cell_type": "markdown",
   "metadata": {},
   "source": [
    "## Load data"
   ]
  },
  {
   "cell_type": "markdown",
   "metadata": {},
   "source": [
    "### Impact sentences"
   ]
  },
  {
   "cell_type": "markdown",
   "metadata": {},
   "source": [
    "Load summaries with sentences with evidence of social impact. The data were extracted from the impact case studies published by REF (Research Excellence Framework) and it contains the summary of societal impact of Medical, Health, and Biological research. Summaries can be access [here](https://impact.ref.ac.uk/casestudies/Results.aspx?Type=I&Tag=5085)."
   ]
  },
  {
   "cell_type": "code",
   "execution_count": 81,
   "metadata": {},
   "outputs": [],
   "source": [
    "ref_impact = pd.read_csv('data/source/social_impact_ref_bio_medicine.csv', usecols=['Summary of the impact'])"
   ]
  },
  {
   "cell_type": "markdown",
   "metadata": {},
   "source": [
    "#### Split summaries into sentences"
   ]
  },
  {
   "cell_type": "code",
   "execution_count": 82,
   "metadata": {},
   "outputs": [],
   "source": [
    "impact_sentences = pd.DataFrame(columns=['sentence'])\n",
    "for i in ref_impact.index:\n",
    "    text = ref_impact.loc[i, 'Summary of the impact']\n",
    "    text = fix_latin_abbreviations(text)\n",
    "    sentences = sent_tokenize(text)\n",
    "    for sentence in sentences:\n",
    "        impact_sentences = impact_sentences.append({'sentence': sentence}, ignore_index=True)        "
   ]
  },
  {
   "cell_type": "markdown",
   "metadata": {},
   "source": [
    "#### Clean sentences"
   ]
  },
  {
   "cell_type": "code",
   "execution_count": 83,
   "metadata": {},
   "outputs": [
    {
     "name": "stdout",
     "output_type": "stream",
     "text": [
      "CPU times: user 108 ms, sys: 0 ns, total: 108 ms\n",
      "Wall time: 107 ms\n"
     ]
    }
   ],
   "source": [
    "%%time\n",
    "impact_sentences['sentence'] = impact_sentences['sentence'].apply(lambda x: clean_sentence(x))"
   ]
  },
  {
   "cell_type": "markdown",
   "metadata": {},
   "source": [
    "#### Add label column"
   ]
  },
  {
   "cell_type": "markdown",
   "metadata": {},
   "source": [
    "Sentences with evidence of social will later be merged with more general sentences that can be commonly found in research documents. By the time the merge occurs, social impact sentences need to be distinguised from the more general sentences. Therefore, a the new column **`label`** is created in the impact dataset to tag with 1 all sentences that contain evidence of social impact.  "
   ]
  },
  {
   "cell_type": "code",
   "execution_count": 84,
   "metadata": {},
   "outputs": [],
   "source": [
    "impact_sentences['label'] = 1"
   ]
  },
  {
   "cell_type": "code",
   "execution_count": 85,
   "metadata": {},
   "outputs": [
    {
     "name": "stdout",
     "output_type": "stream",
     "text": [
      "The dataset contains 2347 rows and 2 columns\n"
     ]
    }
   ],
   "source": [
    "nrows = impact_sentences.shape[0]\n",
    "ncols = impact_sentences.shape[1]\n",
    "print(f\"The dataset contains {nrows} rows and {ncols} columns\")"
   ]
  },
  {
   "cell_type": "markdown",
   "metadata": {},
   "source": [
    "Let's show an sample of impact sentences together with the newly created column label."
   ]
  },
  {
   "cell_type": "code",
   "execution_count": 86,
   "metadata": {},
   "outputs": [
    {
     "data": {
      "text/html": [
       "<div>\n",
       "<style scoped>\n",
       "    .dataframe tbody tr th:only-of-type {\n",
       "        vertical-align: middle;\n",
       "    }\n",
       "\n",
       "    .dataframe tbody tr th {\n",
       "        vertical-align: top;\n",
       "    }\n",
       "\n",
       "    .dataframe thead th {\n",
       "        text-align: right;\n",
       "    }\n",
       "</style>\n",
       "<table border=\"1\" class=\"dataframe\">\n",
       "  <thead>\n",
       "    <tr style=\"text-align: right;\">\n",
       "      <th></th>\n",
       "      <th>sentence</th>\n",
       "      <th>label</th>\n",
       "    </tr>\n",
       "  </thead>\n",
       "  <tbody>\n",
       "    <tr>\n",
       "      <th>0</th>\n",
       "      <td>The Guide to Receptors and Channels has contributed to the development and maintenance of the intellectual infrastructure of pharmacology</td>\n",
       "      <td>1</td>\n",
       "    </tr>\n",
       "    <tr>\n",
       "      <th>1</th>\n",
       "      <td>The key tools it provides have influenced appropriate identification of lead drug targets and how best to study them and as a result it has received endorsement and financial support from the Pharmaceutical Industry</td>\n",
       "      <td>1</td>\n",
       "    </tr>\n",
       "    <tr>\n",
       "      <th>2</th>\n",
       "      <td>It is used widely as a teaching aid for undergraduates and research postgraduates and provides the general public with accurate information on prescription drug action</td>\n",
       "      <td>1</td>\n",
       "    </tr>\n",
       "    <tr>\n",
       "      <th>3</th>\n",
       "      <td>It led to the formation of the Guide to Pharmacology website in collaboration with the International Union of Basic and Clinical Pharmacology</td>\n",
       "      <td>1</td>\n",
       "    </tr>\n",
       "    <tr>\n",
       "      <th>4</th>\n",
       "      <td>The Cardiff Osteological Research Group CORG has researched the complex relationship between animals and people across Britain Europe and beyond</td>\n",
       "      <td>1</td>\n",
       "    </tr>\n",
       "  </tbody>\n",
       "</table>\n",
       "</div>"
      ],
      "text/plain": [
       "                                                                                                                                                                                                                  sentence  \\\n",
       "0                                                                                The Guide to Receptors and Channels has contributed to the development and maintenance of the intellectual infrastructure of pharmacology   \n",
       "1  The key tools it provides have influenced appropriate identification of lead drug targets and how best to study them and as a result it has received endorsement and financial support from the Pharmaceutical Industry   \n",
       "2                                                  It is used widely as a teaching aid for undergraduates and research postgraduates and provides the general public with accurate information on prescription drug action   \n",
       "3                                                                            It led to the formation of the Guide to Pharmacology website in collaboration with the International Union of Basic and Clinical Pharmacology   \n",
       "4                                                                         The Cardiff Osteological Research Group CORG has researched the complex relationship between animals and people across Britain Europe and beyond   \n",
       "\n",
       "   label  \n",
       "0      1  \n",
       "1      1  \n",
       "2      1  \n",
       "3      1  \n",
       "4      1  "
      ]
     },
     "execution_count": 86,
     "metadata": {},
     "output_type": "execute_result"
    }
   ],
   "source": [
    "impact_sentences.head()"
   ]
  },
  {
   "cell_type": "markdown",
   "metadata": {},
   "source": [
    "### General sentences"
   ]
  },
  {
   "cell_type": "markdown",
   "metadata": {},
   "source": [
    "Load dataset containing sentences that are commonly found in medical and bioinformatics research documents. The process followed to build the dataset of general sentences is described in the section *Collection of medical and biological sentences* of the notebook **`0.dataset_preparation.ipynb`**."
   ]
  },
  {
   "cell_type": "code",
   "execution_count": 87,
   "metadata": {},
   "outputs": [],
   "source": [
    "gral_sentences = pd.read_csv(\"data/sentences/gral_sentences_3000.csv\", index_col=0)"
   ]
  },
  {
   "cell_type": "markdown",
   "metadata": {},
   "source": [
    "#### Clean sentences"
   ]
  },
  {
   "cell_type": "code",
   "execution_count": 88,
   "metadata": {},
   "outputs": [],
   "source": [
    "gral_sentences['sentence'] = gral_sentences['sentence'].apply(lambda x: clean_sentence(x))"
   ]
  },
  {
   "cell_type": "markdown",
   "metadata": {},
   "source": [
    "#### Add label column"
   ]
  },
  {
   "cell_type": "markdown",
   "metadata": {},
   "source": [
    "As in the case of the dataset of impact sentences, here a column **`label`** is also created to tag with 0 all general sentences."
   ]
  },
  {
   "cell_type": "code",
   "execution_count": 89,
   "metadata": {},
   "outputs": [],
   "source": [
    "gral_sentences['label'] = 0"
   ]
  },
  {
   "cell_type": "code",
   "execution_count": 90,
   "metadata": {},
   "outputs": [
    {
     "name": "stdout",
     "output_type": "stream",
     "text": [
      "The dataset contains 3000 rows and 2 columns\n"
     ]
    }
   ],
   "source": [
    "nrows = gral_sentences.shape[0]\n",
    "ncols = gral_sentences.shape[1]\n",
    "print(f\"The dataset contains {nrows} rows and {ncols} columns\")"
   ]
  },
  {
   "cell_type": "markdown",
   "metadata": {},
   "source": [
    "Let's show a sample of the dateset"
   ]
  },
  {
   "cell_type": "code",
   "execution_count": 91,
   "metadata": {},
   "outputs": [
    {
     "data": {
      "text/html": [
       "<div>\n",
       "<style scoped>\n",
       "    .dataframe tbody tr th:only-of-type {\n",
       "        vertical-align: middle;\n",
       "    }\n",
       "\n",
       "    .dataframe tbody tr th {\n",
       "        vertical-align: top;\n",
       "    }\n",
       "\n",
       "    .dataframe thead th {\n",
       "        text-align: right;\n",
       "    }\n",
       "</style>\n",
       "<table border=\"1\" class=\"dataframe\">\n",
       "  <thead>\n",
       "    <tr style=\"text-align: right;\">\n",
       "      <th></th>\n",
       "      <th>sentence</th>\n",
       "      <th>label</th>\n",
       "    </tr>\n",
       "  </thead>\n",
       "  <tbody>\n",
       "    <tr>\n",
       "      <th>0</th>\n",
       "      <td>Tumor and patient characteristics are summarized in Table</td>\n",
       "      <td>0</td>\n",
       "    </tr>\n",
       "    <tr>\n",
       "      <th>1</th>\n",
       "      <td>The execution run for days to complete and the performance results in terms of accuracy precision and recall was all under</td>\n",
       "      <td>0</td>\n",
       "    </tr>\n",
       "    <tr>\n",
       "      <th>2</th>\n",
       "      <td>Actually a recent study indicated that over expression of stem cell specific transcriptional factors such as OCT SLUG and NANOG in MCF cells reduces ER expression increases the stem cell features and enhances the cell mobility</td>\n",
       "      <td>0</td>\n",
       "    </tr>\n",
       "    <tr>\n",
       "      <th>3</th>\n",
       "      <td>The motivation is we need to address the component information of the genes in a gene set</td>\n",
       "      <td>0</td>\n",
       "    </tr>\n",
       "    <tr>\n",
       "      <th>4</th>\n",
       "      <td>However based on measurements of estradiol levels in the same individual at different times it has been reported that approximately of the variance in estradiol levels is essentially random fluctuation</td>\n",
       "      <td>0</td>\n",
       "    </tr>\n",
       "  </tbody>\n",
       "</table>\n",
       "</div>"
      ],
      "text/plain": [
       "                                                                                                                                                                                                                             sentence  \\\n",
       "0                                                                                                                                                                           Tumor and patient characteristics are summarized in Table   \n",
       "1                                                                                                          The execution run for days to complete and the performance results in terms of accuracy precision and recall was all under   \n",
       "2  Actually a recent study indicated that over expression of stem cell specific transcriptional factors such as OCT SLUG and NANOG in MCF cells reduces ER expression increases the stem cell features and enhances the cell mobility   \n",
       "3                                                                                                                                           The motivation is we need to address the component information of the genes in a gene set   \n",
       "4                           However based on measurements of estradiol levels in the same individual at different times it has been reported that approximately of the variance in estradiol levels is essentially random fluctuation   \n",
       "\n",
       "   label  \n",
       "0      0  \n",
       "1      0  \n",
       "2      0  \n",
       "3      0  \n",
       "4      0  "
      ]
     },
     "execution_count": 91,
     "metadata": {},
     "output_type": "execute_result"
    }
   ],
   "source": [
    "gral_sentences.head()"
   ]
  },
  {
   "cell_type": "markdown",
   "metadata": {},
   "source": [
    "### Merge datasets"
   ]
  },
  {
   "cell_type": "markdown",
   "metadata": {},
   "source": [
    "Merge both datasets, the general and impact one."
   ]
  },
  {
   "cell_type": "code",
   "execution_count": 92,
   "metadata": {},
   "outputs": [],
   "source": [
    "total_sentences = pd.concat([impact_sentences, gral_sentences], ignore_index=True)"
   ]
  },
  {
   "cell_type": "code",
   "execution_count": 93,
   "metadata": {},
   "outputs": [
    {
     "name": "stdout",
     "output_type": "stream",
     "text": [
      "The combined dataset contains 5347 rows and 2 columns\n"
     ]
    }
   ],
   "source": [
    "nrows = total_sentences.shape[0]\n",
    "ncols = total_sentences.shape[1]\n",
    "print(f\"The combined dataset contains {nrows} rows and {ncols} columns\")"
   ]
  },
  {
   "cell_type": "code",
   "execution_count": 94,
   "metadata": {},
   "outputs": [],
   "source": [
    "total_sentences.to_csv('./data/source/full_processed_sentences.csv', index=False)"
   ]
  },
  {
   "cell_type": "markdown",
   "metadata": {},
   "source": [
    "## Explore data"
   ]
  },
  {
   "cell_type": "markdown",
   "metadata": {},
   "source": [
    "Next, the dataset is explored by, first, computing the most frequent terms in sentences that contain evidence of social impact and, then, by calculating the most frequent term in general sentences."
   ]
  },
  {
   "cell_type": "code",
   "execution_count": 16,
   "metadata": {},
   "outputs": [],
   "source": [
    "words_to_filter = ['research', 'uk']  # let's add context specify words that will be filtered before computing frequencies\n",
    "max_items_to_show = 30"
   ]
  },
  {
   "cell_type": "markdown",
   "metadata": {},
   "source": [
    "### Most frequent terms in social impact sentences"
   ]
  },
  {
   "cell_type": "markdown",
   "metadata": {},
   "source": [
    "Inspect the most used terms used in sentences that express evidence of social impact"
   ]
  },
  {
   "cell_type": "code",
   "execution_count": 17,
   "metadata": {},
   "outputs": [],
   "source": [
    "si_sentences = total_sentences[total_sentences['label']==1]['sentence']\n",
    "si_words = []\n",
    "for si_sentence in si_sentences:\n",
    "    for word in si_sentence.split():\n",
    "        if len(word) > 2 and word not in words_to_filter and word not in stopwords.words('english'):\n",
    "            si_words.append(word)\n",
    "fdist = FreqDist(si_words)\n",
    "freq_words_df = pd.DataFrame(fdist.items(), columns=['word', 'frequency'])"
   ]
  },
  {
   "cell_type": "code",
   "execution_count": 18,
   "metadata": {},
   "outputs": [],
   "source": [
    "freq_words_df.sort_values(by='frequency', ascending=False, inplace=True)"
   ]
  },
  {
   "cell_type": "code",
   "execution_count": 21,
   "metadata": {},
   "outputs": [
    {
     "data": {
      "image/png": "[encoded data removed]",
      "text/plain": [
       "<Figure size 936x576 with 1 Axes>"
      ]
     },
     "metadata": {
      "needs_background": "light"
     },
     "output_type": "display_data"
    }
   ],
   "source": [
    "fig = freq_words_df.iloc[0:max_items_to_show,:].plot(x='word', y='frequency', kind='bar', figsize=(13,8))\n",
    "plt.xticks(rotation=90)\n",
    "plt.xlabel(\"Term\", size=13)\n",
    "plt.ylabel(\"Frequency\", size=13)\n",
    "plt.xticks(size=12)\n",
    "plt.yticks(size=12)\n",
    "plt.show()"
   ]
  },
  {
   "cell_type": "code",
   "execution_count": 22,
   "metadata": {},
   "outputs": [],
   "source": [
    "fig.get_figure().savefig(os.path.join('figures','most_freq_terms_social_impact_sentences.png'), dpi=200, quality=95, bbox_inches=\"tight\")"
   ]
  },
  {
   "cell_type": "markdown",
   "metadata": {},
   "source": [
    "### Most frequent terms in general sentences"
   ]
  },
  {
   "cell_type": "markdown",
   "metadata": {},
   "source": [
    "Inspect the most used terms in sentences that do not neccesarily contain evidence of social impact"
   ]
  },
  {
   "cell_type": "code",
   "execution_count": 23,
   "metadata": {},
   "outputs": [],
   "source": [
    "n_si_sentences = total_sentences[total_sentences['label']==0]['sentence']\n",
    "n_fdist = FreqDist(word for n_si_sentence in n_si_sentences \n",
    "                        for word in n_si_sentence.split() if len(word) > 2 and word not in stopwords.words('english') and word not in word_black_list)\n",
    "n_freq_words_df = pd.DataFrame(n_fdist.items(), columns=['word', 'frequency'])"
   ]
  },
  {
   "cell_type": "code",
   "execution_count": 24,
   "metadata": {},
   "outputs": [],
   "source": [
    "n_freq_words_df.sort_values(by='frequency', ascending=False, inplace=True)"
   ]
  },
  {
   "cell_type": "code",
   "execution_count": 25,
   "metadata": {},
   "outputs": [
    {
     "data": {
      "image/png": "[encoded data removed]",
      "text/plain": [
       "<Figure size 936x576 with 1 Axes>"
      ]
     },
     "metadata": {
      "needs_background": "light"
     },
     "output_type": "display_data"
    }
   ],
   "source": [
    "fig = n_freq_words_df.iloc[0:max_items_to_show,:].plot(x='word', y='frequency', kind='bar', figsize=(13,8))\n",
    "plt.xticks(rotation=90)\n",
    "plt.xlabel(\"Term\", size=13)\n",
    "plt.ylabel(\"Frequency\", size=13)\n",
    "plt.xticks(size=12)\n",
    "plt.yticks(size=12)\n",
    "plt.show()"
   ]
  },
  {
   "cell_type": "code",
   "execution_count": 26,
   "metadata": {},
   "outputs": [],
   "source": [
    "fig.get_figure().savefig(os.path.join('figures','most_freq_terms_general_sentences.png'), dpi=200, quality=95, bbox_inches=\"tight\")"
   ]
  },
  {
   "cell_type": "markdown",
   "metadata": {},
   "source": [
    "From the figures above it can be seen there is little overlap between the most frequent terms in sentences with evidence of social impact (e.g., public policy, health, national, development) and the most frequent terms in the general sentences, which, as expected, are more related with medical and biological terminologies, such as cancer, cells, patients, tumor, or therapy. The low interception between the most frequent terms in the two datasets demonstrates the potential of the data to train a machine learning classifier. "
   ]
  },
  {
   "cell_type": "markdown",
   "metadata": {},
   "source": [
    "## Augment data with additional syntactical and semantical features"
   ]
  },
  {
   "cell_type": "markdown",
   "metadata": {},
   "source": [
    "Augment data of sentences with the following text-based extra features:\n",
    "1. **Word count of sentences**: total number of words in sentences\n",
    "2. **Character count of sentences**: total number of characters in sentences\n",
    "3. **Average word density of sentences**: average length of words in sentences\n",
    "4. **Upper case count in sentences**: total number of upper count words in sentences\n",
    "5. **Title word count in sentences**: total number of title case words in sentences"
   ]
  },
  {
   "cell_type": "code",
   "execution_count": 27,
   "metadata": {},
   "outputs": [],
   "source": [
    "total_sentences['char_count'] = total_sentences['sentence'].apply(len)\n",
    "total_sentences['word_count'] = total_sentences['sentence'].apply(lambda x: len(x.split()))\n",
    "total_sentences['word_density'] = total_sentences['char_count'] / (total_sentences['word_count']+1)\n",
    "total_sentences['upper_case_word_count'] = total_sentences['sentence'].apply(lambda x: len([wrd for wrd in x.split() if wrd.isupper()]))\n",
    "total_sentences['title_word_count'] = total_sentences['sentence'].apply(lambda x: len([wrd for wrd in x.split() if wrd.istitle()]))"
   ]
  },
  {
   "cell_type": "markdown",
   "metadata": {},
   "source": [
    "Also, we add frequency distribution of part-of-speech tags"
   ]
  },
  {
   "cell_type": "code",
   "execution_count": 28,
   "metadata": {},
   "outputs": [
    {
     "name": "stdout",
     "output_type": "stream",
     "text": [
      "CPU times: user 45.2 s, sys: 330 ms, total: 45.5 s\n",
      "Wall time: 45.7 s\n"
     ]
    }
   ],
   "source": [
    "%%time\n",
    "total_sentences['noun_count'] = total_sentences['sentence'].apply(lambda x: count_pos_tag(x, 'noun'))\n",
    "total_sentences['verb_count'] = total_sentences['sentence'].apply(lambda x: count_pos_tag(x, 'verb'))\n",
    "total_sentences['adj_count'] = total_sentences['sentence'].apply(lambda x: count_pos_tag(x, 'adj'))\n",
    "total_sentences['adv_count'] = total_sentences['sentence'].apply(lambda x: count_pos_tag(x, 'adv'))\n",
    "total_sentences['pron_count'] = total_sentences['sentence'].apply(lambda x: count_pos_tag(x, 'pron'))"
   ]
  },
  {
   "cell_type": "code",
   "execution_count": 29,
   "metadata": {},
   "outputs": [
    {
     "data": {
      "text/html": [
       "<div>\n",
       "<style scoped>\n",
       "    .dataframe tbody tr th:only-of-type {\n",
       "        vertical-align: middle;\n",
       "    }\n",
       "\n",
       "    .dataframe tbody tr th {\n",
       "        vertical-align: top;\n",
       "    }\n",
       "\n",
       "    .dataframe thead th {\n",
       "        text-align: right;\n",
       "    }\n",
       "</style>\n",
       "<table border=\"1\" class=\"dataframe\">\n",
       "  <thead>\n",
       "    <tr style=\"text-align: right;\">\n",
       "      <th></th>\n",
       "      <th>sentence</th>\n",
       "      <th>label</th>\n",
       "      <th>char_count</th>\n",
       "      <th>word_count</th>\n",
       "      <th>word_density</th>\n",
       "      <th>upper_case_word_count</th>\n",
       "      <th>title_word_count</th>\n",
       "      <th>noun_count</th>\n",
       "      <th>verb_count</th>\n",
       "      <th>adj_count</th>\n",
       "      <th>adv_count</th>\n",
       "      <th>pron_count</th>\n",
       "    </tr>\n",
       "  </thead>\n",
       "  <tbody>\n",
       "    <tr>\n",
       "      <th>0</th>\n",
       "      <td>The Guide to Receptors and Channels has contributed to the development and maintenance of the intellectual infrastructure of pharmacology</td>\n",
       "      <td>1</td>\n",
       "      <td>137</td>\n",
       "      <td>19</td>\n",
       "      <td>6.850000</td>\n",
       "      <td>0</td>\n",
       "      <td>4</td>\n",
       "      <td>7</td>\n",
       "      <td>2</td>\n",
       "      <td>1</td>\n",
       "      <td>0</td>\n",
       "      <td>0</td>\n",
       "    </tr>\n",
       "    <tr>\n",
       "      <th>1</th>\n",
       "      <td>The key tools it provides have influenced appropriate identification of lead drug targets and how best to study them and as a result it has received endorsement and financial support from the Pharmaceutical Industry</td>\n",
       "      <td>1</td>\n",
       "      <td>215</td>\n",
       "      <td>34</td>\n",
       "      <td>6.142857</td>\n",
       "      <td>0</td>\n",
       "      <td>3</td>\n",
       "      <td>9</td>\n",
       "      <td>7</td>\n",
       "      <td>4</td>\n",
       "      <td>0</td>\n",
       "      <td>0</td>\n",
       "    </tr>\n",
       "    <tr>\n",
       "      <th>2</th>\n",
       "      <td>It is used widely as a teaching aid for undergraduates and research postgraduates and provides the general public with accurate information on prescription drug action</td>\n",
       "      <td>1</td>\n",
       "      <td>167</td>\n",
       "      <td>25</td>\n",
       "      <td>6.423077</td>\n",
       "      <td>0</td>\n",
       "      <td>1</td>\n",
       "      <td>10</td>\n",
       "      <td>3</td>\n",
       "      <td>2</td>\n",
       "      <td>1</td>\n",
       "      <td>0</td>\n",
       "    </tr>\n",
       "    <tr>\n",
       "      <th>3</th>\n",
       "      <td>It led to the formation of the Guide to Pharmacology website in collaboration with the International Union of Basic and Clinical Pharmacology</td>\n",
       "      <td>1</td>\n",
       "      <td>141</td>\n",
       "      <td>22</td>\n",
       "      <td>6.130435</td>\n",
       "      <td>0</td>\n",
       "      <td>8</td>\n",
       "      <td>10</td>\n",
       "      <td>1</td>\n",
       "      <td>0</td>\n",
       "      <td>0</td>\n",
       "      <td>0</td>\n",
       "    </tr>\n",
       "    <tr>\n",
       "      <th>4</th>\n",
       "      <td>The Cardiff Osteological Research Group CORG has researched the complex relationship between animals and people across Britain Europe and beyond</td>\n",
       "      <td>1</td>\n",
       "      <td>144</td>\n",
       "      <td>20</td>\n",
       "      <td>6.857143</td>\n",
       "      <td>1</td>\n",
       "      <td>7</td>\n",
       "      <td>10</td>\n",
       "      <td>2</td>\n",
       "      <td>1</td>\n",
       "      <td>0</td>\n",
       "      <td>0</td>\n",
       "    </tr>\n",
       "  </tbody>\n",
       "</table>\n",
       "</div>"
      ],
      "text/plain": [
       "                                                                                                                                                                                                                  sentence  \\\n",
       "0                                                                                The Guide to Receptors and Channels has contributed to the development and maintenance of the intellectual infrastructure of pharmacology   \n",
       "1  The key tools it provides have influenced appropriate identification of lead drug targets and how best to study them and as a result it has received endorsement and financial support from the Pharmaceutical Industry   \n",
       "2                                                  It is used widely as a teaching aid for undergraduates and research postgraduates and provides the general public with accurate information on prescription drug action   \n",
       "3                                                                            It led to the formation of the Guide to Pharmacology website in collaboration with the International Union of Basic and Clinical Pharmacology   \n",
       "4                                                                         The Cardiff Osteological Research Group CORG has researched the complex relationship between animals and people across Britain Europe and beyond   \n",
       "\n",
       "   label  char_count  word_count  word_density  upper_case_word_count  \\\n",
       "0      1         137          19      6.850000                      0   \n",
       "1      1         215          34      6.142857                      0   \n",
       "2      1         167          25      6.423077                      0   \n",
       "3      1         141          22      6.130435                      0   \n",
       "4      1         144          20      6.857143                      1   \n",
       "\n",
       "   title_word_count  noun_count  verb_count  adj_count  adv_count  pron_count  \n",
       "0                 4           7           2          1          0           0  \n",
       "1                 3           9           7          4          0           0  \n",
       "2                 1          10           3          2          1           0  \n",
       "3                 8          10           1          0          0           0  \n",
       "4                 7          10           2          1          0           0  "
      ]
     },
     "execution_count": 29,
     "metadata": {},
     "output_type": "execute_result"
    }
   ],
   "source": [
    "total_sentences.head()"
   ]
  },
  {
   "cell_type": "markdown",
   "metadata": {},
   "source": [
    "Include sentiment score of sentences as an additional feature. Sentences with evidence of social impact are expected to have a more positive attitude than general sentences."
   ]
  },
  {
   "cell_type": "code",
   "execution_count": 30,
   "metadata": {},
   "outputs": [],
   "source": [
    "total_sentences['sentiment_score'] = total_sentences['sentence'].apply(lambda x: analyze_sentiment(x))"
   ]
  },
  {
   "cell_type": "code",
   "execution_count": 31,
   "metadata": {},
   "outputs": [
    {
     "data": {
      "text/html": [
       "<div>\n",
       "<style scoped>\n",
       "    .dataframe tbody tr th:only-of-type {\n",
       "        vertical-align: middle;\n",
       "    }\n",
       "\n",
       "    .dataframe tbody tr th {\n",
       "        vertical-align: top;\n",
       "    }\n",
       "\n",
       "    .dataframe thead th {\n",
       "        text-align: right;\n",
       "    }\n",
       "</style>\n",
       "<table border=\"1\" class=\"dataframe\">\n",
       "  <thead>\n",
       "    <tr style=\"text-align: right;\">\n",
       "      <th></th>\n",
       "      <th>sentence</th>\n",
       "      <th>label</th>\n",
       "      <th>char_count</th>\n",
       "      <th>word_count</th>\n",
       "      <th>word_density</th>\n",
       "      <th>upper_case_word_count</th>\n",
       "      <th>title_word_count</th>\n",
       "      <th>noun_count</th>\n",
       "      <th>verb_count</th>\n",
       "      <th>adj_count</th>\n",
       "      <th>adv_count</th>\n",
       "      <th>pron_count</th>\n",
       "      <th>sentiment_score</th>\n",
       "    </tr>\n",
       "  </thead>\n",
       "  <tbody>\n",
       "    <tr>\n",
       "      <th>0</th>\n",
       "      <td>The Guide to Receptors and Channels has contributed to the development and maintenance of the intellectual infrastructure of pharmacology</td>\n",
       "      <td>1</td>\n",
       "      <td>137</td>\n",
       "      <td>19</td>\n",
       "      <td>6.850000</td>\n",
       "      <td>0</td>\n",
       "      <td>4</td>\n",
       "      <td>7</td>\n",
       "      <td>2</td>\n",
       "      <td>1</td>\n",
       "      <td>0</td>\n",
       "      <td>0</td>\n",
       "      <td>0.5106</td>\n",
       "    </tr>\n",
       "    <tr>\n",
       "      <th>1</th>\n",
       "      <td>The key tools it provides have influenced appropriate identification of lead drug targets and how best to study them and as a result it has received endorsement and financial support from the Pharmaceutical Industry</td>\n",
       "      <td>1</td>\n",
       "      <td>215</td>\n",
       "      <td>34</td>\n",
       "      <td>6.142857</td>\n",
       "      <td>0</td>\n",
       "      <td>3</td>\n",
       "      <td>9</td>\n",
       "      <td>7</td>\n",
       "      <td>4</td>\n",
       "      <td>0</td>\n",
       "      <td>0</td>\n",
       "      <td>0.8481</td>\n",
       "    </tr>\n",
       "    <tr>\n",
       "      <th>2</th>\n",
       "      <td>It is used widely as a teaching aid for undergraduates and research postgraduates and provides the general public with accurate information on prescription drug action</td>\n",
       "      <td>1</td>\n",
       "      <td>167</td>\n",
       "      <td>25</td>\n",
       "      <td>6.423077</td>\n",
       "      <td>0</td>\n",
       "      <td>1</td>\n",
       "      <td>10</td>\n",
       "      <td>3</td>\n",
       "      <td>2</td>\n",
       "      <td>1</td>\n",
       "      <td>0</td>\n",
       "      <td>0.0000</td>\n",
       "    </tr>\n",
       "    <tr>\n",
       "      <th>3</th>\n",
       "      <td>It led to the formation of the Guide to Pharmacology website in collaboration with the International Union of Basic and Clinical Pharmacology</td>\n",
       "      <td>1</td>\n",
       "      <td>141</td>\n",
       "      <td>22</td>\n",
       "      <td>6.130435</td>\n",
       "      <td>0</td>\n",
       "      <td>8</td>\n",
       "      <td>10</td>\n",
       "      <td>1</td>\n",
       "      <td>0</td>\n",
       "      <td>0</td>\n",
       "      <td>0</td>\n",
       "      <td>0.0000</td>\n",
       "    </tr>\n",
       "    <tr>\n",
       "      <th>4</th>\n",
       "      <td>The Cardiff Osteological Research Group CORG has researched the complex relationship between animals and people across Britain Europe and beyond</td>\n",
       "      <td>1</td>\n",
       "      <td>144</td>\n",
       "      <td>20</td>\n",
       "      <td>6.857143</td>\n",
       "      <td>1</td>\n",
       "      <td>7</td>\n",
       "      <td>10</td>\n",
       "      <td>2</td>\n",
       "      <td>1</td>\n",
       "      <td>0</td>\n",
       "      <td>0</td>\n",
       "      <td>0.0000</td>\n",
       "    </tr>\n",
       "  </tbody>\n",
       "</table>\n",
       "</div>"
      ],
      "text/plain": [
       "                                                                                                                                                                                                                  sentence  \\\n",
       "0                                                                                The Guide to Receptors and Channels has contributed to the development and maintenance of the intellectual infrastructure of pharmacology   \n",
       "1  The key tools it provides have influenced appropriate identification of lead drug targets and how best to study them and as a result it has received endorsement and financial support from the Pharmaceutical Industry   \n",
       "2                                                  It is used widely as a teaching aid for undergraduates and research postgraduates and provides the general public with accurate information on prescription drug action   \n",
       "3                                                                            It led to the formation of the Guide to Pharmacology website in collaboration with the International Union of Basic and Clinical Pharmacology   \n",
       "4                                                                         The Cardiff Osteological Research Group CORG has researched the complex relationship between animals and people across Britain Europe and beyond   \n",
       "\n",
       "   label  char_count  word_count  word_density  upper_case_word_count  \\\n",
       "0      1         137          19      6.850000                      0   \n",
       "1      1         215          34      6.142857                      0   \n",
       "2      1         167          25      6.423077                      0   \n",
       "3      1         141          22      6.130435                      0   \n",
       "4      1         144          20      6.857143                      1   \n",
       "\n",
       "   title_word_count  noun_count  verb_count  adj_count  adv_count  pron_count  \\\n",
       "0                 4           7           2          1          0           0   \n",
       "1                 3           9           7          4          0           0   \n",
       "2                 1          10           3          2          1           0   \n",
       "3                 8          10           1          0          0           0   \n",
       "4                 7          10           2          1          0           0   \n",
       "\n",
       "   sentiment_score  \n",
       "0           0.5106  \n",
       "1           0.8481  \n",
       "2           0.0000  \n",
       "3           0.0000  \n",
       "4           0.0000  "
      ]
     },
     "execution_count": 31,
     "metadata": {},
     "output_type": "execute_result"
    }
   ],
   "source": [
    "total_sentences.head()"
   ]
  },
  {
   "cell_type": "markdown",
   "metadata": {},
   "source": [
    "Print out mean sentiment scores of both sentences with evidence of social impact (1) and general sentences (0)."
   ]
  },
  {
   "cell_type": "code",
   "execution_count": 41,
   "metadata": {},
   "outputs": [],
   "source": [
    "mean_sentiment_score_general = total_sentences.groupby(['label'])['sentiment_score'].mean()[0]\n",
    "mean_sentiment_score_social = total_sentences.groupby(['label'])['sentiment_score'].mean()[1]"
   ]
  },
  {
   "cell_type": "code",
   "execution_count": 70,
   "metadata": {},
   "outputs": [
    {
     "data": {
      "image/png": "[encoded data removed]",
      "text/plain": [
       "<Figure size 720x720 with 1 Axes>"
      ]
     },
     "metadata": {
      "needs_background": "light"
     },
     "output_type": "display_data"
    }
   ],
   "source": [
    "plt.figure(figsize=(10,10))\n",
    "fig = sns.boxplot(x=\"label\", y=\"sentiment_score\", data=total_sentences)\n",
    "fig.set_xlabel('',fontsize=14)\n",
    "fig.set_ylabel('Sentiment Score',fontsize=14)\n",
    "plt.xticks([0, 1], ['General Sentences', 'Social Impact Sentences'], size=14)\n",
    "ax=fig\n",
    "#ax.axhline(y=0, color='black')\n",
    "plt.show()"
   ]
  },
  {
   "cell_type": "code",
   "execution_count": 71,
   "metadata": {},
   "outputs": [],
   "source": [
    "fig.get_figure().savefig(os.path.join('figures','boxplot_sentiment_scores.png'), dpi=200, quality=95, bbox_inches=\"tight\")"
   ]
  },
  {
   "cell_type": "markdown",
   "metadata": {},
   "source": [
    "## Split dataset in train and test"
   ]
  },
  {
   "cell_type": "code",
   "execution_count": 21,
   "metadata": {},
   "outputs": [],
   "source": [
    "features, labels = pd.concat([total_sentences['sentence'], total_sentences.iloc[:,2:]], axis=1), total_sentences['label']\n",
    "random_state = np.random.RandomState(1234)  # set a random seed for reproducibility purposes\n",
    "X_train, X_test, y_train, y_test = train_test_split(features, labels, test_size=0.20, random_state=random_state)"
   ]
  },
  {
   "cell_type": "code",
   "execution_count": 22,
   "metadata": {},
   "outputs": [
    {
     "data": {
      "text/html": [
       "<div>\n",
       "<style scoped>\n",
       "    .dataframe tbody tr th:only-of-type {\n",
       "        vertical-align: middle;\n",
       "    }\n",
       "\n",
       "    .dataframe tbody tr th {\n",
       "        vertical-align: top;\n",
       "    }\n",
       "\n",
       "    .dataframe thead th {\n",
       "        text-align: right;\n",
       "    }\n",
       "</style>\n",
       "<table border=\"1\" class=\"dataframe\">\n",
       "  <thead>\n",
       "    <tr style=\"text-align: right;\">\n",
       "      <th></th>\n",
       "      <th>sentence</th>\n",
       "      <th>char_count</th>\n",
       "      <th>word_count</th>\n",
       "      <th>word_density</th>\n",
       "      <th>upper_case_word_count</th>\n",
       "      <th>title_word_count</th>\n",
       "      <th>noun_count</th>\n",
       "      <th>verb_count</th>\n",
       "      <th>adj_count</th>\n",
       "      <th>adv_count</th>\n",
       "      <th>pron_count</th>\n",
       "      <th>sentiment_score</th>\n",
       "    </tr>\n",
       "  </thead>\n",
       "  <tbody>\n",
       "    <tr>\n",
       "      <th>5193</th>\n",
       "      <td>Metastatic cancer cells express human CD no human CD positive cells are detected in controls</td>\n",
       "      <td>92</td>\n",
       "      <td>15</td>\n",
       "      <td>5.750000</td>\n",
       "      <td>2</td>\n",
       "      <td>1</td>\n",
       "      <td>6</td>\n",
       "      <td>2</td>\n",
       "      <td>5</td>\n",
       "      <td>0</td>\n",
       "      <td>0</td>\n",
       "      <td>-0.4588</td>\n",
       "    </tr>\n",
       "    <tr>\n",
       "      <th>2294</th>\n",
       "      <td>Professor Simeon Nelson s research into cancer from multiple perspectives led to the creation of a site specific artwork Anarchy in the Organism a genuinely successful interdisciplinary project in which oncology visual art music computer science psychology and sociology came into enriching interaction</td>\n",
       "      <td>302</td>\n",
       "      <td>43</td>\n",
       "      <td>6.863636</td>\n",
       "      <td>0</td>\n",
       "      <td>5</td>\n",
       "      <td>19</td>\n",
       "      <td>5</td>\n",
       "      <td>5</td>\n",
       "      <td>1</td>\n",
       "      <td>0</td>\n",
       "      <td>0.1280</td>\n",
       "    </tr>\n",
       "    <tr>\n",
       "      <th>2812</th>\n",
       "      <td>reported that hypoxia inducible factor activates the transcription of P HA and during breast cancer development and this activation enhances collagen fiber alignment and breast cancer progression</td>\n",
       "      <td>195</td>\n",
       "      <td>27</td>\n",
       "      <td>6.964286</td>\n",
       "      <td>2</td>\n",
       "      <td>1</td>\n",
       "      <td>15</td>\n",
       "      <td>3</td>\n",
       "      <td>1</td>\n",
       "      <td>0</td>\n",
       "      <td>0</td>\n",
       "      <td>-0.7695</td>\n",
       "    </tr>\n",
       "    <tr>\n",
       "      <th>3677</th>\n",
       "      <td>Data are representative of three independent experiments in duplicate wells</td>\n",
       "      <td>75</td>\n",
       "      <td>10</td>\n",
       "      <td>6.818182</td>\n",
       "      <td>0</td>\n",
       "      <td>1</td>\n",
       "      <td>4</td>\n",
       "      <td>1</td>\n",
       "      <td>2</td>\n",
       "      <td>0</td>\n",
       "      <td>0</td>\n",
       "      <td>0.2500</td>\n",
       "    </tr>\n",
       "    <tr>\n",
       "      <th>140</th>\n",
       "      <td>Outcomes from CBR have been shown to increase independence and enhance mobility and social inclusion of people with disabilities in low and middle income nations</td>\n",
       "      <td>161</td>\n",
       "      <td>25</td>\n",
       "      <td>6.192308</td>\n",
       "      <td>1</td>\n",
       "      <td>1</td>\n",
       "      <td>10</td>\n",
       "      <td>4</td>\n",
       "      <td>3</td>\n",
       "      <td>0</td>\n",
       "      <td>0</td>\n",
       "      <td>0.0516</td>\n",
       "    </tr>\n",
       "  </tbody>\n",
       "</table>\n",
       "</div>"
      ],
      "text/plain": [
       "                                                                                                                                                                                                                                                                                                            sentence  \\\n",
       "5193                                                                                                                                                                                                                    Metastatic cancer cells express human CD no human CD positive cells are detected in controls   \n",
       "2294  Professor Simeon Nelson s research into cancer from multiple perspectives led to the creation of a site specific artwork Anarchy in the Organism a genuinely successful interdisciplinary project in which oncology visual art music computer science psychology and sociology came into enriching interaction   \n",
       "2812                                                                                                             reported that hypoxia inducible factor activates the transcription of P HA and during breast cancer development and this activation enhances collagen fiber alignment and breast cancer progression   \n",
       "3677                                                                                                                                                                                                                                     Data are representative of three independent experiments in duplicate wells   \n",
       "140                                                                                                                                                Outcomes from CBR have been shown to increase independence and enhance mobility and social inclusion of people with disabilities in low and middle income nations   \n",
       "\n",
       "      char_count  word_count  word_density  upper_case_word_count  \\\n",
       "5193          92          15      5.750000                      2   \n",
       "2294         302          43      6.863636                      0   \n",
       "2812         195          27      6.964286                      2   \n",
       "3677          75          10      6.818182                      0   \n",
       "140          161          25      6.192308                      1   \n",
       "\n",
       "      title_word_count  noun_count  verb_count  adj_count  adv_count  \\\n",
       "5193                 1           6           2          5          0   \n",
       "2294                 5          19           5          5          1   \n",
       "2812                 1          15           3          1          0   \n",
       "3677                 1           4           1          2          0   \n",
       "140                  1          10           4          3          0   \n",
       "\n",
       "      pron_count  sentiment_score  \n",
       "5193           0          -0.4588  \n",
       "2294           0           0.1280  \n",
       "2812           0          -0.7695  \n",
       "3677           0           0.2500  \n",
       "140            0           0.0516  "
      ]
     },
     "execution_count": 22,
     "metadata": {},
     "output_type": "execute_result"
    }
   ],
   "source": [
    "X_train.head()"
   ]
  },
  {
   "cell_type": "code",
   "execution_count": 23,
   "metadata": {},
   "outputs": [
    {
     "data": {
      "text/html": [
       "<div>\n",
       "<style scoped>\n",
       "    .dataframe tbody tr th:only-of-type {\n",
       "        vertical-align: middle;\n",
       "    }\n",
       "\n",
       "    .dataframe tbody tr th {\n",
       "        vertical-align: top;\n",
       "    }\n",
       "\n",
       "    .dataframe thead th {\n",
       "        text-align: right;\n",
       "    }\n",
       "</style>\n",
       "<table border=\"1\" class=\"dataframe\">\n",
       "  <thead>\n",
       "    <tr style=\"text-align: right;\">\n",
       "      <th></th>\n",
       "      <th>sentence</th>\n",
       "      <th>char_count</th>\n",
       "      <th>word_count</th>\n",
       "      <th>word_density</th>\n",
       "      <th>upper_case_word_count</th>\n",
       "      <th>title_word_count</th>\n",
       "      <th>noun_count</th>\n",
       "      <th>verb_count</th>\n",
       "      <th>adj_count</th>\n",
       "      <th>adv_count</th>\n",
       "      <th>pron_count</th>\n",
       "      <th>sentiment_score</th>\n",
       "    </tr>\n",
       "  </thead>\n",
       "  <tbody>\n",
       "    <tr>\n",
       "      <th>798</th>\n",
       "      <td>We improve Public Health and facilitate personal growth through promoting active lifestyles</td>\n",
       "      <td>91</td>\n",
       "      <td>12</td>\n",
       "      <td>7.000000</td>\n",
       "      <td>0</td>\n",
       "      <td>3</td>\n",
       "      <td>4</td>\n",
       "      <td>2</td>\n",
       "      <td>3</td>\n",
       "      <td>0</td>\n",
       "      <td>0</td>\n",
       "      <td>0.8658</td>\n",
       "    </tr>\n",
       "    <tr>\n",
       "      <th>2502</th>\n",
       "      <td>integrin subunits revealed upregulation of specific isoforms in prostate tumor metastasis reinforcing a sniper targeting attack against ECM integrin FAC to stop metastatic spread</td>\n",
       "      <td>178</td>\n",
       "      <td>24</td>\n",
       "      <td>7.120000</td>\n",
       "      <td>2</td>\n",
       "      <td>0</td>\n",
       "      <td>11</td>\n",
       "      <td>4</td>\n",
       "      <td>4</td>\n",
       "      <td>0</td>\n",
       "      <td>0</td>\n",
       "      <td>-0.7845</td>\n",
       "    </tr>\n",
       "    <tr>\n",
       "      <th>199</th>\n",
       "      <td>This case study describes the impact of research on new approaches to the organisation and delivery of social work services for children in out of home care with international work led by Bilson and work in England involving Stanley Bilson Larkins and Ridley</td>\n",
       "      <td>258</td>\n",
       "      <td>43</td>\n",
       "      <td>5.863636</td>\n",
       "      <td>0</td>\n",
       "      <td>7</td>\n",
       "      <td>20</td>\n",
       "      <td>3</td>\n",
       "      <td>3</td>\n",
       "      <td>0</td>\n",
       "      <td>0</td>\n",
       "      <td>0.4939</td>\n",
       "    </tr>\n",
       "    <tr>\n",
       "      <th>2478</th>\n",
       "      <td>For patients who received IVBs during follow up time to IVB therapy interruption and IVB therapy discontinuation were analyzed</td>\n",
       "      <td>126</td>\n",
       "      <td>19</td>\n",
       "      <td>6.300000</td>\n",
       "      <td>2</td>\n",
       "      <td>1</td>\n",
       "      <td>9</td>\n",
       "      <td>4</td>\n",
       "      <td>0</td>\n",
       "      <td>0</td>\n",
       "      <td>1</td>\n",
       "      <td>-0.3612</td>\n",
       "    </tr>\n",
       "    <tr>\n",
       "      <th>545</th>\n",
       "      <td>The Work Related Quality of Life WRQoL scale and its derivatives have been used to assess and enhance the quality of working life in of UK universities ten NHS Trusts five Trade Unions schools a professional body the British Psychological Society and parts of other large national organisations Police BBC RNLI</td>\n",
       "      <td>310</td>\n",
       "      <td>51</td>\n",
       "      <td>5.961538</td>\n",
       "      <td>4</td>\n",
       "      <td>12</td>\n",
       "      <td>24</td>\n",
       "      <td>7</td>\n",
       "      <td>5</td>\n",
       "      <td>0</td>\n",
       "      <td>0</td>\n",
       "      <td>0.4767</td>\n",
       "    </tr>\n",
       "  </tbody>\n",
       "</table>\n",
       "</div>"
      ],
      "text/plain": [
       "                                                                                                                                                                                                                                                                                                                    sentence  \\\n",
       "798                                                                                                                                                                                                                              We improve Public Health and facilitate personal growth through promoting active lifestyles   \n",
       "2502                                                                                                                                      integrin subunits revealed upregulation of specific isoforms in prostate tumor metastasis reinforcing a sniper targeting attack against ECM integrin FAC to stop metastatic spread   \n",
       "199                                                       This case study describes the impact of research on new approaches to the organisation and delivery of social work services for children in out of home care with international work led by Bilson and work in England involving Stanley Bilson Larkins and Ridley   \n",
       "2478                                                                                                                                                                                          For patients who received IVBs during follow up time to IVB therapy interruption and IVB therapy discontinuation were analyzed   \n",
       "545   The Work Related Quality of Life WRQoL scale and its derivatives have been used to assess and enhance the quality of working life in of UK universities ten NHS Trusts five Trade Unions schools a professional body the British Psychological Society and parts of other large national organisations Police BBC RNLI   \n",
       "\n",
       "      char_count  word_count  word_density  upper_case_word_count  \\\n",
       "798           91          12      7.000000                      0   \n",
       "2502         178          24      7.120000                      2   \n",
       "199          258          43      5.863636                      0   \n",
       "2478         126          19      6.300000                      2   \n",
       "545          310          51      5.961538                      4   \n",
       "\n",
       "      title_word_count  noun_count  verb_count  adj_count  adv_count  \\\n",
       "798                  3           4           2          3          0   \n",
       "2502                 0          11           4          4          0   \n",
       "199                  7          20           3          3          0   \n",
       "2478                 1           9           4          0          0   \n",
       "545                 12          24           7          5          0   \n",
       "\n",
       "      pron_count  sentiment_score  \n",
       "798            0           0.8658  \n",
       "2502           0          -0.7845  \n",
       "199            0           0.4939  \n",
       "2478           1          -0.3612  \n",
       "545            0           0.4767  "
      ]
     },
     "execution_count": 23,
     "metadata": {},
     "output_type": "execute_result"
    }
   ],
   "source": [
    "X_test.head()"
   ]
  },
  {
   "cell_type": "markdown",
   "metadata": {},
   "source": [
    "## Prepare sentences"
   ]
  },
  {
   "cell_type": "markdown",
   "metadata": {},
   "source": [
    "Data will be prepared using the following combinations of the text processing tasks defined in `sentence_to_words`:\n",
    "1. Sentence is tokenized and stop words as well as URLs are removed. Stemming is also applied;\n",
    "2. Sentence is tokenized, stop words and URLs are removed and lemmatization is applied."
   ]
  },
  {
   "cell_type": "code",
   "execution_count": 24,
   "metadata": {},
   "outputs": [],
   "source": [
    "context_words = ['reseach', 'uk']"
   ]
  },
  {
   "cell_type": "code",
   "execution_count": 25,
   "metadata": {},
   "outputs": [
    {
     "name": "stdout",
     "output_type": "stream",
     "text": [
      "CPU times: user 9.48 s, sys: 518 ms, total: 10 s\n",
      "Wall time: 10 s\n"
     ]
    }
   ],
   "source": [
    "%%time\n",
    "X_train_clean = [sentence_to_words(sentence, context_words) for sentence in X_train['sentence']]\n",
    "X_train_clean_with_lemmatization = [sentence_to_words(sentence, context_words, lemmatization=True) for sentence in X_train['sentence']]\n",
    "X_test_clean = [sentence_to_words(sentence, context_words) for sentence in X_test['sentence']]\n",
    "X_test_clean_with_lemmatization = [sentence_to_words(sentence, context_words, lemmatization=True) for sentence in X_test['sentence']]"
   ]
  },
  {
   "cell_type": "markdown",
   "metadata": {},
   "source": [
    "Save preprocess text into a dictionary to avoid carrying around the recently create variables"
   ]
  },
  {
   "cell_type": "code",
   "execution_count": 26,
   "metadata": {},
   "outputs": [],
   "source": [
    "preprocess_text = {\n",
    "    'clean': {'train': {'X_train': X_train_clean, 'y_train': y_train, 'extra_features': X_train.iloc[:,1:]},\n",
    "              'test': {'X_test': X_test_clean, 'y_test': y_test, 'extra_features': X_test.iloc[:,1:]}},\n",
    "    'clean_lemmatization': {'train': {'X_train': X_train_clean_with_lemmatization, 'y_train': y_train, 'extra_features': X_train.iloc[:,1:]},\n",
    "                            'test': {'X_test': X_test_clean_with_lemmatization, 'y_test': y_test, 'extra_features': X_test.iloc[:,1:]}}\n",
    "}"
   ]
  },
  {
   "cell_type": "markdown",
   "metadata": {},
   "source": [
    "Check a sample of the preprocess data"
   ]
  },
  {
   "cell_type": "code",
   "execution_count": 29,
   "metadata": {},
   "outputs": [
    {
     "data": {
      "text/plain": [
       "['improve',\n",
       " 'public',\n",
       " 'health',\n",
       " 'facilitate',\n",
       " 'personal',\n",
       " 'growth',\n",
       " 'promoting',\n",
       " 'active',\n",
       " 'lifestyle']"
      ]
     },
     "execution_count": 29,
     "metadata": {},
     "output_type": "execute_result"
    }
   ],
   "source": [
    "preprocess_text['clean_lemmatization']['test']['X_test'][0]"
   ]
  },
  {
   "cell_type": "markdown",
   "metadata": {},
   "source": [
    "### Vectorize text"
   ]
  },
  {
   "cell_type": "markdown",
   "metadata": {},
   "source": [
    "Previously processed sentences are transformed here to a vectorized representation. After transformation, data are saved into binary files."
   ]
  },
  {
   "cell_type": "markdown",
   "metadata": {},
   "source": [
    "#### Define transformation conditions"
   ]
  },
  {
   "cell_type": "code",
   "execution_count": 30,
   "metadata": {},
   "outputs": [],
   "source": [
    "transformations = ['tc', 'tfidf']\n",
    "max_features=[500, 800, 1000, 2000, 5000]\n",
    "ngram_ranges=[(1,1),(1,2),(1,3),(2,3)]\n",
    "total_cycles = len(transformations)*len(max_features)*len(ngram_ranges)*len(preprocess_text)"
   ]
  },
  {
   "cell_type": "markdown",
   "metadata": {},
   "source": [
    "#### Transform and save data"
   ]
  },
  {
   "cell_type": "code",
   "execution_count": 31,
   "metadata": {},
   "outputs": [],
   "source": [
    "def save_transformed_txt(transformation_type, max_features, ngram_range, processing_task, vocabulary,\n",
    "                         transformed_train_txt, train_labels, train_extra_features, \n",
    "                         transformed_test_txt, test_labels, test_extra_features):\n",
    "        str_ngram_range = str(ngram_range).replace('(','').replace(')','').replace(',','_')\n",
    "        data_filename = f'data_{transformation_type}_{max_features}_{str_ngram_range}_{processing_task}.pkl'\n",
    "        # train data\n",
    "        train_data = pd.DataFrame({'sentence': list(transformed_train_txt), 'label': train_labels})\n",
    "        train_data = pd.concat([train_data, train_extra_features], axis=1)        \n",
    "        # save train data        \n",
    "        dict_data = dict(data=train_data, transformation=transformation_type, max_features=max_features, ngram_range=ngram_range,\n",
    "                         processing_task=processing_task, vocabulary=vocabulary)        \n",
    "        with open(os.path.join('data', 'train', data_filename), 'wb') as f:\n",
    "            joblib.dump(dict_data, f)\n",
    "        # test data\n",
    "        test_data = pd.DataFrame({'sentence': list(transformed_test_txt), 'label': test_labels})\n",
    "        test_data = pd.concat([test_data, test_extra_features], axis=1)\n",
    "        # save test data\n",
    "        dict_data = dict(data=test_data, transformation=transformation_type, max_features=max_features, ngram_range=ngram_range,\n",
    "                         processing_task=processing_task, vocabulary=vocabulary)\n",
    "        with open(os.path.join('data', 'test', data_filename), 'wb') as f:\n",
    "            joblib.dump(dict_data, f)"
   ]
  },
  {
   "cell_type": "code",
   "execution_count": 32,
   "metadata": {},
   "outputs": [
    {
     "name": "stdout",
     "output_type": "stream",
     "text": [
      "100%|██████████| 80/80 [02:43<00:00,  2.04s/it]\n"
     ]
    }
   ],
   "source": [
    "with tqdm(total=total_cycles, file=sys.stdout) as pbar:\n",
    "    for transformation in transformations:        \n",
    "        for max_feature in max_features:\n",
    "            for ngram_range in ngram_ranges:\n",
    "                for processing_task, data_dict in preprocess_text.items():                    \n",
    "                    train_text = data_dict['train']['X_train']\n",
    "                    transformed_train_data, vectorizer = extract_BoW_features(train_text, max_feature, transformation, ngram_range)\n",
    "                    test_text = data_dict['test']['X_test']\n",
    "                    transformed_test_data = vectorizer.transform(test_text).toarray()\n",
    "                    vocabulary = vectorizer.vocabulary_\n",
    "                    save_transformed_txt(transformation, max_feature, ngram_range, processing_task, vocabulary,\n",
    "                                         transformed_train_data, data_dict['train']['y_train'], data_dict['train']['extra_features'],\n",
    "                                         transformed_test_data, data_dict['test']['y_test'], data_dict['test']['extra_features'])\n",
    "                    pbar.update(1)"
   ]
  },
  {
   "cell_type": "markdown",
   "metadata": {},
   "source": [
    "## Build ML model"
   ]
  },
  {
   "cell_type": "markdown",
   "metadata": {},
   "source": [
    "Here we build the machine learning classifier. The decision on the algorithms to be used was based on algorithms that have been reported to perform well on unbalanced, small, and textual datasets, which is our case. Therefore, we try the following algorithms: Naive-Bayes, Support Vector Machine, Logistic Regression, Random Forest, and Gradient Boosting.\n",
    "\n",
    "In bulding the model we proceed as following:\n",
    "1. Compare the performance of the choosen algorithms by training them in each of the 180 different training sets;\n",
    "2. Choose the best performing model for each algorithm;\n",
    "3. Perform hyper-parameters optimization for the best models, except Naive-Bayes. GridSearch is used for SVM and Logistic Regression while RandomGridSearch with 100 iterations is employed for Random Forest and Gradient Boosting;\n",
    "4. Plot learning curves for the best models to analyze the overfitting effect on the training set and the effect of the training size on the performance metric;\n",
    "5. Select the model that best generalize the prediction.\n",
    "\n",
    "Models are trained using the cross-validation approach. The performance metric to be optimized is **`F1`** because, which provides an adequate compromise between acceptable coverage and the correct identification of impact sentences."
   ]
  },
  {
   "cell_type": "markdown",
   "metadata": {},
   "source": [
    "The processes of training the different algorithms has been run outside the notebook through the script `train.py`"
   ]
  },
  {
   "cell_type": "markdown",
   "metadata": {},
   "source": [
    "#### Load training results to a csv"
   ]
  },
  {
   "cell_type": "code",
   "execution_count": 72,
   "metadata": {},
   "outputs": [],
   "source": [
    "output_df = pd.read_csv(os.path.join('experiments', 'e_24062020_212610.csv'))"
   ]
  },
  {
   "cell_type": "markdown",
   "metadata": {},
   "source": [
    "### Compare the best models of each type"
   ]
  },
  {
   "cell_type": "code",
   "execution_count": 73,
   "metadata": {},
   "outputs": [],
   "source": [
    "algorithms = ['NB', 'SVM', 'LR', 'RF', 'GB']\n",
    "metric = 'f1'"
   ]
  },
  {
   "cell_type": "code",
   "execution_count": 74,
   "metadata": {},
   "outputs": [
    {
     "name": "stdout",
     "output_type": "stream",
     "text": [
      "Algorithm: NB, Mean: 0.97, Std.: 0.01, Train Data File: data/train/data_tfidf_5000_1_ 2_clean_lemmatization.pkl\n",
      "Algorithm: SVM, Mean: 0.54, Std.: 0.04, Train Data File: data/train/data_tc_1000_1_ 2_clean_lemmatization.pkl\n",
      "Algorithm: LR, Mean: 0.94, Std.: 0.02, Train Data File: data/train/data_tc_1000_1_ 3_clean.pkl\n",
      "Algorithm: RF, Mean: 0.95, Std.: 0.02, Train Data File: data/train/data_tfidf_5000_1_ 2_clean.pkl\n",
      "Algorithm: GB, Mean: 0.91, Std.: 0.02, Train Data File: data/train/data_tc_1000_1_ 2_clean_lemmatization.pkl\n"
     ]
    }
   ],
   "source": [
    "mean_best_models, std_best_models = [], []\n",
    "for algorithm in algorithms:\n",
    "    best_model = output_df[output_df['algorithm']==algorithm].sort_values(by=[f\"mean_{metric}\", f\"std_{metric}\"], ascending=False).head(1)\n",
    "    mean_metric = best_model[f'mean_{metric}'].values[0]\n",
    "    std_metric = best_model[f'std_{metric}'].values[0]\n",
    "    mean_best_models.append(mean_metric)    \n",
    "    std_best_models.append(std_metric)\n",
    "    data_fn = best_model['train_data_file'].values[0]    \n",
    "    print(f'Algorithm: {algorithm}, Mean: {mean_metric}, Std.: {std_metric}, Train Data File: {data_fn}')"
   ]
  },
  {
   "cell_type": "code",
   "execution_count": 75,
   "metadata": {},
   "outputs": [
    {
     "data": {
      "image/png": "[encoded data removed]",
      "text/plain": [
       "<Figure size 864x432 with 1 Axes>"
      ]
     },
     "metadata": {
      "needs_background": "light"
     },
     "output_type": "display_data"
    }
   ],
   "source": [
    "cv_res = pd.DataFrame({\n",
    "    'cross_val_means': mean_best_models,\n",
    "    'cross_val_std': std_best_models,\n",
    "    'algorithm': algorithms\n",
    "})\n",
    "plt.figure(figsize=(12,6))\n",
    "g = sns.barplot('cross_val_means', 'algorithm', data = cv_res, palette='Blues_r', orient = \"h\", **{'xerr':std_best_models})\n",
    "g.set_xlabel(f'Mean {metric.title()}')\n",
    "g = g.set_title('Cross validation scores')"
   ]
  },
  {
   "cell_type": "code",
   "execution_count": 76,
   "metadata": {},
   "outputs": [],
   "source": [
    "g.get_figure().savefig(os.path.join('figures','cross_validation_scores.png'), dpi=200, quality=95, bbox_inches=\"tight\")"
   ]
  },
  {
   "cell_type": "markdown",
   "metadata": {},
   "source": [
    "### Perform hyper-parameters optimization"
   ]
  },
  {
   "cell_type": "markdown",
   "metadata": {},
   "source": [
    "Hyperparametrization processes have been run outside the notebook through the script `train.py`"
   ]
  },
  {
   "cell_type": "markdown",
   "metadata": {},
   "source": [
    "### Plot learning curves"
   ]
  },
  {
   "cell_type": "markdown",
   "metadata": {},
   "source": [
    "Except for Naive-Bayes, the rest of the learning curves have been draw outside the notebook through the script `train.py`"
   ]
  },
  {
   "cell_type": "markdown",
   "metadata": {},
   "source": [
    "#### **Naive-Bayes (NB)**"
   ]
  },
  {
   "cell_type": "code",
   "execution_count": 79,
   "metadata": {},
   "outputs": [
    {
     "data": {
      "image/png": "[encoded data removed]",
      "text/plain": [
       "<Figure size 864x432 with 1 Axes>"
      ]
     },
     "metadata": {
      "needs_background": "light"
     },
     "output_type": "display_data"
    }
   ],
   "source": [
    "random_state = np.random.RandomState(1234)\n",
    "kfold = KFold(n_splits=10, shuffle=True, random_state=random_state)\n",
    "best_model = output_df[output_df['algorithm']=='NB'].sort_values(by=[f'mean_{metric}', f'std_{metric}'], ascending=False).head(1)\n",
    "train_data_file = best_model['train_data_file'].values[0]\n",
    "features, labels = get_features_and_labels(train_data_file)\n",
    "g = plot_learning_curve(GaussianNB(), 'NB learning curves', features, labels, metric, cv=kfold, shuffle=True, save_fig=True)\n",
    "g.show()"
   ]
  },
  {
   "cell_type": "markdown",
   "metadata": {},
   "source": [
    "**Diagnosis**. Scores in the learning curve of the NB model decrease as the size of the training set increases. This indicates that the model is learning well on the training data. On the other hand, the validation curve increases as more training examples are available and it seems that with more data curves will coverge at some point."
   ]
  },
  {
   "cell_type": "markdown",
   "metadata": {},
   "source": [
    "#### **Support Vector Machine (SVM)**"
   ]
  },
  {
   "cell_type": "markdown",
   "metadata": {},
   "source": [
    "<div>\n",
    "<img src=\"figures/SVM learning curves - f1.png\" width=\"800\" height=\"600\"/>\n",
    "</div>"
   ]
  },
  {
   "cell_type": "markdown",
   "metadata": {},
   "source": [
    "**Diagnosis**. Scores in the learning curve of the SVM model remain constant as the size of the training set increases. This indicates that the model might overfit on the training data (high variance)."
   ]
  },
  {
   "cell_type": "markdown",
   "metadata": {},
   "source": [
    "#### **Logistic Regression (LR)**"
   ]
  },
  {
   "cell_type": "markdown",
   "metadata": {},
   "source": [
    "<div>\n",
    "<img src=\"figures/LR learning curves - f1.png\" width=\"800\" height=\"600\"/>\n",
    "</div>"
   ]
  },
  {
   "cell_type": "markdown",
   "metadata": {},
   "source": [
    "**Diagnosis**. Scores in the learning curve of the LR model decrease as the number of training examples increases. This indicate that the model does not overfitting on training data (low variance). On the other hand, the validation curve increases as more training examples are available, which tells us that the model is correctly learning from the training examples. The small gap between curves is a sign of low variance, however the large shadows around curves are an indication of large variability in the scores."
   ]
  },
  {
   "cell_type": "markdown",
   "metadata": {},
   "source": [
    "#### **Random Forest (RF)**"
   ]
  },
  {
   "cell_type": "markdown",
   "metadata": {},
   "source": [
    "<div>\n",
    "<img src=\"figures/RF learning curves - f1.png\" width=\"800\" height=\"600\"/>\n",
    "</div>"
   ]
  },
  {
   "cell_type": "markdown",
   "metadata": {},
   "source": [
    "**Diagnosis**. In this model the training score is at maximum regardless of the training size, which is signal of overfitting. The large gap between curves is strong sign of high-variance."
   ]
  },
  {
   "cell_type": "markdown",
   "metadata": {},
   "source": [
    "#### **Gradient Boosting (GB)**"
   ]
  },
  {
   "cell_type": "markdown",
   "metadata": {},
   "source": [
    "<div>\n",
    "<img src=\"figures/GB learning curves - f1.png\" width=\"800\" height=\"600\"/>\n",
    "</div>"
   ]
  },
  {
   "cell_type": "markdown",
   "metadata": {},
   "source": [
    "**Diagnosis**. In this model the training score is at maximum regardless of the training size, which is signal of overfitting. The large gap between training and validation confirms a high-variance scenario."
   ]
  },
  {
   "cell_type": "markdown",
   "metadata": {},
   "source": [
    "### Select model"
   ]
  },
  {
   "cell_type": "markdown",
   "metadata": {},
   "source": [
    "Although Naive-Bayes and Logistic Regression showed to have pretty good learning results, curves of Logistic Regression converge closer. Based on the this, the **`Logistic Regresssion`** model is selected as the best classifier."
   ]
  },
  {
   "cell_type": "markdown",
   "metadata": {},
   "source": [
    "#### Load best model"
   ]
  },
  {
   "cell_type": "code",
   "execution_count": 66,
   "metadata": {},
   "outputs": [],
   "source": [
    "best_model = joblib.load(f'./models/best_logistic-regression_{metric}.joblib')['model']"
   ]
  },
  {
   "cell_type": "markdown",
   "metadata": {},
   "source": [
    "#### Save Model"
   ]
  },
  {
   "cell_type": "code",
   "execution_count": 67,
   "metadata": {},
   "outputs": [],
   "source": [
    "train_fn = output_df[output_df['algorithm']=='LR'].sort_values(by=[f'mean_{metric}', f'std_{metric}'], ascending=False).head(1)['train_data_file'].values[0]\n",
    "save_model(best_model, 'logistic-regression-classifier', 'data', train_fn)"
   ]
  },
  {
   "cell_type": "markdown",
   "metadata": {},
   "source": [
    "## Evaluate model"
   ]
  },
  {
   "cell_type": "markdown",
   "metadata": {},
   "source": [
    "### Load model"
   ]
  },
  {
   "cell_type": "code",
   "execution_count": 68,
   "metadata": {},
   "outputs": [],
   "source": [
    "model_dict = joblib.load('./models/logistic-regression-classifier.joblib')\n",
    "model = model_dict['model']"
   ]
  },
  {
   "cell_type": "markdown",
   "metadata": {},
   "source": [
    "### Load test data"
   ]
  },
  {
   "cell_type": "code",
   "execution_count": 69,
   "metadata": {},
   "outputs": [],
   "source": [
    "data_fn = model_dict['transformation']['file_name']\n",
    "test_data_file = os.path.join('data', 'test', data_fn)\n",
    "X_test, y_test = get_features_and_labels(test_data_file)"
   ]
  },
  {
   "cell_type": "markdown",
   "metadata": {},
   "source": [
    "### Make predictions"
   ]
  },
  {
   "cell_type": "code",
   "execution_count": 70,
   "metadata": {},
   "outputs": [],
   "source": [
    "pred = model.predict(X_test)"
   ]
  },
  {
   "cell_type": "markdown",
   "metadata": {},
   "source": [
    "### Compute performance metrics"
   ]
  },
  {
   "cell_type": "code",
   "execution_count": 71,
   "metadata": {},
   "outputs": [
    {
     "name": "stdout",
     "output_type": "stream",
     "text": [
      "F1: 0.94\n"
     ]
    }
   ],
   "source": [
    "print(f'{metric.title()}: {round(metrics.recall_score(y_test, pred),2)}')"
   ]
  }
 ],
 "metadata": {
  "kernelspec": {
   "display_name": "Impact Env",
   "language": "python",
   "name": "impact-env"
  },
  "language_info": {
   "codemirror_mode": {
    "name": "ipython",
    "version": 3
   },
   "file_extension": ".py",
   "mimetype": "text/x-python",
   "name": "python",
   "nbconvert_exporter": "python",
   "pygments_lexer": "ipython3",
   "version": "3.6.9"
  }
 },
 "nbformat": 4,
 "nbformat_minor": 4
}
