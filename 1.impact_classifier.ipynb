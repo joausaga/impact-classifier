{
 "cells": [
  {
   "cell_type": "markdown",
   "metadata": {},
   "source": [
    "# Impact Classifier"
   ]
  },
  {
   "cell_type": "markdown",
   "metadata": {},
   "source": [
    "The project proposes to leverage machine learning (ML) and natural language processing (NLP) techniques to build a text classifier that automatizes the processing and identification of evidence of social impact in research documents. The proposal aims to solve a classification problem in which the model takes a sentence contained in a research document as input and produces as output a binary answer (1=True, 0=False) that states whether the sentence contains or not evidence of social impact, respectively.\n",
    "\n",
    "From all research fields, this project focuses on Medical, Health, and Biological science because the ultimately goal is to understand the social impact of the research projects of the Spanish National Institue of Bioinformatics (INB by its Spanish Acronym), which is an institution that conducts medical and biological investigations.\n",
    "\n",
    "The goal of this notebook is to develop a machine learning classifier able to automatically identify sentences of social impact in research documents."
   ]
  },
  {
   "cell_type": "markdown",
   "metadata": {},
   "source": [
    "## Load libraries"
   ]
  },
  {
   "cell_type": "code",
   "execution_count": 1,
   "metadata": {},
   "outputs": [
    {
     "name": "stderr",
     "output_type": "stream",
     "text": [
      "[nltk_data] Downloading package stopwords to\n",
      "[nltk_data]     /home/Life/jsaldiva/nltk_data...\n",
      "[nltk_data]   Package stopwords is already up-to-date!\n",
      "[nltk_data] Downloading package wordnet to\n",
      "[nltk_data]     /home/Life/jsaldiva/nltk_data...\n",
      "[nltk_data]   Package wordnet is already up-to-date!\n",
      "[nltk_data] Downloading package stopwords to\n",
      "[nltk_data]     /home/Life/jsaldiva/nltk_data...\n",
      "[nltk_data]   Package stopwords is already up-to-date!\n",
      "[nltk_data] Downloading package wordnet to\n",
      "[nltk_data]     /home/Life/jsaldiva/nltk_data...\n",
      "[nltk_data]   Package wordnet is already up-to-date!\n"
     ]
    }
   ],
   "source": [
    "import glob\n",
    "import numpy as np\n",
    "import nltk\n",
    "import os\n",
    "import pandas as pd\n",
    "import re\n",
    "import matplotlib.pyplot as plt\n",
    "import sys\n",
    "import joblib\n",
    "import json\n",
    "import pickle\n",
    "import seaborn as sns\n",
    "\n",
    "\n",
    "nltk.download(\"stopwords\")\n",
    "nltk.download('wordnet')\n",
    "\n",
    "from nltk.corpus import stopwords\n",
    "from nltk.stem.porter import *\n",
    "from nltk.stem import WordNetLemmatizer\n",
    "from nltk.tokenize import word_tokenize, sent_tokenize\n",
    "from nltk.probability import FreqDist\n",
    "\n",
    "from sklearn.feature_extraction.text import CountVectorizer\n",
    "from sklearn.feature_extraction.text import TfidfVectorizer\n",
    "from sklearn import metrics\n",
    "from sklearn import model_selection\n",
    "from sklearn.model_selection import cross_val_score, KFold, RandomizedSearchCV, GridSearchCV, learning_curve, train_test_split\n",
    "from sklearn.naive_bayes import GaussianNB\n",
    "from sklearn.svm import SVC\n",
    "from sklearn.ensemble import RandomForestClassifier, GradientBoostingClassifier, VotingClassifier\n",
    "from sklearn.linear_model import LogisticRegression\n",
    "from sklearn.model_selection import KFold\n",
    "\n",
    "from bs4 import BeautifulSoup\n",
    "from text_processor import *\n",
    "from tqdm import tqdm\n",
    "from wordcloud import WordCloud, STOPWORDS, ImageColorGenerator\n",
    "from utils import save_model\n",
    "\n",
    "%matplotlib inline"
   ]
  },
  {
   "cell_type": "markdown",
   "metadata": {},
   "source": [
    "## Load data"
   ]
  },
  {
   "cell_type": "markdown",
   "metadata": {},
   "source": [
    "### Impact sentences"
   ]
  },
  {
   "cell_type": "markdown",
   "metadata": {},
   "source": [
    "Load summaries with sentences with evidence of social impact. The data were extracted from the impact case studies published by REF (Research Excellence Framework) and it contains the summary of societal impact of Medical, Health, and Biological research. Summaries can be access [here](https://impact.ref.ac.uk/casestudies/Results.aspx?Type=I&Tag=5085)."
   ]
  },
  {
   "cell_type": "code",
   "execution_count": 2,
   "metadata": {},
   "outputs": [],
   "source": [
    "ref_impact = pd.read_csv('data/source/social_impact_ref_bio_medicine.csv', usecols=['Summary of the impact'])"
   ]
  },
  {
   "cell_type": "markdown",
   "metadata": {},
   "source": [
    "#### Split summaries into sentences"
   ]
  },
  {
   "cell_type": "code",
   "execution_count": 3,
   "metadata": {},
   "outputs": [],
   "source": [
    "impact_sentences = pd.DataFrame(columns=['sentence'])\n",
    "for i in ref_impact.index:\n",
    "    sentences = sent_tokenize(ref_impact.loc[i, 'Summary of the impact'])\n",
    "    for sentence in sentences:\n",
    "        impact_sentences = impact_sentences.append({'sentence': sentence}, ignore_index=True)        "
   ]
  },
  {
   "cell_type": "markdown",
   "metadata": {},
   "source": [
    "#### Clean sentences"
   ]
  },
  {
   "cell_type": "code",
   "execution_count": 4,
   "metadata": {},
   "outputs": [
    {
     "name": "stdout",
     "output_type": "stream",
     "text": [
      "CPU times: user 228 ms, sys: 8.75 ms, total: 236 ms\n",
      "Wall time: 234 ms\n"
     ]
    }
   ],
   "source": [
    "%%time\n",
    "impact_sentences['sentence'] = impact_sentences['sentence'].apply(lambda x: clean_sentence(x))"
   ]
  },
  {
   "cell_type": "markdown",
   "metadata": {},
   "source": [
    "#### Add label column"
   ]
  },
  {
   "cell_type": "markdown",
   "metadata": {},
   "source": [
    "Sentences with evidence of social will later be merged with more general sentences that can be commonly found in research documents. By the time the merge occurs, social impact sentences need to be distinguised from the more general sentences. Therefore, a the new column **`label`** is created in the impact dataset to tag with 1 all sentences that contain evidence of social impact.  "
   ]
  },
  {
   "cell_type": "code",
   "execution_count": 5,
   "metadata": {},
   "outputs": [],
   "source": [
    "impact_sentences['label'] = 1"
   ]
  },
  {
   "cell_type": "code",
   "execution_count": 6,
   "metadata": {},
   "outputs": [
    {
     "name": "stdout",
     "output_type": "stream",
     "text": [
      "The dataset contains 2373 rows and 2 columns\n"
     ]
    }
   ],
   "source": [
    "nrows = impact_sentences.shape[0]\n",
    "ncols = impact_sentences.shape[1]\n",
    "print(f\"The dataset contains {nrows} rows and {ncols} columns\")"
   ]
  },
  {
   "cell_type": "markdown",
   "metadata": {},
   "source": [
    "Let's show an sample of impact sentences together with the newly created column label."
   ]
  },
  {
   "cell_type": "code",
   "execution_count": 7,
   "metadata": {},
   "outputs": [
    {
     "data": {
      "text/html": [
       "<div>\n",
       "<style scoped>\n",
       "    .dataframe tbody tr th:only-of-type {\n",
       "        vertical-align: middle;\n",
       "    }\n",
       "\n",
       "    .dataframe tbody tr th {\n",
       "        vertical-align: top;\n",
       "    }\n",
       "\n",
       "    .dataframe thead th {\n",
       "        text-align: right;\n",
       "    }\n",
       "</style>\n",
       "<table border=\"1\" class=\"dataframe\">\n",
       "  <thead>\n",
       "    <tr style=\"text-align: right;\">\n",
       "      <th></th>\n",
       "      <th>sentence</th>\n",
       "      <th>label</th>\n",
       "    </tr>\n",
       "  </thead>\n",
       "  <tbody>\n",
       "    <tr>\n",
       "      <th>0</th>\n",
       "      <td>The Guide to Receptors and Channels has contri...</td>\n",
       "      <td>1</td>\n",
       "    </tr>\n",
       "    <tr>\n",
       "      <th>1</th>\n",
       "      <td>The key tools it provides have influenced appr...</td>\n",
       "      <td>1</td>\n",
       "    </tr>\n",
       "    <tr>\n",
       "      <th>2</th>\n",
       "      <td>It is used widely as a teaching aid for underg...</td>\n",
       "      <td>1</td>\n",
       "    </tr>\n",
       "    <tr>\n",
       "      <th>3</th>\n",
       "      <td>It led to the formation of the Guide to Pharma...</td>\n",
       "      <td>1</td>\n",
       "    </tr>\n",
       "    <tr>\n",
       "      <th>4</th>\n",
       "      <td>The Cardiff Osteological Research Group CORG h...</td>\n",
       "      <td>1</td>\n",
       "    </tr>\n",
       "  </tbody>\n",
       "</table>\n",
       "</div>"
      ],
      "text/plain": [
       "                                            sentence  label\n",
       "0  The Guide to Receptors and Channels has contri...      1\n",
       "1  The key tools it provides have influenced appr...      1\n",
       "2  It is used widely as a teaching aid for underg...      1\n",
       "3  It led to the formation of the Guide to Pharma...      1\n",
       "4  The Cardiff Osteological Research Group CORG h...      1"
      ]
     },
     "execution_count": 7,
     "metadata": {},
     "output_type": "execute_result"
    }
   ],
   "source": [
    "impact_sentences.head()"
   ]
  },
  {
   "cell_type": "markdown",
   "metadata": {},
   "source": [
    "### General sentences"
   ]
  },
  {
   "cell_type": "markdown",
   "metadata": {},
   "source": [
    "Load dataset containing sentences that are commonly found in medical and bioinformatics research documents. The process followed to build the dataset of general sentences is described in the section *Collection of medical and biological sentences* of the notebook **`0.dataset_preparation.ipynb`**."
   ]
  },
  {
   "cell_type": "code",
   "execution_count": 8,
   "metadata": {},
   "outputs": [],
   "source": [
    "gral_sentences = pd.read_csv(\"data/sentences/gral_sentences_3000.csv\", index_col=0)"
   ]
  },
  {
   "cell_type": "markdown",
   "metadata": {},
   "source": [
    "#### Clean sentences"
   ]
  },
  {
   "cell_type": "code",
   "execution_count": 9,
   "metadata": {},
   "outputs": [],
   "source": [
    "gral_sentences['sentence'] = gral_sentences['sentence'].apply(lambda x: clean_sentence(x))"
   ]
  },
  {
   "cell_type": "markdown",
   "metadata": {},
   "source": [
    "#### Add label column"
   ]
  },
  {
   "cell_type": "markdown",
   "metadata": {},
   "source": [
    "As in the case of the dataset of impact sentences, here a column **`label`** is also created to tag with 0 all general sentences."
   ]
  },
  {
   "cell_type": "code",
   "execution_count": 10,
   "metadata": {},
   "outputs": [],
   "source": [
    "gral_sentences['label'] = 0"
   ]
  },
  {
   "cell_type": "code",
   "execution_count": 11,
   "metadata": {},
   "outputs": [
    {
     "name": "stdout",
     "output_type": "stream",
     "text": [
      "The dataset contains 3000 rows and 2 columns\n"
     ]
    }
   ],
   "source": [
    "nrows = gral_sentences.shape[0]\n",
    "ncols = gral_sentences.shape[1]\n",
    "print(f\"The dataset contains {nrows} rows and {ncols} columns\")"
   ]
  },
  {
   "cell_type": "markdown",
   "metadata": {},
   "source": [
    "Let's show a sample of the dateset"
   ]
  },
  {
   "cell_type": "code",
   "execution_count": 12,
   "metadata": {},
   "outputs": [
    {
     "data": {
      "text/html": [
       "<div>\n",
       "<style scoped>\n",
       "    .dataframe tbody tr th:only-of-type {\n",
       "        vertical-align: middle;\n",
       "    }\n",
       "\n",
       "    .dataframe tbody tr th {\n",
       "        vertical-align: top;\n",
       "    }\n",
       "\n",
       "    .dataframe thead th {\n",
       "        text-align: right;\n",
       "    }\n",
       "</style>\n",
       "<table border=\"1\" class=\"dataframe\">\n",
       "  <thead>\n",
       "    <tr style=\"text-align: right;\">\n",
       "      <th></th>\n",
       "      <th>sentence</th>\n",
       "      <th>label</th>\n",
       "    </tr>\n",
       "  </thead>\n",
       "  <tbody>\n",
       "    <tr>\n",
       "      <th>0</th>\n",
       "      <td>Tumor and patient characteristics are summariz...</td>\n",
       "      <td>0</td>\n",
       "    </tr>\n",
       "    <tr>\n",
       "      <th>1</th>\n",
       "      <td>The execution run for days to complete and the...</td>\n",
       "      <td>0</td>\n",
       "    </tr>\n",
       "    <tr>\n",
       "      <th>2</th>\n",
       "      <td>Actually a recent study indicated that over ex...</td>\n",
       "      <td>0</td>\n",
       "    </tr>\n",
       "    <tr>\n",
       "      <th>3</th>\n",
       "      <td>The motivation is we need to address the compo...</td>\n",
       "      <td>0</td>\n",
       "    </tr>\n",
       "    <tr>\n",
       "      <th>4</th>\n",
       "      <td>However based on measurements of estradiol lev...</td>\n",
       "      <td>0</td>\n",
       "    </tr>\n",
       "  </tbody>\n",
       "</table>\n",
       "</div>"
      ],
      "text/plain": [
       "                                            sentence  label\n",
       "0  Tumor and patient characteristics are summariz...      0\n",
       "1  The execution run for days to complete and the...      0\n",
       "2  Actually a recent study indicated that over ex...      0\n",
       "3  The motivation is we need to address the compo...      0\n",
       "4  However based on measurements of estradiol lev...      0"
      ]
     },
     "execution_count": 12,
     "metadata": {},
     "output_type": "execute_result"
    }
   ],
   "source": [
    "gral_sentences.head()"
   ]
  },
  {
   "cell_type": "markdown",
   "metadata": {},
   "source": [
    "### Merge datasets"
   ]
  },
  {
   "cell_type": "markdown",
   "metadata": {},
   "source": [
    "Merge both datasets, the general and impact one."
   ]
  },
  {
   "cell_type": "code",
   "execution_count": 13,
   "metadata": {},
   "outputs": [],
   "source": [
    "total_sentences = pd.concat([impact_sentences, gral_sentences], ignore_index=True)"
   ]
  },
  {
   "cell_type": "code",
   "execution_count": 14,
   "metadata": {},
   "outputs": [
    {
     "name": "stdout",
     "output_type": "stream",
     "text": [
      "The combined dataset contains 5373 rows and 2 columns\n"
     ]
    }
   ],
   "source": [
    "nrows = total_sentences.shape[0]\n",
    "ncols = total_sentences.shape[1]\n",
    "print(f\"The combined dataset contains {nrows} rows and {ncols} columns\")"
   ]
  },
  {
   "cell_type": "markdown",
   "metadata": {},
   "source": [
    "## Explore data"
   ]
  },
  {
   "cell_type": "markdown",
   "metadata": {},
   "source": [
    "Next, the dataset is explored by, first, computing the most frequent terms in sentences that contain evidence of social impact and, then, by calculating the most frequent term in general sentences."
   ]
  },
  {
   "cell_type": "code",
   "execution_count": 15,
   "metadata": {},
   "outputs": [],
   "source": [
    "word_black_list = ['research', 'uk']  # let's add context specify words that will be filtered before computing frequencies\n",
    "max_items_to_show = 30"
   ]
  },
  {
   "cell_type": "markdown",
   "metadata": {},
   "source": [
    "### Most frequent terms in social impact sentences"
   ]
  },
  {
   "cell_type": "markdown",
   "metadata": {},
   "source": [
    "Inspect the most used terms used in sentences that express evidence of social impact"
   ]
  },
  {
   "cell_type": "code",
   "execution_count": 15,
   "metadata": {},
   "outputs": [],
   "source": [
    "si_sentences = total_sentences[total_sentences['label']==1]['sentence']\n",
    "si_words = []\n",
    "for si_sentence in si_sentences:\n",
    "    for word in si_sentence.split():\n",
    "        if len(word) > 2 and word not in word_black_list and word not in stopwords.words('english'):\n",
    "            si_words.append(word)\n",
    "fdist = FreqDist(si_words)\n",
    "freq_words_df = pd.DataFrame(fdist.items(), columns=['word', 'frequency'])"
   ]
  },
  {
   "cell_type": "code",
   "execution_count": 16,
   "metadata": {},
   "outputs": [],
   "source": [
    "freq_words_df.sort_values(by='frequency', ascending=False, inplace=True)"
   ]
  },
  {
   "cell_type": "code",
   "execution_count": 17,
   "metadata": {},
   "outputs": [
    {
     "data": {
      "image/png": "[encoded data removed]",
      "text/plain": [
       "<Figure size 936x576 with 1 Axes>"
      ]
     },
     "metadata": {
      "needs_background": "light"
     },
     "output_type": "display_data"
    }
   ],
   "source": [
    "freq_words_df.iloc[0:max_items_to_show,:].plot(x='word', y='frequency', kind='bar', figsize=(13,8))\n",
    "plt.xticks(rotation=90)\n",
    "plt.xlabel(\"Term\", size=13)\n",
    "plt.ylabel(\"Frequency\", size=13)\n",
    "plt.xticks(size=12)\n",
    "plt.yticks(size=12)\n",
    "plt.show()"
   ]
  },
  {
   "cell_type": "markdown",
   "metadata": {},
   "source": [
    "### Most frequent terms in general sentences"
   ]
  },
  {
   "cell_type": "markdown",
   "metadata": {},
   "source": [
    "Inspect the most used terms in sentences that do not neccesarily contain evidence of social impact"
   ]
  },
  {
   "cell_type": "code",
   "execution_count": 18,
   "metadata": {},
   "outputs": [],
   "source": [
    "n_si_sentences = total_sentences[total_sentences['label']==0]['sentence']\n",
    "n_fdist = FreqDist(word for n_si_sentence in n_si_sentences \n",
    "                        for word in n_si_sentence.split() if len(word) > 2 and word not in stopwords.words('english') and word not in word_black_list)\n",
    "n_freq_words_df = pd.DataFrame(n_fdist.items(), columns=['word', 'frequency'])"
   ]
  },
  {
   "cell_type": "code",
   "execution_count": 19,
   "metadata": {},
   "outputs": [],
   "source": [
    "n_freq_words_df.sort_values(by='frequency', ascending=False, inplace=True)"
   ]
  },
  {
   "cell_type": "code",
   "execution_count": 20,
   "metadata": {},
   "outputs": [
    {
     "data": {
      "image/png": "[encoded data removed]",
      "text/plain": [
       "<Figure size 936x576 with 1 Axes>"
      ]
     },
     "metadata": {
      "needs_background": "light"
     },
     "output_type": "display_data"
    }
   ],
   "source": [
    "n_freq_words_df.iloc[0:max_items_to_show,:].plot(x='word', y='frequency', kind='bar', figsize=(13,8))\n",
    "plt.xticks(rotation=90)\n",
    "plt.xlabel(\"Term\", size=13)\n",
    "plt.ylabel(\"Frequency\", size=13)\n",
    "plt.xticks(size=12)\n",
    "plt.yticks(size=12)\n",
    "plt.show()"
   ]
  },
  {
   "cell_type": "markdown",
   "metadata": {},
   "source": [
    "From the figures above it can be seen there is little overlap between the most frequent terms in sentences with evidence of social impact (e.g., public policy, health, national, development) and the most frequent terms in the general sentences, which, as expected, are more related with medical and biological terminologies, such as cancer, cells, patients, tumor, or therapy. The low interception between the most frequent terms in the two datasets demonstrates the potential of the data to train machine learning classifier. "
   ]
  },
  {
   "cell_type": "markdown",
   "metadata": {},
   "source": [
    "## Augment data with additional text-based features"
   ]
  },
  {
   "cell_type": "markdown",
   "metadata": {},
   "source": [
    "Augment data of sentences with the following text-based extra features:\n",
    "1. **Word count of sentences**: total number of words in sentences\n",
    "2. **Character count of sentences**: total number of characters in sentences\n",
    "3. **Average word density of sentences**: average length of words in sentences\n",
    "4. **Upper case count in sentences**: total number of upper count words in sentences\n",
    "5. **Title word count in sentences**: total number of title case words in sentences"
   ]
  },
  {
   "cell_type": "code",
   "execution_count": 16,
   "metadata": {},
   "outputs": [],
   "source": [
    "total_sentences['char_count'] = total_sentences['sentence'].apply(len)\n",
    "total_sentences['word_count'] = total_sentences['sentence'].apply(lambda x: len(x.split()))\n",
    "total_sentences['word_density'] = total_sentences['char_count'] / (total_sentences['word_count']+1)\n",
    "total_sentences['upper_case_word_count'] = total_sentences['sentence'].apply(lambda x: len([wrd for wrd in x.split() if wrd.isupper()]))\n",
    "total_sentences['title_word_count'] = total_sentences['sentence'].apply(lambda x: len([wrd for wrd in x.split() if wrd.istitle()]))"
   ]
  },
  {
   "cell_type": "markdown",
   "metadata": {},
   "source": [
    "Also, we add frequency distribution of part-of-speech tags"
   ]
  },
  {
   "cell_type": "code",
   "execution_count": 17,
   "metadata": {},
   "outputs": [
    {
     "name": "stdout",
     "output_type": "stream",
     "text": [
      "CPU times: user 44.3 s, sys: 375 ms, total: 44.6 s\n",
      "Wall time: 44.6 s\n"
     ]
    }
   ],
   "source": [
    "%%time\n",
    "total_sentences['noun_count'] = total_sentences['sentence'].apply(lambda x: count_pos_tag(x, 'noun'))\n",
    "total_sentences['verb_count'] = total_sentences['sentence'].apply(lambda x: count_pos_tag(x, 'verb'))\n",
    "total_sentences['adj_count'] = total_sentences['sentence'].apply(lambda x: count_pos_tag(x, 'adj'))\n",
    "total_sentences['adv_count'] = total_sentences['sentence'].apply(lambda x: count_pos_tag(x, 'adv'))\n",
    "total_sentences['pron_count'] = total_sentences['sentence'].apply(lambda x: count_pos_tag(x, 'pron'))"
   ]
  },
  {
   "cell_type": "code",
   "execution_count": 18,
   "metadata": {},
   "outputs": [
    {
     "data": {
      "text/html": [
       "<div>\n",
       "<style scoped>\n",
       "    .dataframe tbody tr th:only-of-type {\n",
       "        vertical-align: middle;\n",
       "    }\n",
       "\n",
       "    .dataframe tbody tr th {\n",
       "        vertical-align: top;\n",
       "    }\n",
       "\n",
       "    .dataframe thead th {\n",
       "        text-align: right;\n",
       "    }\n",
       "</style>\n",
       "<table border=\"1\" class=\"dataframe\">\n",
       "  <thead>\n",
       "    <tr style=\"text-align: right;\">\n",
       "      <th></th>\n",
       "      <th>sentence</th>\n",
       "      <th>label</th>\n",
       "      <th>char_count</th>\n",
       "      <th>word_count</th>\n",
       "      <th>word_density</th>\n",
       "      <th>upper_case_word_count</th>\n",
       "      <th>title_word_count</th>\n",
       "      <th>noun_count</th>\n",
       "      <th>verb_count</th>\n",
       "      <th>adj_count</th>\n",
       "      <th>adv_count</th>\n",
       "      <th>pron_count</th>\n",
       "    </tr>\n",
       "  </thead>\n",
       "  <tbody>\n",
       "    <tr>\n",
       "      <th>0</th>\n",
       "      <td>The Guide to Receptors and Channels has contri...</td>\n",
       "      <td>1</td>\n",
       "      <td>137</td>\n",
       "      <td>19</td>\n",
       "      <td>6.850000</td>\n",
       "      <td>0</td>\n",
       "      <td>4</td>\n",
       "      <td>7</td>\n",
       "      <td>2</td>\n",
       "      <td>1</td>\n",
       "      <td>0</td>\n",
       "      <td>0</td>\n",
       "    </tr>\n",
       "    <tr>\n",
       "      <th>1</th>\n",
       "      <td>The key tools it provides have influenced appr...</td>\n",
       "      <td>1</td>\n",
       "      <td>215</td>\n",
       "      <td>34</td>\n",
       "      <td>6.142857</td>\n",
       "      <td>0</td>\n",
       "      <td>3</td>\n",
       "      <td>9</td>\n",
       "      <td>7</td>\n",
       "      <td>4</td>\n",
       "      <td>0</td>\n",
       "      <td>0</td>\n",
       "    </tr>\n",
       "    <tr>\n",
       "      <th>2</th>\n",
       "      <td>It is used widely as a teaching aid for underg...</td>\n",
       "      <td>1</td>\n",
       "      <td>167</td>\n",
       "      <td>25</td>\n",
       "      <td>6.423077</td>\n",
       "      <td>0</td>\n",
       "      <td>1</td>\n",
       "      <td>10</td>\n",
       "      <td>3</td>\n",
       "      <td>2</td>\n",
       "      <td>1</td>\n",
       "      <td>0</td>\n",
       "    </tr>\n",
       "    <tr>\n",
       "      <th>3</th>\n",
       "      <td>It led to the formation of the Guide to Pharma...</td>\n",
       "      <td>1</td>\n",
       "      <td>141</td>\n",
       "      <td>22</td>\n",
       "      <td>6.130435</td>\n",
       "      <td>0</td>\n",
       "      <td>8</td>\n",
       "      <td>10</td>\n",
       "      <td>1</td>\n",
       "      <td>0</td>\n",
       "      <td>0</td>\n",
       "      <td>0</td>\n",
       "    </tr>\n",
       "    <tr>\n",
       "      <th>4</th>\n",
       "      <td>The Cardiff Osteological Research Group CORG h...</td>\n",
       "      <td>1</td>\n",
       "      <td>144</td>\n",
       "      <td>20</td>\n",
       "      <td>6.857143</td>\n",
       "      <td>1</td>\n",
       "      <td>7</td>\n",
       "      <td>10</td>\n",
       "      <td>2</td>\n",
       "      <td>1</td>\n",
       "      <td>0</td>\n",
       "      <td>0</td>\n",
       "    </tr>\n",
       "  </tbody>\n",
       "</table>\n",
       "</div>"
      ],
      "text/plain": [
       "                                            sentence  label  char_count  \\\n",
       "0  The Guide to Receptors and Channels has contri...      1         137   \n",
       "1  The key tools it provides have influenced appr...      1         215   \n",
       "2  It is used widely as a teaching aid for underg...      1         167   \n",
       "3  It led to the formation of the Guide to Pharma...      1         141   \n",
       "4  The Cardiff Osteological Research Group CORG h...      1         144   \n",
       "\n",
       "   word_count  word_density  upper_case_word_count  title_word_count  \\\n",
       "0          19      6.850000                      0                 4   \n",
       "1          34      6.142857                      0                 3   \n",
       "2          25      6.423077                      0                 1   \n",
       "3          22      6.130435                      0                 8   \n",
       "4          20      6.857143                      1                 7   \n",
       "\n",
       "   noun_count  verb_count  adj_count  adv_count  pron_count  \n",
       "0           7           2          1          0           0  \n",
       "1           9           7          4          0           0  \n",
       "2          10           3          2          1           0  \n",
       "3          10           1          0          0           0  \n",
       "4          10           2          1          0           0  "
      ]
     },
     "execution_count": 18,
     "metadata": {},
     "output_type": "execute_result"
    }
   ],
   "source": [
    "total_sentences.head()"
   ]
  },
  {
   "cell_type": "markdown",
   "metadata": {},
   "source": [
    "## Augment data with sentiment analysis"
   ]
  },
  {
   "cell_type": "markdown",
   "metadata": {},
   "source": [
    "Include sentiment score of sentences as an additional feature. Sentences with evidence of social impact are expected to have a more positive attitude than general sentences."
   ]
  },
  {
   "cell_type": "code",
   "execution_count": 19,
   "metadata": {},
   "outputs": [],
   "source": [
    "total_sentences['sentiment_score'] = total_sentences['sentence'].apply(lambda x: analyze_sentiment(x))"
   ]
  },
  {
   "cell_type": "code",
   "execution_count": 20,
   "metadata": {},
   "outputs": [
    {
     "data": {
      "text/html": [
       "<div>\n",
       "<style scoped>\n",
       "    .dataframe tbody tr th:only-of-type {\n",
       "        vertical-align: middle;\n",
       "    }\n",
       "\n",
       "    .dataframe tbody tr th {\n",
       "        vertical-align: top;\n",
       "    }\n",
       "\n",
       "    .dataframe thead th {\n",
       "        text-align: right;\n",
       "    }\n",
       "</style>\n",
       "<table border=\"1\" class=\"dataframe\">\n",
       "  <thead>\n",
       "    <tr style=\"text-align: right;\">\n",
       "      <th></th>\n",
       "      <th>sentence</th>\n",
       "      <th>label</th>\n",
       "      <th>char_count</th>\n",
       "      <th>word_count</th>\n",
       "      <th>word_density</th>\n",
       "      <th>upper_case_word_count</th>\n",
       "      <th>title_word_count</th>\n",
       "      <th>noun_count</th>\n",
       "      <th>verb_count</th>\n",
       "      <th>adj_count</th>\n",
       "      <th>adv_count</th>\n",
       "      <th>pron_count</th>\n",
       "      <th>sentiment_score</th>\n",
       "    </tr>\n",
       "  </thead>\n",
       "  <tbody>\n",
       "    <tr>\n",
       "      <th>0</th>\n",
       "      <td>The Guide to Receptors and Channels has contri...</td>\n",
       "      <td>1</td>\n",
       "      <td>137</td>\n",
       "      <td>19</td>\n",
       "      <td>6.850000</td>\n",
       "      <td>0</td>\n",
       "      <td>4</td>\n",
       "      <td>7</td>\n",
       "      <td>2</td>\n",
       "      <td>1</td>\n",
       "      <td>0</td>\n",
       "      <td>0</td>\n",
       "      <td>0.5106</td>\n",
       "    </tr>\n",
       "    <tr>\n",
       "      <th>1</th>\n",
       "      <td>The key tools it provides have influenced appr...</td>\n",
       "      <td>1</td>\n",
       "      <td>215</td>\n",
       "      <td>34</td>\n",
       "      <td>6.142857</td>\n",
       "      <td>0</td>\n",
       "      <td>3</td>\n",
       "      <td>9</td>\n",
       "      <td>7</td>\n",
       "      <td>4</td>\n",
       "      <td>0</td>\n",
       "      <td>0</td>\n",
       "      <td>0.8481</td>\n",
       "    </tr>\n",
       "    <tr>\n",
       "      <th>2</th>\n",
       "      <td>It is used widely as a teaching aid for underg...</td>\n",
       "      <td>1</td>\n",
       "      <td>167</td>\n",
       "      <td>25</td>\n",
       "      <td>6.423077</td>\n",
       "      <td>0</td>\n",
       "      <td>1</td>\n",
       "      <td>10</td>\n",
       "      <td>3</td>\n",
       "      <td>2</td>\n",
       "      <td>1</td>\n",
       "      <td>0</td>\n",
       "      <td>0.0000</td>\n",
       "    </tr>\n",
       "    <tr>\n",
       "      <th>3</th>\n",
       "      <td>It led to the formation of the Guide to Pharma...</td>\n",
       "      <td>1</td>\n",
       "      <td>141</td>\n",
       "      <td>22</td>\n",
       "      <td>6.130435</td>\n",
       "      <td>0</td>\n",
       "      <td>8</td>\n",
       "      <td>10</td>\n",
       "      <td>1</td>\n",
       "      <td>0</td>\n",
       "      <td>0</td>\n",
       "      <td>0</td>\n",
       "      <td>0.0000</td>\n",
       "    </tr>\n",
       "    <tr>\n",
       "      <th>4</th>\n",
       "      <td>The Cardiff Osteological Research Group CORG h...</td>\n",
       "      <td>1</td>\n",
       "      <td>144</td>\n",
       "      <td>20</td>\n",
       "      <td>6.857143</td>\n",
       "      <td>1</td>\n",
       "      <td>7</td>\n",
       "      <td>10</td>\n",
       "      <td>2</td>\n",
       "      <td>1</td>\n",
       "      <td>0</td>\n",
       "      <td>0</td>\n",
       "      <td>0.0000</td>\n",
       "    </tr>\n",
       "  </tbody>\n",
       "</table>\n",
       "</div>"
      ],
      "text/plain": [
       "                                            sentence  label  char_count  \\\n",
       "0  The Guide to Receptors and Channels has contri...      1         137   \n",
       "1  The key tools it provides have influenced appr...      1         215   \n",
       "2  It is used widely as a teaching aid for underg...      1         167   \n",
       "3  It led to the formation of the Guide to Pharma...      1         141   \n",
       "4  The Cardiff Osteological Research Group CORG h...      1         144   \n",
       "\n",
       "   word_count  word_density  upper_case_word_count  title_word_count  \\\n",
       "0          19      6.850000                      0                 4   \n",
       "1          34      6.142857                      0                 3   \n",
       "2          25      6.423077                      0                 1   \n",
       "3          22      6.130435                      0                 8   \n",
       "4          20      6.857143                      1                 7   \n",
       "\n",
       "   noun_count  verb_count  adj_count  adv_count  pron_count  sentiment_score  \n",
       "0           7           2          1          0           0           0.5106  \n",
       "1           9           7          4          0           0           0.8481  \n",
       "2          10           3          2          1           0           0.0000  \n",
       "3          10           1          0          0           0           0.0000  \n",
       "4          10           2          1          0           0           0.0000  "
      ]
     },
     "execution_count": 20,
     "metadata": {},
     "output_type": "execute_result"
    }
   ],
   "source": [
    "total_sentences.head()"
   ]
  },
  {
   "cell_type": "markdown",
   "metadata": {},
   "source": [
    "Print out mean sentiment scores of both sentences with evidence of social impact (1) and general sentences (0)."
   ]
  },
  {
   "cell_type": "code",
   "execution_count": 21,
   "metadata": {},
   "outputs": [
    {
     "data": {
      "text/plain": [
       "label\n",
       "0   -0.059345\n",
       "1    0.215310\n",
       "Name: sentiment_score, dtype: float64"
      ]
     },
     "execution_count": 21,
     "metadata": {},
     "output_type": "execute_result"
    }
   ],
   "source": [
    "total_sentences.groupby(['label'])['sentiment_score'].mean()"
   ]
  },
  {
   "cell_type": "markdown",
   "metadata": {},
   "source": [
    "## Split dataset in train and test"
   ]
  },
  {
   "cell_type": "code",
   "execution_count": 22,
   "metadata": {},
   "outputs": [],
   "source": [
    "features, labels = pd.concat([total_sentences['sentence'], total_sentences.iloc[:,2:]], axis=1), total_sentences['label']\n",
    "random_state = np.random.RandomState(1234)  # set a random seed for reproducibility purposes\n",
    "X_train, X_test, y_train, y_test = train_test_split(features, labels, test_size=0.20, random_state=random_state)"
   ]
  },
  {
   "cell_type": "code",
   "execution_count": 23,
   "metadata": {},
   "outputs": [
    {
     "data": {
      "text/html": [
       "<div>\n",
       "<style scoped>\n",
       "    .dataframe tbody tr th:only-of-type {\n",
       "        vertical-align: middle;\n",
       "    }\n",
       "\n",
       "    .dataframe tbody tr th {\n",
       "        vertical-align: top;\n",
       "    }\n",
       "\n",
       "    .dataframe thead th {\n",
       "        text-align: right;\n",
       "    }\n",
       "</style>\n",
       "<table border=\"1\" class=\"dataframe\">\n",
       "  <thead>\n",
       "    <tr style=\"text-align: right;\">\n",
       "      <th></th>\n",
       "      <th>sentence</th>\n",
       "      <th>char_count</th>\n",
       "      <th>word_count</th>\n",
       "      <th>word_density</th>\n",
       "      <th>upper_case_word_count</th>\n",
       "      <th>title_word_count</th>\n",
       "      <th>noun_count</th>\n",
       "      <th>verb_count</th>\n",
       "      <th>adj_count</th>\n",
       "      <th>adv_count</th>\n",
       "      <th>pron_count</th>\n",
       "      <th>sentiment_score</th>\n",
       "    </tr>\n",
       "  </thead>\n",
       "  <tbody>\n",
       "    <tr>\n",
       "      <th>4350</th>\n",
       "      <td>D Disease free survival analysis in the high M...</td>\n",
       "      <td>136</td>\n",
       "      <td>25</td>\n",
       "      <td>5.230769</td>\n",
       "      <td>3</td>\n",
       "      <td>3</td>\n",
       "      <td>12</td>\n",
       "      <td>2</td>\n",
       "      <td>4</td>\n",
       "      <td>0</td>\n",
       "      <td>0</td>\n",
       "      <td>0.2960</td>\n",
       "    </tr>\n",
       "    <tr>\n",
       "      <th>202</th>\n",
       "      <td>The international work has contributed to redu...</td>\n",
       "      <td>171</td>\n",
       "      <td>25</td>\n",
       "      <td>6.576923</td>\n",
       "      <td>0</td>\n",
       "      <td>1</td>\n",
       "      <td>7</td>\n",
       "      <td>7</td>\n",
       "      <td>3</td>\n",
       "      <td>0</td>\n",
       "      <td>0</td>\n",
       "      <td>0.4939</td>\n",
       "    </tr>\n",
       "    <tr>\n",
       "      <th>4765</th>\n",
       "      <td>These possible mechanisms include antioxidant ...</td>\n",
       "      <td>224</td>\n",
       "      <td>28</td>\n",
       "      <td>7.724138</td>\n",
       "      <td>1</td>\n",
       "      <td>1</td>\n",
       "      <td>14</td>\n",
       "      <td>3</td>\n",
       "      <td>3</td>\n",
       "      <td>0</td>\n",
       "      <td>0</td>\n",
       "      <td>-0.5994</td>\n",
       "    </tr>\n",
       "    <tr>\n",
       "      <th>4540</th>\n",
       "      <td>Price unit Total costs p a</td>\n",
       "      <td>26</td>\n",
       "      <td>6</td>\n",
       "      <td>3.714286</td>\n",
       "      <td>0</td>\n",
       "      <td>2</td>\n",
       "      <td>3</td>\n",
       "      <td>1</td>\n",
       "      <td>1</td>\n",
       "      <td>0</td>\n",
       "      <td>0</td>\n",
       "      <td>0.0000</td>\n",
       "    </tr>\n",
       "    <tr>\n",
       "      <th>426</th>\n",
       "      <td>This includes an innovative method of assessme...</td>\n",
       "      <td>149</td>\n",
       "      <td>24</td>\n",
       "      <td>5.960000</td>\n",
       "      <td>0</td>\n",
       "      <td>7</td>\n",
       "      <td>10</td>\n",
       "      <td>2</td>\n",
       "      <td>3</td>\n",
       "      <td>0</td>\n",
       "      <td>0</td>\n",
       "      <td>0.7506</td>\n",
       "    </tr>\n",
       "  </tbody>\n",
       "</table>\n",
       "</div>"
      ],
      "text/plain": [
       "                                               sentence  char_count  \\\n",
       "4350  D Disease free survival analysis in the high M...         136   \n",
       "202   The international work has contributed to redu...         171   \n",
       "4765  These possible mechanisms include antioxidant ...         224   \n",
       "4540                         Price unit Total costs p a          26   \n",
       "426   This includes an innovative method of assessme...         149   \n",
       "\n",
       "      word_count  word_density  upper_case_word_count  title_word_count  \\\n",
       "4350          25      5.230769                      3                 3   \n",
       "202           25      6.576923                      0                 1   \n",
       "4765          28      7.724138                      1                 1   \n",
       "4540           6      3.714286                      0                 2   \n",
       "426           24      5.960000                      0                 7   \n",
       "\n",
       "      noun_count  verb_count  adj_count  adv_count  pron_count  \\\n",
       "4350          12           2          4          0           0   \n",
       "202            7           7          3          0           0   \n",
       "4765          14           3          3          0           0   \n",
       "4540           3           1          1          0           0   \n",
       "426           10           2          3          0           0   \n",
       "\n",
       "      sentiment_score  \n",
       "4350           0.2960  \n",
       "202            0.4939  \n",
       "4765          -0.5994  \n",
       "4540           0.0000  \n",
       "426            0.7506  "
      ]
     },
     "execution_count": 23,
     "metadata": {},
     "output_type": "execute_result"
    }
   ],
   "source": [
    "X_train.head()"
   ]
  },
  {
   "cell_type": "markdown",
   "metadata": {},
   "source": [
    "## Prepare sentences"
   ]
  },
  {
   "cell_type": "markdown",
   "metadata": {},
   "source": [
    "Data will be prepared using the following combinations of the text processing tasks defined in `sentence_to_words`:\n",
    "1. Sentence is tokenized and stop words as well as HTML elements are removed. Stemming is also applied;\n",
    "2. Sentence is tokenized, stop words and HTML elements are removed and stemming and lemmatization are applied.\n"
   ]
  },
  {
   "cell_type": "code",
   "execution_count": 24,
   "metadata": {},
   "outputs": [],
   "source": [
    "context_words = ['reseach', 'uk']"
   ]
  },
  {
   "cell_type": "code",
   "execution_count": 25,
   "metadata": {},
   "outputs": [
    {
     "name": "stdout",
     "output_type": "stream",
     "text": [
      "CPU times: user 11.4 s, sys: 333 ms, total: 11.7 s\n",
      "Wall time: 11.7 s\n"
     ]
    }
   ],
   "source": [
    "%%time\n",
    "X_train_clean = [sentence_to_words(sentence, context_words) for sentence in X_train['sentence']]\n",
    "X_train_clean_with_lemmatization = [sentence_to_words(sentence, context_words, lemmatization=True) for sentence in X_train['sentence']]\n",
    "X_test_clean = [sentence_to_words(sentence, context_words) for sentence in X_test['sentence']]\n",
    "X_test_clean_with_lemmatization = [sentence_to_words(sentence, context_words, lemmatization=True) for sentence in X_test['sentence']]"
   ]
  },
  {
   "cell_type": "markdown",
   "metadata": {},
   "source": [
    "Save preprocess text into a dictionary to avoid carrying around the recently create variables"
   ]
  },
  {
   "cell_type": "code",
   "execution_count": 26,
   "metadata": {},
   "outputs": [],
   "source": [
    "preprocess_text = {\n",
    "    'clean': {'train': {'X_train': X_train_clean, 'y_train': y_train, 'extra_features': X_train.iloc[:,1:]},\n",
    "              'test': {'X_test': X_test_clean, 'y_test': y_test, 'extra_features': X_test.iloc[:,1:]}},\n",
    "    'clean_lemmatization': {'train': {'X_train': X_train_clean_with_lemmatization, 'y_train': y_train, 'extra_features': X_train.iloc[:,1:]},\n",
    "                            'test': {'X_test': X_test_clean_with_lemmatization, 'y_test': y_test, 'extra_features': X_test.iloc[:,1:]}}\n",
    "}"
   ]
  },
  {
   "cell_type": "markdown",
   "metadata": {},
   "source": [
    "Check a sample of the preprocess data"
   ]
  },
  {
   "cell_type": "code",
   "execution_count": 27,
   "metadata": {},
   "outputs": [
    {
     "data": {
      "text/plain": [
       "['diseas',\n",
       " 'free',\n",
       " 'surviv',\n",
       " 'analysi',\n",
       " 'high',\n",
       " 'mcl',\n",
       " 'low',\n",
       " 'mcl',\n",
       " 'group',\n",
       " 'use',\n",
       " 'microarray',\n",
       " 'data',\n",
       " 'collect',\n",
       " 'studi',\n",
       " 'desmedt',\n",
       " 'et',\n",
       " 'al']"
      ]
     },
     "execution_count": 27,
     "metadata": {},
     "output_type": "execute_result"
    }
   ],
   "source": [
    "preprocess_text['clean']['train']['X_train'][0]"
   ]
  },
  {
   "cell_type": "markdown",
   "metadata": {},
   "source": [
    "### Transform to Bag-of-Words Representation"
   ]
  },
  {
   "cell_type": "markdown",
   "metadata": {},
   "source": [
    "Previously processed sentences are transformed here to a bag-of-words representation."
   ]
  },
  {
   "cell_type": "markdown",
   "metadata": {},
   "source": [
    "Define transformation conditions"
   ]
  },
  {
   "cell_type": "code",
   "execution_count": 28,
   "metadata": {},
   "outputs": [],
   "source": [
    "transformations = ['tc', 'tfidf']\n",
    "max_features=[500, 800, 1000, 2000, 5000, 10000]\n",
    "ngram_ranges=[(1,1),(1,2),(1,3)]\n",
    "total_cycles = len(transformations)*len(max_features)*len(ngram_ranges)*len(preprocess_text)"
   ]
  },
  {
   "cell_type": "code",
   "execution_count": 29,
   "metadata": {},
   "outputs": [],
   "source": [
    "transformed_txts = []"
   ]
  },
  {
   "cell_type": "code",
   "execution_count": 30,
   "metadata": {},
   "outputs": [
    {
     "name": "stdout",
     "output_type": "stream",
     "text": [
      "100%|██████████| 72/72 [00:43<00:00,  1.66it/s]\n"
     ]
    }
   ],
   "source": [
    "with tqdm(total=total_cycles, file=sys.stdout) as pbar:\n",
    "    for transformation in transformations:        \n",
    "        for max_feature in max_features:\n",
    "            for ngram_range in ngram_ranges:\n",
    "                for processing_task, data_dict in preprocess_text.items():                    \n",
    "                    pbar.update(1)\n",
    "                    train_text = data_dict['train']['X_train']\n",
    "                    transformed_train_data, vectorizer = extract_BoW_features(train_text, max_feature, transformation, ngram_range)\n",
    "                    test_text = data_dict['test']['X_test']\n",
    "                    transformed_test_data = vectorizer.transform(test_text).toarray()\n",
    "                    vocabulary = vectorizer.vocabulary_\n",
    "                    transformed_txts.append(\n",
    "                        {\n",
    "                            'transformation': transformation,\n",
    "                            'max_features': max_feature,\n",
    "                            'ngram_range': ngram_range,\n",
    "                            'processing_task': processing_task,                            \n",
    "                            'vocabulary': vocabulary,\n",
    "                            'train': {'data': transformed_train_data, 'labels': data_dict['train']['y_train'], 'extra_features': data_dict['train']['extra_features']},\n",
    "                            'test': {'data': transformed_test_data, 'labels': data_dict['test']['y_test'], 'extra_features': data_dict['test']['extra_features']}                            \n",
    "                        }\n",
    "                    )"
   ]
  },
  {
   "cell_type": "markdown",
   "metadata": {},
   "source": [
    "Let's do some sanity check"
   ]
  },
  {
   "cell_type": "code",
   "execution_count": 31,
   "metadata": {},
   "outputs": [
    {
     "data": {
      "text/plain": [
       "{'transformation': 'tc',\n",
       " 'max_features': 500,\n",
       " 'ngram_range': (1, 1),\n",
       " 'processing_task': 'clean',\n",
       " 'vocabulary': {'diseas': 124,\n",
       "  'surviv': 447,\n",
       "  'analysi': 26,\n",
       "  'high': 191,\n",
       "  'low': 252,\n",
       "  'group': 184,\n",
       "  'use': 478,\n",
       "  'data': 101,\n",
       "  'collect': 78,\n",
       "  'studi': 439,\n",
       "  'et': 148,\n",
       "  'al': 19,\n",
       "  'intern': 225,\n",
       "  'work': 494,\n",
       "  'contribut': 91,\n",
       "  'reduc': 371,\n",
       "  'institut': 221,\n",
       "  'care': 60,\n",
       "  'children': 72,\n",
       "  'develop': 117,\n",
       "  'countri': 96,\n",
       "  'provid': 357,\n",
       "  'tool': 460,\n",
       "  'social': 427,\n",
       "  'servic': 410,\n",
       "  'possibl': 330,\n",
       "  'mechan': 265,\n",
       "  'includ': 208,\n",
       "  'dna': 127,\n",
       "  'inhibit': 218,\n",
       "  'metastasi': 272,\n",
       "  'potenti': 332,\n",
       "  'androgen': 28,\n",
       "  'mediat': 267,\n",
       "  'signal': 417,\n",
       "  'pathway': 314,\n",
       "  'unit': 475,\n",
       "  'total': 461,\n",
       "  'cost': 94,\n",
       "  'innov': 220,\n",
       "  'method': 274,\n",
       "  'assess': 41,\n",
       "  'two': 470,\n",
       "  'new': 296,\n",
       "  'post': 331,\n",
       "  'home': 195,\n",
       "  'treatment': 466,\n",
       "  'prostat': 354,\n",
       "  'cancer': 59,\n",
       "  'enhanc': 142,\n",
       "  'local': 248,\n",
       "  'tumor': 469,\n",
       "  'aim': 17,\n",
       "  'investig': 228,\n",
       "  'phenotyp': 323,\n",
       "  'correl': 93,\n",
       "  'er': 145,\n",
       "  'also': 22,\n",
       "  'promot': 353,\n",
       "  'express': 160,\n",
       "  'breast': 55,\n",
       "  'cell': 65,\n",
       "  'materi': 261,\n",
       "  'cultur': 98,\n",
       "  'human': 200,\n",
       "  'line': 246,\n",
       "  'pc': 316,\n",
       "  'obtain': 303,\n",
       "  'type': 471,\n",
       "  'effect': 135,\n",
       "  'commun': 82,\n",
       "  'public': 360,\n",
       "  'industri': 215,\n",
       "  'profession': 346,\n",
       "  'combin': 79,\n",
       "  'art': 39,\n",
       "  'present': 337,\n",
       "  'research': 383,\n",
       "  'find': 166,\n",
       "  'set': 411,\n",
       "  'valid': 480,\n",
       "  'figur': 165,\n",
       "  'found': 172,\n",
       "  'brca': 54,\n",
       "  'gene': 177,\n",
       "  'increas': 209,\n",
       "  'import': 206,\n",
       "  'produc': 344,\n",
       "  'prolifer': 352,\n",
       "  'result': 388,\n",
       "  'better': 50,\n",
       "  'protect': 355,\n",
       "  'child': 71,\n",
       "  'welfar': 488,\n",
       "  'progress': 350,\n",
       "  'normal': 299,\n",
       "  'tissu': 459,\n",
       "  'invas': 227,\n",
       "  'impact': 204,\n",
       "  'worldwid': 496,\n",
       "  'success': 444,\n",
       "  'user': 479,\n",
       "  'experi': 158,\n",
       "  'debat': 105,\n",
       "  'vivo': 485,\n",
       "  'growth': 185,\n",
       "  'anti': 30,\n",
       "  'drug': 131,\n",
       "  'reduct': 372,\n",
       "  'size': 423,\n",
       "  'sever': 412,\n",
       "  'approv': 35,\n",
       "  'repres': 381,\n",
       "  'independ': 211,\n",
       "  'perform': 321,\n",
       "  'like': 244,\n",
       "  'subtyp': 443,\n",
       "  'highli': 193,\n",
       "  'influenc': 216,\n",
       "  'earli': 132,\n",
       "  'educ': 134,\n",
       "  'nation': 291,\n",
       "  'demonstr': 110,\n",
       "  'co': 75,\n",
       "  'product': 345,\n",
       "  'approach': 34,\n",
       "  'deliveri': 109,\n",
       "  'marker': 260,\n",
       "  'factor': 161,\n",
       "  'identifi': 201,\n",
       "  'metastat': 273,\n",
       "  'case': 62,\n",
       "  'base': 47,\n",
       "  'strategi': 438,\n",
       "  'peopl': 319,\n",
       "  'disabl': 122,\n",
       "  'exampl': 156,\n",
       "  'food': 170,\n",
       "  'polici': 327,\n",
       "  'significantli': 419,\n",
       "  'differ': 118,\n",
       "  'follow': 169,\n",
       "  'assay': 40,\n",
       "  'everi': 153,\n",
       "  'month': 287,\n",
       "  'first': 167,\n",
       "  'year': 498,\n",
       "  'sport': 430,\n",
       "  'govern': 183,\n",
       "  'bodi': 53,\n",
       "  'chang': 70,\n",
       "  'practic': 333,\n",
       "  'associ': 42,\n",
       "  'athlet': 43,\n",
       "  'commiss': 80,\n",
       "  'usa': 477,\n",
       "  'time': 458,\n",
       "  'programm': 349,\n",
       "  'may': 262,\n",
       "  'patient': 315,\n",
       "  'part': 311,\n",
       "  'world': 495,\n",
       "  'signific': 418,\n",
       "  'young': 499,\n",
       "  'biolog': 52,\n",
       "  'scienc': 397,\n",
       "  'rais': 362,\n",
       "  'awar': 46,\n",
       "  'undertaken': 474,\n",
       "  'field': 163,\n",
       "  'interest': 224,\n",
       "  'subject': 440,\n",
       "  'area': 37,\n",
       "  'howev': 198,\n",
       "  'specif': 429,\n",
       "  'score': 399,\n",
       "  'stain': 433,\n",
       "  'one': 305,\n",
       "  'second': 402,\n",
       "  'right': 390,\n",
       "  'report': 380,\n",
       "  'evid': 154,\n",
       "  'trial': 467,\n",
       "  'inform': 217,\n",
       "  'relat': 378,\n",
       "  'although': 23,\n",
       "  'order': 306,\n",
       "  'professor': 347,\n",
       "  'dr': 130,\n",
       "  'focus': 168,\n",
       "  'safeti': 394,\n",
       "  'qualiti': 361,\n",
       "  'health': 188,\n",
       "  'transcript': 463,\n",
       "  'play': 326,\n",
       "  'role': 393,\n",
       "  'depend': 112,\n",
       "  'ar': 36,\n",
       "  'function': 175,\n",
       "  'sinc': 421,\n",
       "  'bind': 51,\n",
       "  'site': 422,\n",
       "  'sequenc': 408,\n",
       "  'respons': 387,\n",
       "  'form': 171,\n",
       "  'condit': 86,\n",
       "  'larg': 237,\n",
       "  'organis': 307,\n",
       "  'improv': 207,\n",
       "  'common': 81,\n",
       "  'domain': 128,\n",
       "  'appli': 32,\n",
       "  'made': 254,\n",
       "  'avail': 45,\n",
       "  'state': 435,\n",
       "  'shown': 416,\n",
       "  'life': 243,\n",
       "  'econom': 133,\n",
       "  'understand': 473,\n",
       "  'neg': 294,\n",
       "  'involv': 229,\n",
       "  'process': 343,\n",
       "  'select': 404,\n",
       "  'depart': 111,\n",
       "  'issu': 231,\n",
       "  'equal': 144,\n",
       "  'review': 389,\n",
       "  'four': 173,\n",
       "  'seri': 409,\n",
       "  'region': 375,\n",
       "  'target': 450,\n",
       "  'complex': 84,\n",
       "  'level': 242,\n",
       "  'collabor': 77,\n",
       "  'author': 44,\n",
       "  'intervent': 226,\n",
       "  'engag': 140,\n",
       "  'team': 451,\n",
       "  'activ': 6,\n",
       "  'train': 462,\n",
       "  'number': 301,\n",
       "  'clinic': 74,\n",
       "  'practition': 334,\n",
       "  'adopt': 10,\n",
       "  'mani': 259,\n",
       "  'primari': 341,\n",
       "  'regul': 376,\n",
       "  'mrna': 288,\n",
       "  'induc': 214,\n",
       "  'previou': 339,\n",
       "  'lung': 253,\n",
       "  'within': 492,\n",
       "  'scotland': 400,\n",
       "  'ca': 56,\n",
       "  'age': 14,\n",
       "  'show': 415,\n",
       "  'relationship': 379,\n",
       "  'model': 284,\n",
       "  'respect': 386,\n",
       "  'initi': 219,\n",
       "  'test': 454,\n",
       "  'small': 425,\n",
       "  'antibodi': 31,\n",
       "  'could': 95,\n",
       "  'guidelin': 187,\n",
       "  'measur': 264,\n",
       "  'monitor': 286,\n",
       "  'physic': 324,\n",
       "  'key': 232,\n",
       "  'major': 255,\n",
       "  'recommend': 370,\n",
       "  'need': 293,\n",
       "  'valu': 481,\n",
       "  'standard': 434,\n",
       "  'three': 457,\n",
       "  'receiv': 367,\n",
       "  'dose': 129,\n",
       "  'examin': 155,\n",
       "  'learn': 239,\n",
       "  'nh': 297,\n",
       "  'integr': 222,\n",
       "  'prevent': 338,\n",
       "  'manag': 258,\n",
       "  'famili': 162,\n",
       "  'enabl': 139,\n",
       "  'risk': 391,\n",
       "  'estim': 147,\n",
       "  'death': 104,\n",
       "  'among': 24,\n",
       "  'help': 190,\n",
       "  'sampl': 395,\n",
       "  'observ': 302,\n",
       "  'support': 446,\n",
       "  'imag': 203,\n",
       "  'directli': 121,\n",
       "  'way': 486,\n",
       "  'individu': 213,\n",
       "  'decis': 106,\n",
       "  'make': 256,\n",
       "  'system': 448,\n",
       "  'either': 137,\n",
       "  'similar': 420,\n",
       "  'global': 182,\n",
       "  'access': 2,\n",
       "  'knowledg': 234,\n",
       "  'deliv': 108,\n",
       "  'continu': 90,\n",
       "  'compar': 83,\n",
       "  'overal': 309,\n",
       "  'well': 489,\n",
       "  'control': 92,\n",
       "  'univers': 476,\n",
       "  'parent': 310,\n",
       "  'gener': 178,\n",
       "  'establish': 146,\n",
       "  'wide': 491,\n",
       "  'employ': 138,\n",
       "  'affect': 12,\n",
       "  'alon': 21,\n",
       "  'stage': 432,\n",
       "  'led': 240,\n",
       "  'lead': 238,\n",
       "  'underpin': 472,\n",
       "  'address': 9,\n",
       "  'challeng': 69,\n",
       "  'reach': 365,\n",
       "  'europ': 149,\n",
       "  'fund': 176,\n",
       "  'profil': 348,\n",
       "  'design': 114,\n",
       "  'term': 453,\n",
       "  'protein': 356,\n",
       "  'cycl': 100,\n",
       "  'maker': 257,\n",
       "  'abus': 1,\n",
       "  'whether': 490,\n",
       "  'consequ': 88,\n",
       "  'methyl': 275,\n",
       "  'analyz': 27,\n",
       "  'women': 493,\n",
       "  'project': 351,\n",
       "  'carri': 61,\n",
       "  'current': 99,\n",
       "  'calcul': 58,\n",
       "  'live': 247,\n",
       "  'anim': 29,\n",
       "  'media': 266,\n",
       "  'dissemin': 125,\n",
       "  'school': 396,\n",
       "  'screen': 401,\n",
       "  'phase': 322,\n",
       "  'mutat': 290,\n",
       "  'pca': 317,\n",
       "  'mg': 276,\n",
       "  'per': 320,\n",
       "  'day': 102,\n",
       "  'decreas': 107,\n",
       "  'week': 487,\n",
       "  'posit': 329,\n",
       "  'indic': 212,\n",
       "  'caus': 63,\n",
       "  'molecular': 285,\n",
       "  'plan': 325,\n",
       "  'million': 280,\n",
       "  'rate': 364,\n",
       "  'africa': 13,\n",
       "  'higher': 192,\n",
       "  'requir': 382,\n",
       "  'trust': 468,\n",
       "  'implement': 205,\n",
       "  'analys': 25,\n",
       "  'benefit': 49,\n",
       "  'older': 304,\n",
       "  'substanti': 442,\n",
       "  'tabl': 449,\n",
       "  'technolog': 452,\n",
       "  'mental': 271,\n",
       "  'concern': 85,\n",
       "  'event': 152,\n",
       "  'read': 366,\n",
       "  'nsclc': 300,\n",
       "  'known': 235,\n",
       "  'egfr': 136,\n",
       "  'statu': 437,\n",
       "  'addit': 8,\n",
       "  'mir': 281,\n",
       "  'sensit': 406,\n",
       "  'ci': 73,\n",
       "  'statist': 436,\n",
       "  'treat': 465,\n",
       "  'across': 5,\n",
       "  'evalu': 151,\n",
       "  'european': 150,\n",
       "  'mice': 277,\n",
       "  'sexual': 413,\n",
       "  'violenc': 484,\n",
       "  'exposur': 159,\n",
       "  'hr': 199,\n",
       "  'fig': 164,\n",
       "  'presenc': 336,\n",
       "  'therapi': 455,\n",
       "  'particip': 312,\n",
       "  'shape': 414,\n",
       "  'natur': 292,\n",
       "  'allow': 20,\n",
       "  'therefor': 456,\n",
       "  'resist': 384,\n",
       "  'provis': 358,\n",
       "  'resourc': 385,\n",
       "  'staff': 431,\n",
       "  'applic': 33,\n",
       "  'enrich': 143,\n",
       "  'incub': 210,\n",
       "  'aid': 16,\n",
       "  'scientif': 398,\n",
       "  'ml': 282,\n",
       "  'suggest': 445,\n",
       "  'popul': 328,\n",
       "  'england': 141,\n",
       "  'kinas': 233,\n",
       "  'outcom': 308,\n",
       "  'member': 270,\n",
       "  'centr': 67,\n",
       "  'limit': 245,\n",
       "  'discuss': 123,\n",
       "  'previous': 340,\n",
       "  'accord': 3,\n",
       "  'regard': 374,\n",
       "  'describ': 113,\n",
       "  'self': 405,\n",
       "  'rang': 363,\n",
       "  'long': 251,\n",
       "  'guidanc': 186,\n",
       "  'detect': 115,\n",
       "  'distribut': 126,\n",
       "  'societi': 428,\n",
       "  'agenc': 15,\n",
       "  'hospit': 196,\n",
       "  'would': 497,\n",
       "  'mean': 263,\n",
       "  'interact': 223,\n",
       "  'consist': 89,\n",
       "  'achiev': 4,\n",
       "  'around': 38,\n",
       "  'genotyp': 181,\n",
       "  'refer': 373,\n",
       "  'sector': 403,\n",
       "  'determin': 116,\n",
       "  'non': 298,\n",
       "  'particularli': 313,\n",
       "  'genom': 180,\n",
       "  'lesion': 241,\n",
       "  'differenti': 119,\n",
       "  'healthcar': 189,\n",
       "  'subsequ': 441,\n",
       "  'rna': 392,\n",
       "  'pcr': 318,\n",
       "  'medic': 268,\n",
       "  'ireland': 230,\n",
       "  'cadherin': 57,\n",
       "  'psycholog': 359,\n",
       "  'ad': 7,\n",
       "  'problem': 342,\n",
       "  'recent': 368,\n",
       "  'vector': 482,\n",
       "  'mm': 283,\n",
       "  'skill': 424,\n",
       "  'direct': 120,\n",
       "  'creat': 97,\n",
       "  'medicin': 269,\n",
       "  'via': 483,\n",
       "  'seq': 407,\n",
       "  'network': 295,\n",
       "  'languag': 236,\n",
       "  'rel': 377,\n",
       "  'might': 278,\n",
       "  'london': 250,\n",
       "  'center': 66,\n",
       "  'akt': 18,\n",
       "  'genet': 179,\n",
       "  'transfect': 464,\n",
       "  'framework': 174,\n",
       "  'smoke': 426,\n",
       "  'migrat': 279,\n",
       "  'abil': 0,\n",
       "  'coach': 76,\n",
       "  'il': 202,\n",
       "  'conduct': 87,\n",
       "  'histori': 194,\n",
       "  'hour': 197,\n",
       "  'multipl': 289,\n",
       "  'cd': 64,\n",
       "  'receptor': 369,\n",
       "  'adult': 11,\n",
       "  'behaviour': 48,\n",
       "  'predict': 335,\n",
       "  'locat': 249,\n",
       "  'de': 103,\n",
       "  'central': 68,\n",
       "  'exercis': 157},\n",
       " 'train': {'data': array([[0, 0, 0, ..., 0, 0, 0],\n",
       "         [0, 0, 0, ..., 0, 0, 0],\n",
       "         [0, 0, 0, ..., 0, 0, 0],\n",
       "         ...,\n",
       "         [0, 0, 0, ..., 0, 0, 0],\n",
       "         [0, 0, 0, ..., 0, 0, 2],\n",
       "         [0, 0, 0, ..., 0, 0, 0]]),\n",
       "  'labels': 4350    0\n",
       "  202     1\n",
       "  4765    0\n",
       "  4540    0\n",
       "  426     1\n",
       "         ..\n",
       "  664     1\n",
       "  3276    0\n",
       "  1318    1\n",
       "  723     1\n",
       "  2863    0\n",
       "  Name: label, Length: 4298, dtype: int64,\n",
       "  'extra_features':       char_count  word_count  word_density  upper_case_word_count  \\\n",
       "  4350         136          25      5.230769                      3   \n",
       "  202          171          25      6.576923                      0   \n",
       "  4765         224          28      7.724138                      1   \n",
       "  4540          26           6      3.714286                      0   \n",
       "  426          149          24      5.960000                      0   \n",
       "  ...          ...         ...           ...                    ...   \n",
       "  664          273          42      6.348837                      1   \n",
       "  3276         254          35      7.055556                      0   \n",
       "  1318         147          20      7.000000                      0   \n",
       "  723          322          51      6.192308                      0   \n",
       "  2863         123          19      6.150000                      0   \n",
       "  \n",
       "        title_word_count  noun_count  verb_count  adj_count  adv_count  \\\n",
       "  4350                 3          12           2          4          0   \n",
       "  202                  1           7           7          3          0   \n",
       "  4765                 1          14           3          3          0   \n",
       "  4540                 2           3           1          1          0   \n",
       "  426                  7          10           2          3          0   \n",
       "  ...                ...         ...         ...        ...        ...   \n",
       "  664                  2          21           2          5          0   \n",
       "  3276                 1          14           3          6          1   \n",
       "  1318                 1           6           2          6          0   \n",
       "  723                  2          16           8          8          0   \n",
       "  2863                 1           4           4          1          2   \n",
       "  \n",
       "        pron_count  sentiment_score  \n",
       "  4350           0           0.2960  \n",
       "  202            0           0.4939  \n",
       "  4765           0          -0.5994  \n",
       "  4540           0           0.0000  \n",
       "  426            0           0.7506  \n",
       "  ...          ...              ...  \n",
       "  664            0           0.3818  \n",
       "  3276           0           0.3182  \n",
       "  1318           0          -0.6862  \n",
       "  723            1          -0.8658  \n",
       "  2863           0          -0.1531  \n",
       "  \n",
       "  [4298 rows x 11 columns]},\n",
       " 'test': {'data': array([[0, 0, 0, ..., 0, 0, 0],\n",
       "         [0, 0, 0, ..., 0, 0, 0],\n",
       "         [0, 0, 0, ..., 0, 0, 0],\n",
       "         ...,\n",
       "         [0, 0, 0, ..., 0, 0, 0],\n",
       "         [0, 0, 0, ..., 0, 0, 0],\n",
       "         [0, 0, 0, ..., 0, 0, 0]]),\n",
       "  'labels': 1391    1\n",
       "  1440    1\n",
       "  4942    0\n",
       "  2069    1\n",
       "  2009    1\n",
       "         ..\n",
       "  4251    0\n",
       "  1559    1\n",
       "  3454    0\n",
       "  3662    0\n",
       "  1426    1\n",
       "  Name: label, Length: 1075, dtype: int64,\n",
       "  'extra_features':       char_count  word_count  word_density  upper_case_word_count  \\\n",
       "  1391         136          21      6.181818                      1   \n",
       "  1440         303          47      6.312500                      2   \n",
       "  4942         150          23      6.250000                      2   \n",
       "  2069         100          16      5.882353                      0   \n",
       "  2009         151          27      5.392857                      0   \n",
       "  ...          ...         ...           ...                    ...   \n",
       "  4251         110          18      5.789474                      0   \n",
       "  1559          68          11      5.666667                      0   \n",
       "  3454           3           2      1.000000                      2   \n",
       "  3662          63          11      5.250000                      1   \n",
       "  1426         123          19      6.150000                      1   \n",
       "  \n",
       "        title_word_count  noun_count  verb_count  adj_count  adv_count  \\\n",
       "  1391                 5           9           2          1          0   \n",
       "  1440                 9          22           4          2          2   \n",
       "  4942                 2          10           1          3          1   \n",
       "  2069                 2           6           3          1          1   \n",
       "  2009                 4           9           5          0          0   \n",
       "  ...                ...         ...         ...        ...        ...   \n",
       "  4251                 3           6           1          1          2   \n",
       "  1559                 1           3           2          1          0   \n",
       "  3454                 2           2           0          0          0   \n",
       "  3662                 1           5           1          0          0   \n",
       "  1426                 3          10           3          0          1   \n",
       "  \n",
       "        pron_count  sentiment_score  \n",
       "  1391           0           0.0000  \n",
       "  1440           0           0.4215  \n",
       "  4942           0          -0.7778  \n",
       "  2069           0           0.4404  \n",
       "  2009           0           0.1280  \n",
       "  ...          ...              ...  \n",
       "  4251           0           0.0000  \n",
       "  1559           0           0.1027  \n",
       "  3454           0           0.0000  \n",
       "  3662           0          -0.1027  \n",
       "  1426           0           0.9169  \n",
       "  \n",
       "  [1075 rows x 11 columns]}}"
      ]
     },
     "execution_count": 31,
     "metadata": {},
     "output_type": "execute_result"
    }
   ],
   "source": [
    "transformed_txts[0]"
   ]
  },
  {
   "cell_type": "code",
   "execution_count": 32,
   "metadata": {},
   "outputs": [],
   "source": [
    "assert len(transformed_txts[0]['train']['data']) == len(transformed_txts[0]['train']['labels'])"
   ]
  },
  {
   "cell_type": "markdown",
   "metadata": {},
   "source": [
    "## Save transformed texts"
   ]
  },
  {
   "cell_type": "code",
   "execution_count": 33,
   "metadata": {},
   "outputs": [
    {
     "name": "stdout",
     "output_type": "stream",
     "text": [
      "100%|██████████| 72/72 [02:17<00:00,  1.91s/it]\n"
     ]
    }
   ],
   "source": [
    "with tqdm(total=total_cycles, file=sys.stdout) as pbar:\n",
    "    for transformed_txt in transformed_txts:\n",
    "        transformation = transformed_txt['transformation']\n",
    "        max_features = str(transformed_txt['max_features'])\n",
    "        ngram_range = transformed_txt['ngram_range']\n",
    "        str_ngram_range = str(ngram_range).replace('(','').replace(')','').replace(',','_')\n",
    "        processing_task = transformed_txt['processing_task']                \n",
    "        vocabulary = transformed_txt['vocabulary']\n",
    "        data_filename = f'data_{transformation}_{max_features}_{str_ngram_range}_{processing_task}.pkl'\n",
    "        # train data\n",
    "        train_data = pd.DataFrame({'sentence': list(transformed_txt['train']['data']), 'label': transformed_txt['train']['labels']})\n",
    "        train_data = pd.concat([train_data, transformed_txt['train']['extra_features']], axis=1)        \n",
    "        # save train data        \n",
    "        dict_data = dict(data=train_data, transformation=transformation, max_features=max_features, ngram_range=ngram_range,\n",
    "                         processing_task=processing_task, vocabulary=vocabulary)        \n",
    "        with open(os.path.join('data', 'train', data_filename), 'wb') as f:\n",
    "            joblib.dump(dict_data, f)\n",
    "        # test data\n",
    "        test_data = pd.DataFrame({'sentence': list(transformed_txt['test']['data']), 'label': transformed_txt['test']['labels']})\n",
    "        test_data = pd.concat([test_data, transformed_txt['test']['extra_features']], axis=1)\n",
    "        # save test data\n",
    "        dict_data = dict(data=test_data, transformation=transformation, max_features=max_features, ngram_range=ngram_range,\n",
    "                         processing_task=processing_task, vocabulary=vocabulary)\n",
    "        with open(os.path.join('data', 'test', data_filename), 'wb') as f:\n",
    "            joblib.dump(dict_data, f)        \n",
    "        pbar.update(1)"
   ]
  },
  {
   "cell_type": "markdown",
   "metadata": {},
   "source": [
    "## Build ML model"
   ]
  },
  {
   "cell_type": "markdown",
   "metadata": {},
   "source": [
    "Here we build the machine learning classifier. The decision on the algorithms to be used was based on algorithms that have been reported to perform well on unbalanced, small, and textual datasets, which is our case. Therefore, we try the following algorithms: Naive-Bayes, Support Vector Machine, Logistic Regression, Random Forest, and Gradient Boosting.\n",
    "\n",
    "In bulding the model we proceed as following:\n",
    "1. Compare the performance of the choosen algorithms by training them in each of the 180 different training sets;\n",
    "2. Choose the best performing model for each algorithm;\n",
    "3. Perform hyper-parameters optimization for the best models, except Naive-Bayes. GridSearch is used for SVM and Logistic Regression while RandomGridSearch with 100 iterations is employed for Random Forest and Gradient Boosting;\n",
    "4. Plot learning curves for the best models to analyze the overfitting effect on the training set and the effect of the training size on the performance metric;\n",
    "5. Select the model that best generalize the prediction.\n",
    "\n",
    "Models are trained using the cross-validation approach. The performance metric to be optimized is **`balanced_accuracy`** because, in spite of over-identifying sentences that might not contain evidence of social impact and even when more sentences mean an overload of work for evaluators, the aim is to avoid losing sentences that can potentially contain evidence of impact and thus might be deciding in understanding the social impact of the research."
   ]
  },
  {
   "cell_type": "markdown",
   "metadata": {},
   "source": [
    "**The processes of training the different algorithms has been run outside the notebook through the script `train.py`**"
   ]
  },
  {
   "cell_type": "markdown",
   "metadata": {},
   "source": [
    "Load training results to a csv"
   ]
  },
  {
   "cell_type": "code",
   "execution_count": 44,
   "metadata": {},
   "outputs": [],
   "source": [
    "output_df = pd.read_csv(os.path.join('experiments', 'e_08062020.csv'))"
   ]
  },
  {
   "cell_type": "markdown",
   "metadata": {},
   "source": [
    "### Compare the best models of each type"
   ]
  },
  {
   "cell_type": "code",
   "execution_count": 45,
   "metadata": {},
   "outputs": [
    {
     "name": "stdout",
     "output_type": "stream",
     "text": [
      "Algorithm: NB, Mean: 0.98, Std.: 0.01, Train Data File: data/train/data_tfidf_10000_1_ 2_clean.pkl\n",
      "Algorithm: SVM, Mean: 0.63, Std.: 0.02, Train Data File: data/train/data_tc_500_1_ 3_clean.pkl\n",
      "Algorithm: LR, Mean: 0.95, Std.: 0.01, Train Data File: data/train/data_tc_2000_1_ 1_clean_lemmatization.pkl\n",
      "Algorithm: RF, Mean: 0.95, Std.: 0.02, Train Data File: data/train/data_tfidf_10000_1_ 2_clean_lemmatization.pkl\n",
      "Algorithm: GB, Mean: 0.92, Std.: 0.01, Train Data File: data/train/data_tc_2000_1_ 1_clean_lemmatization.pkl\n"
     ]
    }
   ],
   "source": [
    "mean_best_models, std_best_models = [], []\n",
    "for algorithm in algorithms:\n",
    "    best_model = output_df[output_df['algorithm']==algorithm].sort_values(by=['mean_balanced_accuracy', 'std_balanced_accuracy'], ascending=False).head(1)\n",
    "    mean_recall = best_model['mean_balanced_accuracy'].values[0]\n",
    "    std_recall = best_model['std_balanced_accuracy'].values[0]\n",
    "    mean_best_models.append(mean_recall)    \n",
    "    std_best_models.append(std_recall)\n",
    "    data_fn = best_model['train_data_file'].values[0]    \n",
    "    print(f'Algorithm: {algorithm}, Mean: {mean_recall}, Std.: {std_recall}, Train Data File: {data_fn}')"
   ]
  },
  {
   "cell_type": "code",
   "execution_count": 46,
   "metadata": {},
   "outputs": [
    {
     "data": {
      "image/png": "[encoded data removed]",
      "text/plain": [
       "<Figure size 864x432 with 1 Axes>"
      ]
     },
     "metadata": {
      "needs_background": "light"
     },
     "output_type": "display_data"
    }
   ],
   "source": [
    "cv_res = pd.DataFrame({\n",
    "    'cross_val_means': mean_best_models,\n",
    "    'cross_val_std': std_best_models,\n",
    "    'algorithm': algorithms\n",
    "})\n",
    "plt.figure(figsize=(12,6))\n",
    "g = sns.barplot('cross_val_means', 'algorithm', data = cv_res, palette='Blues_r', orient = \"h\", **{'xerr':std_best_models})\n",
    "g.set_xlabel('Mean Balanced Accuracy')\n",
    "g = g.set_title('Cross validation scores')"
   ]
  },
  {
   "cell_type": "markdown",
   "metadata": {},
   "source": [
    "### Perform hyper-parameters optimization"
   ]
  },
  {
   "cell_type": "markdown",
   "metadata": {},
   "source": [
    "**Hyperparametrization processes have been run outside the notebook through the script `train.py`**"
   ]
  },
  {
   "cell_type": "markdown",
   "metadata": {},
   "source": [
    "### Plot learning curve"
   ]
  },
  {
   "cell_type": "code",
   "execution_count": 48,
   "metadata": {},
   "outputs": [],
   "source": [
    "# Taken from \n",
    "# https://scikit-learn.org/stable/auto_examples/model_selection/plot_learning_curve.html\n",
    "def plot_learning_curve(estimator, title, X, y, ylim=None, cv=None, n_jobs=-1, train_sizes=np.linspace(.1, 1.0, 5), shuffle=False):\n",
    "    \"\"\"Generate a simple plot of the test and training learning curve\"\"\"\n",
    "    \n",
    "    plt.figure(figsize=(12,6))\n",
    "    plt.title(title)\n",
    "    if ylim is not None:\n",
    "        plt.ylim(*ylim)\n",
    "    plt.xlabel(\"Training examples\")\n",
    "    plt.ylabel(\"Score\")\n",
    "    \n",
    "    train_sizes, train_scores, test_scores = learning_curve(estimator, X, y, n_jobs=n_jobs, cv=cv, train_sizes=train_sizes, shuffle=shuffle)\n",
    "    train_scores_mean = np.mean(train_scores, axis=1)\n",
    "    train_scores_std = np.std(train_scores, axis=1)\n",
    "    test_scores_mean = np.mean(test_scores, axis=1)\n",
    "    test_scores_std = np.std(test_scores, axis=1)\n",
    "    \n",
    "    plt.grid()\n",
    "    plt.fill_between(train_sizes, train_scores_mean - train_scores_std, train_scores_mean + train_scores_std, alpha=0.1, color=\"r\")\n",
    "    plt.fill_between(train_sizes, test_scores_mean - test_scores_std, test_scores_mean + test_scores_std, alpha=0.1, color=\"g\")\n",
    "    plt.plot(train_sizes, train_scores_mean, 'o-', color=\"r\", label=\"Training score\")\n",
    "    plt.plot(train_sizes, test_scores_mean, 'o-', color=\"g\",label=\"Cross-validation score\")\n",
    "\n",
    "    plt.legend(loc=\"best\")\n",
    "    return plt"
   ]
  },
  {
   "cell_type": "markdown",
   "metadata": {},
   "source": [
    "#### **Naive-Bayes (NB)**"
   ]
  },
  {
   "cell_type": "code",
   "execution_count": 50,
   "metadata": {},
   "outputs": [
    {
     "data": {
      "image/png": "[encoded data removed]",
      "text/plain": [
       "<Figure size 864x432 with 1 Axes>"
      ]
     },
     "metadata": {
      "needs_background": "light"
     },
     "output_type": "display_data"
    }
   ],
   "source": [
    "best_model = output_df[output_df['algorithm']=='NB'].sort_values(by=['mean_balanced_accuracy', 'std_balanced_accuracy'], ascending=False).head(1)\n",
    "with open(best_model['train_data_file'].values[0], 'rb') as f:\n",
    "    data = joblib.load(f)\n",
    "train_data = data['data']\n",
    "X_train_nb = list(train_data['sentence'].values)\n",
    "y_train_nb = train_data['label'].values\n",
    "g = plot_learning_curve(GaussianNB(), \"NB learning curves\", X_train_nb, y_train_nb, cv=kfold)\n",
    "g.show()"
   ]
  },
  {
   "cell_type": "markdown",
   "metadata": {},
   "source": [
    "**Diagnosis**. Scores in the learning curve of the NB model vary little as the size of the training set increases. This indicates that the model might overfit on the training data (high variance). On the other hand, the validation curve increases as more training examples are available and it seems that with more data curves will coverge at some point. The big gap between training and validation is a sign of high variance."
   ]
  },
  {
   "cell_type": "markdown",
   "metadata": {},
   "source": [
    "#### **Support Vector Machine (SVM)**"
   ]
  },
  {
   "cell_type": "code",
   "execution_count": 51,
   "metadata": {},
   "outputs": [],
   "source": [
    "# get data\n",
    "best_model = output_df[output_df['algorithm']=='SVM'].sort_values(by=['mean_balanced_accuracy', 'std_balanced_accuracy'], ascending=False).head(1)\n",
    "with open(best_model['train_data_file'].values[0], \"rb\") as f:\n",
    "    data = joblib.load(f)\n",
    "train_data = data['data']\n",
    "y_train_svm = train_data['label'].values\n",
    "text_features = list(train_data.iloc[:,0].values)        \n",
    "extra_features = np.array(train_data.iloc[:,2:].values)\n",
    "X_train_svm = np.concatenate((text_features, extra_features), axis=1)"
   ]
  },
  {
   "cell_type": "code",
   "execution_count": 54,
   "metadata": {},
   "outputs": [],
   "source": [
    "model_dict = joblib.load('./models/best_support_vector_machine.joblib')\n",
    "svm_best = model_dict['model']"
   ]
  },
  {
   "cell_type": "code",
   "execution_count": 55,
   "metadata": {},
   "outputs": [
    {
     "data": {
      "image/png": "[encoded data removed]",
      "text/plain": [
       "<Figure size 864x432 with 1 Axes>"
      ]
     },
     "metadata": {
      "needs_background": "light"
     },
     "output_type": "display_data"
    }
   ],
   "source": [
    "g = plot_learning_curve(svm_best, \"SVM learning curves\", X_train_svm, y_train_svm, cv=kfold, shuffle=True)\n",
    "g.show()"
   ]
  },
  {
   "cell_type": "markdown",
   "metadata": {},
   "source": [
    "**Diagnosis**. Scores in the learning curve of the SVM model decrease as the number of training examples increases. This indicates that the model does not overfitting on training data (low variance). On the other hand, the validation curve increases as more training examples are available, which tells us that the model is correctly learning from the training examples. It seems that with more data curves will converge at some point. The small gap between curves is a sign of low variance."
   ]
  },
  {
   "cell_type": "markdown",
   "metadata": {},
   "source": [
    "#### **Logistic Regression (LR)**"
   ]
  },
  {
   "cell_type": "code",
   "execution_count": 56,
   "metadata": {},
   "outputs": [],
   "source": [
    "# get data\n",
    "best_model = output_df[output_df['algorithm']=='LR'].sort_values(by=['mean_balanced_accuracy', 'std_balanced_accuracy'], ascending=False).head(1)\n",
    "with open(best_model['train_data_file'].values[0], \"rb\") as f:\n",
    "    data = joblib.load(f)\n",
    "train_data = data['data']\n",
    "y_train_lr = train_data['label'].values\n",
    "text_features = list(train_data.iloc[:,0].values)        \n",
    "extra_features = np.array(train_data.iloc[:,2:].values)\n",
    "X_train_lr = np.concatenate((text_features, extra_features), axis=1)"
   ]
  },
  {
   "cell_type": "code",
   "execution_count": 58,
   "metadata": {},
   "outputs": [],
   "source": [
    "model_dict = joblib.load('./models/best_logistic_regression.joblib')\n",
    "lr_best = model_dict['model']"
   ]
  },
  {
   "cell_type": "code",
   "execution_count": 59,
   "metadata": {},
   "outputs": [
    {
     "data": {
      "image/png": "[encoded data removed]",
      "text/plain": [
       "<Figure size 864x432 with 1 Axes>"
      ]
     },
     "metadata": {
      "needs_background": "light"
     },
     "output_type": "display_data"
    }
   ],
   "source": [
    "g = plot_learning_curve(lr_best, \"LR learning curves\", X_train_lr, y_train_lr, cv=kfold, shuffle=True)\n",
    "g.show()"
   ]
  },
  {
   "cell_type": "markdown",
   "metadata": {},
   "source": [
    "**Diagnosis**. Scores in the learning curve of the SVM model decrease as the number of training examples increases. This indicate that the model does not overfitting on training data (low variance). On the contrary, the validation curve increases as more training examples are available, which tells us that the model is correctly learning from the training examples. The small gap between curves is a sign of low variance, however the large shades around curves are an indication of high variability in the scores."
   ]
  },
  {
   "cell_type": "markdown",
   "metadata": {},
   "source": [
    "#### **Random Forest (RF)**"
   ]
  },
  {
   "cell_type": "code",
   "execution_count": 60,
   "metadata": {},
   "outputs": [],
   "source": [
    "# get data\n",
    "best_model = output_df[output_df['algorithm']=='RF'].sort_values(by=['mean_balanced_accuracy', 'std_balanced_accuracy'], ascending=False).head(1)\n",
    "with open(best_model['train_data_file'].values[0], \"rb\") as f:\n",
    "    data = joblib.load(f)\n",
    "train_data = data['data']\n",
    "y_train_rf = train_data['label'].values\n",
    "text_features = list(train_data.iloc[:,0].values)        \n",
    "extra_features = np.array(train_data.iloc[:,2:].values)\n",
    "X_train_rf = np.concatenate((text_features, extra_features), axis=1)"
   ]
  },
  {
   "cell_type": "code",
   "execution_count": 62,
   "metadata": {},
   "outputs": [],
   "source": [
    "model_dict = joblib.load('./models/best_random_forest.joblib')\n",
    "rf_best = model_dict['model']"
   ]
  },
  {
   "cell_type": "code",
   "execution_count": 63,
   "metadata": {},
   "outputs": [
    {
     "data": {
      "image/png": "[encoded data removed]",
      "text/plain": [
       "<Figure size 864x432 with 1 Axes>"
      ]
     },
     "metadata": {
      "needs_background": "light"
     },
     "output_type": "display_data"
    }
   ],
   "source": [
    "g = plot_learning_curve(rf_best, \"RF learning curves\", X_train_rf, y_train_rf, cv=kfold)\n",
    "g.show()"
   ]
  },
  {
   "cell_type": "markdown",
   "metadata": {},
   "source": [
    "**Diagnosis**. In this model the training score is at maximum regardless of the training size, which is signal of overfitting. The large gap between curves is strong sign of high-variance."
   ]
  },
  {
   "cell_type": "markdown",
   "metadata": {},
   "source": [
    "#### **Gradient Boosting (GB)**"
   ]
  },
  {
   "cell_type": "code",
   "execution_count": 64,
   "metadata": {},
   "outputs": [],
   "source": [
    "# get train data\n",
    "best_model = output_df[output_df['algorithm']=='GB'].sort_values(by=['mean_balanced_accuracy', 'std_balanced_accuracy'], ascending=False).head(1)\n",
    "with open(best_model['train_data_file'].values[0], \"rb\") as f:\n",
    "    data = joblib.load(f)\n",
    "train_data = data['data']\n",
    "y_train_gb = train_data['label'].values\n",
    "text_features = list(train_data.iloc[:,0].values)        \n",
    "extra_features = np.array(train_data.iloc[:,2:].values)\n",
    "X_train_gb = np.concatenate((text_features, extra_features), axis=1)"
   ]
  },
  {
   "cell_type": "code",
   "execution_count": 65,
   "metadata": {},
   "outputs": [],
   "source": [
    "model_dict = joblib.load('./models/best_gradient_boosting.joblib')\n",
    "gb_best = model_dict['model']"
   ]
  },
  {
   "cell_type": "code",
   "execution_count": 66,
   "metadata": {},
   "outputs": [
    {
     "data": {
      "image/png": "[encoded data removed]",
      "text/plain": [
       "<Figure size 864x432 with 1 Axes>"
      ]
     },
     "metadata": {
      "needs_background": "light"
     },
     "output_type": "display_data"
    }
   ],
   "source": [
    "g = plot_learning_curve(gb_best, \"GB learning curves\", X_train_gb, y_train_gb, cv=kfold, shuffle=True)\n",
    "g.show()"
   ]
  },
  {
   "cell_type": "markdown",
   "metadata": {},
   "source": [
    "**Diagnosis**. In this model the training score is at maximum regardless of the training size, which is signal of overfitting. The large gap between training and validation confirms a high-variance scenario."
   ]
  },
  {
   "cell_type": "markdown",
   "metadata": {},
   "source": [
    "### Select model"
   ]
  },
  {
   "cell_type": "markdown",
   "metadata": {},
   "source": [
    "Based on the previous diagnosis, a Support Vector Machine model is selected as the best classifier."
   ]
  },
  {
   "cell_type": "markdown",
   "metadata": {},
   "source": [
    "#### Save Model"
   ]
  },
  {
   "cell_type": "code",
   "execution_count": 67,
   "metadata": {},
   "outputs": [],
   "source": [
    "train_fn = output_df[output_df['algorithm']=='SVM'].sort_values(by=['mean_balanced_accuracy', 'std_balanced_accuracy'], ascending=False).head(1)['train_data_file'].values[0]\n",
    "save_model(svm_best, 'support-vector-machine', 'SVM', 'balanced_accuracy', train_fn)"
   ]
  },
  {
   "cell_type": "markdown",
   "metadata": {},
   "source": [
    "## Evaluate model"
   ]
  },
  {
   "cell_type": "markdown",
   "metadata": {},
   "source": [
    "### Load model"
   ]
  },
  {
   "cell_type": "code",
   "execution_count": 68,
   "metadata": {},
   "outputs": [],
   "source": [
    "model_dict = joblib.load('./models/support-vector-machine.joblib')\n",
    "model = model_dict['model']"
   ]
  },
  {
   "cell_type": "markdown",
   "metadata": {},
   "source": [
    "### Load test data"
   ]
  },
  {
   "cell_type": "code",
   "execution_count": 69,
   "metadata": {},
   "outputs": [],
   "source": [
    "data_fn = model_dict['data_fn']\n",
    "with open(os.path.join('data','test',data_fn), 'rb') as f:\n",
    "    data = joblib.load(f)\n",
    "test_data = data['data']\n",
    "y_test = test_data['label'].values\n",
    "text_features = list(test_data.iloc[:,0].values)        \n",
    "extra_features = np.array(test_data.iloc[:,2:].values)\n",
    "X_test = np.concatenate((text_features, extra_features), axis=1)"
   ]
  },
  {
   "cell_type": "markdown",
   "metadata": {},
   "source": [
    "### Make predictions"
   ]
  },
  {
   "cell_type": "code",
   "execution_count": 70,
   "metadata": {},
   "outputs": [],
   "source": [
    "pred = model.predict(X_test)"
   ]
  },
  {
   "cell_type": "markdown",
   "metadata": {},
   "source": [
    "### Compute performance metrics"
   ]
  },
  {
   "cell_type": "code",
   "execution_count": 71,
   "metadata": {},
   "outputs": [
    {
     "name": "stdout",
     "output_type": "stream",
     "text": [
      "Balanced Accuracy: 0.92\n"
     ]
    }
   ],
   "source": [
    "print(f'Balanced Accuracy: {round(metrics.recall_score(y_test, pred),2)}')"
   ]
  },
  {
   "cell_type": "code",
   "execution_count": null,
   "metadata": {},
   "outputs": [],
   "source": []
  },
  {
   "cell_type": "code",
   "execution_count": 3,
   "metadata": {},
   "outputs": [],
   "source": [
    "s = 'RD-CONNECT Report Summary Project ID: 305444 Funded under: FP7-HEALTH Country: United Kingdom Periodic Report Summary 5 - RD-CONNECT (RD-CONNECT: An integrated platform connecting registries, biobanks and clinical bioinformatics for rare disease research) Project Context and Objectives: RD-Connect is a global research and infrastructure resource for rare diseases (RD).'"
   ]
  },
  {
   "cell_type": "code",
   "execution_count": 5,
   "metadata": {},
   "outputs": [
    {
     "data": {
      "text/plain": [
       "['rd',\n",
       " 'connect',\n",
       " 'report',\n",
       " 'summary',\n",
       " 'project',\n",
       " 'id',\n",
       " 'funded',\n",
       " 'fp',\n",
       " 'health',\n",
       " 'country',\n",
       " 'united',\n",
       " 'kingdom',\n",
       " 'periodic',\n",
       " 'report',\n",
       " 'summary',\n",
       " 'rd',\n",
       " 'connect',\n",
       " 'rd',\n",
       " 'connect',\n",
       " 'integrated',\n",
       " 'platform',\n",
       " 'connecting',\n",
       " 'registries',\n",
       " 'biobanks',\n",
       " 'clinical',\n",
       " 'bioinformatics',\n",
       " 'rare',\n",
       " 'disease',\n",
       " 'research',\n",
       " 'project',\n",
       " 'context',\n",
       " 'objectives',\n",
       " 'rd',\n",
       " 'connect',\n",
       " 'global',\n",
       " 'research',\n",
       " 'infrastructure',\n",
       " 'resource',\n",
       " 'rare',\n",
       " 'diseases',\n",
       " 'rd']"
      ]
     },
     "execution_count": 5,
     "metadata": {},
     "output_type": "execute_result"
    }
   ],
   "source": [
    "sentence_words = sentence_to_words(s)\n",
    "sentence_words"
   ]
  },
  {
   "cell_type": "code",
   "execution_count": 10,
   "metadata": {},
   "outputs": [],
   "source": [
    "with open('./data/train_test/data_tc_800_(1, 3)_clean.pkl', 'rb') as f:\n",
    "        data = joblib.load(f)"
   ]
  },
  {
   "cell_type": "code",
   "execution_count": 14,
   "metadata": {},
   "outputs": [],
   "source": [
    "vectorizer = CountVectorizer(max_features=800, ngram_range=(1, 3),\n",
    "                             vocabulary=data['vocabulary'],\n",
    "                             preprocessor=lambda x: x, tokenizer=lambda x: x,\n",
    "                             lowercase=False)"
   ]
  },
  {
   "cell_type": "code",
   "execution_count": 31,
   "metadata": {},
   "outputs": [],
   "source": [
    "data['vocabulary']\n",
    "x = {k:v for k, v in sorted(data['vocabulary'].items(), key=lambda x: x[1])}"
   ]
  },
  {
   "cell_type": "code",
   "execution_count": 17,
   "metadata": {},
   "outputs": [],
   "source": [
    "bag_of_words = vectorizer.transform([sentence_words]).toarray()"
   ]
  },
  {
   "cell_type": "code",
   "execution_count": 29,
   "metadata": {},
   "outputs": [
    {
     "data": {
      "text/plain": [
       "array([1, 1, 1, 1, 2, 2, 1])"
      ]
     },
     "execution_count": 29,
     "metadata": {},
     "output_type": "execute_result"
    }
   ],
   "source": [
    "bag_of_words[bag_of_words!=0]"
   ]
  },
  {
   "cell_type": "code",
   "execution_count": 27,
   "metadata": {},
   "outputs": [
    {
     "data": {
      "text/plain": [
       "array([134, 150, 204, 303, 604, 608, 755])"
      ]
     },
     "execution_count": 27,
     "metadata": {},
     "output_type": "execute_result"
    }
   ],
   "source": [
    "np.where(bag_of_words!=0)[1]"
   ]
  },
  {
   "cell_type": "code",
   "execution_count": 30,
   "metadata": {},
   "outputs": [
    {
     "name": "stdout",
     "output_type": "stream",
     "text": [
      "clinical\n",
      "context\n",
      "disease\n",
      "health\n",
      "report\n",
      "research\n",
      "united\n"
     ]
    }
   ],
   "source": [
    "idxs = np.where(bag_of_words!=0)[1]\n",
    "for k, v in x.items():\n",
    "    if v in idxs:\n",
    "        print(k)"
   ]
  },
  {
   "cell_type": "code",
   "execution_count": 9,
   "metadata": {},
   "outputs": [
    {
     "data": {
      "text/plain": [
       "array([1])"
      ]
     },
     "execution_count": 9,
     "metadata": {},
     "output_type": "execute_result"
    }
   ],
   "source": [
    "model.predict(bag_of_words)"
   ]
  }
 ],
 "metadata": {
  "kernelspec": {
   "display_name": "Impact Env",
   "language": "python",
   "name": "impact-env"
  },
  "language_info": {
   "codemirror_mode": {
    "name": "ipython",
    "version": 3
   },
   "file_extension": ".py",
   "mimetype": "text/x-python",
   "name": "python",
   "nbconvert_exporter": "python",
   "pygments_lexer": "ipython3",
   "version": "3.6.9"
  }
 },
 "nbformat": 4,
 "nbformat_minor": 4
}
