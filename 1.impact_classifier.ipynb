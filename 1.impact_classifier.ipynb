{
 "cells": [
  {
   "cell_type": "markdown",
   "metadata": {},
   "source": [
    "# Impact Classifier"
   ]
  },
  {
   "cell_type": "markdown",
   "metadata": {},
   "source": [
    "The project proposes to leverage machine learning (ML) and natural language processing (NLP) techniques to build a text classifier that automatizes the processing and identification of evidence of social impact in research documents. The proposal aims to solve a classification problem in which the model takes a sentence contained in a research document as input and produces as output a binary answer (1=True, 0=False) that states whether the sentence contains or not evidence of social impact, respectively.\n",
    "\n",
    "From all research fields, this project focuses on Medical, Health, and Biological science because the ultimately goal is to understand the social impact of the research projects of the Spanish National Institue of Bioinformatics (INB by its Spanish Acronym), which is an institution that conducts medical and biological investigations.\n",
    "\n",
    "The goal of this notebook is to develop a machine learning classifier able to automatically identify sentences of social impact in research documents."
   ]
  },
  {
   "cell_type": "markdown",
   "metadata": {},
   "source": [
    "## Load libraries"
   ]
  },
  {
   "cell_type": "code",
   "execution_count": 2,
   "metadata": {},
   "outputs": [
    {
     "name": "stderr",
     "output_type": "stream",
     "text": [
      "[nltk_data] Downloading package stopwords to\n",
      "[nltk_data]     /home/Life/jsaldiva/nltk_data...\n",
      "[nltk_data]   Package stopwords is already up-to-date!\n",
      "[nltk_data] Downloading package wordnet to\n",
      "[nltk_data]     /home/Life/jsaldiva/nltk_data...\n",
      "[nltk_data]   Package wordnet is already up-to-date!\n",
      "[nltk_data] Downloading package stopwords to\n",
      "[nltk_data]     /home/Life/jsaldiva/nltk_data...\n",
      "[nltk_data]   Package stopwords is already up-to-date!\n",
      "[nltk_data] Downloading package wordnet to\n",
      "[nltk_data]     /home/Life/jsaldiva/nltk_data...\n",
      "[nltk_data]   Package wordnet is already up-to-date!\n"
     ]
    }
   ],
   "source": [
    "# import libraries\n",
    "import numpy as np\n",
    "import nltk\n",
    "import os\n",
    "import pandas as pd\n",
    "import re\n",
    "import matplotlib.pyplot as plt\n",
    "import sys\n",
    "import joblib\n",
    "import pickle\n",
    "\n",
    "\n",
    "nltk.download(\"stopwords\")\n",
    "nltk.download('wordnet')\n",
    "\n",
    "from nltk.corpus import stopwords\n",
    "from nltk.stem.porter import *\n",
    "from nltk.stem import WordNetLemmatizer\n",
    "from nltk.tokenize import word_tokenize\n",
    "from nltk.probability import FreqDist\n",
    "\n",
    "from sklearn.feature_extraction.text import CountVectorizer\n",
    "from sklearn.feature_extraction.text import TfidfVectorizer\n",
    "from sklearn import metrics\n",
    "from sklearn import model_selection\n",
    "from sklearn.model_selection import cross_val_score, KFold, RandomizedSearchCV\n",
    "from sklearn.naive_bayes import GaussianNB\n",
    "from sklearn.svm import SVC\n",
    "from sklearn.ensemble import RandomForestClassifier\n",
    "from sklearn.linear_model import LogisticRegression\n",
    "from sklearn.model_selection import KFold\n",
    "\n",
    "from bs4 import BeautifulSoup\n",
    "from data_processor import sentence_to_words, extract_BoW_features\n",
    "from tqdm import tqdm\n",
    "from xgboost import XGBClassifier\n",
    "from wordcloud import WordCloud, STOPWORDS, ImageColorGenerator\n",
    "\n",
    "%matplotlib inline"
   ]
  },
  {
   "cell_type": "markdown",
   "metadata": {},
   "source": [
    "## Load data"
   ]
  },
  {
   "cell_type": "markdown",
   "metadata": {},
   "source": [
    "### Impact sentences"
   ]
  },
  {
   "cell_type": "markdown",
   "metadata": {},
   "source": [
    "Load dataset that sentences with evidence of social impact. The dataset was manually built through a process that is explain in the notebook **`0.dataset_preparation.ipynb`**."
   ]
  },
  {
   "cell_type": "code",
   "execution_count": 3,
   "metadata": {},
   "outputs": [],
   "source": [
    "impact_sentences = pd.read_csv(\"data/sentences/impact_sentences.csv\", usecols=['sentence'])"
   ]
  },
  {
   "cell_type": "markdown",
   "metadata": {},
   "source": [
    "#### Add label column"
   ]
  },
  {
   "cell_type": "markdown",
   "metadata": {},
   "source": [
    "Sentences with evidence of social will later be merged with more general sentences that can be commonly found in research documents. By the time the merge occurs, social impact sentences need to be distinguised from the more general sentences. Therefore, a the new column **`label`** is created in the impact dataset to tag with 1 all sentences that contain evidence of social impact.  "
   ]
  },
  {
   "cell_type": "code",
   "execution_count": 4,
   "metadata": {},
   "outputs": [],
   "source": [
    "impact_sentences['label'] = 1"
   ]
  },
  {
   "cell_type": "code",
   "execution_count": 5,
   "metadata": {},
   "outputs": [
    {
     "name": "stdout",
     "output_type": "stream",
     "text": [
      "The dataset contains 206 rows and 2 columns\n"
     ]
    }
   ],
   "source": [
    "nrows = impact_sentences.shape[0]\n",
    "ncols = impact_sentences.shape[1]\n",
    "print(f\"The dataset contains {nrows} rows and {ncols} columns\")"
   ]
  },
  {
   "cell_type": "markdown",
   "metadata": {},
   "source": [
    "Let's show an sample of impact sentences together with the newly created column label."
   ]
  },
  {
   "cell_type": "code",
   "execution_count": 6,
   "metadata": {},
   "outputs": [
    {
     "data": {
      "text/html": [
       "<div>\n",
       "<style scoped>\n",
       "    .dataframe tbody tr th:only-of-type {\n",
       "        vertical-align: middle;\n",
       "    }\n",
       "\n",
       "    .dataframe tbody tr th {\n",
       "        vertical-align: top;\n",
       "    }\n",
       "\n",
       "    .dataframe thead th {\n",
       "        text-align: right;\n",
       "    }\n",
       "</style>\n",
       "<table border=\"1\" class=\"dataframe\">\n",
       "  <thead>\n",
       "    <tr style=\"text-align: right;\">\n",
       "      <th></th>\n",
       "      <th>sentence</th>\n",
       "      <th>label</th>\n",
       "    </tr>\n",
       "  </thead>\n",
       "  <tbody>\n",
       "    <tr>\n",
       "      <th>0</th>\n",
       "      <td>widely  featured in the national press and rad...</td>\n",
       "      <td>1</td>\n",
       "    </tr>\n",
       "    <tr>\n",
       "      <th>1</th>\n",
       "      <td>indeed one  of these  projects has been select...</td>\n",
       "      <td>1</td>\n",
       "    </tr>\n",
       "    <tr>\n",
       "      <th>2</th>\n",
       "      <td>impact public engagement and education influen...</td>\n",
       "      <td>1</td>\n",
       "    </tr>\n",
       "    <tr>\n",
       "      <th>3</th>\n",
       "      <td>reach worldwide dolly became a scientific icon...</td>\n",
       "      <td>1</td>\n",
       "    </tr>\n",
       "    <tr>\n",
       "      <th>4</th>\n",
       "      <td>the educational tools have been used by 11 000...</td>\n",
       "      <td>1</td>\n",
       "    </tr>\n",
       "  </tbody>\n",
       "</table>\n",
       "</div>"
      ],
      "text/plain": [
       "                                            sentence  label\n",
       "0  widely  featured in the national press and rad...      1\n",
       "1  indeed one  of these  projects has been select...      1\n",
       "2  impact public engagement and education influen...      1\n",
       "3  reach worldwide dolly became a scientific icon...      1\n",
       "4  the educational tools have been used by 11 000...      1"
      ]
     },
     "execution_count": 6,
     "metadata": {},
     "output_type": "execute_result"
    }
   ],
   "source": [
    "impact_sentences.head()"
   ]
  },
  {
   "cell_type": "markdown",
   "metadata": {},
   "source": [
    "### General sentences"
   ]
  },
  {
   "cell_type": "markdown",
   "metadata": {},
   "source": [
    "Load dataset containing sentences that are commonly found in medical and bioinformatics research documents. The process followed to build the dataset of general sentences is described in the notebook **`0.dataset_preparation.ipynb`**."
   ]
  },
  {
   "cell_type": "code",
   "execution_count": 7,
   "metadata": {},
   "outputs": [],
   "source": [
    "gral_sentences = pd.read_csv(\"data/sentences/gral_sentences.csv\", index_col=0)"
   ]
  },
  {
   "cell_type": "markdown",
   "metadata": {},
   "source": [
    "#### Add label column"
   ]
  },
  {
   "cell_type": "markdown",
   "metadata": {},
   "source": [
    "As in the case of the dataset of impact sentences, here a column **`label`** is also created to tag with 0 all general sentences."
   ]
  },
  {
   "cell_type": "code",
   "execution_count": 8,
   "metadata": {},
   "outputs": [],
   "source": [
    "gral_sentences['label'] = 0"
   ]
  },
  {
   "cell_type": "code",
   "execution_count": 9,
   "metadata": {},
   "outputs": [
    {
     "name": "stdout",
     "output_type": "stream",
     "text": [
      "The dataset contains 800 rows and 2 columns\n"
     ]
    }
   ],
   "source": [
    "nrows = gral_sentences.shape[0]\n",
    "ncols = gral_sentences.shape[1]\n",
    "print(f\"The dataset contains {nrows} rows and {ncols} columns\")"
   ]
  },
  {
   "cell_type": "markdown",
   "metadata": {},
   "source": [
    "Let's show a sample of the dateset"
   ]
  },
  {
   "cell_type": "code",
   "execution_count": 10,
   "metadata": {},
   "outputs": [
    {
     "data": {
      "text/html": [
       "<div>\n",
       "<style scoped>\n",
       "    .dataframe tbody tr th:only-of-type {\n",
       "        vertical-align: middle;\n",
       "    }\n",
       "\n",
       "    .dataframe tbody tr th {\n",
       "        vertical-align: top;\n",
       "    }\n",
       "\n",
       "    .dataframe thead th {\n",
       "        text-align: right;\n",
       "    }\n",
       "</style>\n",
       "<table border=\"1\" class=\"dataframe\">\n",
       "  <thead>\n",
       "    <tr style=\"text-align: right;\">\n",
       "      <th></th>\n",
       "      <th>sentence</th>\n",
       "      <th>label</th>\n",
       "    </tr>\n",
       "  </thead>\n",
       "  <tbody>\n",
       "    <tr>\n",
       "      <th>0</th>\n",
       "      <td>notably lncrnas are known to coordinate aggres...</td>\n",
       "      <td>0</td>\n",
       "    </tr>\n",
       "    <tr>\n",
       "      <th>1</th>\n",
       "      <td>given these complexities a general framework f...</td>\n",
       "      <td>0</td>\n",
       "    </tr>\n",
       "    <tr>\n",
       "      <th>2</th>\n",
       "      <td>it has been proposed that tumors with similar ...</td>\n",
       "      <td>0</td>\n",
       "    </tr>\n",
       "    <tr>\n",
       "      <th>3</th>\n",
       "      <td>we also excluded an additional patient for who...</td>\n",
       "      <td>0</td>\n",
       "    </tr>\n",
       "    <tr>\n",
       "      <th>4</th>\n",
       "      <td>although our report does not address the expre...</td>\n",
       "      <td>0</td>\n",
       "    </tr>\n",
       "  </tbody>\n",
       "</table>\n",
       "</div>"
      ],
      "text/plain": [
       "                                            sentence  label\n",
       "0  notably lncrnas are known to coordinate aggres...      0\n",
       "1  given these complexities a general framework f...      0\n",
       "2  it has been proposed that tumors with similar ...      0\n",
       "3  we also excluded an additional patient for who...      0\n",
       "4  although our report does not address the expre...      0"
      ]
     },
     "execution_count": 10,
     "metadata": {},
     "output_type": "execute_result"
    }
   ],
   "source": [
    "gral_sentences.head()"
   ]
  },
  {
   "cell_type": "markdown",
   "metadata": {},
   "source": [
    "### Merge datasets"
   ]
  },
  {
   "cell_type": "markdown",
   "metadata": {},
   "source": [
    "Merge both datasets, the general and impact one."
   ]
  },
  {
   "cell_type": "code",
   "execution_count": 11,
   "metadata": {},
   "outputs": [],
   "source": [
    "total_sentences = pd.concat([impact_sentences, gral_sentences], ignore_index=True)"
   ]
  },
  {
   "cell_type": "code",
   "execution_count": 12,
   "metadata": {},
   "outputs": [
    {
     "name": "stdout",
     "output_type": "stream",
     "text": [
      "The combined dataset contains 1006 rows and 2 columns\n"
     ]
    }
   ],
   "source": [
    "nrows = total_sentences.shape[0]\n",
    "ncols = total_sentences.shape[1]\n",
    "print(f\"The combined dataset contains {nrows} rows and {ncols} columns\")"
   ]
  },
  {
   "cell_type": "markdown",
   "metadata": {},
   "source": [
    "## Explore data"
   ]
  },
  {
   "cell_type": "markdown",
   "metadata": {},
   "source": [
    "Next, the dataset is explored by, first, computing the most frequent terms in sentences that contain evidence of social impact and, then, by calculating the most frequent term in general sentences."
   ]
  },
  {
   "cell_type": "code",
   "execution_count": 13,
   "metadata": {},
   "outputs": [],
   "source": [
    "word_black_list = ['research', 'impact', 'uk']  # let's add context specify words that will be filtered before computing frequencies\n",
    "max_items_to_show = 30"
   ]
  },
  {
   "cell_type": "markdown",
   "metadata": {},
   "source": [
    "### Most frequent terms in social impact sentences"
   ]
  },
  {
   "cell_type": "markdown",
   "metadata": {},
   "source": [
    "Inspect the most used terms used in sentences that express evidence of social impact"
   ]
  },
  {
   "cell_type": "code",
   "execution_count": 14,
   "metadata": {},
   "outputs": [],
   "source": [
    "si_sentences = total_sentences[total_sentences['label']==1]['sentence']\n",
    "si_words = []\n",
    "for si_sentence in si_sentences:\n",
    "    for word in si_sentence.split():\n",
    "        if len(word) > 2 and word not in word_black_list and word not in stopwords.words('english'):\n",
    "            si_words.append(word)\n",
    "fdist = FreqDist(si_words)\n",
    "freq_words_df = pd.DataFrame(fdist.items(), columns=['word', 'frequency'])"
   ]
  },
  {
   "cell_type": "code",
   "execution_count": 15,
   "metadata": {},
   "outputs": [],
   "source": [
    "freq_words_df.sort_values(by='frequency', ascending=False, inplace=True)"
   ]
  },
  {
   "cell_type": "code",
   "execution_count": 16,
   "metadata": {},
   "outputs": [
    {
     "data": {
      "image/png": "[encoded data removed]",
      "text/plain": [
       "<Figure size 936x576 with 1 Axes>"
      ]
     },
     "metadata": {
      "needs_background": "light"
     },
     "output_type": "display_data"
    }
   ],
   "source": [
    "freq_words_df.iloc[0:max_items_to_show,:].plot(x='word', y='frequency', kind='bar', figsize=(13,8))\n",
    "plt.xticks(rotation=90)\n",
    "plt.xlabel(\"Term\", size=13)\n",
    "plt.ylabel(\"Frequency\", size=13)\n",
    "plt.xticks(size=12)\n",
    "plt.yticks(size=12)\n",
    "plt.show()"
   ]
  },
  {
   "cell_type": "markdown",
   "metadata": {},
   "source": [
    "### Most frequent terms in general sentences"
   ]
  },
  {
   "cell_type": "markdown",
   "metadata": {},
   "source": [
    "Inspect the most used terms in sentences that do not neccesarily contain evidence of social impact"
   ]
  },
  {
   "cell_type": "code",
   "execution_count": 17,
   "metadata": {},
   "outputs": [],
   "source": [
    "n_si_sentences = total_sentences[total_sentences['label']==0]['sentence']\n",
    "n_fdist = FreqDist(word for n_si_sentence in n_si_sentences \n",
    "                        for word in n_si_sentence.split() if len(word) > 2 and word not in stopwords.words('english') and word not in word_black_list)\n",
    "n_freq_words_df = pd.DataFrame(n_fdist.items(), columns=['word', 'frequency'])"
   ]
  },
  {
   "cell_type": "code",
   "execution_count": 18,
   "metadata": {},
   "outputs": [],
   "source": [
    "n_freq_words_df.sort_values(by='frequency', ascending=False, inplace=True)"
   ]
  },
  {
   "cell_type": "code",
   "execution_count": 19,
   "metadata": {},
   "outputs": [
    {
     "data": {
      "image/png": "[encoded data removed]",
      "text/plain": [
       "<Figure size 936x576 with 1 Axes>"
      ]
     },
     "metadata": {
      "needs_background": "light"
     },
     "output_type": "display_data"
    }
   ],
   "source": [
    "n_freq_words_df.iloc[0:max_items_to_show,:].plot(x='word', y='frequency', kind='bar', figsize=(13,8))\n",
    "plt.xticks(rotation=90)\n",
    "plt.xlabel(\"Term\", size=13)\n",
    "plt.ylabel(\"Frequency\", size=13)\n",
    "plt.xticks(size=12)\n",
    "plt.yticks(size=12)\n",
    "plt.show()"
   ]
  },
  {
   "cell_type": "markdown",
   "metadata": {},
   "source": [
    "From the figures above it can be seen there is little overlap between the most frequent terms in sentences with evidence of social impact (e.g., public policy, health, national, development) and the most frequent terms in the general sentences, which, as expected, are more related with medical and biological terminologies, such as cancer, cells, patients, tumor, or therapy. The low interception between the most frequent terms in the two datasets demonstrates the potential of the data to train machine learning classifier. "
   ]
  },
  {
   "cell_type": "markdown",
   "metadata": {},
   "source": [
    "## Save validation data"
   ]
  },
  {
   "cell_type": "markdown",
   "metadata": {},
   "source": [
    "Take from the dataset a random sample that is going to be used later in the validation phase"
   ]
  },
  {
   "cell_type": "code",
   "execution_count": 21,
   "metadata": {},
   "outputs": [
    {
     "name": "stdout",
     "output_type": "stream",
     "text": [
      "The test set contains 41 rows with social impact sentences and 160 rows with general sentences\n"
     ]
    }
   ],
   "source": [
    "random_state = np.random.RandomState(1234)  # set a random seed for reproducibility purposes\n",
    "validation_impact_sentences = total_sentences[total_sentences['label']==1].sample(frac=0.2, random_state=random_state)\n",
    "validation_gral_sentences = total_sentences[total_sentences['label']==0].sample(frac=0.2, random_state=random_state)\n",
    "validation_sentences = pd.concat([validation_impact_sentences, validation_gral_sentences], ignore_index=True)\n",
    "nrows_impact, _ = validation_sentences[validation_sentences['label']==1].shape\n",
    "nrows_gral, _ = validation_sentences[validation_sentences['label']==0].shape\n",
    "print(f\"The test set contains {nrows_impact} rows with social impact sentences and {nrows_gral} rows with general sentences\")"
   ]
  },
  {
   "cell_type": "markdown",
   "metadata": {},
   "source": [
    "Let's save the test dataset to use it in the testing phase"
   ]
  },
  {
   "cell_type": "code",
   "execution_count": 22,
   "metadata": {},
   "outputs": [],
   "source": [
    "validation_sentences.to_csv('./data/validation_data.csv', index=False)"
   ]
  },
  {
   "cell_type": "markdown",
   "metadata": {},
   "source": [
    "Remove from dataset rows selected for validation"
   ]
  },
  {
   "cell_type": "code",
   "execution_count": 23,
   "metadata": {},
   "outputs": [
    {
     "name": "stdout",
     "output_type": "stream",
     "text": [
      "After taking validation data, 805 rows remained in the dataset\n"
     ]
    }
   ],
   "source": [
    "validation_indexes = list(validation_impact_sentences.index) + list(validation_gral_sentences.index)\n",
    "total_sentences = total_sentences[~total_sentences.index.isin(validation_indexes)]\n",
    "print(f\"After taking validation data, {total_sentences.shape[0]} rows remained in the dataset\")"
   ]
  },
  {
   "cell_type": "markdown",
   "metadata": {},
   "source": [
    "Let's do some sanity check. The number of rows in `validation_sentences` plus the number of remaning rows in `total_sentences` should be equal to the number of rows of the dataset before extracting the validation data."
   ]
  },
  {
   "cell_type": "code",
   "execution_count": 24,
   "metadata": {},
   "outputs": [],
   "source": [
    "assert (total_sentences.shape[0]+validation_sentences.shape[0]) == nrows"
   ]
  },
  {
   "cell_type": "markdown",
   "metadata": {},
   "source": [
    "Let's save train and test data"
   ]
  },
  {
   "cell_type": "code",
   "execution_count": 25,
   "metadata": {},
   "outputs": [],
   "source": [
    "total_sentences.to_csv('./data/train_test_data.csv', index=False)"
   ]
  },
  {
   "cell_type": "markdown",
   "metadata": {},
   "source": [
    "## Prepare data"
   ]
  },
  {
   "cell_type": "markdown",
   "metadata": {},
   "source": [
    "Separate sentences and labels into different variables"
   ]
  },
  {
   "cell_type": "code",
   "execution_count": 26,
   "metadata": {},
   "outputs": [],
   "source": [
    "data, labels = total_sentences['sentence'], total_sentences['label']"
   ]
  },
  {
   "cell_type": "code",
   "execution_count": 27,
   "metadata": {},
   "outputs": [
    {
     "name": "stdout",
     "output_type": "stream",
     "text": [
      "CPU times: user 15.6 s, sys: 1.02 s, total: 16.6 s\n",
      "Wall time: 16.8 s\n"
     ]
    }
   ],
   "source": [
    "%%time\n",
    "data_clean = [sentence_to_words(sentence) for sentence in data]\n",
    "data_clean_with_steeming = [sentence_to_words(sentence, steeming=True) for sentence in data]\n",
    "data_clean_with_lemmatization = [sentence_to_words(sentence, lemmatization=True) for sentence in data]\n",
    "data_clean_with_steeming_lemmatization = [sentence_to_words(sentence, True, True) for sentence in data]"
   ]
  },
  {
   "cell_type": "markdown",
   "metadata": {},
   "source": [
    "Save preprocess data into a dictionary to avoid carrying around the recently create variables"
   ]
  },
  {
   "cell_type": "code",
   "execution_count": 28,
   "metadata": {},
   "outputs": [],
   "source": [
    "preprocess_data = {\n",
    "    'clean': {'data': data_clean, 'labels': labels},\n",
    "    'clean_steeming': {'data': data_clean_with_steeming, 'labels': labels},\n",
    "    'clean_lemmatization': {'data': data_clean_with_lemmatization, 'labels': labels},\n",
    "    'clean_steeming_lemmatization': {'data': data_clean_with_steeming_lemmatization, 'labels': labels}\n",
    "}"
   ]
  },
  {
   "cell_type": "markdown",
   "metadata": {},
   "source": [
    "Check a sample of the preprocess data"
   ]
  },
  {
   "cell_type": "code",
   "execution_count": 30,
   "metadata": {},
   "outputs": [
    {
     "data": {
      "text/plain": [
       "['widely',\n",
       " 'featured',\n",
       " 'national',\n",
       " 'press',\n",
       " 'radio',\n",
       " 'actively',\n",
       " 'engaged',\n",
       " '20',\n",
       " '000',\n",
       " 'members',\n",
       " 'public',\n",
       " 'primary',\n",
       " 'scientific',\n",
       " 'research',\n",
       " 'including',\n",
       " '3',\n",
       " '500',\n",
       " 'super',\n",
       " 'engagers',\n",
       " 'sent',\n",
       " 'detailed',\n",
       " 'records',\n",
       " 'samples']"
      ]
     },
     "execution_count": 30,
     "metadata": {},
     "output_type": "execute_result"
    }
   ],
   "source": [
    "preprocess_data['clean']['data'][0]"
   ]
  },
  {
   "cell_type": "markdown",
   "metadata": {},
   "source": [
    "### Transform to Bag-of-Words Representation"
   ]
  },
  {
   "cell_type": "markdown",
   "metadata": {},
   "source": [
    "Define transformation conditions"
   ]
  },
  {
   "cell_type": "code",
   "execution_count": 31,
   "metadata": {},
   "outputs": [],
   "source": [
    "transformations = ['tc', 'tf', 'tfidf']\n",
    "max_features=[100, 200, 400, 500, 800]\n",
    "ngram_ranges=[(1,1),(1,2),(1,3)]\n",
    "total_cycles = len(transformations)*len(max_features)*len(ngram_ranges)*len(preprocess_data)"
   ]
  },
  {
   "cell_type": "code",
   "execution_count": 32,
   "metadata": {},
   "outputs": [],
   "source": [
    "transformed_txts = []"
   ]
  },
  {
   "cell_type": "code",
   "execution_count": 33,
   "metadata": {},
   "outputs": [
    {
     "name": "stdout",
     "output_type": "stream",
     "text": [
      "100%|██████████| 180/180 [00:13<00:00, 13.02it/s]\n"
     ]
    }
   ],
   "source": [
    "with tqdm(total=total_cycles, file=sys.stdout) as pbar:\n",
    "    for transformation in transformations:        \n",
    "        for max_feature in max_features:\n",
    "            for ngram_range in ngram_ranges:\n",
    "                for data_type, data_dict in preprocess_data.items():\n",
    "                    pbar.update(1)\n",
    "                    data = data_dict['data']\n",
    "                    transformed_data, _ = extract_BoW_features(data, max_feature, transformation, ngram_range)\n",
    "                    transformed_txts.append(\n",
    "                        {\n",
    "                            'transformation': transformation,\n",
    "                            'max_features': max_feature,\n",
    "                            'ngram_range': ngram_range,\n",
    "                            'data': transformed_data,\n",
    "                            'data_type': data_type,\n",
    "                            'labels': data_dict['labels']\n",
    "                        }\n",
    "                    )"
   ]
  },
  {
   "cell_type": "markdown",
   "metadata": {},
   "source": [
    "Let's do some sanity check"
   ]
  },
  {
   "cell_type": "code",
   "execution_count": 34,
   "metadata": {},
   "outputs": [
    {
     "data": {
      "text/plain": [
       "{'transformation': 'tc',\n",
       " 'max_features': 100,\n",
       " 'ngram_range': (1, 1),\n",
       " 'data': array([[0, 0, 0, ..., 0, 0, 0],\n",
       "        [0, 0, 0, ..., 0, 0, 0],\n",
       "        [0, 0, 0, ..., 0, 0, 0],\n",
       "        ...,\n",
       "        [0, 0, 0, ..., 0, 0, 0],\n",
       "        [0, 0, 0, ..., 0, 0, 0],\n",
       "        [0, 0, 0, ..., 0, 0, 0]]),\n",
       " 'data_type': 'clean',\n",
       " 'labels': 0       1\n",
       " 1       1\n",
       " 2       1\n",
       " 3       1\n",
       " 4       1\n",
       "        ..\n",
       " 999     0\n",
       " 1001    0\n",
       " 1003    0\n",
       " 1004    0\n",
       " 1005    0\n",
       " Name: label, Length: 805, dtype: int64}"
      ]
     },
     "execution_count": 34,
     "metadata": {},
     "output_type": "execute_result"
    }
   ],
   "source": [
    "transformed_txts[0]"
   ]
  },
  {
   "cell_type": "code",
   "execution_count": 35,
   "metadata": {},
   "outputs": [],
   "source": [
    "assert len(transformed_txts[0]['data']) == len(transformed_txts[0]['labels'])"
   ]
  },
  {
   "cell_type": "markdown",
   "metadata": {},
   "source": [
    "## Build ML model"
   ]
  },
  {
   "cell_type": "markdown",
   "metadata": {},
   "source": [
    "Build and test different machine learning models. The choosen decision of algorithms was based on algorithms that were reported to perform well on unbalanced, small, and textual datasets, which is our case. Therefore, next, we try the following algorithms: Naive-Bayes, Support Vector Machine with both linear and rbf kernels, Logistic Regression with both penalties L1 and L2, Random Forest, and XGBoost. \n",
    "\n",
    "Parameters for the Random Forest were leant through a hyper-parametrization process in which the best parameters were computed employing the training data, which were normalized and transformed using the methods presented above. The output of the hyperparametrization process has been saved in the `data/rf_parameters.csv`, where lines represent the most optimal parameters for the different combinations of text transformation and normalization (e.g., text normalized with steeming and transformed with term-frequency using 400 features and 1 n-gram). The entire hyperparametrization process has been implemented in the notebook **`rf_hypterparametrization`**. \n",
    "\n",
    "Models are trained and tested following the cross-validation approach. The metric to be optimized is **`recall`** because, in spite of over-identifying sentences that might not contain evidence of social impact and even when more sentences mean an overload of work for evaluators, the aim is to avoid losing sentences that can potentially contain evidence of impact and thus might be deciding in understanding the social impact of the research. As an alternative metric, **`balanced accuracy`** is employed to cross-check recall results. For the sake of completeness, precision and F1 metrics are also computed but they are not used in model selection because we understand that precision (and F1) can be misleading with unbalanced dataset, such as ours."
   ]
  },
  {
   "cell_type": "code",
   "execution_count": 79,
   "metadata": {},
   "outputs": [],
   "source": [
    "# read hyperparametrization\n",
    "rf_parameters = pd.read_csv('./data/rf_parameters.csv')"
   ]
  },
  {
   "cell_type": "code",
   "execution_count": 80,
   "metadata": {},
   "outputs": [
    {
     "data": {
      "text/html": [
       "<div>\n",
       "<style scoped>\n",
       "    .dataframe tbody tr th:only-of-type {\n",
       "        vertical-align: middle;\n",
       "    }\n",
       "\n",
       "    .dataframe tbody tr th {\n",
       "        vertical-align: top;\n",
       "    }\n",
       "\n",
       "    .dataframe thead th {\n",
       "        text-align: right;\n",
       "    }\n",
       "</style>\n",
       "<table border=\"1\" class=\"dataframe\">\n",
       "  <thead>\n",
       "    <tr style=\"text-align: right;\">\n",
       "      <th></th>\n",
       "      <th>transformation</th>\n",
       "      <th>max_features_txt</th>\n",
       "      <th>ngram_range</th>\n",
       "      <th>data_type</th>\n",
       "      <th>n_estimators</th>\n",
       "      <th>min_samples_split</th>\n",
       "      <th>min_samples_leaf</th>\n",
       "      <th>max_features</th>\n",
       "      <th>max_depth</th>\n",
       "      <th>bootstrap</th>\n",
       "    </tr>\n",
       "  </thead>\n",
       "  <tbody>\n",
       "    <tr>\n",
       "      <th>0</th>\n",
       "      <td>tc</td>\n",
       "      <td>100</td>\n",
       "      <td>(1, 1)</td>\n",
       "      <td>clean</td>\n",
       "      <td>1000</td>\n",
       "      <td>10</td>\n",
       "      <td>1</td>\n",
       "      <td>auto</td>\n",
       "      <td>20.0</td>\n",
       "      <td>False</td>\n",
       "    </tr>\n",
       "    <tr>\n",
       "      <th>1</th>\n",
       "      <td>tc</td>\n",
       "      <td>100</td>\n",
       "      <td>(1, 1)</td>\n",
       "      <td>clean_steeming</td>\n",
       "      <td>500</td>\n",
       "      <td>7</td>\n",
       "      <td>1</td>\n",
       "      <td>auto</td>\n",
       "      <td>20.0</td>\n",
       "      <td>False</td>\n",
       "    </tr>\n",
       "    <tr>\n",
       "      <th>2</th>\n",
       "      <td>tc</td>\n",
       "      <td>100</td>\n",
       "      <td>(1, 1)</td>\n",
       "      <td>clean_lemmatization</td>\n",
       "      <td>700</td>\n",
       "      <td>7</td>\n",
       "      <td>2</td>\n",
       "      <td>sqrt</td>\n",
       "      <td>NaN</td>\n",
       "      <td>False</td>\n",
       "    </tr>\n",
       "    <tr>\n",
       "      <th>3</th>\n",
       "      <td>tc</td>\n",
       "      <td>100</td>\n",
       "      <td>(1, 1)</td>\n",
       "      <td>clean_steeming_lemmatization</td>\n",
       "      <td>400</td>\n",
       "      <td>2</td>\n",
       "      <td>2</td>\n",
       "      <td>sqrt</td>\n",
       "      <td>60.0</td>\n",
       "      <td>True</td>\n",
       "    </tr>\n",
       "    <tr>\n",
       "      <th>4</th>\n",
       "      <td>tc</td>\n",
       "      <td>100</td>\n",
       "      <td>(1, 2)</td>\n",
       "      <td>clean</td>\n",
       "      <td>700</td>\n",
       "      <td>7</td>\n",
       "      <td>2</td>\n",
       "      <td>sqrt</td>\n",
       "      <td>NaN</td>\n",
       "      <td>False</td>\n",
       "    </tr>\n",
       "  </tbody>\n",
       "</table>\n",
       "</div>"
      ],
      "text/plain": [
       "  transformation  max_features_txt ngram_range                     data_type  \\\n",
       "0             tc               100      (1, 1)                         clean   \n",
       "1             tc               100      (1, 1)                clean_steeming   \n",
       "2             tc               100      (1, 1)           clean_lemmatization   \n",
       "3             tc               100      (1, 1)  clean_steeming_lemmatization   \n",
       "4             tc               100      (1, 2)                         clean   \n",
       "\n",
       "   n_estimators  min_samples_split  min_samples_leaf max_features  max_depth  \\\n",
       "0          1000                 10                 1         auto       20.0   \n",
       "1           500                  7                 1         auto       20.0   \n",
       "2           700                  7                 2         sqrt        NaN   \n",
       "3           400                  2                 2         sqrt       60.0   \n",
       "4           700                  7                 2         sqrt        NaN   \n",
       "\n",
       "   bootstrap  \n",
       "0      False  \n",
       "1      False  \n",
       "2      False  \n",
       "3       True  \n",
       "4      False  "
      ]
     },
     "execution_count": 80,
     "metadata": {},
     "output_type": "execute_result"
    }
   ],
   "source": [
    "rf_parameters.head()"
   ]
  },
  {
   "cell_type": "code",
   "execution_count": 130,
   "metadata": {},
   "outputs": [],
   "source": [
    "def get_classifier(algorithm_name, algorithm_params=None):\n",
    "    if algorithm_name == 'NB':\n",
    "        classifier = GaussianNB()\n",
    "    elif algorithm_name == 'SVMR':\n",
    "        classifier = SVC(kernel='rbf', gamma='auto')\n",
    "    elif algorithm_name == 'SVML':\n",
    "        classifier = SVC(kernel='linear', gamma='auto')\n",
    "    elif algorithm_name == 'LR1':\n",
    "        classifier = LogisticRegression(penalty='l1', solver='liblinear')\n",
    "    elif algorithm_name == 'LR2':\n",
    "        classifier = LogisticRegression(penalty='l2', solver='liblinear')\n",
    "    elif algorithm_name == 'RF':\n",
    "        if not algorithm_params:\n",
    "            # if no parameters are given define default parameters\n",
    "            algorithm_params = {\n",
    "                'n_estimators': 200,\n",
    "                'min_samples_split': 10,\n",
    "                'min_samples_leaf': 1,\n",
    "                'max_features': 'sqrt',\n",
    "                'max_depth': None,\n",
    "                'bootstrap': False\n",
    "            }\n",
    "        classifier = RandomForestClassifier(**algorithm_params)\n",
    "    elif algorithm_name == 'XGB':\n",
    "        classifier = XGBClassifier(objective=\"binary:logistic\", eta=0.2, gamma=4, min_child_weight=6)\n",
    "    else:\n",
    "        print(\"Unknown algorithm: {0}\",format(algorithm_name))\n",
    "\n",
    "    return classifier"
   ]
  },
  {
   "cell_type": "code",
   "execution_count": 125,
   "metadata": {},
   "outputs": [],
   "source": [
    "def do_cross_validation(kfold, classifier, data, labels):\n",
    "    scores = {\n",
    "        'balanced_accuracy': [],\n",
    "        'recall': [],\n",
    "        'precision': [],\n",
    "        'roc_auc': [],\n",
    "        'f1': []\n",
    "    }\n",
    "    for train_index, test_index in kfold.split(data):   \n",
    "        kf_X_train, kf_X_test = data[train_index], data[test_index]\n",
    "        kf_y_train, kf_y_test = labels.iloc[train_index], labels.iloc[test_index]        \n",
    "        classifier.fit(kf_X_train, kf_y_train)\n",
    "        y_pred = classifier.predict(kf_X_test)\n",
    "        scores['balanced_accuracy'].append(metrics.balanced_accuracy_score(kf_y_test, y_pred))\n",
    "        scores['recall'].append(metrics.recall_score(kf_y_test, y_pred))\n",
    "        scores['roc_auc'].append(metrics.roc_auc_score(kf_y_test, y_pred))\n",
    "        scores['precision'].append(metrics.roc_auc_score(kf_y_test, y_pred))\n",
    "        scores['f1'].append(metrics.f1_score(kf_y_test, y_pred, average='weighted', labels=np.unique(y_pred)))\n",
    "    return (scores, classifier)"
   ]
  },
  {
   "cell_type": "code",
   "execution_count": 126,
   "metadata": {},
   "outputs": [],
   "source": [
    "kfold = KFold(n_splits=10, shuffle=True, random_state=42)\n",
    "algorithms = ['NB', 'SVMR', 'SVML', 'LR1', 'LR2', 'RF', 'XGB']\n",
    "total_cycles *= len(algorithms)"
   ]
  },
  {
   "cell_type": "code",
   "execution_count": 138,
   "metadata": {},
   "outputs": [
    {
     "name": "stdout",
     "output_type": "stream",
     "text": [
      " 30%|███       | 384/1260 [51:11<1:07:50,  4.65s/it]"
     ]
    },
    {
     "name": "stderr",
     "output_type": "stream",
     "text": [
      "/home/Life/jsaldiva/.conda/envs/impactenv/lib/python3.6/site-packages/sklearn/svm/base.py:931: ConvergenceWarning: Liblinear failed to converge, increase the number of iterations.\n",
      "  \"the number of iterations.\", ConvergenceWarning)\n"
     ]
    },
    {
     "name": "stdout",
     "output_type": "stream",
     "text": [
      "100%|██████████| 1260/1260 [2:58:45<00:00,  8.51s/it]  \n"
     ]
    }
   ],
   "source": [
    "outputs = []\n",
    "with tqdm(total=total_cycles, file=sys.stdout) as pbar:\n",
    "    for transformed_txt in transformed_txts:\n",
    "        for algorithm in algorithms:\n",
    "            pbar.update(1)\n",
    "            params_dict = None\n",
    "            params_series = None\n",
    "            if algorithm == 'RF':\n",
    "                params_series = rf_parameters[\n",
    "                    (rf_parameters['transformation']==transformed_txt['transformation'])&\\\n",
    "                    (rf_parameters['max_features_txt']==transformed_txt['max_features'])&\\\n",
    "                    (rf_parameters['ngram_range']==str(transformed_txt['ngram_range']))&\\\n",
    "                    (rf_parameters['data_type']==transformed_txt['data_type'])\n",
    "                ][['n_estimators', 'min_samples_split', 'min_samples_leaf', 'max_features', 'max_depth', 'bootstrap']]\n",
    "                params_dict = params_series.iloc[0,:].to_dict()\n",
    "                params_dict['max_depth'] = None if np.isnan(params_dict['max_depth']) else params_dict['max_depth']                                \n",
    "            classifier = get_classifier(algorithm, params_dict)\n",
    "            scores, trained_model = do_cross_validation(kfold, classifier, transformed_txt['data'], transformed_txt['labels'])\n",
    "            outputs.append(\n",
    "                {\n",
    "                    'algorithm': algorithm,\n",
    "                    'transformation': transformed_txt['transformation'],\n",
    "                    'max_features': transformed_txt['max_features'],\n",
    "                    'ngram_range': str(transformed_txt['ngram_range']),\n",
    "                    'data_type': transformed_txt['data_type'],\n",
    "                    'classifier': trained_model,\n",
    "                    'metrics': scores,\n",
    "                }\n",
    "            )"
   ]
  },
  {
   "cell_type": "markdown",
   "metadata": {},
   "source": [
    "Save results into a dataframe"
   ]
  },
  {
   "cell_type": "code",
   "execution_count": 139,
   "metadata": {},
   "outputs": [],
   "source": [
    "output_df = pd.DataFrame(columns=['algorithm', 'transformation', 'max_features', 'ngram_range', 'data_type', \n",
    "                                  'mean_balanced_accuracy', 'mean_recall', 'mean_roc_auc'])\n",
    "for output in outputs:\n",
    "    row = {\n",
    "        'algorithm': output['algorithm'],\n",
    "        'transformation': output['transformation'],\n",
    "        'max_features': output['max_features'],\n",
    "        'ngram_range': output['ngram_range'],\n",
    "        'data_type': output['data_type'],\n",
    "        'mean_balanced_accuracy': round(np.array(output['metrics']['balanced_accuracy']).mean(), 2),\n",
    "        'mean_recall': round(np.array(output['metrics']['recall']).mean(), 2),\n",
    "        'mean_precision': round(np.array(output['metrics']['precision']).mean(), 2),\n",
    "        'mean_f1': round(np.array(output['metrics']['f1']).mean(), 2),\n",
    "        'mean_roc_auc': round(np.array(output['metrics']['roc_auc']).mean(), 2),\n",
    "    }\n",
    "    output_df = output_df.append(row, ignore_index=True)"
   ]
  },
  {
   "cell_type": "code",
   "execution_count": 140,
   "metadata": {},
   "outputs": [
    {
     "data": {
      "text/html": [
       "<div>\n",
       "<style scoped>\n",
       "    .dataframe tbody tr th:only-of-type {\n",
       "        vertical-align: middle;\n",
       "    }\n",
       "\n",
       "    .dataframe tbody tr th {\n",
       "        vertical-align: top;\n",
       "    }\n",
       "\n",
       "    .dataframe thead th {\n",
       "        text-align: right;\n",
       "    }\n",
       "</style>\n",
       "<table border=\"1\" class=\"dataframe\">\n",
       "  <thead>\n",
       "    <tr style=\"text-align: right;\">\n",
       "      <th></th>\n",
       "      <th>algorithm</th>\n",
       "      <th>transformation</th>\n",
       "      <th>max_features</th>\n",
       "      <th>ngram_range</th>\n",
       "      <th>data_type</th>\n",
       "      <th>mean_balanced_accuracy</th>\n",
       "      <th>mean_recall</th>\n",
       "      <th>mean_roc_auc</th>\n",
       "      <th>mean_f1</th>\n",
       "      <th>mean_precision</th>\n",
       "    </tr>\n",
       "  </thead>\n",
       "  <tbody>\n",
       "    <tr>\n",
       "      <th>0</th>\n",
       "      <td>NB</td>\n",
       "      <td>tc</td>\n",
       "      <td>100</td>\n",
       "      <td>(1, 1)</td>\n",
       "      <td>clean</td>\n",
       "      <td>0.82</td>\n",
       "      <td>0.96</td>\n",
       "      <td>0.82</td>\n",
       "      <td>0.76</td>\n",
       "      <td>0.82</td>\n",
       "    </tr>\n",
       "    <tr>\n",
       "      <th>1</th>\n",
       "      <td>SVMR</td>\n",
       "      <td>tc</td>\n",
       "      <td>100</td>\n",
       "      <td>(1, 1)</td>\n",
       "      <td>clean</td>\n",
       "      <td>0.81</td>\n",
       "      <td>0.63</td>\n",
       "      <td>0.81</td>\n",
       "      <td>0.91</td>\n",
       "      <td>0.81</td>\n",
       "    </tr>\n",
       "    <tr>\n",
       "      <th>2</th>\n",
       "      <td>SVML</td>\n",
       "      <td>tc</td>\n",
       "      <td>100</td>\n",
       "      <td>(1, 1)</td>\n",
       "      <td>clean</td>\n",
       "      <td>0.90</td>\n",
       "      <td>0.83</td>\n",
       "      <td>0.90</td>\n",
       "      <td>0.95</td>\n",
       "      <td>0.90</td>\n",
       "    </tr>\n",
       "    <tr>\n",
       "      <th>3</th>\n",
       "      <td>LR1</td>\n",
       "      <td>tc</td>\n",
       "      <td>100</td>\n",
       "      <td>(1, 1)</td>\n",
       "      <td>clean</td>\n",
       "      <td>0.89</td>\n",
       "      <td>0.78</td>\n",
       "      <td>0.89</td>\n",
       "      <td>0.94</td>\n",
       "      <td>0.89</td>\n",
       "    </tr>\n",
       "    <tr>\n",
       "      <th>4</th>\n",
       "      <td>LR2</td>\n",
       "      <td>tc</td>\n",
       "      <td>100</td>\n",
       "      <td>(1, 1)</td>\n",
       "      <td>clean</td>\n",
       "      <td>0.89</td>\n",
       "      <td>0.79</td>\n",
       "      <td>0.89</td>\n",
       "      <td>0.95</td>\n",
       "      <td>0.89</td>\n",
       "    </tr>\n",
       "  </tbody>\n",
       "</table>\n",
       "</div>"
      ],
      "text/plain": [
       "  algorithm transformation max_features ngram_range data_type  \\\n",
       "0        NB             tc          100      (1, 1)     clean   \n",
       "1      SVMR             tc          100      (1, 1)     clean   \n",
       "2      SVML             tc          100      (1, 1)     clean   \n",
       "3       LR1             tc          100      (1, 1)     clean   \n",
       "4       LR2             tc          100      (1, 1)     clean   \n",
       "\n",
       "   mean_balanced_accuracy  mean_recall  mean_roc_auc  mean_f1  mean_precision  \n",
       "0                    0.82         0.96          0.82     0.76            0.82  \n",
       "1                    0.81         0.63          0.81     0.91            0.81  \n",
       "2                    0.90         0.83          0.90     0.95            0.90  \n",
       "3                    0.89         0.78          0.89     0.94            0.89  \n",
       "4                    0.89         0.79          0.89     0.95            0.89  "
      ]
     },
     "execution_count": 140,
     "metadata": {},
     "output_type": "execute_result"
    }
   ],
   "source": [
    "output_df.head()"
   ]
  },
  {
   "cell_type": "markdown",
   "metadata": {},
   "source": [
    "Save training results to a csv"
   ]
  },
  {
   "cell_type": "code",
   "execution_count": 142,
   "metadata": {},
   "outputs": [],
   "source": [
    "experiment_dir = 'experiments'  # directory to store experiments\n",
    "os.makedirs(experiment_dir, exist_ok=True)  # ensure the directory exists\n",
    "output_df.to_csv(experiment_dir+'/e_19052020.csv', index=False)"
   ]
  },
  {
   "cell_type": "markdown",
   "metadata": {},
   "source": [
    "Look at the top-5 models by `ROC-AUC`"
   ]
  },
  {
   "cell_type": "code",
   "execution_count": 141,
   "metadata": {},
   "outputs": [
    {
     "data": {
      "text/html": [
       "<div>\n",
       "<style scoped>\n",
       "    .dataframe tbody tr th:only-of-type {\n",
       "        vertical-align: middle;\n",
       "    }\n",
       "\n",
       "    .dataframe tbody tr th {\n",
       "        vertical-align: top;\n",
       "    }\n",
       "\n",
       "    .dataframe thead th {\n",
       "        text-align: right;\n",
       "    }\n",
       "</style>\n",
       "<table border=\"1\" class=\"dataframe\">\n",
       "  <thead>\n",
       "    <tr style=\"text-align: right;\">\n",
       "      <th></th>\n",
       "      <th>algorithm</th>\n",
       "      <th>transformation</th>\n",
       "      <th>max_features</th>\n",
       "      <th>ngram_range</th>\n",
       "      <th>data_type</th>\n",
       "      <th>mean_balanced_accuracy</th>\n",
       "      <th>mean_recall</th>\n",
       "      <th>mean_roc_auc</th>\n",
       "      <th>mean_f1</th>\n",
       "      <th>mean_precision</th>\n",
       "    </tr>\n",
       "  </thead>\n",
       "  <tbody>\n",
       "    <tr>\n",
       "      <th>838</th>\n",
       "      <td>RF</td>\n",
       "      <td>tf</td>\n",
       "      <td>800</td>\n",
       "      <td>(1, 3)</td>\n",
       "      <td>clean_steeming_lemmatization</td>\n",
       "      <td>0.97</td>\n",
       "      <td>0.94</td>\n",
       "      <td>0.97</td>\n",
       "      <td>0.98</td>\n",
       "      <td>0.97</td>\n",
       "    </tr>\n",
       "    <tr>\n",
       "      <th>761</th>\n",
       "      <td>RF</td>\n",
       "      <td>tf</td>\n",
       "      <td>800</td>\n",
       "      <td>(1, 1)</td>\n",
       "      <td>clean</td>\n",
       "      <td>0.97</td>\n",
       "      <td>0.95</td>\n",
       "      <td>0.97</td>\n",
       "      <td>0.98</td>\n",
       "      <td>0.97</td>\n",
       "    </tr>\n",
       "    <tr>\n",
       "      <th>635</th>\n",
       "      <td>RF</td>\n",
       "      <td>tf</td>\n",
       "      <td>400</td>\n",
       "      <td>(1, 2)</td>\n",
       "      <td>clean_lemmatization</td>\n",
       "      <td>0.97</td>\n",
       "      <td>0.95</td>\n",
       "      <td>0.97</td>\n",
       "      <td>0.98</td>\n",
       "      <td>0.97</td>\n",
       "    </tr>\n",
       "    <tr>\n",
       "      <th>1020</th>\n",
       "      <td>RF</td>\n",
       "      <td>tfidf</td>\n",
       "      <td>400</td>\n",
       "      <td>(1, 1)</td>\n",
       "      <td>clean_steeming</td>\n",
       "      <td>0.97</td>\n",
       "      <td>0.94</td>\n",
       "      <td>0.97</td>\n",
       "      <td>0.98</td>\n",
       "      <td>0.97</td>\n",
       "    </tr>\n",
       "    <tr>\n",
       "      <th>719</th>\n",
       "      <td>RF</td>\n",
       "      <td>tf</td>\n",
       "      <td>500</td>\n",
       "      <td>(1, 2)</td>\n",
       "      <td>clean_lemmatization</td>\n",
       "      <td>0.97</td>\n",
       "      <td>0.95</td>\n",
       "      <td>0.97</td>\n",
       "      <td>0.98</td>\n",
       "      <td>0.97</td>\n",
       "    </tr>\n",
       "  </tbody>\n",
       "</table>\n",
       "</div>"
      ],
      "text/plain": [
       "     algorithm transformation max_features ngram_range  \\\n",
       "838         RF             tf          800      (1, 3)   \n",
       "761         RF             tf          800      (1, 1)   \n",
       "635         RF             tf          400      (1, 2)   \n",
       "1020        RF          tfidf          400      (1, 1)   \n",
       "719         RF             tf          500      (1, 2)   \n",
       "\n",
       "                         data_type  mean_balanced_accuracy  mean_recall  \\\n",
       "838   clean_steeming_lemmatization                    0.97         0.94   \n",
       "761                          clean                    0.97         0.95   \n",
       "635            clean_lemmatization                    0.97         0.95   \n",
       "1020                clean_steeming                    0.97         0.94   \n",
       "719            clean_lemmatization                    0.97         0.95   \n",
       "\n",
       "      mean_roc_auc  mean_f1  mean_precision  \n",
       "838           0.97     0.98            0.97  \n",
       "761           0.97     0.98            0.97  \n",
       "635           0.97     0.98            0.97  \n",
       "1020          0.97     0.98            0.97  \n",
       "719           0.97     0.98            0.97  "
      ]
     },
     "execution_count": 141,
     "metadata": {},
     "output_type": "execute_result"
    }
   ],
   "source": [
    "output_df.sort_values(by='mean_roc_auc', ascending=False).head(5)"
   ]
  },
  {
   "cell_type": "markdown",
   "metadata": {},
   "source": [
    "Look at the top-5 models by `Balanced Accuracy`"
   ]
  },
  {
   "cell_type": "code",
   "execution_count": 143,
   "metadata": {},
   "outputs": [
    {
     "data": {
      "text/html": [
       "<div>\n",
       "<style scoped>\n",
       "    .dataframe tbody tr th:only-of-type {\n",
       "        vertical-align: middle;\n",
       "    }\n",
       "\n",
       "    .dataframe tbody tr th {\n",
       "        vertical-align: top;\n",
       "    }\n",
       "\n",
       "    .dataframe thead th {\n",
       "        text-align: right;\n",
       "    }\n",
       "</style>\n",
       "<table border=\"1\" class=\"dataframe\">\n",
       "  <thead>\n",
       "    <tr style=\"text-align: right;\">\n",
       "      <th></th>\n",
       "      <th>algorithm</th>\n",
       "      <th>transformation</th>\n",
       "      <th>max_features</th>\n",
       "      <th>ngram_range</th>\n",
       "      <th>data_type</th>\n",
       "      <th>mean_balanced_accuracy</th>\n",
       "      <th>mean_recall</th>\n",
       "      <th>mean_roc_auc</th>\n",
       "      <th>mean_f1</th>\n",
       "      <th>mean_precision</th>\n",
       "    </tr>\n",
       "  </thead>\n",
       "  <tbody>\n",
       "    <tr>\n",
       "      <th>838</th>\n",
       "      <td>RF</td>\n",
       "      <td>tf</td>\n",
       "      <td>800</td>\n",
       "      <td>(1, 3)</td>\n",
       "      <td>clean_steeming_lemmatization</td>\n",
       "      <td>0.97</td>\n",
       "      <td>0.94</td>\n",
       "      <td>0.97</td>\n",
       "      <td>0.98</td>\n",
       "      <td>0.97</td>\n",
       "    </tr>\n",
       "    <tr>\n",
       "      <th>761</th>\n",
       "      <td>RF</td>\n",
       "      <td>tf</td>\n",
       "      <td>800</td>\n",
       "      <td>(1, 1)</td>\n",
       "      <td>clean</td>\n",
       "      <td>0.97</td>\n",
       "      <td>0.95</td>\n",
       "      <td>0.97</td>\n",
       "      <td>0.98</td>\n",
       "      <td>0.97</td>\n",
       "    </tr>\n",
       "    <tr>\n",
       "      <th>635</th>\n",
       "      <td>RF</td>\n",
       "      <td>tf</td>\n",
       "      <td>400</td>\n",
       "      <td>(1, 2)</td>\n",
       "      <td>clean_lemmatization</td>\n",
       "      <td>0.97</td>\n",
       "      <td>0.95</td>\n",
       "      <td>0.97</td>\n",
       "      <td>0.98</td>\n",
       "      <td>0.97</td>\n",
       "    </tr>\n",
       "    <tr>\n",
       "      <th>1020</th>\n",
       "      <td>RF</td>\n",
       "      <td>tfidf</td>\n",
       "      <td>400</td>\n",
       "      <td>(1, 1)</td>\n",
       "      <td>clean_steeming</td>\n",
       "      <td>0.97</td>\n",
       "      <td>0.94</td>\n",
       "      <td>0.97</td>\n",
       "      <td>0.98</td>\n",
       "      <td>0.97</td>\n",
       "    </tr>\n",
       "    <tr>\n",
       "      <th>719</th>\n",
       "      <td>RF</td>\n",
       "      <td>tf</td>\n",
       "      <td>500</td>\n",
       "      <td>(1, 2)</td>\n",
       "      <td>clean_lemmatization</td>\n",
       "      <td>0.97</td>\n",
       "      <td>0.95</td>\n",
       "      <td>0.97</td>\n",
       "      <td>0.98</td>\n",
       "      <td>0.97</td>\n",
       "    </tr>\n",
       "  </tbody>\n",
       "</table>\n",
       "</div>"
      ],
      "text/plain": [
       "     algorithm transformation max_features ngram_range  \\\n",
       "838         RF             tf          800      (1, 3)   \n",
       "761         RF             tf          800      (1, 1)   \n",
       "635         RF             tf          400      (1, 2)   \n",
       "1020        RF          tfidf          400      (1, 1)   \n",
       "719         RF             tf          500      (1, 2)   \n",
       "\n",
       "                         data_type  mean_balanced_accuracy  mean_recall  \\\n",
       "838   clean_steeming_lemmatization                    0.97         0.94   \n",
       "761                          clean                    0.97         0.95   \n",
       "635            clean_lemmatization                    0.97         0.95   \n",
       "1020                clean_steeming                    0.97         0.94   \n",
       "719            clean_lemmatization                    0.97         0.95   \n",
       "\n",
       "      mean_roc_auc  mean_f1  mean_precision  \n",
       "838           0.97     0.98            0.97  \n",
       "761           0.97     0.98            0.97  \n",
       "635           0.97     0.98            0.97  \n",
       "1020          0.97     0.98            0.97  \n",
       "719           0.97     0.98            0.97  "
      ]
     },
     "execution_count": 143,
     "metadata": {},
     "output_type": "execute_result"
    }
   ],
   "source": [
    "output_df.sort_values(by='mean_balanced_accuracy', ascending=False).head(5)"
   ]
  },
  {
   "cell_type": "markdown",
   "metadata": {},
   "source": [
    "Inspect the top-5 models by `Recall`"
   ]
  },
  {
   "cell_type": "code",
   "execution_count": 144,
   "metadata": {},
   "outputs": [
    {
     "data": {
      "text/html": [
       "<div>\n",
       "<style scoped>\n",
       "    .dataframe tbody tr th:only-of-type {\n",
       "        vertical-align: middle;\n",
       "    }\n",
       "\n",
       "    .dataframe tbody tr th {\n",
       "        vertical-align: top;\n",
       "    }\n",
       "\n",
       "    .dataframe thead th {\n",
       "        text-align: right;\n",
       "    }\n",
       "</style>\n",
       "<table border=\"1\" class=\"dataframe\">\n",
       "  <thead>\n",
       "    <tr style=\"text-align: right;\">\n",
       "      <th></th>\n",
       "      <th>algorithm</th>\n",
       "      <th>transformation</th>\n",
       "      <th>max_features</th>\n",
       "      <th>ngram_range</th>\n",
       "      <th>data_type</th>\n",
       "      <th>mean_balanced_accuracy</th>\n",
       "      <th>mean_recall</th>\n",
       "      <th>mean_roc_auc</th>\n",
       "      <th>mean_f1</th>\n",
       "      <th>mean_precision</th>\n",
       "    </tr>\n",
       "  </thead>\n",
       "  <tbody>\n",
       "    <tr>\n",
       "      <th>672</th>\n",
       "      <td>NB</td>\n",
       "      <td>tf</td>\n",
       "      <td>500</td>\n",
       "      <td>(1, 1)</td>\n",
       "      <td>clean</td>\n",
       "      <td>0.94</td>\n",
       "      <td>0.97</td>\n",
       "      <td>0.94</td>\n",
       "      <td>0.92</td>\n",
       "      <td>0.94</td>\n",
       "    </tr>\n",
       "    <tr>\n",
       "      <th>700</th>\n",
       "      <td>NB</td>\n",
       "      <td>tf</td>\n",
       "      <td>500</td>\n",
       "      <td>(1, 2)</td>\n",
       "      <td>clean</td>\n",
       "      <td>0.94</td>\n",
       "      <td>0.97</td>\n",
       "      <td>0.94</td>\n",
       "      <td>0.92</td>\n",
       "      <td>0.94</td>\n",
       "    </tr>\n",
       "    <tr>\n",
       "      <th>77</th>\n",
       "      <td>NB</td>\n",
       "      <td>tc</td>\n",
       "      <td>100</td>\n",
       "      <td>(1, 3)</td>\n",
       "      <td>clean_steeming_lemmatization</td>\n",
       "      <td>0.83</td>\n",
       "      <td>0.97</td>\n",
       "      <td>0.83</td>\n",
       "      <td>0.77</td>\n",
       "      <td>0.83</td>\n",
       "    </tr>\n",
       "    <tr>\n",
       "      <th>308</th>\n",
       "      <td>NB</td>\n",
       "      <td>tc</td>\n",
       "      <td>500</td>\n",
       "      <td>(1, 3)</td>\n",
       "      <td>clean</td>\n",
       "      <td>0.94</td>\n",
       "      <td>0.97</td>\n",
       "      <td>0.94</td>\n",
       "      <td>0.92</td>\n",
       "      <td>0.94</td>\n",
       "    </tr>\n",
       "    <tr>\n",
       "      <th>728</th>\n",
       "      <td>NB</td>\n",
       "      <td>tf</td>\n",
       "      <td>500</td>\n",
       "      <td>(1, 3)</td>\n",
       "      <td>clean</td>\n",
       "      <td>0.94</td>\n",
       "      <td>0.97</td>\n",
       "      <td>0.94</td>\n",
       "      <td>0.92</td>\n",
       "      <td>0.94</td>\n",
       "    </tr>\n",
       "  </tbody>\n",
       "</table>\n",
       "</div>"
      ],
      "text/plain": [
       "    algorithm transformation max_features ngram_range  \\\n",
       "672        NB             tf          500      (1, 1)   \n",
       "700        NB             tf          500      (1, 2)   \n",
       "77         NB             tc          100      (1, 3)   \n",
       "308        NB             tc          500      (1, 3)   \n",
       "728        NB             tf          500      (1, 3)   \n",
       "\n",
       "                        data_type  mean_balanced_accuracy  mean_recall  \\\n",
       "672                         clean                    0.94         0.97   \n",
       "700                         clean                    0.94         0.97   \n",
       "77   clean_steeming_lemmatization                    0.83         0.97   \n",
       "308                         clean                    0.94         0.97   \n",
       "728                         clean                    0.94         0.97   \n",
       "\n",
       "     mean_roc_auc  mean_f1  mean_precision  \n",
       "672          0.94     0.92            0.94  \n",
       "700          0.94     0.92            0.94  \n",
       "77           0.83     0.77            0.83  \n",
       "308          0.94     0.92            0.94  \n",
       "728          0.94     0.92            0.94  "
      ]
     },
     "execution_count": 144,
     "metadata": {},
     "output_type": "execute_result"
    }
   ],
   "source": [
    "output_df.sort_values(by='mean_recall', ascending=False).head(5)"
   ]
  },
  {
   "cell_type": "markdown",
   "metadata": {},
   "source": [
    "Look at the top-5 models by `Precision`"
   ]
  },
  {
   "cell_type": "code",
   "execution_count": 145,
   "metadata": {},
   "outputs": [
    {
     "data": {
      "text/html": [
       "<div>\n",
       "<style scoped>\n",
       "    .dataframe tbody tr th:only-of-type {\n",
       "        vertical-align: middle;\n",
       "    }\n",
       "\n",
       "    .dataframe tbody tr th {\n",
       "        vertical-align: top;\n",
       "    }\n",
       "\n",
       "    .dataframe thead th {\n",
       "        text-align: right;\n",
       "    }\n",
       "</style>\n",
       "<table border=\"1\" class=\"dataframe\">\n",
       "  <thead>\n",
       "    <tr style=\"text-align: right;\">\n",
       "      <th></th>\n",
       "      <th>algorithm</th>\n",
       "      <th>transformation</th>\n",
       "      <th>max_features</th>\n",
       "      <th>ngram_range</th>\n",
       "      <th>data_type</th>\n",
       "      <th>mean_balanced_accuracy</th>\n",
       "      <th>mean_recall</th>\n",
       "      <th>mean_roc_auc</th>\n",
       "      <th>mean_f1</th>\n",
       "      <th>mean_precision</th>\n",
       "    </tr>\n",
       "  </thead>\n",
       "  <tbody>\n",
       "    <tr>\n",
       "      <th>838</th>\n",
       "      <td>RF</td>\n",
       "      <td>tf</td>\n",
       "      <td>800</td>\n",
       "      <td>(1, 3)</td>\n",
       "      <td>clean_steeming_lemmatization</td>\n",
       "      <td>0.97</td>\n",
       "      <td>0.94</td>\n",
       "      <td>0.97</td>\n",
       "      <td>0.98</td>\n",
       "      <td>0.97</td>\n",
       "    </tr>\n",
       "    <tr>\n",
       "      <th>761</th>\n",
       "      <td>RF</td>\n",
       "      <td>tf</td>\n",
       "      <td>800</td>\n",
       "      <td>(1, 1)</td>\n",
       "      <td>clean</td>\n",
       "      <td>0.97</td>\n",
       "      <td>0.95</td>\n",
       "      <td>0.97</td>\n",
       "      <td>0.98</td>\n",
       "      <td>0.97</td>\n",
       "    </tr>\n",
       "    <tr>\n",
       "      <th>635</th>\n",
       "      <td>RF</td>\n",
       "      <td>tf</td>\n",
       "      <td>400</td>\n",
       "      <td>(1, 2)</td>\n",
       "      <td>clean_lemmatization</td>\n",
       "      <td>0.97</td>\n",
       "      <td>0.95</td>\n",
       "      <td>0.97</td>\n",
       "      <td>0.98</td>\n",
       "      <td>0.97</td>\n",
       "    </tr>\n",
       "    <tr>\n",
       "      <th>1020</th>\n",
       "      <td>RF</td>\n",
       "      <td>tfidf</td>\n",
       "      <td>400</td>\n",
       "      <td>(1, 1)</td>\n",
       "      <td>clean_steeming</td>\n",
       "      <td>0.97</td>\n",
       "      <td>0.94</td>\n",
       "      <td>0.97</td>\n",
       "      <td>0.98</td>\n",
       "      <td>0.97</td>\n",
       "    </tr>\n",
       "    <tr>\n",
       "      <th>719</th>\n",
       "      <td>RF</td>\n",
       "      <td>tf</td>\n",
       "      <td>500</td>\n",
       "      <td>(1, 2)</td>\n",
       "      <td>clean_lemmatization</td>\n",
       "      <td>0.97</td>\n",
       "      <td>0.95</td>\n",
       "      <td>0.97</td>\n",
       "      <td>0.98</td>\n",
       "      <td>0.97</td>\n",
       "    </tr>\n",
       "  </tbody>\n",
       "</table>\n",
       "</div>"
      ],
      "text/plain": [
       "     algorithm transformation max_features ngram_range  \\\n",
       "838         RF             tf          800      (1, 3)   \n",
       "761         RF             tf          800      (1, 1)   \n",
       "635         RF             tf          400      (1, 2)   \n",
       "1020        RF          tfidf          400      (1, 1)   \n",
       "719         RF             tf          500      (1, 2)   \n",
       "\n",
       "                         data_type  mean_balanced_accuracy  mean_recall  \\\n",
       "838   clean_steeming_lemmatization                    0.97         0.94   \n",
       "761                          clean                    0.97         0.95   \n",
       "635            clean_lemmatization                    0.97         0.95   \n",
       "1020                clean_steeming                    0.97         0.94   \n",
       "719            clean_lemmatization                    0.97         0.95   \n",
       "\n",
       "      mean_roc_auc  mean_f1  mean_precision  \n",
       "838           0.97     0.98            0.97  \n",
       "761           0.97     0.98            0.97  \n",
       "635           0.97     0.98            0.97  \n",
       "1020          0.97     0.98            0.97  \n",
       "719           0.97     0.98            0.97  "
      ]
     },
     "execution_count": 145,
     "metadata": {},
     "output_type": "execute_result"
    }
   ],
   "source": [
    "output_df.sort_values(by='mean_precision', ascending=False).head(5)"
   ]
  },
  {
   "cell_type": "markdown",
   "metadata": {},
   "source": [
    "Look at the top-5 models by `F1`"
   ]
  },
  {
   "cell_type": "code",
   "execution_count": 146,
   "metadata": {},
   "outputs": [
    {
     "data": {
      "text/html": [
       "<div>\n",
       "<style scoped>\n",
       "    .dataframe tbody tr th:only-of-type {\n",
       "        vertical-align: middle;\n",
       "    }\n",
       "\n",
       "    .dataframe tbody tr th {\n",
       "        vertical-align: top;\n",
       "    }\n",
       "\n",
       "    .dataframe thead th {\n",
       "        text-align: right;\n",
       "    }\n",
       "</style>\n",
       "<table border=\"1\" class=\"dataframe\">\n",
       "  <thead>\n",
       "    <tr style=\"text-align: right;\">\n",
       "      <th></th>\n",
       "      <th>algorithm</th>\n",
       "      <th>transformation</th>\n",
       "      <th>max_features</th>\n",
       "      <th>ngram_range</th>\n",
       "      <th>data_type</th>\n",
       "      <th>mean_balanced_accuracy</th>\n",
       "      <th>mean_recall</th>\n",
       "      <th>mean_roc_auc</th>\n",
       "      <th>mean_f1</th>\n",
       "      <th>mean_precision</th>\n",
       "    </tr>\n",
       "  </thead>\n",
       "  <tbody>\n",
       "    <tr>\n",
       "      <th>194</th>\n",
       "      <td>RF</td>\n",
       "      <td>tc</td>\n",
       "      <td>400</td>\n",
       "      <td>(1, 1)</td>\n",
       "      <td>clean_steeming_lemmatization</td>\n",
       "      <td>0.96</td>\n",
       "      <td>0.93</td>\n",
       "      <td>0.96</td>\n",
       "      <td>0.98</td>\n",
       "      <td>0.96</td>\n",
       "    </tr>\n",
       "    <tr>\n",
       "      <th>1174</th>\n",
       "      <td>RF</td>\n",
       "      <td>tfidf</td>\n",
       "      <td>500</td>\n",
       "      <td>(1, 3)</td>\n",
       "      <td>clean_steeming_lemmatization</td>\n",
       "      <td>0.96</td>\n",
       "      <td>0.94</td>\n",
       "      <td>0.96</td>\n",
       "      <td>0.98</td>\n",
       "      <td>0.96</td>\n",
       "    </tr>\n",
       "    <tr>\n",
       "      <th>1244</th>\n",
       "      <td>RF</td>\n",
       "      <td>tfidf</td>\n",
       "      <td>800</td>\n",
       "      <td>(1, 3)</td>\n",
       "      <td>clean_steeming</td>\n",
       "      <td>0.96</td>\n",
       "      <td>0.93</td>\n",
       "      <td>0.96</td>\n",
       "      <td>0.98</td>\n",
       "      <td>0.96</td>\n",
       "    </tr>\n",
       "    <tr>\n",
       "      <th>796</th>\n",
       "      <td>RF</td>\n",
       "      <td>tf</td>\n",
       "      <td>800</td>\n",
       "      <td>(1, 2)</td>\n",
       "      <td>clean_steeming</td>\n",
       "      <td>0.96</td>\n",
       "      <td>0.93</td>\n",
       "      <td>0.96</td>\n",
       "      <td>0.98</td>\n",
       "      <td>0.96</td>\n",
       "    </tr>\n",
       "    <tr>\n",
       "      <th>289</th>\n",
       "      <td>SVML</td>\n",
       "      <td>tc</td>\n",
       "      <td>500</td>\n",
       "      <td>(1, 2)</td>\n",
       "      <td>clean_steeming</td>\n",
       "      <td>0.96</td>\n",
       "      <td>0.93</td>\n",
       "      <td>0.96</td>\n",
       "      <td>0.98</td>\n",
       "      <td>0.96</td>\n",
       "    </tr>\n",
       "  </tbody>\n",
       "</table>\n",
       "</div>"
      ],
      "text/plain": [
       "     algorithm transformation max_features ngram_range  \\\n",
       "194         RF             tc          400      (1, 1)   \n",
       "1174        RF          tfidf          500      (1, 3)   \n",
       "1244        RF          tfidf          800      (1, 3)   \n",
       "796         RF             tf          800      (1, 2)   \n",
       "289       SVML             tc          500      (1, 2)   \n",
       "\n",
       "                         data_type  mean_balanced_accuracy  mean_recall  \\\n",
       "194   clean_steeming_lemmatization                    0.96         0.93   \n",
       "1174  clean_steeming_lemmatization                    0.96         0.94   \n",
       "1244                clean_steeming                    0.96         0.93   \n",
       "796                 clean_steeming                    0.96         0.93   \n",
       "289                 clean_steeming                    0.96         0.93   \n",
       "\n",
       "      mean_roc_auc  mean_f1  mean_precision  \n",
       "194           0.96     0.98            0.96  \n",
       "1174          0.96     0.98            0.96  \n",
       "1244          0.96     0.98            0.96  \n",
       "796           0.96     0.98            0.96  \n",
       "289           0.96     0.98            0.96  "
      ]
     },
     "execution_count": 146,
     "metadata": {},
     "output_type": "execute_result"
    }
   ],
   "source": [
    "output_df.sort_values(by='mean_f1', ascending=False).head(5)"
   ]
  },
  {
   "cell_type": "markdown",
   "metadata": {},
   "source": [
    "## Select model"
   ]
  },
  {
   "cell_type": "markdown",
   "metadata": {},
   "source": [
    "After inspecting the best models according to the different metrics, we will proceed to the select the \"best\" model for our purpose. The \"best\" for the purpose of this project is the one that has the highest ROC-AUC score—it can clearly differentiate between classes—and the higest recall score. Accuracy is also included in the selection."
   ]
  },
  {
   "cell_type": "code",
   "execution_count": 147,
   "metadata": {},
   "outputs": [
    {
     "data": {
      "text/html": [
       "<div>\n",
       "<style scoped>\n",
       "    .dataframe tbody tr th:only-of-type {\n",
       "        vertical-align: middle;\n",
       "    }\n",
       "\n",
       "    .dataframe tbody tr th {\n",
       "        vertical-align: top;\n",
       "    }\n",
       "\n",
       "    .dataframe thead th {\n",
       "        text-align: right;\n",
       "    }\n",
       "</style>\n",
       "<table border=\"1\" class=\"dataframe\">\n",
       "  <thead>\n",
       "    <tr style=\"text-align: right;\">\n",
       "      <th></th>\n",
       "      <th>algorithm</th>\n",
       "      <th>transformation</th>\n",
       "      <th>max_features</th>\n",
       "      <th>ngram_range</th>\n",
       "      <th>data_type</th>\n",
       "      <th>mean_balanced_accuracy</th>\n",
       "      <th>mean_recall</th>\n",
       "      <th>mean_roc_auc</th>\n",
       "      <th>mean_f1</th>\n",
       "      <th>mean_precision</th>\n",
       "    </tr>\n",
       "  </thead>\n",
       "  <tbody>\n",
       "    <tr>\n",
       "      <th>635</th>\n",
       "      <td>RF</td>\n",
       "      <td>tf</td>\n",
       "      <td>400</td>\n",
       "      <td>(1, 2)</td>\n",
       "      <td>clean_lemmatization</td>\n",
       "      <td>0.97</td>\n",
       "      <td>0.95</td>\n",
       "      <td>0.97</td>\n",
       "      <td>0.98</td>\n",
       "      <td>0.97</td>\n",
       "    </tr>\n",
       "  </tbody>\n",
       "</table>\n",
       "</div>"
      ],
      "text/plain": [
       "    algorithm transformation max_features ngram_range            data_type  \\\n",
       "635        RF             tf          400      (1, 2)  clean_lemmatization   \n",
       "\n",
       "     mean_balanced_accuracy  mean_recall  mean_roc_auc  mean_f1  \\\n",
       "635                    0.97         0.95          0.97     0.98   \n",
       "\n",
       "     mean_precision  \n",
       "635            0.97  "
      ]
     },
     "execution_count": 147,
     "metadata": {},
     "output_type": "execute_result"
    }
   ],
   "source": [
    "best_model = output_df.sort_values(['mean_roc_auc','mean_recall', 'mean_balanced_accuracy'], ascending=False).head(1)\n",
    "best_model"
   ]
  },
  {
   "cell_type": "markdown",
   "metadata": {},
   "source": [
    "Save the classifier to be used later"
   ]
  },
  {
   "cell_type": "code",
   "execution_count": 148,
   "metadata": {},
   "outputs": [
    {
     "data": {
      "text/plain": [
       "['models/RF-tf-400.joblib']"
      ]
     },
     "execution_count": 148,
     "metadata": {},
     "output_type": "execute_result"
    }
   ],
   "source": [
    "models_dir = 'models'  # directory to store models\n",
    "os.makedirs(models_dir, exist_ok=True)  # ensure the directory exists\n",
    "idx_best_classifier = best_model.index.to_list()[0]\n",
    "model_name = '{}-{}-{}.joblib'.format(best_model['algorithm'].values[0],best_model['transformation'].values[0],best_model['max_features'].values[0])\n",
    "model_file_name = os.path.join(models_dir,model_name)\n",
    "joblib.dump(outputs[idx_best_classifier]['classifier'], model_file_name)"
   ]
  },
  {
   "cell_type": "markdown",
   "metadata": {},
   "source": [
    "Let's do some sanity check"
   ]
  },
  {
   "cell_type": "code",
   "execution_count": 149,
   "metadata": {},
   "outputs": [
    {
     "data": {
      "text/plain": [
       "RandomForestClassifier(bootstrap=False, class_weight=None, criterion='gini',\n",
       "            max_depth=70.0, max_features='auto', max_leaf_nodes=None,\n",
       "            min_impurity_decrease=0.0, min_impurity_split=None,\n",
       "            min_samples_leaf=1, min_samples_split=10,\n",
       "            min_weight_fraction_leaf=0.0, n_estimators=800, n_jobs=None,\n",
       "            oob_score=False, random_state=None, verbose=0,\n",
       "            warm_start=False)"
      ]
     },
     "execution_count": 149,
     "metadata": {},
     "output_type": "execute_result"
    }
   ],
   "source": [
    "joblib.load(model_file_name)"
   ]
  }
 ],
 "metadata": {
  "kernelspec": {
   "display_name": "Impact Env",
   "language": "python",
   "name": "impact-env"
  },
  "language_info": {
   "codemirror_mode": {
    "name": "ipython",
    "version": 3
   },
   "file_extension": ".py",
   "mimetype": "text/x-python",
   "name": "python",
   "nbconvert_exporter": "python",
   "pygments_lexer": "ipython3",
   "version": "3.6.9"
  }
 },
 "nbformat": 4,
 "nbformat_minor": 4
}
