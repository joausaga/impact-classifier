{
 "cells": [
  {
   "cell_type": "markdown",
   "metadata": {},
   "source": [
    "# Impact Classifier"
   ]
  },
  {
   "cell_type": "markdown",
   "metadata": {},
   "source": [
    "The project proposes to leverage machine learning (ML) and natural language processing (NLP) techniques to build a text classifier that automatizes the processing and identification of evidence of social impact in research documents. The proposal aims to solve a classification problem in which the model takes a sentence contained in a research document as input and produces as output a binary answer (1=True, 0=False) that states whether the sentence contains or not evidence of social impact, respectively.\n",
    "\n",
    "From all research fields, this project focuses on Medical, Health, and Biological science because the ultimately goal is to understand the social impact of the research projects of the Spanish National Institue of Bioinformatics (INB by its Spanish Acronym), which is an institution that conducts medical and biological investigations.\n",
    "\n",
    "The goal of this notebook is to develop a machine learning classifier able to automatically identify sentences of social impact in research documents."
   ]
  },
  {
   "cell_type": "markdown",
   "metadata": {},
   "source": [
    "## Load libraries"
   ]
  },
  {
   "cell_type": "code",
   "execution_count": 9,
   "metadata": {},
   "outputs": [
    {
     "name": "stderr",
     "output_type": "stream",
     "text": [
      "[nltk_data] Downloading package stopwords to\n",
      "[nltk_data]     /home/Life/jsaldiva/nltk_data...\n",
      "[nltk_data]   Package stopwords is already up-to-date!\n",
      "[nltk_data] Downloading package wordnet to\n",
      "[nltk_data]     /home/Life/jsaldiva/nltk_data...\n",
      "[nltk_data]   Package wordnet is already up-to-date!\n"
     ]
    }
   ],
   "source": [
    "import glob\n",
    "import numpy as np\n",
    "import nltk\n",
    "import os\n",
    "import pandas as pd\n",
    "import re\n",
    "import matplotlib.pyplot as plt\n",
    "import sys\n",
    "import joblib\n",
    "import json\n",
    "import pickle\n",
    "import seaborn as sns\n",
    "\n",
    "\n",
    "nltk.download(\"stopwords\")\n",
    "nltk.download('wordnet')\n",
    "\n",
    "from nltk.corpus import stopwords\n",
    "from nltk.stem.porter import *\n",
    "from nltk.stem import WordNetLemmatizer\n",
    "from nltk.tokenize import word_tokenize\n",
    "from nltk.probability import FreqDist\n",
    "\n",
    "from sklearn.feature_extraction.text import CountVectorizer\n",
    "from sklearn.feature_extraction.text import TfidfVectorizer\n",
    "from sklearn import metrics\n",
    "from sklearn import model_selection\n",
    "from sklearn.model_selection import cross_val_score, KFold, RandomizedSearchCV, GridSearchCV, learning_curve\n",
    "from sklearn.naive_bayes import GaussianNB\n",
    "from sklearn.svm import SVC\n",
    "from sklearn.ensemble import RandomForestClassifier, GradientBoostingClassifier\n",
    "from sklearn.linear_model import LogisticRegression\n",
    "from sklearn.model_selection import KFold\n",
    "\n",
    "from bs4 import BeautifulSoup\n",
    "from data_processor import sentence_to_words, extract_BoW_features\n",
    "from tqdm import tqdm\n",
    "from wordcloud import WordCloud, STOPWORDS, ImageColorGenerator\n",
    "\n",
    "%matplotlib inline"
   ]
  },
  {
   "cell_type": "markdown",
   "metadata": {},
   "source": [
    "## Load data"
   ]
  },
  {
   "cell_type": "markdown",
   "metadata": {},
   "source": [
    "### Impact sentences"
   ]
  },
  {
   "cell_type": "markdown",
   "metadata": {},
   "source": [
    "Load dataset that sentences with evidence of social impact. The dataset was manually built through a process that is explain in the notebook **`0.dataset_preparation.ipynb`**."
   ]
  },
  {
   "cell_type": "code",
   "execution_count": 2,
   "metadata": {},
   "outputs": [],
   "source": [
    "impact_sentences = pd.read_csv(\"data/sentences/impact_sentences.csv\", usecols=['sentence'])"
   ]
  },
  {
   "cell_type": "markdown",
   "metadata": {},
   "source": [
    "#### Add label column"
   ]
  },
  {
   "cell_type": "markdown",
   "metadata": {},
   "source": [
    "Sentences with evidence of social will later be merged with more general sentences that can be commonly found in research documents. By the time the merge occurs, social impact sentences need to be distinguised from the more general sentences. Therefore, a the new column **`label`** is created in the impact dataset to tag with 1 all sentences that contain evidence of social impact.  "
   ]
  },
  {
   "cell_type": "code",
   "execution_count": 3,
   "metadata": {},
   "outputs": [],
   "source": [
    "impact_sentences['label'] = 1"
   ]
  },
  {
   "cell_type": "code",
   "execution_count": 4,
   "metadata": {},
   "outputs": [
    {
     "name": "stdout",
     "output_type": "stream",
     "text": [
      "The dataset contains 206 rows and 2 columns\n"
     ]
    }
   ],
   "source": [
    "nrows = impact_sentences.shape[0]\n",
    "ncols = impact_sentences.shape[1]\n",
    "print(f\"The dataset contains {nrows} rows and {ncols} columns\")"
   ]
  },
  {
   "cell_type": "markdown",
   "metadata": {},
   "source": [
    "Let's show an sample of impact sentences together with the newly created column label."
   ]
  },
  {
   "cell_type": "code",
   "execution_count": 5,
   "metadata": {},
   "outputs": [
    {
     "data": {
      "text/html": [
       "<div>\n",
       "<style scoped>\n",
       "    .dataframe tbody tr th:only-of-type {\n",
       "        vertical-align: middle;\n",
       "    }\n",
       "\n",
       "    .dataframe tbody tr th {\n",
       "        vertical-align: top;\n",
       "    }\n",
       "\n",
       "    .dataframe thead th {\n",
       "        text-align: right;\n",
       "    }\n",
       "</style>\n",
       "<table border=\"1\" class=\"dataframe\">\n",
       "  <thead>\n",
       "    <tr style=\"text-align: right;\">\n",
       "      <th></th>\n",
       "      <th>sentence</th>\n",
       "      <th>label</th>\n",
       "    </tr>\n",
       "  </thead>\n",
       "  <tbody>\n",
       "    <tr>\n",
       "      <th>0</th>\n",
       "      <td>widely  featured in the national press and rad...</td>\n",
       "      <td>1</td>\n",
       "    </tr>\n",
       "    <tr>\n",
       "      <th>1</th>\n",
       "      <td>indeed one  of these  projects has been select...</td>\n",
       "      <td>1</td>\n",
       "    </tr>\n",
       "    <tr>\n",
       "      <th>2</th>\n",
       "      <td>impact public engagement and education influen...</td>\n",
       "      <td>1</td>\n",
       "    </tr>\n",
       "    <tr>\n",
       "      <th>3</th>\n",
       "      <td>reach worldwide dolly became a scientific icon...</td>\n",
       "      <td>1</td>\n",
       "    </tr>\n",
       "    <tr>\n",
       "      <th>4</th>\n",
       "      <td>the educational tools have been used by 11 000...</td>\n",
       "      <td>1</td>\n",
       "    </tr>\n",
       "  </tbody>\n",
       "</table>\n",
       "</div>"
      ],
      "text/plain": [
       "                                            sentence  label\n",
       "0  widely  featured in the national press and rad...      1\n",
       "1  indeed one  of these  projects has been select...      1\n",
       "2  impact public engagement and education influen...      1\n",
       "3  reach worldwide dolly became a scientific icon...      1\n",
       "4  the educational tools have been used by 11 000...      1"
      ]
     },
     "execution_count": 5,
     "metadata": {},
     "output_type": "execute_result"
    }
   ],
   "source": [
    "impact_sentences.head()"
   ]
  },
  {
   "cell_type": "markdown",
   "metadata": {},
   "source": [
    "### General sentences"
   ]
  },
  {
   "cell_type": "markdown",
   "metadata": {},
   "source": [
    "Load dataset containing sentences that are commonly found in medical and bioinformatics research documents. The process followed to build the dataset of general sentences is described in the notebook **`0.dataset_preparation.ipynb`**."
   ]
  },
  {
   "cell_type": "code",
   "execution_count": 6,
   "metadata": {},
   "outputs": [],
   "source": [
    "gral_sentences = pd.read_csv(\"data/sentences/gral_sentences.csv\", index_col=0)"
   ]
  },
  {
   "cell_type": "markdown",
   "metadata": {},
   "source": [
    "#### Add label column"
   ]
  },
  {
   "cell_type": "markdown",
   "metadata": {},
   "source": [
    "As in the case of the dataset of impact sentences, here a column **`label`** is also created to tag with 0 all general sentences."
   ]
  },
  {
   "cell_type": "code",
   "execution_count": 7,
   "metadata": {},
   "outputs": [],
   "source": [
    "gral_sentences['label'] = 0"
   ]
  },
  {
   "cell_type": "code",
   "execution_count": 8,
   "metadata": {},
   "outputs": [
    {
     "name": "stdout",
     "output_type": "stream",
     "text": [
      "The dataset contains 800 rows and 2 columns\n"
     ]
    }
   ],
   "source": [
    "nrows = gral_sentences.shape[0]\n",
    "ncols = gral_sentences.shape[1]\n",
    "print(f\"The dataset contains {nrows} rows and {ncols} columns\")"
   ]
  },
  {
   "cell_type": "markdown",
   "metadata": {},
   "source": [
    "Let's show a sample of the dateset"
   ]
  },
  {
   "cell_type": "code",
   "execution_count": 9,
   "metadata": {},
   "outputs": [
    {
     "data": {
      "text/html": [
       "<div>\n",
       "<style scoped>\n",
       "    .dataframe tbody tr th:only-of-type {\n",
       "        vertical-align: middle;\n",
       "    }\n",
       "\n",
       "    .dataframe tbody tr th {\n",
       "        vertical-align: top;\n",
       "    }\n",
       "\n",
       "    .dataframe thead th {\n",
       "        text-align: right;\n",
       "    }\n",
       "</style>\n",
       "<table border=\"1\" class=\"dataframe\">\n",
       "  <thead>\n",
       "    <tr style=\"text-align: right;\">\n",
       "      <th></th>\n",
       "      <th>sentence</th>\n",
       "      <th>label</th>\n",
       "    </tr>\n",
       "  </thead>\n",
       "  <tbody>\n",
       "    <tr>\n",
       "      <th>0</th>\n",
       "      <td>notably lncrnas are known to coordinate aggres...</td>\n",
       "      <td>0</td>\n",
       "    </tr>\n",
       "    <tr>\n",
       "      <th>1</th>\n",
       "      <td>given these complexities a general framework f...</td>\n",
       "      <td>0</td>\n",
       "    </tr>\n",
       "    <tr>\n",
       "      <th>2</th>\n",
       "      <td>it has been proposed that tumors with similar ...</td>\n",
       "      <td>0</td>\n",
       "    </tr>\n",
       "    <tr>\n",
       "      <th>3</th>\n",
       "      <td>we also excluded an additional patient for who...</td>\n",
       "      <td>0</td>\n",
       "    </tr>\n",
       "    <tr>\n",
       "      <th>4</th>\n",
       "      <td>although our report does not address the expre...</td>\n",
       "      <td>0</td>\n",
       "    </tr>\n",
       "  </tbody>\n",
       "</table>\n",
       "</div>"
      ],
      "text/plain": [
       "                                            sentence  label\n",
       "0  notably lncrnas are known to coordinate aggres...      0\n",
       "1  given these complexities a general framework f...      0\n",
       "2  it has been proposed that tumors with similar ...      0\n",
       "3  we also excluded an additional patient for who...      0\n",
       "4  although our report does not address the expre...      0"
      ]
     },
     "execution_count": 9,
     "metadata": {},
     "output_type": "execute_result"
    }
   ],
   "source": [
    "gral_sentences.head()"
   ]
  },
  {
   "cell_type": "markdown",
   "metadata": {},
   "source": [
    "### Merge datasets"
   ]
  },
  {
   "cell_type": "markdown",
   "metadata": {},
   "source": [
    "Merge both datasets, the general and impact one."
   ]
  },
  {
   "cell_type": "code",
   "execution_count": 10,
   "metadata": {},
   "outputs": [],
   "source": [
    "total_sentences = pd.concat([impact_sentences, gral_sentences], ignore_index=True)"
   ]
  },
  {
   "cell_type": "code",
   "execution_count": 11,
   "metadata": {},
   "outputs": [
    {
     "name": "stdout",
     "output_type": "stream",
     "text": [
      "The combined dataset contains 1006 rows and 2 columns\n"
     ]
    }
   ],
   "source": [
    "nrows = total_sentences.shape[0]\n",
    "ncols = total_sentences.shape[1]\n",
    "print(f\"The combined dataset contains {nrows} rows and {ncols} columns\")"
   ]
  },
  {
   "cell_type": "markdown",
   "metadata": {},
   "source": [
    "## Explore data"
   ]
  },
  {
   "cell_type": "markdown",
   "metadata": {},
   "source": [
    "Next, the dataset is explored by, first, computing the most frequent terms in sentences that contain evidence of social impact and, then, by calculating the most frequent term in general sentences."
   ]
  },
  {
   "cell_type": "code",
   "execution_count": 12,
   "metadata": {},
   "outputs": [],
   "source": [
    "word_black_list = ['research', 'impact', 'uk']  # let's add context specify words that will be filtered before computing frequencies\n",
    "max_items_to_show = 30"
   ]
  },
  {
   "cell_type": "markdown",
   "metadata": {},
   "source": [
    "### Most frequent terms in social impact sentences"
   ]
  },
  {
   "cell_type": "markdown",
   "metadata": {},
   "source": [
    "Inspect the most used terms used in sentences that express evidence of social impact"
   ]
  },
  {
   "cell_type": "code",
   "execution_count": 13,
   "metadata": {},
   "outputs": [],
   "source": [
    "si_sentences = total_sentences[total_sentences['label']==1]['sentence']\n",
    "si_words = []\n",
    "for si_sentence in si_sentences:\n",
    "    for word in si_sentence.split():\n",
    "        if len(word) > 2 and word not in word_black_list and word not in stopwords.words('english'):\n",
    "            si_words.append(word)\n",
    "fdist = FreqDist(si_words)\n",
    "freq_words_df = pd.DataFrame(fdist.items(), columns=['word', 'frequency'])"
   ]
  },
  {
   "cell_type": "code",
   "execution_count": 14,
   "metadata": {},
   "outputs": [],
   "source": [
    "freq_words_df.sort_values(by='frequency', ascending=False, inplace=True)"
   ]
  },
  {
   "cell_type": "code",
   "execution_count": 15,
   "metadata": {},
   "outputs": [
    {
     "data": {
      "image/png": "[encoded data removed]",
      "text/plain": [
       "<Figure size 936x576 with 1 Axes>"
      ]
     },
     "metadata": {
      "needs_background": "light"
     },
     "output_type": "display_data"
    }
   ],
   "source": [
    "freq_words_df.iloc[0:max_items_to_show,:].plot(x='word', y='frequency', kind='bar', figsize=(13,8))\n",
    "plt.xticks(rotation=90)\n",
    "plt.xlabel(\"Term\", size=13)\n",
    "plt.ylabel(\"Frequency\", size=13)\n",
    "plt.xticks(size=12)\n",
    "plt.yticks(size=12)\n",
    "plt.show()"
   ]
  },
  {
   "cell_type": "markdown",
   "metadata": {},
   "source": [
    "### Most frequent terms in general sentences"
   ]
  },
  {
   "cell_type": "markdown",
   "metadata": {},
   "source": [
    "Inspect the most used terms in sentences that do not neccesarily contain evidence of social impact"
   ]
  },
  {
   "cell_type": "code",
   "execution_count": 16,
   "metadata": {},
   "outputs": [],
   "source": [
    "n_si_sentences = total_sentences[total_sentences['label']==0]['sentence']\n",
    "n_fdist = FreqDist(word for n_si_sentence in n_si_sentences \n",
    "                        for word in n_si_sentence.split() if len(word) > 2 and word not in stopwords.words('english') and word not in word_black_list)\n",
    "n_freq_words_df = pd.DataFrame(n_fdist.items(), columns=['word', 'frequency'])"
   ]
  },
  {
   "cell_type": "code",
   "execution_count": 17,
   "metadata": {},
   "outputs": [],
   "source": [
    "n_freq_words_df.sort_values(by='frequency', ascending=False, inplace=True)"
   ]
  },
  {
   "cell_type": "code",
   "execution_count": 18,
   "metadata": {},
   "outputs": [
    {
     "data": {
      "image/png": "[encoded data removed]",
      "text/plain": [
       "<Figure size 936x576 with 1 Axes>"
      ]
     },
     "metadata": {
      "needs_background": "light"
     },
     "output_type": "display_data"
    }
   ],
   "source": [
    "n_freq_words_df.iloc[0:max_items_to_show,:].plot(x='word', y='frequency', kind='bar', figsize=(13,8))\n",
    "plt.xticks(rotation=90)\n",
    "plt.xlabel(\"Term\", size=13)\n",
    "plt.ylabel(\"Frequency\", size=13)\n",
    "plt.xticks(size=12)\n",
    "plt.yticks(size=12)\n",
    "plt.show()"
   ]
  },
  {
   "cell_type": "markdown",
   "metadata": {},
   "source": [
    "From the figures above it can be seen there is little overlap between the most frequent terms in sentences with evidence of social impact (e.g., public policy, health, national, development) and the most frequent terms in the general sentences, which, as expected, are more related with medical and biological terminologies, such as cancer, cells, patients, tumor, or therapy. The low interception between the most frequent terms in the two datasets demonstrates the potential of the data to train machine learning classifier. "
   ]
  },
  {
   "cell_type": "markdown",
   "metadata": {},
   "source": [
    "## Prepare data"
   ]
  },
  {
   "cell_type": "markdown",
   "metadata": {},
   "source": [
    "Data will be prepared using the following four combinations of the text processing tasks defined in `sentence_to_words`:\n",
    "1. Sentence is tokenized and stop words as well as HTML elements are removed;\n",
    "2. Sentence is tokenized, stop words and HTML elements are removed and stemming is applied;\n",
    "3. Sentence is tokenized, stop words and HTML elements are removed and lemmatization is applied;\n",
    "4. Sentence is tokenized, stop words and HTML elements are removed and stemming and lemmatization are applied.\n"
   ]
  },
  {
   "cell_type": "code",
   "execution_count": 19,
   "metadata": {},
   "outputs": [],
   "source": [
    "data, labels = total_sentences['sentence'], total_sentences['label']"
   ]
  },
  {
   "cell_type": "code",
   "execution_count": 20,
   "metadata": {},
   "outputs": [
    {
     "name": "stdout",
     "output_type": "stream",
     "text": [
      "CPU times: user 19.9 s, sys: 1.56 s, total: 21.5 s\n",
      "Wall time: 21.5 s\n"
     ]
    }
   ],
   "source": [
    "%%time\n",
    "data_clean = [sentence_to_words(sentence) for sentence in data]\n",
    "data_clean_with_steeming = [sentence_to_words(sentence, steeming=True) for sentence in data]\n",
    "data_clean_with_lemmatization = [sentence_to_words(sentence, lemmatization=True) for sentence in data]\n",
    "data_clean_with_steeming_lemmatization = [sentence_to_words(sentence, True, True) for sentence in data]"
   ]
  },
  {
   "cell_type": "markdown",
   "metadata": {},
   "source": [
    "Save preprocess data into a dictionary to avoid carrying around the recently create variables"
   ]
  },
  {
   "cell_type": "code",
   "execution_count": 21,
   "metadata": {},
   "outputs": [],
   "source": [
    "preprocess_data = {\n",
    "    'clean': {'data': data_clean, 'labels': labels},\n",
    "    'clean_steeming': {'data': data_clean_with_steeming, 'labels': labels},\n",
    "    'clean_lemmatization': {'data': data_clean_with_lemmatization, 'labels': labels},\n",
    "    'clean_steeming_lemmatization': {'data': data_clean_with_steeming_lemmatization, 'labels': labels}\n",
    "}"
   ]
  },
  {
   "cell_type": "markdown",
   "metadata": {},
   "source": [
    "Check a sample of the preprocess data"
   ]
  },
  {
   "cell_type": "code",
   "execution_count": 22,
   "metadata": {},
   "outputs": [
    {
     "data": {
      "text/plain": [
       "['widely',\n",
       " 'featured',\n",
       " 'national',\n",
       " 'press',\n",
       " 'radio',\n",
       " 'actively',\n",
       " 'engaged',\n",
       " '20',\n",
       " '000',\n",
       " 'members',\n",
       " 'public',\n",
       " 'primary',\n",
       " 'scientific',\n",
       " 'research',\n",
       " 'including',\n",
       " '3',\n",
       " '500',\n",
       " 'super',\n",
       " 'engagers',\n",
       " 'sent',\n",
       " 'detailed',\n",
       " 'records',\n",
       " 'samples']"
      ]
     },
     "execution_count": 22,
     "metadata": {},
     "output_type": "execute_result"
    }
   ],
   "source": [
    "preprocess_data['clean']['data'][0]"
   ]
  },
  {
   "cell_type": "markdown",
   "metadata": {},
   "source": [
    "### Transform to Bag-of-Words Representation"
   ]
  },
  {
   "cell_type": "markdown",
   "metadata": {},
   "source": [
    "Previously processed sentences are transformed here to a bag-of-words representation. Forty-five (45) combinations of transformations are employed."
   ]
  },
  {
   "cell_type": "markdown",
   "metadata": {},
   "source": [
    "Define transformation conditions"
   ]
  },
  {
   "cell_type": "code",
   "execution_count": 9,
   "metadata": {},
   "outputs": [],
   "source": [
    "transformations = ['tc', 'tf', 'tfidf']\n",
    "max_features=[100, 200, 400, 500, 800]\n",
    "ngram_ranges=[(1,1),(1,2),(1,3)]\n",
    "total_cycles = len(transformations)*len(max_features)*len(ngram_ranges)*len(preprocess_data)"
   ]
  },
  {
   "cell_type": "code",
   "execution_count": 24,
   "metadata": {},
   "outputs": [],
   "source": [
    "transformed_txts = []"
   ]
  },
  {
   "cell_type": "code",
   "execution_count": 25,
   "metadata": {},
   "outputs": [
    {
     "name": "stdout",
     "output_type": "stream",
     "text": [
      "100%|██████████| 180/180 [00:18<00:00,  9.73it/s]\n"
     ]
    }
   ],
   "source": [
    "with tqdm(total=total_cycles, file=sys.stdout) as pbar:\n",
    "    for transformation in transformations:        \n",
    "        for max_feature in max_features:\n",
    "            for ngram_range in ngram_ranges:\n",
    "                for processing_task, data_dict in preprocess_data.items():\n",
    "                    pbar.update(1)\n",
    "                    data = data_dict['data']\n",
    "                    transformed_data, _ = extract_BoW_features(data, max_feature, transformation, ngram_range)\n",
    "                    transformed_txts.append(\n",
    "                        {\n",
    "                            'transformation': transformation,\n",
    "                            'max_features': max_feature,\n",
    "                            'ngram_range': ngram_range,\n",
    "                            'data': transformed_data,\n",
    "                            'processing_task': processing_task,\n",
    "                            'labels': data_dict['labels']\n",
    "                        }\n",
    "                    )"
   ]
  },
  {
   "cell_type": "markdown",
   "metadata": {},
   "source": [
    "Let's do some sanity check"
   ]
  },
  {
   "cell_type": "code",
   "execution_count": 26,
   "metadata": {},
   "outputs": [
    {
     "data": {
      "text/plain": [
       "{'transformation': 'tc',\n",
       " 'max_features': 100,\n",
       " 'ngram_range': (1, 1),\n",
       " 'data': array([[0, 0, 0, ..., 0, 0, 0],\n",
       "        [0, 0, 0, ..., 0, 0, 0],\n",
       "        [0, 0, 0, ..., 0, 0, 0],\n",
       "        ...,\n",
       "        [0, 0, 0, ..., 0, 0, 0],\n",
       "        [0, 0, 0, ..., 0, 0, 0],\n",
       "        [0, 0, 0, ..., 0, 0, 0]]),\n",
       " 'processing_task': 'clean',\n",
       " 'labels': 0       1\n",
       " 1       1\n",
       " 2       1\n",
       " 3       1\n",
       " 4       1\n",
       "        ..\n",
       " 1001    0\n",
       " 1002    0\n",
       " 1003    0\n",
       " 1004    0\n",
       " 1005    0\n",
       " Name: label, Length: 1006, dtype: int64}"
      ]
     },
     "execution_count": 26,
     "metadata": {},
     "output_type": "execute_result"
    }
   ],
   "source": [
    "transformed_txts[0]"
   ]
  },
  {
   "cell_type": "code",
   "execution_count": 27,
   "metadata": {},
   "outputs": [],
   "source": [
    "assert len(transformed_txts[0]['data']) == len(transformed_txts[0]['labels'])"
   ]
  },
  {
   "cell_type": "markdown",
   "metadata": {},
   "source": [
    "## Split data into train and test and save it"
   ]
  },
  {
   "cell_type": "markdown",
   "metadata": {},
   "source": [
    "Iterate over the 180 combinations of text processings and transformations and for each combination hold out a fraction of data for testing the model and save the rest for training the model."
   ]
  },
  {
   "cell_type": "code",
   "execution_count": 15,
   "metadata": {},
   "outputs": [],
   "source": [
    "random_state = np.random.RandomState(1234)  # set a random seed for reproducibility purposes"
   ]
  },
  {
   "cell_type": "code",
   "execution_count": 97,
   "metadata": {},
   "outputs": [
    {
     "name": "stdout",
     "output_type": "stream",
     "text": [
      "  3%|▎         | 5/180 [00:00<00:08, 19.93it/s]"
     ]
    },
    {
     "name": "stderr",
     "output_type": "stream",
     "text": [
      "/home/Life/jsaldiva/.conda/envs/impactenv/lib/python3.6/site-packages/ipykernel_launcher.py:22: SettingWithCopyWarning: \n",
      "A value is trying to be set on a copy of a slice from a DataFrame.\n",
      "Try using .loc[row_indexer,col_indexer] = value instead\n",
      "\n",
      "See the caveats in the documentation: https://pandas.pydata.org/pandas-docs/stable/user_guide/indexing.html#returning-a-view-versus-a-copy\n"
     ]
    },
    {
     "name": "stdout",
     "output_type": "stream",
     "text": [
      "100%|██████████| 180/180 [00:20<00:00,  8.61it/s]\n"
     ]
    }
   ],
   "source": [
    "with tqdm(total=total_cycles, file=sys.stdout) as pbar:\n",
    "    for transformed_txt in transformed_txts:\n",
    "        transformation = transformed_txt['transformation']\n",
    "        max_features = str(transformed_txt['max_features'])\n",
    "        ngram_range = str(transformed_txt['ngram_range'])\n",
    "        processing_task = transformed_txt['processing_task']\n",
    "        data = pd.DataFrame({'sentence': list(transformed_txt['data']), 'label': transformed_txt['labels']})\n",
    "        # select 20% of each class for testing\n",
    "        test_label_1 = data[data['label']==1].sample(frac=0.2, random_state=random_state)\n",
    "        test_label_0 = data[data['label']==0].sample(frac=0.2, random_state=random_state)        \n",
    "        test_data = pd.concat([test_label_1, test_label_0], ignore_index=True)\n",
    "        # take the rest for training\n",
    "        test_indexes = list(test_label_1.index) + list(test_label_0.index)\n",
    "        train_data = data[~data.index.isin(test_indexes)]\n",
    "        # check if the number of rows in train and test are equal to the number of rows in data\n",
    "        assert (train_data.shape[0]+test_data.shape[0]) == data.shape[0], 'Number of rows in train and test datasets should be equal to the numeber of rows in the entire dataset'\n",
    "        # save test dataset\n",
    "        test_data_filename = f'test_data_{transformation}_{max_features}_{ngram_range}_{processing_task}.csv'\n",
    "        test_data['sentence'] = test_data['sentence'].apply(lambda x: json.dumps(x.tolist()))  # serialize numpy array\n",
    "        test_data.to_csv(os.path.join('data', 'test', test_data_filename), index=False)\n",
    "        # save train dataset\n",
    "        train_data['sentence'] = train_data['sentence'].apply(lambda x: json.dumps(x.tolist()))\n",
    "        train_data_filename = f'train_data_{transformation}_{max_features}_{ngram_range}_{processing_task}.csv'\n",
    "        train_data.to_csv(os.path.join('data', 'train', train_data_filename), index=False)\n",
    "        pbar.update(1)"
   ]
  },
  {
   "cell_type": "markdown",
   "metadata": {},
   "source": [
    "## Build ML model"
   ]
  },
  {
   "cell_type": "markdown",
   "metadata": {},
   "source": [
    "Here we build the machine learning classifier. The decision on the algorithms to be used was based on algorithms that have been reported to perform well on unbalanced, small, and textual datasets, which is our case. Therefore, we try the following algorithms: Naive-Bayes, Support Vector Machine, Logistic Regression, Random Forest, and Gradient Boosting.\n",
    "\n",
    "In bulding the model we proceed as following:\n",
    "1. Compare the performance of the choosen algorithms by training them in each of the 180 different training sets;\n",
    "2. Choose the best performing model for each algorithm;\n",
    "3. Perform hyper-parameters optimization for the best models, except Naive-Bayes. GridSearch is used for SVM and Logistic Regression while RandomGridSearch with 100 iterations is employed for Random Forest and Gradient Boosting;\n",
    "4. Plot learning curves for the best models to analyze the overfitting effect on the training set and the effect of the training size on the performance metric;\n",
    "5. Select the model that best generalize the prediction.\n",
    "\n",
    "Models are trained using the cross-validation approach. The performance metric to be optimized is **`recall`** because, in spite of over-identifying sentences that might not contain evidence of social impact and even when more sentences mean an overload of work for evaluators, the aim is to avoid losing sentences that can potentially contain evidence of impact and thus might be deciding in understanding the social impact of the research."
   ]
  },
  {
   "cell_type": "code",
   "execution_count": 2,
   "metadata": {},
   "outputs": [],
   "source": [
    "def get_classifier(algorithm_name):\n",
    "    if algorithm_name == 'NB':\n",
    "        classifier = GaussianNB()\n",
    "    elif algorithm_name == 'SVM':\n",
    "        classifier = SVC(random_state=random_state)   \n",
    "    elif algorithm_name == 'LR':\n",
    "        classifier = LogisticRegression(random_state=random_state)\n",
    "    elif algorithm_name == 'RF':        \n",
    "        classifier = RandomForestClassifier(random_state=random_state)\n",
    "    elif algorithm_name == 'GB':\n",
    "        classifier = GradientBoostingClassifier(random_state=random_state)\n",
    "    else:\n",
    "        print(\"Unknown algorithm: {0}\",format(algorithm_name))\n",
    "    return classifier"
   ]
  },
  {
   "cell_type": "code",
   "execution_count": 5,
   "metadata": {},
   "outputs": [],
   "source": [
    "kfold = KFold(n_splits=10, shuffle=True, random_state=42)\n",
    "algorithms = ['NB', 'SVM', 'LR', 'RF', 'GB']\n",
    "total_cycles *= len(algorithms)"
   ]
  },
  {
   "cell_type": "code",
   "execution_count": 16,
   "metadata": {},
   "outputs": [
    {
     "name": "stdout",
     "output_type": "stream",
     "text": [
      "100%|██████████| 900/900 [1:37:34<00:00,  6.51s/it]  \n"
     ]
    }
   ],
   "source": [
    "outputs = []\n",
    "with tqdm(total=total_cycles, file=sys.stdout) as pbar:\n",
    "    train_data_path = os.path.join('data', 'train', '*.csv')\n",
    "    train_files = glob.glob(train_data_path)            \n",
    "    for train_file in train_files:\n",
    "        train_data = pd.read_csv(train_file)\n",
    "        train_data['sentence'] = train_data['sentence'].apply(lambda s: json.loads(s))\n",
    "        X_train = list(train_data['sentence'].values)\n",
    "        y_train = train_data['label'].values\n",
    "        for algorithm in algorithms:            \n",
    "            classifier = get_classifier(algorithm)\n",
    "            scores = cross_val_score(classifier, X_train, y=y_train, scoring=\"recall\", cv=kfold, n_jobs=-1)\n",
    "            outputs.append(\n",
    "                {\n",
    "                    'algorithm': algorithm,\n",
    "                    'train_filename': train_file,                    \n",
    "                    'metrics': scores,\n",
    "                }\n",
    "            )\n",
    "            pbar.update(1)"
   ]
  },
  {
   "cell_type": "code",
   "execution_count": 17,
   "metadata": {},
   "outputs": [],
   "source": [
    "output_df = pd.DataFrame(columns=['algorithm', 'train_data_file', 'mean_recall'])\n",
    "for output in outputs:\n",
    "    row = {\n",
    "        'algorithm': output['algorithm'],\n",
    "        'train_data_file': output['train_filename'],\n",
    "        'mean_recall': round(output['metrics'].mean(), 2),\n",
    "        'std_recall': round(output['metrics'].std(), 2)\n",
    "    }\n",
    "    output_df = output_df.append(row, ignore_index=True)"
   ]
  },
  {
   "cell_type": "code",
   "execution_count": 18,
   "metadata": {},
   "outputs": [
    {
     "data": {
      "text/html": [
       "<div>\n",
       "<style scoped>\n",
       "    .dataframe tbody tr th:only-of-type {\n",
       "        vertical-align: middle;\n",
       "    }\n",
       "\n",
       "    .dataframe tbody tr th {\n",
       "        vertical-align: top;\n",
       "    }\n",
       "\n",
       "    .dataframe thead th {\n",
       "        text-align: right;\n",
       "    }\n",
       "</style>\n",
       "<table border=\"1\" class=\"dataframe\">\n",
       "  <thead>\n",
       "    <tr style=\"text-align: right;\">\n",
       "      <th></th>\n",
       "      <th>algorithm</th>\n",
       "      <th>train_data_file</th>\n",
       "      <th>mean_recall</th>\n",
       "      <th>std_recall</th>\n",
       "    </tr>\n",
       "  </thead>\n",
       "  <tbody>\n",
       "    <tr>\n",
       "      <th>0</th>\n",
       "      <td>NB</td>\n",
       "      <td>data/train/train_data_tf_100_(1, 1)_clean_lemm...</td>\n",
       "      <td>0.95</td>\n",
       "      <td>0.04</td>\n",
       "    </tr>\n",
       "    <tr>\n",
       "      <th>1</th>\n",
       "      <td>SVM</td>\n",
       "      <td>data/train/train_data_tf_100_(1, 1)_clean_lemm...</td>\n",
       "      <td>0.00</td>\n",
       "      <td>0.00</td>\n",
       "    </tr>\n",
       "    <tr>\n",
       "      <th>2</th>\n",
       "      <td>LR</td>\n",
       "      <td>data/train/train_data_tf_100_(1, 1)_clean_lemm...</td>\n",
       "      <td>0.81</td>\n",
       "      <td>0.09</td>\n",
       "    </tr>\n",
       "    <tr>\n",
       "      <th>3</th>\n",
       "      <td>RF</td>\n",
       "      <td>data/train/train_data_tf_100_(1, 1)_clean_lemm...</td>\n",
       "      <td>0.93</td>\n",
       "      <td>0.05</td>\n",
       "    </tr>\n",
       "    <tr>\n",
       "      <th>4</th>\n",
       "      <td>GB</td>\n",
       "      <td>data/train/train_data_tf_100_(1, 1)_clean_lemm...</td>\n",
       "      <td>0.84</td>\n",
       "      <td>0.06</td>\n",
       "    </tr>\n",
       "  </tbody>\n",
       "</table>\n",
       "</div>"
      ],
      "text/plain": [
       "  algorithm                                    train_data_file  mean_recall  \\\n",
       "0        NB  data/train/train_data_tf_100_(1, 1)_clean_lemm...         0.95   \n",
       "1       SVM  data/train/train_data_tf_100_(1, 1)_clean_lemm...         0.00   \n",
       "2        LR  data/train/train_data_tf_100_(1, 1)_clean_lemm...         0.81   \n",
       "3        RF  data/train/train_data_tf_100_(1, 1)_clean_lemm...         0.93   \n",
       "4        GB  data/train/train_data_tf_100_(1, 1)_clean_lemm...         0.84   \n",
       "\n",
       "   std_recall  \n",
       "0        0.04  \n",
       "1        0.00  \n",
       "2        0.09  \n",
       "3        0.05  \n",
       "4        0.06  "
      ]
     },
     "execution_count": 18,
     "metadata": {},
     "output_type": "execute_result"
    }
   ],
   "source": [
    "output_df.head()"
   ]
  },
  {
   "cell_type": "markdown",
   "metadata": {},
   "source": [
    "Save training results to a csv"
   ]
  },
  {
   "cell_type": "code",
   "execution_count": 19,
   "metadata": {},
   "outputs": [],
   "source": [
    "experiment_dir = 'experiments'  # directory to store experiments\n",
    "os.makedirs(experiment_dir, exist_ok=True)  # ensure the directory exists\n",
    "output_df.to_csv(experiment_dir+'/e_28052020.csv', index=False)"
   ]
  },
  {
   "cell_type": "markdown",
   "metadata": {},
   "source": [
    "### Compare the best models of each type"
   ]
  },
  {
   "cell_type": "code",
   "execution_count": 6,
   "metadata": {},
   "outputs": [
    {
     "name": "stdout",
     "output_type": "stream",
     "text": [
      "Algorithm: NB, Mean Recall: 0.98, Std. Recall: 0.04\n",
      "Algorithm: SVM, Mean Recall: 0.79, Std. Recall: 0.11\n",
      "Algorithm: LR, Mean Recall: 0.9, Std. Recall: 0.09\n",
      "Algorithm: RF, Mean Recall: 0.94, Std. Recall: 0.07\n",
      "Algorithm: GB, Mean Recall: 0.91, Std. Recall: 0.06\n"
     ]
    }
   ],
   "source": [
    "mean_best_models, std_best_models = [], []\n",
    "for algorithm in algorithms:\n",
    "    best_model = output_df[output_df['algorithm']==algorithm].sort_values(by=['mean_recall', 'std_recall'], ascending=False).head(1)\n",
    "    mean_recall = best_model['mean_recall'].values[0]\n",
    "    std_recall = best_model['std_recall'].values[0]\n",
    "    mean_best_models.append(mean_recall)    \n",
    "    std_best_models.append(std_recall)\n",
    "    print(f'Algorithm: {algorithm}, Mean Recall: {mean_recall}, Std. Recall: {std_recall}')"
   ]
  },
  {
   "cell_type": "code",
   "execution_count": 7,
   "metadata": {},
   "outputs": [
    {
     "data": {
      "image/png": "[encoded data removed]",
      "text/plain": [
       "<Figure size 864x432 with 1 Axes>"
      ]
     },
     "metadata": {
      "needs_background": "light"
     },
     "output_type": "display_data"
    }
   ],
   "source": [
    "cv_res = pd.DataFrame({\n",
    "    'cross_val_means': mean_best_models,\n",
    "    'cross_val_std': std_best_models,\n",
    "    'algorithm': algorithms\n",
    "})\n",
    "plt.figure(figsize=(12,6))\n",
    "g = sns.barplot('cross_val_means', 'algorithm', data = cv_res, palette='Blues_r', orient = \"h\", **{'xerr':std_best_models})\n",
    "g.set_xlabel('Mean Recall')\n",
    "g = g.set_title('Cross validation scores')"
   ]
  },
  {
   "cell_type": "markdown",
   "metadata": {},
   "source": [
    "### Perform hyper-parameters optimization"
   ]
  },
  {
   "cell_type": "markdown",
   "metadata": {},
   "source": [
    "#### Support Vector Machine (SVM)"
   ]
  },
  {
   "cell_type": "code",
   "execution_count": 8,
   "metadata": {},
   "outputs": [],
   "source": [
    "# get train data\n",
    "best_model = output_df[output_df['algorithm']=='SVM'].sort_values(by=['mean_recall', 'std_recall'], ascending=False).head(1)\n",
    "train_data = pd.read_csv(best_model['train_data_file'].values[0])\n",
    "train_data['sentence'] = train_data['sentence'].apply(lambda s: json.loads(s))\n",
    "X_train_svm = list(train_data['sentence'].values)\n",
    "y_train_svm = train_data['label'].values"
   ]
  },
  {
   "cell_type": "code",
   "execution_count": 42,
   "metadata": {},
   "outputs": [
    {
     "name": "stdout",
     "output_type": "stream",
     "text": [
      "Fitting 10 folds for each of 75 candidates, totalling 750 fits\n"
     ]
    },
    {
     "name": "stderr",
     "output_type": "stream",
     "text": [
      "[Parallel(n_jobs=4)]: Using backend LokyBackend with 4 concurrent workers.\n",
      "[Parallel(n_jobs=4)]: Done  42 tasks      | elapsed:    8.0s\n",
      "[Parallel(n_jobs=4)]: Done 192 tasks      | elapsed:   34.0s\n",
      "[Parallel(n_jobs=4)]: Done 442 tasks      | elapsed:  1.3min\n",
      "[Parallel(n_jobs=4)]: Done 750 out of 750 | elapsed:  2.2min finished\n",
      "/home/Life/jsaldiva/.conda/envs/impactenv/lib/python3.6/site-packages/sklearn/model_selection/_search.py:841: DeprecationWarning: The default of the `iid` parameter will change from True to False in version 0.22 and will be removed in 0.24. This will change numeric results when test-set sizes are unequal.\n",
      "  DeprecationWarning)\n"
     ]
    },
    {
     "data": {
      "text/plain": [
       "0.905738933254461"
      ]
     },
     "execution_count": 42,
     "metadata": {},
     "output_type": "execute_result"
    }
   ],
   "source": [
    "# define parameters\n",
    "# https://towardsdatascience.com/svm-hyper-parameter-tuning-using-gridsearchcv-49c0bc55ce29\n",
    "param_grid = {'C': [0.01, 0.1, 1, 10, 100], \n",
    "              'gamma': [1, 0.1, 0.01, 0.001, 'scale'],\n",
    "              'kernel': ['linear','rbf', 'poly']\n",
    "              }\n",
    "# run grid search\n",
    "gs_svm = GridSearchCV(SVC(), param_grid=param_grid, cv=kfold, scoring=\"recall\", n_jobs=4, verbose=1)\n",
    "gs_svm.fit(X_train_svm, y_train_svm)\n",
    "svm_best = gs_svm.best_estimator_\n",
    "gs_svm.best_score_"
   ]
  },
  {
   "cell_type": "markdown",
   "metadata": {},
   "source": [
    "**Diagnosis**. In this model the training score is at maximum regardless of the training size, which is signal of overfitting. The large gap between training and validation confirms a high-variance scenario."
   ]
  },
  {
   "cell_type": "markdown",
   "metadata": {},
   "source": [
    "#### Logistic Regression (LR)"
   ]
  },
  {
   "cell_type": "code",
   "execution_count": 12,
   "metadata": {},
   "outputs": [],
   "source": [
    "# get train data\n",
    "best_model = output_df[output_df['algorithm']=='LR'].sort_values(by=['mean_recall', 'std_recall'], ascending=False).head(1)\n",
    "train_data = pd.read_csv(best_model['train_data_file'].values[0])\n",
    "train_data['sentence'] = train_data['sentence'].apply(lambda s: json.loads(s))\n",
    "X_train_lr = list(train_data['sentence'].values)\n",
    "y_train_lr = train_data['label'].values"
   ]
  },
  {
   "cell_type": "code",
   "execution_count": 13,
   "metadata": {},
   "outputs": [
    {
     "name": "stdout",
     "output_type": "stream",
     "text": [
      "Fitting 10 folds for each of 20 candidates, totalling 200 fits\n"
     ]
    },
    {
     "name": "stderr",
     "output_type": "stream",
     "text": [
      "[Parallel(n_jobs=6)]: Using backend LokyBackend with 6 concurrent workers.\n",
      "[Parallel(n_jobs=6)]: Done  38 tasks      | elapsed:   30.7s\n",
      "[Parallel(n_jobs=6)]: Done 188 tasks      | elapsed:  2.6min\n",
      "[Parallel(n_jobs=6)]: Done 200 out of 200 | elapsed:  2.7min finished\n",
      "/home/Life/jsaldiva/.conda/envs/impactenv/lib/python3.6/site-packages/sklearn/linear_model/logistic.py:433: FutureWarning: Default solver will be changed to 'lbfgs' in 0.22. Specify a solver to silence this warning.\n",
      "  FutureWarning)\n"
     ]
    },
    {
     "data": {
      "text/plain": [
       "0.9484373459528738"
      ]
     },
     "execution_count": 13,
     "metadata": {},
     "output_type": "execute_result"
    }
   ],
   "source": [
    "# define parameters\n",
    "# https://chrisalbon.com/machine_learning/model_selection/hyperparameter_tuning_using_grid_search\n",
    "param_grid = {'penalty': ['l1', 'l2'],\n",
    "              'C': np.logspace(0, 4, 10)\n",
    "              }\n",
    "# run grid search\n",
    "gs_lr = GridSearchCV(LogisticRegression(), param_grid=param_grid, cv=kfold, scoring=\"recall\", n_jobs=6, verbose=1)\n",
    "gs_lr.fit(X_train_lr, y_train_lr)\n",
    "lr_best = gs_lr.best_estimator_\n",
    "gs_lr.best_score_"
   ]
  },
  {
   "cell_type": "markdown",
   "metadata": {},
   "source": [
    "#### Random Forest (RF)"
   ]
  },
  {
   "cell_type": "code",
   "execution_count": 14,
   "metadata": {},
   "outputs": [],
   "source": [
    "# get train data\n",
    "best_model = output_df[output_df['algorithm']=='RF'].sort_values(by=['mean_recall', 'std_recall'], ascending=False).head(1)\n",
    "train_data = pd.read_csv(best_model['train_data_file'].values[0])\n",
    "train_data['sentence'] = train_data['sentence'].apply(lambda s: json.loads(s))\n",
    "X_train_rf = list(train_data['sentence'].values)\n",
    "y_train_rf = train_data['label'].values"
   ]
  },
  {
   "cell_type": "code",
   "execution_count": 15,
   "metadata": {},
   "outputs": [
    {
     "name": "stdout",
     "output_type": "stream",
     "text": [
      "Fitting 10 folds for each of 100 candidates, totalling 1000 fits\n"
     ]
    },
    {
     "name": "stderr",
     "output_type": "stream",
     "text": [
      "[Parallel(n_jobs=6)]: Using backend LokyBackend with 6 concurrent workers.\n",
      "[Parallel(n_jobs=6)]: Done  38 tasks      | elapsed:    8.8s\n",
      "[Parallel(n_jobs=6)]: Done 188 tasks      | elapsed:   42.3s\n",
      "[Parallel(n_jobs=6)]: Done 438 tasks      | elapsed:  1.7min\n",
      "[Parallel(n_jobs=6)]: Done 788 tasks      | elapsed:  2.9min\n",
      "[Parallel(n_jobs=6)]: Done 1000 out of 1000 | elapsed:  3.7min finished\n",
      "/home/Life/jsaldiva/.conda/envs/impactenv/lib/python3.6/site-packages/sklearn/model_selection/_search.py:841: DeprecationWarning: The default of the `iid` parameter will change from True to False in version 0.22 and will be removed in 0.24. This will change numeric results when test-set sizes are unequal.\n",
      "  DeprecationWarning)\n"
     ]
    },
    {
     "data": {
      "text/plain": [
       "0.9487094547964113"
      ]
     },
     "execution_count": 15,
     "metadata": {},
     "output_type": "execute_result"
    }
   ],
   "source": [
    "# define parameters\n",
    "n_estimators = [int(x) for x in np.linspace(start=100, stop=1000, num=10)]\n",
    "max_features = ['auto', 'sqrt']\n",
    "max_depth = [int(x) for x in np.linspace(10, 100, num = 10)]\n",
    "max_depth.append(None)\n",
    "min_samples_split = [2, 5, 7, 10]\n",
    "min_samples_leaf = [1, 2, 3]\n",
    "bootstrap = [True, False]\n",
    "param_grid = {'n_estimators': n_estimators,\n",
    "              'max_features': max_features,\n",
    "              'max_depth': max_depth,\n",
    "              'min_samples_split': min_samples_split,\n",
    "              'min_samples_leaf': min_samples_leaf,\n",
    "              'bootstrap': bootstrap}\n",
    "# run grid search\n",
    "gs_rf = RandomizedSearchCV(RandomForestClassifier(), param_distributions=param_grid, n_iter=100, cv=kfold, scoring=\"recall\", n_jobs=6, verbose=1)\n",
    "gs_rf.fit(X_train_rf, y_train_rf)\n",
    "rf_best = gs_rf.best_estimator_\n",
    "gs_rf.best_score_"
   ]
  },
  {
   "cell_type": "markdown",
   "metadata": {},
   "source": [
    "#### Gradient Boosting (GB)"
   ]
  },
  {
   "cell_type": "code",
   "execution_count": 16,
   "metadata": {},
   "outputs": [],
   "source": [
    "# get train data\n",
    "best_model = output_df[output_df['algorithm']=='GB'].sort_values(by=['mean_recall', 'std_recall'], ascending=False).head(1)\n",
    "train_data = pd.read_csv(best_model['train_data_file'].values[0])\n",
    "train_data['sentence'] = train_data['sentence'].apply(lambda s: json.loads(s))\n",
    "X_train_gb = list(train_data['sentence'].values)\n",
    "y_train_gb = train_data['label'].values"
   ]
  },
  {
   "cell_type": "code",
   "execution_count": 17,
   "metadata": {},
   "outputs": [
    {
     "name": "stdout",
     "output_type": "stream",
     "text": [
      "Fitting 10 folds for each of 100 candidates, totalling 1000 fits\n"
     ]
    },
    {
     "name": "stderr",
     "output_type": "stream",
     "text": [
      "[Parallel(n_jobs=6)]: Using backend LokyBackend with 6 concurrent workers.\n",
      "[Parallel(n_jobs=6)]: Done  38 tasks      | elapsed:   55.7s\n",
      "[Parallel(n_jobs=6)]: Done 188 tasks      | elapsed:  3.8min\n",
      "[Parallel(n_jobs=6)]: Done 438 tasks      | elapsed:  9.3min\n",
      "[Parallel(n_jobs=6)]: Done 788 tasks      | elapsed: 14.9min\n",
      "[Parallel(n_jobs=6)]: Done 1000 out of 1000 | elapsed: 18.5min finished\n",
      "/home/Life/jsaldiva/.conda/envs/impactenv/lib/python3.6/site-packages/sklearn/model_selection/_search.py:841: DeprecationWarning: The default of the `iid` parameter will change from True to False in version 0.22 and will be removed in 0.24. This will change numeric results when test-set sizes are unequal.\n",
      "  DeprecationWarning)\n"
     ]
    },
    {
     "data": {
      "text/plain": [
       "0.9437582569259588"
      ]
     },
     "execution_count": 17,
     "metadata": {},
     "output_type": "execute_result"
    }
   ],
   "source": [
    "# define parameters\n",
    "# https://www.kaggle.com/yassineghouzam/titanic-top-4-with-ensemble-modeling/notebook#Titanic-Top-4%-with-ensemble-modeling\n",
    "n_estimators = [int(x) for x in np.linspace(start=100, stop=1000, num=10)]\n",
    "max_features = ['auto', 'sqrt']\n",
    "max_depth = [int(x) for x in np.linspace(10, 100, num = 10)]\n",
    "max_depth.append(None)\n",
    "min_samples_split = [2, 5, 7, 10]\n",
    "min_samples_leaf = [1, 2, 3]\n",
    "loss = ['deviance']\n",
    "learning_rate = [0.1, 0.05, 0.01]\n",
    "param_grid = {'loss' : loss,\n",
    "              'n_estimators' : n_estimators,\n",
    "              'learning_rate': learning_rate,\n",
    "              'max_depth': max_depth,\n",
    "              'min_samples_leaf': min_samples_leaf,\n",
    "              'max_features': max_features,\n",
    "              'min_samples_split': min_samples_split\n",
    "              }\n",
    "# run grid search\n",
    "gs_gb = RandomizedSearchCV(GradientBoostingClassifier(), param_distributions=param_grid, n_iter=100, cv=kfold, scoring=\"recall\", n_jobs=6, verbose=1)\n",
    "gs_gb.fit(X_train_gb, y_train_gb)\n",
    "gb_best = gs_gb.best_estimator_\n",
    "gs_gb.best_score_"
   ]
  },
  {
   "cell_type": "markdown",
   "metadata": {},
   "source": [
    "### Plot learning curve"
   ]
  },
  {
   "cell_type": "code",
   "execution_count": 18,
   "metadata": {},
   "outputs": [],
   "source": [
    "# Taken from \n",
    "# https://scikit-learn.org/stable/auto_examples/model_selection/plot_learning_curve.html\n",
    "def plot_learning_curve(estimator, title, X, y, ylim=None, cv=None, n_jobs=-1, train_sizes=np.linspace(.1, 1.0, 5), shuffle=False):\n",
    "    \"\"\"Generate a simple plot of the test and training learning curve\"\"\"\n",
    "    \n",
    "    plt.figure(figsize=(12,6))\n",
    "    plt.title(title)\n",
    "    if ylim is not None:\n",
    "        plt.ylim(*ylim)\n",
    "    plt.xlabel(\"Training examples\")\n",
    "    plt.ylabel(\"Score\")\n",
    "    \n",
    "    train_sizes, train_scores, test_scores = learning_curve(estimator, X, y, n_jobs=n_jobs, cv=cv, train_sizes=train_sizes, shuffle=shuffle)\n",
    "    train_scores_mean = np.mean(train_scores, axis=1)\n",
    "    train_scores_std = np.std(train_scores, axis=1)\n",
    "    test_scores_mean = np.mean(test_scores, axis=1)\n",
    "    test_scores_std = np.std(test_scores, axis=1)\n",
    "    \n",
    "    plt.grid()\n",
    "    plt.fill_between(train_sizes, train_scores_mean - train_scores_std, train_scores_mean + train_scores_std, alpha=0.1, color=\"r\")\n",
    "    plt.fill_between(train_sizes, test_scores_mean - test_scores_std, test_scores_mean + test_scores_std, alpha=0.1, color=\"g\")\n",
    "    plt.plot(train_sizes, train_scores_mean, 'o-', color=\"r\", label=\"Training score\")\n",
    "    plt.plot(train_sizes, test_scores_mean, 'o-', color=\"g\",label=\"Cross-validation score\")\n",
    "\n",
    "    plt.legend(loc=\"best\")\n",
    "    return plt"
   ]
  },
  {
   "cell_type": "markdown",
   "metadata": {},
   "source": [
    "#### **Naive-Bayes (NB)**"
   ]
  },
  {
   "cell_type": "code",
   "execution_count": 21,
   "metadata": {},
   "outputs": [
    {
     "data": {
      "image/png": "[encoded data removed]",
      "text/plain": [
       "<Figure size 864x432 with 1 Axes>"
      ]
     },
     "metadata": {
      "needs_background": "light"
     },
     "output_type": "display_data"
    }
   ],
   "source": [
    "best_model = output_df[output_df['algorithm']=='NB'].sort_values(by=['mean_recall', 'std_recall'], ascending=False).head(1)\n",
    "train_data = pd.read_csv(best_model['train_data_file'].values[0])\n",
    "train_data['sentence'] = train_data['sentence'].apply(lambda s: json.loads(s))\n",
    "X_train_nb = list(train_data['sentence'].values)\n",
    "y_train_nb = train_data['label'].values\n",
    "g = plot_learning_curve(GaussianNB(), \"NB learning curves\", X_train_nb, y_train_nb, cv=kfold)\n",
    "g.show()"
   ]
  },
  {
   "cell_type": "markdown",
   "metadata": {},
   "source": [
    "**Diagnosis**. Learning curves in NB model shows that training scores decreases as the size of the training set increases. This indicates that the model does not overfitting on training data (low variance). On the contrary, the validation curve increases as more training examples are available, which tells us that the model is correctly learning from the training examples. The small gap between training and validation is also a sign of low variance. Both curves converge at some point, which is also a good indicator of correct learning. However, errors in both training and validation are around 20%, which means that the model is not able to correctly capture 20 out of 100 sentences of social impact. Given the size and unbalanced nature of the data, this might be a tolerable error."
   ]
  },
  {
   "cell_type": "markdown",
   "metadata": {},
   "source": [
    "#### **Support Vector Machine (SVM)**"
   ]
  },
  {
   "cell_type": "code",
   "execution_count": 44,
   "metadata": {},
   "outputs": [
    {
     "data": {
      "image/png": "[encoded data removed]",
      "text/plain": [
       "<Figure size 864x432 with 1 Axes>"
      ]
     },
     "metadata": {
      "needs_background": "light"
     },
     "output_type": "display_data"
    }
   ],
   "source": [
    "g = plot_learning_curve(svm_best, \"SVM learning curves\", X_train_svm, y_train_svm, cv=kfold, shuffle=True)\n",
    "g.show()"
   ]
  },
  {
   "cell_type": "markdown",
   "metadata": {},
   "source": [
    "**Diagnosis**. Training curve keep constant independently of the training size, which indicates an overfitting problem. Also, the large gap between training and validation is a sign of high-variance."
   ]
  },
  {
   "cell_type": "markdown",
   "metadata": {},
   "source": [
    "#### **Logistic Regression (LR)**"
   ]
  },
  {
   "cell_type": "code",
   "execution_count": 25,
   "metadata": {},
   "outputs": [
    {
     "data": {
      "image/png": "[encoded data removed]",
      "text/plain": [
       "<Figure size 864x432 with 1 Axes>"
      ]
     },
     "metadata": {
      "needs_background": "light"
     },
     "output_type": "display_data"
    }
   ],
   "source": [
    "g = plot_learning_curve(lr_best, \"LR learning curves\", X_train_lr, y_train_lr, cv=kfold, shuffle=True)\n",
    "g.show()"
   ]
  },
  {
   "cell_type": "markdown",
   "metadata": {},
   "source": [
    "**Diagnosis**. In this model the training score is at maximum regardless of the training size, which is signal of overfitting. The large gap between training and validation confirms a high-variance scenario."
   ]
  },
  {
   "cell_type": "markdown",
   "metadata": {},
   "source": [
    "#### **Random Forest (RF)**"
   ]
  },
  {
   "cell_type": "code",
   "execution_count": 26,
   "metadata": {},
   "outputs": [
    {
     "data": {
      "image/png": "[encoded data removed]",
      "text/plain": [
       "<Figure size 864x432 with 1 Axes>"
      ]
     },
     "metadata": {
      "needs_background": "light"
     },
     "output_type": "display_data"
    }
   ],
   "source": [
    "g = plot_learning_curve(rf_best, \"RF learning curves\", X_train_rf, y_train_rf, cv=kfold)\n",
    "g.show()"
   ]
  },
  {
   "cell_type": "markdown",
   "metadata": {},
   "source": [
    "**Diagnosis**. In this model the training score is at maximum regardless of the training size, which is signal of overfitting."
   ]
  },
  {
   "cell_type": "markdown",
   "metadata": {},
   "source": [
    "#### **Gradient Boosting (GB)**"
   ]
  },
  {
   "cell_type": "code",
   "execution_count": 27,
   "metadata": {},
   "outputs": [
    {
     "data": {
      "image/png": "[encoded data removed]",
      "text/plain": [
       "<Figure size 864x432 with 1 Axes>"
      ]
     },
     "metadata": {
      "needs_background": "light"
     },
     "output_type": "display_data"
    }
   ],
   "source": [
    "g = plot_learning_curve(gb_best, \"GB learning curves\", X_train_gb, y_train_gb, cv=kfold, shuffle=True)\n",
    "g.show()"
   ]
  },
  {
   "cell_type": "markdown",
   "metadata": {},
   "source": [
    "**Diagnosis**. In this model the training score is at maximum regardless of the training size, which is signal of overfitting. The large gap between training and validation confirms a high-variance scenario."
   ]
  },
  {
   "cell_type": "markdown",
   "metadata": {},
   "source": [
    "### Select model"
   ]
  },
  {
   "cell_type": "markdown",
   "metadata": {},
   "source": [
    "Based on the previous diagnosis, Naive-Bayes model is selected as the best option to conduct the classification task. Next, an NB model will be trained on the data that was found to be optimal for a NB model."
   ]
  },
  {
   "cell_type": "code",
   "execution_count": 59,
   "metadata": {},
   "outputs": [],
   "source": [
    "nb_classifier = GaussianNB()\n",
    "recall_scores = []\n",
    "data = np.array(X_train_nb)\n",
    "labels = np.array(y_train_nb)\n",
    "for train_index, test_index in kfold.split(data):\n",
    "    kf_X_train, kf_X_test = data[train_index], data[test_index]\n",
    "    kf_y_train, kf_y_test = labels[train_index], labels[test_index]        \n",
    "    nb_classifier.fit(kf_X_train, kf_y_train)\n",
    "    y_pred = nb_classifier.predict(kf_X_test)\n",
    "    recall_scores.append(metrics.recall_score(kf_y_test, y_pred))"
   ]
  },
  {
   "cell_type": "code",
   "execution_count": 62,
   "metadata": {},
   "outputs": [
    {
     "name": "stdout",
     "output_type": "stream",
     "text": [
      "Mean of recall scores on training: 0.98\n"
     ]
    }
   ],
   "source": [
    "print(f'Mean of recall scores on training: {round(np.array(recall_scores).mean(),2)}')"
   ]
  },
  {
   "cell_type": "markdown",
   "metadata": {},
   "source": [
    "#### Save Model"
   ]
  },
  {
   "cell_type": "code",
   "execution_count": 69,
   "metadata": {},
   "outputs": [
    {
     "data": {
      "text/plain": [
       "['models/naive-bayes-tc_100_(1, 2)_clean_steeming_lemmatization.joblib']"
      ]
     },
     "execution_count": 69,
     "metadata": {},
     "output_type": "execute_result"
    }
   ],
   "source": [
    "models_dir = 'models'  # directory to store models\n",
    "os.makedirs(models_dir, exist_ok=True)  # ensure the directory exists\n",
    "train_fn = output_df[output_df['algorithm']=='NB'].sort_values(by=['mean_recall', 'std_recall'], ascending=False).head(1)['train_data_file'].values[0]\n",
    "text_processing_tasks = '_'.join(train_fn.split('_')[2:]).split('.')[0]\n",
    "model_name = '{}-{}.joblib'.format('naive-bayes',text_processing_tasks)\n",
    "model_file_name = os.path.join(models_dir,model_name)\n",
    "joblib.dump(nb_classifier, model_file_name)"
   ]
  },
  {
   "cell_type": "markdown",
   "metadata": {},
   "source": [
    "## Evaluate model"
   ]
  },
  {
   "cell_type": "markdown",
   "metadata": {},
   "source": [
    "### Load model"
   ]
  },
  {
   "cell_type": "code",
   "execution_count": 70,
   "metadata": {},
   "outputs": [],
   "source": [
    "model = joblib.load('./models/naive-bayes-tc_100_(1, 2)_clean_steeming_lemmatization.joblib')"
   ]
  },
  {
   "cell_type": "markdown",
   "metadata": {},
   "source": [
    "### Load test data"
   ]
  },
  {
   "cell_type": "code",
   "execution_count": 72,
   "metadata": {},
   "outputs": [],
   "source": [
    "test_data = pd.read_csv('./data/test/test_data_tc_100_(1, 2)_clean_steeming_lemmatization.csv')"
   ]
  },
  {
   "cell_type": "code",
   "execution_count": 74,
   "metadata": {},
   "outputs": [],
   "source": [
    "test_data['sentence'] = test_data['sentence'].apply(lambda s: json.loads(s))\n",
    "X_test = list(test_data['sentence'].values)\n",
    "y_test = test_data['label'].values"
   ]
  },
  {
   "cell_type": "markdown",
   "metadata": {},
   "source": [
    "### Make predictions"
   ]
  },
  {
   "cell_type": "code",
   "execution_count": 75,
   "metadata": {},
   "outputs": [],
   "source": [
    "pred = model.predict(X_test)"
   ]
  },
  {
   "cell_type": "markdown",
   "metadata": {},
   "source": [
    "### Compute performance metrics"
   ]
  },
  {
   "cell_type": "code",
   "execution_count": 76,
   "metadata": {},
   "outputs": [
    {
     "name": "stdout",
     "output_type": "stream",
     "text": [
      "Recall: 0.98\n"
     ]
    }
   ],
   "source": [
    "print(f'Recall: {round(metrics.recall_score(y_test, pred),2)}')"
   ]
  }
 ],
 "metadata": {
  "kernelspec": {
   "display_name": "Impact Env",
   "language": "python",
   "name": "impact-env"
  },
  "language_info": {
   "codemirror_mode": {
    "name": "ipython",
    "version": 3
   },
   "file_extension": ".py",
   "mimetype": "text/x-python",
   "name": "python",
   "nbconvert_exporter": "python",
   "pygments_lexer": "ipython3",
   "version": "3.6.9"
  }
 },
 "nbformat": 4,
 "nbformat_minor": 4
}
