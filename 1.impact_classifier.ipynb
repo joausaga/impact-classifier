{
 "cells": [
  {
   "cell_type": "markdown",
   "metadata": {},
   "source": [
    "# Impact Classifier"
   ]
  },
  {
   "cell_type": "markdown",
   "metadata": {},
   "source": [
    "The project proposes to leverage machine learning (ML) and natural language processing (NLP) techniques to build a text classifier that automatizes the processing and identification of evidence of social impact in research documents. The proposal aims to solve a classification problem in which the model takes a sentence contained in a research document as input and produces as output a binary answer (1=True, 0=False) that states whether the sentence contains or not evidence of social impact, respectively.\n",
    "\n",
    "From all research fields, this project focuses on Medical, Health, and Biological science because the ultimately goal is to understand the social impact of the research projects of the Spanish National Institue of Bioinformatics (INB by its Spanish Acronym), which is an institution that conducts medical and biological investigations.\n",
    "\n",
    "The goal of this notebook is to develop a machine learning classifier able to automatically identify sentences of social impact in research documents."
   ]
  },
  {
   "cell_type": "markdown",
   "metadata": {},
   "source": [
    "## Load libraries"
   ]
  },
  {
   "cell_type": "code",
   "execution_count": 2,
   "metadata": {},
   "outputs": [
    {
     "name": "stderr",
     "output_type": "stream",
     "text": [
      "[nltk_data] Downloading package stopwords to\n",
      "[nltk_data]     /home/Life/jsaldiva/nltk_data...\n",
      "[nltk_data]   Package stopwords is already up-to-date!\n",
      "[nltk_data] Downloading package wordnet to\n",
      "[nltk_data]     /home/Life/jsaldiva/nltk_data...\n",
      "[nltk_data]   Package wordnet is already up-to-date!\n",
      "[nltk_data] Downloading package stopwords to\n",
      "[nltk_data]     /home/Life/jsaldiva/nltk_data...\n",
      "[nltk_data]   Package stopwords is already up-to-date!\n",
      "[nltk_data] Downloading package wordnet to\n",
      "[nltk_data]     /home/Life/jsaldiva/nltk_data...\n",
      "[nltk_data]   Package wordnet is already up-to-date!\n"
     ]
    }
   ],
   "source": [
    "import glob\n",
    "import numpy as np\n",
    "import nltk\n",
    "import os\n",
    "import pandas as pd\n",
    "import re\n",
    "import matplotlib.pyplot as plt\n",
    "import sys\n",
    "import joblib\n",
    "import json\n",
    "import pickle\n",
    "import seaborn as sns\n",
    "\n",
    "\n",
    "nltk.download(\"stopwords\")\n",
    "nltk.download('wordnet')\n",
    "\n",
    "from nltk.corpus import stopwords\n",
    "from nltk.stem.porter import *\n",
    "from nltk.stem import WordNetLemmatizer\n",
    "from nltk.tokenize import word_tokenize, sent_tokenize\n",
    "from nltk.probability import FreqDist\n",
    "\n",
    "from sklearn.feature_extraction.text import CountVectorizer\n",
    "from sklearn.feature_extraction.text import TfidfVectorizer\n",
    "from sklearn import metrics\n",
    "from sklearn import model_selection\n",
    "from sklearn.model_selection import cross_val_score, KFold, RandomizedSearchCV, GridSearchCV, learning_curve\n",
    "from sklearn.naive_bayes import GaussianNB\n",
    "from sklearn.svm import SVC\n",
    "from sklearn.ensemble import RandomForestClassifier, GradientBoostingClassifier, VotingClassifier\n",
    "from sklearn.linear_model import LogisticRegression\n",
    "from sklearn.model_selection import KFold\n",
    "\n",
    "from bs4 import BeautifulSoup\n",
    "from data_processor import *\n",
    "from tqdm import tqdm\n",
    "from wordcloud import WordCloud, STOPWORDS, ImageColorGenerator\n",
    "from utils import save_model\n",
    "\n",
    "%matplotlib inline"
   ]
  },
  {
   "cell_type": "markdown",
   "metadata": {},
   "source": [
    "## Load data"
   ]
  },
  {
   "cell_type": "markdown",
   "metadata": {},
   "source": [
    "### Impact sentences"
   ]
  },
  {
   "cell_type": "markdown",
   "metadata": {},
   "source": [
    "Load summaries with sentences with evidence of social impact. The data were extracted from the impact case studies published by REF (Research Excellence Framework) and it contains the summary of societal impact of Medical, Health, and Biological research. Summaries can be access [here](https://impact.ref.ac.uk/casestudies/Results.aspx?Type=I&Tag=5085)."
   ]
  },
  {
   "cell_type": "code",
   "execution_count": 2,
   "metadata": {},
   "outputs": [],
   "source": [
    "ref_impact = pd.read_csv('data/source/social_impact_ref_bio_medicine.csv', usecols=['Summary of the impact'])"
   ]
  },
  {
   "cell_type": "markdown",
   "metadata": {},
   "source": [
    "#### Split summaries into sentences"
   ]
  },
  {
   "cell_type": "code",
   "execution_count": 3,
   "metadata": {},
   "outputs": [],
   "source": [
    "impact_sentences = pd.DataFrame(columns=['sentence'])\n",
    "for i in ref_impact.index:\n",
    "    sentences = sent_tokenize(ref_impact.loc[i, 'Summary of the impact'])\n",
    "    for sentence in sentences:\n",
    "        impact_sentences = impact_sentences.append({'sentence': sentence}, ignore_index=True)        "
   ]
  },
  {
   "cell_type": "markdown",
   "metadata": {},
   "source": [
    "#### Clean sentences"
   ]
  },
  {
   "cell_type": "code",
   "execution_count": 4,
   "metadata": {},
   "outputs": [
    {
     "name": "stdout",
     "output_type": "stream",
     "text": [
      "CPU times: user 289 ms, sys: 16.1 ms, total: 305 ms\n",
      "Wall time: 298 ms\n"
     ]
    }
   ],
   "source": [
    "%%time\n",
    "impact_sentences['sentence'] = impact_sentences['sentence'].apply(lambda x: clean_sentence(x))"
   ]
  },
  {
   "cell_type": "markdown",
   "metadata": {},
   "source": [
    "#### Add label column"
   ]
  },
  {
   "cell_type": "markdown",
   "metadata": {},
   "source": [
    "Sentences with evidence of social will later be merged with more general sentences that can be commonly found in research documents. By the time the merge occurs, social impact sentences need to be distinguised from the more general sentences. Therefore, a the new column **`label`** is created in the impact dataset to tag with 1 all sentences that contain evidence of social impact.  "
   ]
  },
  {
   "cell_type": "code",
   "execution_count": 5,
   "metadata": {},
   "outputs": [],
   "source": [
    "impact_sentences['label'] = 1"
   ]
  },
  {
   "cell_type": "code",
   "execution_count": 6,
   "metadata": {},
   "outputs": [
    {
     "name": "stdout",
     "output_type": "stream",
     "text": [
      "The dataset contains 2373 rows and 2 columns\n"
     ]
    }
   ],
   "source": [
    "nrows = impact_sentences.shape[0]\n",
    "ncols = impact_sentences.shape[1]\n",
    "print(f\"The dataset contains {nrows} rows and {ncols} columns\")"
   ]
  },
  {
   "cell_type": "markdown",
   "metadata": {},
   "source": [
    "Let's show an sample of impact sentences together with the newly created column label."
   ]
  },
  {
   "cell_type": "code",
   "execution_count": 7,
   "metadata": {},
   "outputs": [
    {
     "data": {
      "text/html": [
       "<div>\n",
       "<style scoped>\n",
       "    .dataframe tbody tr th:only-of-type {\n",
       "        vertical-align: middle;\n",
       "    }\n",
       "\n",
       "    .dataframe tbody tr th {\n",
       "        vertical-align: top;\n",
       "    }\n",
       "\n",
       "    .dataframe thead th {\n",
       "        text-align: right;\n",
       "    }\n",
       "</style>\n",
       "<table border=\"1\" class=\"dataframe\">\n",
       "  <thead>\n",
       "    <tr style=\"text-align: right;\">\n",
       "      <th></th>\n",
       "      <th>sentence</th>\n",
       "      <th>label</th>\n",
       "    </tr>\n",
       "  </thead>\n",
       "  <tbody>\n",
       "    <tr>\n",
       "      <th>0</th>\n",
       "      <td>The Guide to Receptors and Channels has contri...</td>\n",
       "      <td>1</td>\n",
       "    </tr>\n",
       "    <tr>\n",
       "      <th>1</th>\n",
       "      <td>The key tools it provides have influenced appr...</td>\n",
       "      <td>1</td>\n",
       "    </tr>\n",
       "    <tr>\n",
       "      <th>2</th>\n",
       "      <td>It is used widely as a teaching aid for underg...</td>\n",
       "      <td>1</td>\n",
       "    </tr>\n",
       "    <tr>\n",
       "      <th>3</th>\n",
       "      <td>It led to the formation of the Guide to Pharma...</td>\n",
       "      <td>1</td>\n",
       "    </tr>\n",
       "    <tr>\n",
       "      <th>4</th>\n",
       "      <td>The Cardiff Osteological Research Group CORG h...</td>\n",
       "      <td>1</td>\n",
       "    </tr>\n",
       "  </tbody>\n",
       "</table>\n",
       "</div>"
      ],
      "text/plain": [
       "                                            sentence  label\n",
       "0  The Guide to Receptors and Channels has contri...      1\n",
       "1  The key tools it provides have influenced appr...      1\n",
       "2  It is used widely as a teaching aid for underg...      1\n",
       "3  It led to the formation of the Guide to Pharma...      1\n",
       "4  The Cardiff Osteological Research Group CORG h...      1"
      ]
     },
     "execution_count": 7,
     "metadata": {},
     "output_type": "execute_result"
    }
   ],
   "source": [
    "impact_sentences.head()"
   ]
  },
  {
   "cell_type": "markdown",
   "metadata": {},
   "source": [
    "### General sentences"
   ]
  },
  {
   "cell_type": "markdown",
   "metadata": {},
   "source": [
    "Load dataset containing sentences that are commonly found in medical and bioinformatics research documents. The process followed to build the dataset of general sentences is described in the section *Collection of medical and biological sentences* of the notebook **`0.dataset_preparation.ipynb`**."
   ]
  },
  {
   "cell_type": "code",
   "execution_count": 8,
   "metadata": {},
   "outputs": [],
   "source": [
    "gral_sentences = pd.read_csv(\"data/sentences/gral_sentences_3000.csv\", index_col=0)"
   ]
  },
  {
   "cell_type": "markdown",
   "metadata": {},
   "source": [
    "#### Clean sentences"
   ]
  },
  {
   "cell_type": "code",
   "execution_count": 9,
   "metadata": {},
   "outputs": [],
   "source": [
    "gral_sentences['sentence'] = gral_sentences['sentence'].apply(lambda x: clean_sentence(x))"
   ]
  },
  {
   "cell_type": "markdown",
   "metadata": {},
   "source": [
    "#### Add label column"
   ]
  },
  {
   "cell_type": "markdown",
   "metadata": {},
   "source": [
    "As in the case of the dataset of impact sentences, here a column **`label`** is also created to tag with 0 all general sentences."
   ]
  },
  {
   "cell_type": "code",
   "execution_count": 10,
   "metadata": {},
   "outputs": [],
   "source": [
    "gral_sentences['label'] = 0"
   ]
  },
  {
   "cell_type": "code",
   "execution_count": 11,
   "metadata": {},
   "outputs": [
    {
     "name": "stdout",
     "output_type": "stream",
     "text": [
      "The dataset contains 3000 rows and 2 columns\n"
     ]
    }
   ],
   "source": [
    "nrows = gral_sentences.shape[0]\n",
    "ncols = gral_sentences.shape[1]\n",
    "print(f\"The dataset contains {nrows} rows and {ncols} columns\")"
   ]
  },
  {
   "cell_type": "markdown",
   "metadata": {},
   "source": [
    "Let's show a sample of the dateset"
   ]
  },
  {
   "cell_type": "code",
   "execution_count": 12,
   "metadata": {},
   "outputs": [
    {
     "data": {
      "text/html": [
       "<div>\n",
       "<style scoped>\n",
       "    .dataframe tbody tr th:only-of-type {\n",
       "        vertical-align: middle;\n",
       "    }\n",
       "\n",
       "    .dataframe tbody tr th {\n",
       "        vertical-align: top;\n",
       "    }\n",
       "\n",
       "    .dataframe thead th {\n",
       "        text-align: right;\n",
       "    }\n",
       "</style>\n",
       "<table border=\"1\" class=\"dataframe\">\n",
       "  <thead>\n",
       "    <tr style=\"text-align: right;\">\n",
       "      <th></th>\n",
       "      <th>sentence</th>\n",
       "      <th>label</th>\n",
       "    </tr>\n",
       "  </thead>\n",
       "  <tbody>\n",
       "    <tr>\n",
       "      <th>0</th>\n",
       "      <td>Tumor and patient characteristics are summariz...</td>\n",
       "      <td>0</td>\n",
       "    </tr>\n",
       "    <tr>\n",
       "      <th>1</th>\n",
       "      <td>The execution run for days to complete and the...</td>\n",
       "      <td>0</td>\n",
       "    </tr>\n",
       "    <tr>\n",
       "      <th>2</th>\n",
       "      <td>Actually a recent study indicated that over ex...</td>\n",
       "      <td>0</td>\n",
       "    </tr>\n",
       "    <tr>\n",
       "      <th>3</th>\n",
       "      <td>The motivation is we need to address the compo...</td>\n",
       "      <td>0</td>\n",
       "    </tr>\n",
       "    <tr>\n",
       "      <th>4</th>\n",
       "      <td>However based on measurements of estradiol lev...</td>\n",
       "      <td>0</td>\n",
       "    </tr>\n",
       "  </tbody>\n",
       "</table>\n",
       "</div>"
      ],
      "text/plain": [
       "                                            sentence  label\n",
       "0  Tumor and patient characteristics are summariz...      0\n",
       "1  The execution run for days to complete and the...      0\n",
       "2  Actually a recent study indicated that over ex...      0\n",
       "3  The motivation is we need to address the compo...      0\n",
       "4  However based on measurements of estradiol lev...      0"
      ]
     },
     "execution_count": 12,
     "metadata": {},
     "output_type": "execute_result"
    }
   ],
   "source": [
    "gral_sentences.head()"
   ]
  },
  {
   "cell_type": "markdown",
   "metadata": {},
   "source": [
    "### Merge datasets"
   ]
  },
  {
   "cell_type": "markdown",
   "metadata": {},
   "source": [
    "Merge both datasets, the general and impact one."
   ]
  },
  {
   "cell_type": "code",
   "execution_count": 13,
   "metadata": {},
   "outputs": [],
   "source": [
    "total_sentences = pd.concat([impact_sentences, gral_sentences], ignore_index=True)"
   ]
  },
  {
   "cell_type": "code",
   "execution_count": 14,
   "metadata": {},
   "outputs": [
    {
     "name": "stdout",
     "output_type": "stream",
     "text": [
      "The combined dataset contains 5373 rows and 2 columns\n"
     ]
    }
   ],
   "source": [
    "nrows = total_sentences.shape[0]\n",
    "ncols = total_sentences.shape[1]\n",
    "print(f\"The combined dataset contains {nrows} rows and {ncols} columns\")"
   ]
  },
  {
   "cell_type": "markdown",
   "metadata": {},
   "source": [
    "## Explore data"
   ]
  },
  {
   "cell_type": "markdown",
   "metadata": {},
   "source": [
    "Next, the dataset is explored by, first, computing the most frequent terms in sentences that contain evidence of social impact and, then, by calculating the most frequent term in general sentences."
   ]
  },
  {
   "cell_type": "code",
   "execution_count": 23,
   "metadata": {},
   "outputs": [],
   "source": [
    "word_black_list = ['research', 'uk']  # let's add context specify words that will be filtered before computing frequencies\n",
    "max_items_to_show = 30"
   ]
  },
  {
   "cell_type": "markdown",
   "metadata": {},
   "source": [
    "### Most frequent terms in social impact sentences"
   ]
  },
  {
   "cell_type": "markdown",
   "metadata": {},
   "source": [
    "Inspect the most used terms used in sentences that express evidence of social impact"
   ]
  },
  {
   "cell_type": "code",
   "execution_count": 24,
   "metadata": {},
   "outputs": [],
   "source": [
    "si_sentences = total_sentences[total_sentences['label']==1]['sentence']\n",
    "si_words = []\n",
    "for si_sentence in si_sentences:\n",
    "    for word in si_sentence.split():\n",
    "        if len(word) > 2 and word not in word_black_list and word not in stopwords.words('english'):\n",
    "            si_words.append(word)\n",
    "fdist = FreqDist(si_words)\n",
    "freq_words_df = pd.DataFrame(fdist.items(), columns=['word', 'frequency'])"
   ]
  },
  {
   "cell_type": "code",
   "execution_count": 25,
   "metadata": {},
   "outputs": [],
   "source": [
    "freq_words_df.sort_values(by='frequency', ascending=False, inplace=True)"
   ]
  },
  {
   "cell_type": "code",
   "execution_count": 26,
   "metadata": {},
   "outputs": [
    {
     "data": {
      "image/png": "[encoded data removed]",
      "text/plain": [
       "<Figure size 936x576 with 1 Axes>"
      ]
     },
     "metadata": {
      "needs_background": "light"
     },
     "output_type": "display_data"
    }
   ],
   "source": [
    "freq_words_df.iloc[0:max_items_to_show,:].plot(x='word', y='frequency', kind='bar', figsize=(13,8))\n",
    "plt.xticks(rotation=90)\n",
    "plt.xlabel(\"Term\", size=13)\n",
    "plt.ylabel(\"Frequency\", size=13)\n",
    "plt.xticks(size=12)\n",
    "plt.yticks(size=12)\n",
    "plt.show()"
   ]
  },
  {
   "cell_type": "markdown",
   "metadata": {},
   "source": [
    "### Most frequent terms in general sentences"
   ]
  },
  {
   "cell_type": "markdown",
   "metadata": {},
   "source": [
    "Inspect the most used terms in sentences that do not neccesarily contain evidence of social impact"
   ]
  },
  {
   "cell_type": "code",
   "execution_count": 27,
   "metadata": {},
   "outputs": [],
   "source": [
    "n_si_sentences = total_sentences[total_sentences['label']==0]['sentence']\n",
    "n_fdist = FreqDist(word for n_si_sentence in n_si_sentences \n",
    "                        for word in n_si_sentence.split() if len(word) > 2 and word not in stopwords.words('english') and word not in word_black_list)\n",
    "n_freq_words_df = pd.DataFrame(n_fdist.items(), columns=['word', 'frequency'])"
   ]
  },
  {
   "cell_type": "code",
   "execution_count": 28,
   "metadata": {},
   "outputs": [],
   "source": [
    "n_freq_words_df.sort_values(by='frequency', ascending=False, inplace=True)"
   ]
  },
  {
   "cell_type": "code",
   "execution_count": 29,
   "metadata": {},
   "outputs": [
    {
     "data": {
      "image/png": "[encoded data removed]",
      "text/plain": [
       "<Figure size 936x576 with 1 Axes>"
      ]
     },
     "metadata": {
      "needs_background": "light"
     },
     "output_type": "display_data"
    }
   ],
   "source": [
    "n_freq_words_df.iloc[0:max_items_to_show,:].plot(x='word', y='frequency', kind='bar', figsize=(13,8))\n",
    "plt.xticks(rotation=90)\n",
    "plt.xlabel(\"Term\", size=13)\n",
    "plt.ylabel(\"Frequency\", size=13)\n",
    "plt.xticks(size=12)\n",
    "plt.yticks(size=12)\n",
    "plt.show()"
   ]
  },
  {
   "cell_type": "markdown",
   "metadata": {},
   "source": [
    "From the figures above it can be seen there is little overlap between the most frequent terms in sentences with evidence of social impact (e.g., public policy, health, national, development) and the most frequent terms in the general sentences, which, as expected, are more related with medical and biological terminologies, such as cancer, cells, patients, tumor, or therapy. The low interception between the most frequent terms in the two datasets demonstrates the potential of the data to train machine learning classifier. "
   ]
  },
  {
   "cell_type": "markdown",
   "metadata": {},
   "source": [
    "## Augment data with additional text-based features"
   ]
  },
  {
   "cell_type": "markdown",
   "metadata": {},
   "source": [
    "Augment data of sentences with the following text-based extra features:\n",
    "1. **Word count of sentences**: total number of words in sentences\n",
    "2. **Character count of sentences**: total number of characters in sentences\n",
    "3. **Average word density of sentences**: average length of words in sentences\n",
    "4. **Upper case count in sentences**: total number of upper count words in sentences\n",
    "5. **Title word count in sentences**: total number of title case words in sentences"
   ]
  },
  {
   "cell_type": "code",
   "execution_count": 15,
   "metadata": {},
   "outputs": [],
   "source": [
    "total_sentences['char_count'] = total_sentences['sentence'].apply(len)\n",
    "total_sentences['word_count'] = total_sentences['sentence'].apply(lambda x: len(x.split()))\n",
    "total_sentences['word_density'] = total_sentences['char_count'] / (total_sentences['word_count']+1)\n",
    "total_sentences['upper_case_word_count'] = total_sentences['sentence'].apply(lambda x: len([wrd for wrd in x.split() if wrd.isupper()]))\n",
    "total_sentences['title_word_count'] = total_sentences['sentence'].apply(lambda x: len([wrd for wrd in x.split() if wrd.istitle()]))"
   ]
  },
  {
   "cell_type": "markdown",
   "metadata": {},
   "source": [
    "Also, we add frequency distribution of part-of-speech tags"
   ]
  },
  {
   "cell_type": "code",
   "execution_count": 16,
   "metadata": {},
   "outputs": [
    {
     "name": "stdout",
     "output_type": "stream",
     "text": [
      "CPU times: user 46.8 s, sys: 369 ms, total: 47.1 s\n",
      "Wall time: 47.1 s\n"
     ]
    }
   ],
   "source": [
    "%%time\n",
    "total_sentences['noun_count'] = total_sentences['sentence'].apply(lambda x: count_pos_tag(x, 'noun'))\n",
    "total_sentences['verb_count'] = total_sentences['sentence'].apply(lambda x: count_pos_tag(x, 'verb'))\n",
    "total_sentences['adj_count'] = total_sentences['sentence'].apply(lambda x: count_pos_tag(x, 'adj'))\n",
    "total_sentences['adv_count'] = total_sentences['sentence'].apply(lambda x: count_pos_tag(x, 'adv'))\n",
    "total_sentences['pron_count'] = total_sentences['sentence'].apply(lambda x: count_pos_tag(x, 'pron'))"
   ]
  },
  {
   "cell_type": "code",
   "execution_count": 17,
   "metadata": {},
   "outputs": [
    {
     "data": {
      "text/html": [
       "<div>\n",
       "<style scoped>\n",
       "    .dataframe tbody tr th:only-of-type {\n",
       "        vertical-align: middle;\n",
       "    }\n",
       "\n",
       "    .dataframe tbody tr th {\n",
       "        vertical-align: top;\n",
       "    }\n",
       "\n",
       "    .dataframe thead th {\n",
       "        text-align: right;\n",
       "    }\n",
       "</style>\n",
       "<table border=\"1\" class=\"dataframe\">\n",
       "  <thead>\n",
       "    <tr style=\"text-align: right;\">\n",
       "      <th></th>\n",
       "      <th>sentence</th>\n",
       "      <th>label</th>\n",
       "      <th>char_count</th>\n",
       "      <th>word_count</th>\n",
       "      <th>word_density</th>\n",
       "      <th>upper_case_word_count</th>\n",
       "      <th>title_word_count</th>\n",
       "      <th>noun_count</th>\n",
       "      <th>verb_count</th>\n",
       "      <th>adj_count</th>\n",
       "      <th>adv_count</th>\n",
       "      <th>pron_count</th>\n",
       "    </tr>\n",
       "  </thead>\n",
       "  <tbody>\n",
       "    <tr>\n",
       "      <th>0</th>\n",
       "      <td>The Guide to Receptors and Channels has contri...</td>\n",
       "      <td>1</td>\n",
       "      <td>137</td>\n",
       "      <td>19</td>\n",
       "      <td>6.850000</td>\n",
       "      <td>0</td>\n",
       "      <td>4</td>\n",
       "      <td>7</td>\n",
       "      <td>2</td>\n",
       "      <td>1</td>\n",
       "      <td>0</td>\n",
       "      <td>0</td>\n",
       "    </tr>\n",
       "    <tr>\n",
       "      <th>1</th>\n",
       "      <td>The key tools it provides have influenced appr...</td>\n",
       "      <td>1</td>\n",
       "      <td>215</td>\n",
       "      <td>34</td>\n",
       "      <td>6.142857</td>\n",
       "      <td>0</td>\n",
       "      <td>3</td>\n",
       "      <td>9</td>\n",
       "      <td>7</td>\n",
       "      <td>4</td>\n",
       "      <td>0</td>\n",
       "      <td>0</td>\n",
       "    </tr>\n",
       "    <tr>\n",
       "      <th>2</th>\n",
       "      <td>It is used widely as a teaching aid for underg...</td>\n",
       "      <td>1</td>\n",
       "      <td>167</td>\n",
       "      <td>25</td>\n",
       "      <td>6.423077</td>\n",
       "      <td>0</td>\n",
       "      <td>1</td>\n",
       "      <td>10</td>\n",
       "      <td>3</td>\n",
       "      <td>2</td>\n",
       "      <td>1</td>\n",
       "      <td>0</td>\n",
       "    </tr>\n",
       "    <tr>\n",
       "      <th>3</th>\n",
       "      <td>It led to the formation of the Guide to Pharma...</td>\n",
       "      <td>1</td>\n",
       "      <td>141</td>\n",
       "      <td>22</td>\n",
       "      <td>6.130435</td>\n",
       "      <td>0</td>\n",
       "      <td>8</td>\n",
       "      <td>10</td>\n",
       "      <td>1</td>\n",
       "      <td>0</td>\n",
       "      <td>0</td>\n",
       "      <td>0</td>\n",
       "    </tr>\n",
       "    <tr>\n",
       "      <th>4</th>\n",
       "      <td>The Cardiff Osteological Research Group CORG h...</td>\n",
       "      <td>1</td>\n",
       "      <td>144</td>\n",
       "      <td>20</td>\n",
       "      <td>6.857143</td>\n",
       "      <td>1</td>\n",
       "      <td>7</td>\n",
       "      <td>10</td>\n",
       "      <td>2</td>\n",
       "      <td>1</td>\n",
       "      <td>0</td>\n",
       "      <td>0</td>\n",
       "    </tr>\n",
       "  </tbody>\n",
       "</table>\n",
       "</div>"
      ],
      "text/plain": [
       "                                            sentence  label  char_count  \\\n",
       "0  The Guide to Receptors and Channels has contri...      1         137   \n",
       "1  The key tools it provides have influenced appr...      1         215   \n",
       "2  It is used widely as a teaching aid for underg...      1         167   \n",
       "3  It led to the formation of the Guide to Pharma...      1         141   \n",
       "4  The Cardiff Osteological Research Group CORG h...      1         144   \n",
       "\n",
       "   word_count  word_density  upper_case_word_count  title_word_count  \\\n",
       "0          19      6.850000                      0                 4   \n",
       "1          34      6.142857                      0                 3   \n",
       "2          25      6.423077                      0                 1   \n",
       "3          22      6.130435                      0                 8   \n",
       "4          20      6.857143                      1                 7   \n",
       "\n",
       "   noun_count  verb_count  adj_count  adv_count  pron_count  \n",
       "0           7           2          1          0           0  \n",
       "1           9           7          4          0           0  \n",
       "2          10           3          2          1           0  \n",
       "3          10           1          0          0           0  \n",
       "4          10           2          1          0           0  "
      ]
     },
     "execution_count": 17,
     "metadata": {},
     "output_type": "execute_result"
    }
   ],
   "source": [
    "total_sentences.head()"
   ]
  },
  {
   "cell_type": "markdown",
   "metadata": {},
   "source": [
    "## Augment data with sentiment analysis"
   ]
  },
  {
   "cell_type": "markdown",
   "metadata": {},
   "source": [
    "Include sentiment score of sentences as an additional feature. Sentences with evidence of social impact are expected to have a more positive attitude than general sentences."
   ]
  },
  {
   "cell_type": "code",
   "execution_count": 18,
   "metadata": {},
   "outputs": [],
   "source": [
    "total_sentences['sentiment_score'] = total_sentences['sentence'].apply(lambda x: analyze_sentiment(x))"
   ]
  },
  {
   "cell_type": "code",
   "execution_count": 19,
   "metadata": {},
   "outputs": [
    {
     "data": {
      "text/html": [
       "<div>\n",
       "<style scoped>\n",
       "    .dataframe tbody tr th:only-of-type {\n",
       "        vertical-align: middle;\n",
       "    }\n",
       "\n",
       "    .dataframe tbody tr th {\n",
       "        vertical-align: top;\n",
       "    }\n",
       "\n",
       "    .dataframe thead th {\n",
       "        text-align: right;\n",
       "    }\n",
       "</style>\n",
       "<table border=\"1\" class=\"dataframe\">\n",
       "  <thead>\n",
       "    <tr style=\"text-align: right;\">\n",
       "      <th></th>\n",
       "      <th>sentence</th>\n",
       "      <th>label</th>\n",
       "      <th>char_count</th>\n",
       "      <th>word_count</th>\n",
       "      <th>word_density</th>\n",
       "      <th>upper_case_word_count</th>\n",
       "      <th>title_word_count</th>\n",
       "      <th>noun_count</th>\n",
       "      <th>verb_count</th>\n",
       "      <th>adj_count</th>\n",
       "      <th>adv_count</th>\n",
       "      <th>pron_count</th>\n",
       "      <th>sentiment_score</th>\n",
       "    </tr>\n",
       "  </thead>\n",
       "  <tbody>\n",
       "    <tr>\n",
       "      <th>0</th>\n",
       "      <td>The Guide to Receptors and Channels has contri...</td>\n",
       "      <td>1</td>\n",
       "      <td>137</td>\n",
       "      <td>19</td>\n",
       "      <td>6.850000</td>\n",
       "      <td>0</td>\n",
       "      <td>4</td>\n",
       "      <td>7</td>\n",
       "      <td>2</td>\n",
       "      <td>1</td>\n",
       "      <td>0</td>\n",
       "      <td>0</td>\n",
       "      <td>0.5106</td>\n",
       "    </tr>\n",
       "    <tr>\n",
       "      <th>1</th>\n",
       "      <td>The key tools it provides have influenced appr...</td>\n",
       "      <td>1</td>\n",
       "      <td>215</td>\n",
       "      <td>34</td>\n",
       "      <td>6.142857</td>\n",
       "      <td>0</td>\n",
       "      <td>3</td>\n",
       "      <td>9</td>\n",
       "      <td>7</td>\n",
       "      <td>4</td>\n",
       "      <td>0</td>\n",
       "      <td>0</td>\n",
       "      <td>0.8481</td>\n",
       "    </tr>\n",
       "    <tr>\n",
       "      <th>2</th>\n",
       "      <td>It is used widely as a teaching aid for underg...</td>\n",
       "      <td>1</td>\n",
       "      <td>167</td>\n",
       "      <td>25</td>\n",
       "      <td>6.423077</td>\n",
       "      <td>0</td>\n",
       "      <td>1</td>\n",
       "      <td>10</td>\n",
       "      <td>3</td>\n",
       "      <td>2</td>\n",
       "      <td>1</td>\n",
       "      <td>0</td>\n",
       "      <td>0.0000</td>\n",
       "    </tr>\n",
       "    <tr>\n",
       "      <th>3</th>\n",
       "      <td>It led to the formation of the Guide to Pharma...</td>\n",
       "      <td>1</td>\n",
       "      <td>141</td>\n",
       "      <td>22</td>\n",
       "      <td>6.130435</td>\n",
       "      <td>0</td>\n",
       "      <td>8</td>\n",
       "      <td>10</td>\n",
       "      <td>1</td>\n",
       "      <td>0</td>\n",
       "      <td>0</td>\n",
       "      <td>0</td>\n",
       "      <td>0.0000</td>\n",
       "    </tr>\n",
       "    <tr>\n",
       "      <th>4</th>\n",
       "      <td>The Cardiff Osteological Research Group CORG h...</td>\n",
       "      <td>1</td>\n",
       "      <td>144</td>\n",
       "      <td>20</td>\n",
       "      <td>6.857143</td>\n",
       "      <td>1</td>\n",
       "      <td>7</td>\n",
       "      <td>10</td>\n",
       "      <td>2</td>\n",
       "      <td>1</td>\n",
       "      <td>0</td>\n",
       "      <td>0</td>\n",
       "      <td>0.0000</td>\n",
       "    </tr>\n",
       "  </tbody>\n",
       "</table>\n",
       "</div>"
      ],
      "text/plain": [
       "                                            sentence  label  char_count  \\\n",
       "0  The Guide to Receptors and Channels has contri...      1         137   \n",
       "1  The key tools it provides have influenced appr...      1         215   \n",
       "2  It is used widely as a teaching aid for underg...      1         167   \n",
       "3  It led to the formation of the Guide to Pharma...      1         141   \n",
       "4  The Cardiff Osteological Research Group CORG h...      1         144   \n",
       "\n",
       "   word_count  word_density  upper_case_word_count  title_word_count  \\\n",
       "0          19      6.850000                      0                 4   \n",
       "1          34      6.142857                      0                 3   \n",
       "2          25      6.423077                      0                 1   \n",
       "3          22      6.130435                      0                 8   \n",
       "4          20      6.857143                      1                 7   \n",
       "\n",
       "   noun_count  verb_count  adj_count  adv_count  pron_count  sentiment_score  \n",
       "0           7           2          1          0           0           0.5106  \n",
       "1           9           7          4          0           0           0.8481  \n",
       "2          10           3          2          1           0           0.0000  \n",
       "3          10           1          0          0           0           0.0000  \n",
       "4          10           2          1          0           0           0.0000  "
      ]
     },
     "execution_count": 19,
     "metadata": {},
     "output_type": "execute_result"
    }
   ],
   "source": [
    "total_sentences.head()"
   ]
  },
  {
   "cell_type": "markdown",
   "metadata": {},
   "source": [
    "Print out mean sentiment scores of both sentences with evidence of social impact (1) and general sentences (0)."
   ]
  },
  {
   "cell_type": "code",
   "execution_count": 20,
   "metadata": {},
   "outputs": [
    {
     "data": {
      "text/plain": [
       "label\n",
       "0   -0.059345\n",
       "1    0.215310\n",
       "Name: sentiment_score, dtype: float64"
      ]
     },
     "execution_count": 20,
     "metadata": {},
     "output_type": "execute_result"
    }
   ],
   "source": [
    "total_sentences.groupby(['label'])['sentiment_score'].mean()"
   ]
  },
  {
   "cell_type": "markdown",
   "metadata": {},
   "source": [
    "## Prepare sentences"
   ]
  },
  {
   "cell_type": "markdown",
   "metadata": {},
   "source": [
    "Data will be prepared using the following combinations of the text processing tasks defined in `sentence_to_words`:\n",
    "1. Sentence is tokenized and stop words as well as HTML elements are removed. Stemming is also applied;\n",
    "2. Sentence is tokenized, stop words and HTML elements are removed and stemming and lemmatization are applied.\n"
   ]
  },
  {
   "cell_type": "code",
   "execution_count": 21,
   "metadata": {},
   "outputs": [],
   "source": [
    "text, extra_features, labels = total_sentences['sentence'], total_sentences.iloc[:,2:], total_sentences['label']"
   ]
  },
  {
   "cell_type": "code",
   "execution_count": 22,
   "metadata": {},
   "outputs": [],
   "source": [
    "context_words = ['reseach', 'uk']"
   ]
  },
  {
   "cell_type": "code",
   "execution_count": 23,
   "metadata": {},
   "outputs": [
    {
     "name": "stdout",
     "output_type": "stream",
     "text": [
      "CPU times: user 12.4 s, sys: 466 ms, total: 12.8 s\n",
      "Wall time: 12.8 s\n"
     ]
    }
   ],
   "source": [
    "%%time\n",
    "text_clean = [sentence_to_words(sentence, context_words) for sentence in text]\n",
    "text_clean_with_lemmatization = [sentence_to_words(sentence, context_words, lemmatization=True) for sentence in text]"
   ]
  },
  {
   "cell_type": "markdown",
   "metadata": {},
   "source": [
    "Save preprocess text into a dictionary to avoid carrying around the recently create variables"
   ]
  },
  {
   "cell_type": "code",
   "execution_count": 24,
   "metadata": {},
   "outputs": [],
   "source": [
    "preprocess_text = {\n",
    "    'clean': {'text': text_clean, 'labels': labels, 'extra_features': extra_features},\n",
    "    'clean_lemmatization': {'text': text_clean_with_lemmatization, 'labels': labels, 'extra_features': extra_features}\n",
    "}"
   ]
  },
  {
   "cell_type": "markdown",
   "metadata": {},
   "source": [
    "Check a sample of the preprocess data"
   ]
  },
  {
   "cell_type": "code",
   "execution_count": 25,
   "metadata": {},
   "outputs": [
    {
     "data": {
      "text/plain": [
       "['guid',\n",
       " 'receptor',\n",
       " 'channel',\n",
       " 'contribut',\n",
       " 'develop',\n",
       " 'mainten',\n",
       " 'intellectu',\n",
       " 'infrastructur',\n",
       " 'pharmacolog']"
      ]
     },
     "execution_count": 25,
     "metadata": {},
     "output_type": "execute_result"
    }
   ],
   "source": [
    "preprocess_text['clean']['text'][0]"
   ]
  },
  {
   "cell_type": "markdown",
   "metadata": {},
   "source": [
    "### Transform to Bag-of-Words Representation"
   ]
  },
  {
   "cell_type": "markdown",
   "metadata": {},
   "source": [
    "Previously processed sentences are transformed here to a bag-of-words representation."
   ]
  },
  {
   "cell_type": "markdown",
   "metadata": {},
   "source": [
    "Define transformation conditions"
   ]
  },
  {
   "cell_type": "code",
   "execution_count": 52,
   "metadata": {},
   "outputs": [],
   "source": [
    "transformations = ['tc', 'tfidf']\n",
    "max_features=[500, 800, 1000, 2000, 5000, 10000]\n",
    "ngram_ranges=[(1,1),(1,2),(1,3)]\n",
    "total_cycles = len(transformations)*len(max_features)*len(ngram_ranges)*len(preprocess_text)"
   ]
  },
  {
   "cell_type": "code",
   "execution_count": 53,
   "metadata": {},
   "outputs": [],
   "source": [
    "transformed_txts = []"
   ]
  },
  {
   "cell_type": "code",
   "execution_count": 54,
   "metadata": {},
   "outputs": [
    {
     "name": "stdout",
     "output_type": "stream",
     "text": [
      "100%|██████████| 72/72 [00:53<00:00,  1.34it/s]\n"
     ]
    }
   ],
   "source": [
    "with tqdm(total=total_cycles, file=sys.stdout) as pbar:\n",
    "    for transformation in transformations:        \n",
    "        for max_feature in max_features:\n",
    "            for ngram_range in ngram_ranges:\n",
    "                for processing_task, data_dict in preprocess_text.items():\n",
    "                    pbar.update(1)\n",
    "                    text = data_dict['text']\n",
    "                    transformed_data, vocabulary = extract_BoW_features(text, max_feature, transformation, ngram_range)\n",
    "                    transformed_txts.append(\n",
    "                        {\n",
    "                            'transformation': transformation,\n",
    "                            'max_features': max_feature,\n",
    "                            'ngram_range': ngram_range,\n",
    "                            'data': transformed_data,\n",
    "                            'processing_task': processing_task,\n",
    "                            'labels': data_dict['labels'],\n",
    "                            'vocabulary': vocabulary,\n",
    "                            'extra_features': data_dict['extra_features']\n",
    "                        }\n",
    "                    )"
   ]
  },
  {
   "cell_type": "markdown",
   "metadata": {},
   "source": [
    "Let's do some sanity check"
   ]
  },
  {
   "cell_type": "code",
   "execution_count": 55,
   "metadata": {},
   "outputs": [
    {
     "data": {
      "text/plain": [
       "{'transformation': 'tc',\n",
       " 'max_features': 500,\n",
       " 'ngram_range': (1, 1),\n",
       " 'data': array([[0, 0, 0, ..., 0, 0, 0],\n",
       "        [0, 0, 0, ..., 0, 0, 0],\n",
       "        [0, 0, 0, ..., 0, 0, 0],\n",
       "        ...,\n",
       "        [0, 0, 0, ..., 0, 0, 0],\n",
       "        [0, 0, 0, ..., 0, 0, 0],\n",
       "        [0, 0, 0, ..., 0, 0, 0]]),\n",
       " 'processing_task': 'clean',\n",
       " 'labels': 0       1\n",
       " 1       1\n",
       " 2       1\n",
       " 3       1\n",
       " 4       1\n",
       "        ..\n",
       " 5368    0\n",
       " 5369    0\n",
       " 5370    0\n",
       " 5371    0\n",
       " 5372    0\n",
       " Name: label, Length: 5373, dtype: int64,\n",
       " 'vocabulary': {'receptor': 367,\n",
       "  'contribut': 94,\n",
       "  'develop': 119,\n",
       "  'key': 229,\n",
       "  'tool': 461,\n",
       "  'provid': 354,\n",
       "  'influenc': 214,\n",
       "  'lead': 235,\n",
       "  'drug': 133,\n",
       "  'target': 449,\n",
       "  'studi': 438,\n",
       "  'result': 385,\n",
       "  'receiv': 365,\n",
       "  'support': 445,\n",
       "  'industri': 213,\n",
       "  'use': 480,\n",
       "  'wide': 491,\n",
       "  'aid': 16,\n",
       "  'research': 380,\n",
       "  'gener': 178,\n",
       "  'public': 357,\n",
       "  'inform': 215,\n",
       "  'led': 237,\n",
       "  'collabor': 79,\n",
       "  'intern': 223,\n",
       "  'clinic': 75,\n",
       "  'group': 184,\n",
       "  'complex': 86,\n",
       "  'relationship': 376,\n",
       "  'anim': 30,\n",
       "  'peopl': 316,\n",
       "  'across': 5,\n",
       "  'europ': 151,\n",
       "  'programm': 346,\n",
       "  'activ': 6,\n",
       "  'challeng': 69,\n",
       "  'present': 334,\n",
       "  'impact': 202,\n",
       "  'practition': 330,\n",
       "  'issu': 228,\n",
       "  'rang': 361,\n",
       "  'econom': 135,\n",
       "  'social': 426,\n",
       "  'role': 390,\n",
       "  'chang': 70,\n",
       "  'individu': 211,\n",
       "  'normal': 295,\n",
       "  'engag': 141,\n",
       "  'includ': 206,\n",
       "  'awar': 46,\n",
       "  'professor': 344,\n",
       "  'team': 451,\n",
       "  'larg': 234,\n",
       "  'find': 167,\n",
       "  'relat': 375,\n",
       "  'appli': 33,\n",
       "  'physic': 322,\n",
       "  'scienc': 396,\n",
       "  'natur': 288,\n",
       "  'world': 495,\n",
       "  'work': 494,\n",
       "  'sever': 410,\n",
       "  'major': 252,\n",
       "  'interact': 221,\n",
       "  'well': 489,\n",
       "  'substanti': 441,\n",
       "  'number': 297,\n",
       "  'practic': 329,\n",
       "  'applic': 34,\n",
       "  'health': 188,\n",
       "  'welfar': 488,\n",
       "  'examin': 156,\n",
       "  'growth': 185,\n",
       "  'also': 23,\n",
       "  'materi': 258,\n",
       "  'institut': 219,\n",
       "  'dissemin': 128,\n",
       "  'univers': 476,\n",
       "  'worldwid': 496,\n",
       "  'project': 348,\n",
       "  'fund': 176,\n",
       "  'field': 164,\n",
       "  'produc': 341,\n",
       "  'one': 302,\n",
       "  'access': 2,\n",
       "  'mani': 256,\n",
       "  'differ': 120,\n",
       "  'within': 492,\n",
       "  'directli': 123,\n",
       "  'addit': 8,\n",
       "  'resourc': 382,\n",
       "  'evid': 155,\n",
       "  'guidelin': 187,\n",
       "  'way': 486,\n",
       "  'food': 171,\n",
       "  'subject': 439,\n",
       "  'caus': 63,\n",
       "  'tissu': 460,\n",
       "  'would': 497,\n",
       "  'behaviour': 48,\n",
       "  'affect': 13,\n",
       "  'improv': 205,\n",
       "  'media': 263,\n",
       "  'conduct': 89,\n",
       "  'biolog': 52,\n",
       "  'sexual': 411,\n",
       "  'select': 402,\n",
       "  'model': 280,\n",
       "  'high': 191,\n",
       "  'level': 239,\n",
       "  'interest': 222,\n",
       "  'review': 386,\n",
       "  'debat': 107,\n",
       "  'three': 457,\n",
       "  'base': 47,\n",
       "  'non': 294,\n",
       "  'dr': 132,\n",
       "  'depart': 113,\n",
       "  'genet': 179,\n",
       "  'enhanc': 143,\n",
       "  'rel': 374,\n",
       "  'known': 232,\n",
       "  'area': 37,\n",
       "  'cell': 65,\n",
       "  'discuss': 125,\n",
       "  'languag': 233,\n",
       "  'around': 38,\n",
       "  'sinc': 419,\n",
       "  'signific': 416,\n",
       "  'young': 499,\n",
       "  'rais': 360,\n",
       "  'undertaken': 474,\n",
       "  'case': 62,\n",
       "  'focus': 169,\n",
       "  'underpin': 472,\n",
       "  'life': 240,\n",
       "  'children': 73,\n",
       "  'live': 244,\n",
       "  'subsequ': 440,\n",
       "  'two': 470,\n",
       "  'understand': 473,\n",
       "  'import': 204,\n",
       "  'reach': 363,\n",
       "  'million': 276,\n",
       "  'via': 484,\n",
       "  'posit': 327,\n",
       "  'nation': 287,\n",
       "  'week': 487,\n",
       "  'centr': 67,\n",
       "  'central': 68,\n",
       "  'involv': 227,\n",
       "  'societi': 427,\n",
       "  'member': 267,\n",
       "  'primari': 338,\n",
       "  'scientif': 397,\n",
       "  'sampl': 393,\n",
       "  'demonstr': 112,\n",
       "  'educ': 136,\n",
       "  'ethic': 150,\n",
       "  'polici': 325,\n",
       "  'first': 168,\n",
       "  'adult': 11,\n",
       "  'cultur': 100,\n",
       "  'human': 198,\n",
       "  'perform': 318,\n",
       "  'success': 443,\n",
       "  'repres': 378,\n",
       "  'exampl': 157,\n",
       "  'part': 308,\n",
       "  'school': 395,\n",
       "  'implement': 203,\n",
       "  'increas': 207,\n",
       "  'deliv': 110,\n",
       "  'qualiti': 359,\n",
       "  'teacher': 450,\n",
       "  'commun': 84,\n",
       "  'patient': 312,\n",
       "  'european': 152,\n",
       "  'commiss': 82,\n",
       "  'promot': 350,\n",
       "  'decis': 108,\n",
       "  'make': 253,\n",
       "  'among': 25,\n",
       "  'therapi': 455,\n",
       "  'compar': 85,\n",
       "  'usa': 479,\n",
       "  'particip': 309,\n",
       "  'show': 413,\n",
       "  'estim': 148,\n",
       "  'carri': 61,\n",
       "  'manag': 255,\n",
       "  'evalu': 153,\n",
       "  'per': 317,\n",
       "  'alon': 22,\n",
       "  'technolog': 452,\n",
       "  'product': 342,\n",
       "  'protein': 353,\n",
       "  'requir': 379,\n",
       "  'safeti': 392,\n",
       "  'agenc': 15,\n",
       "  'time': 459,\n",
       "  'multipl': 285,\n",
       "  'countri': 99,\n",
       "  'describ': 115,\n",
       "  'associ': 42,\n",
       "  'design': 116,\n",
       "  'exposur': 160,\n",
       "  'report': 377,\n",
       "  'popul': 326,\n",
       "  'thu': 458,\n",
       "  'data': 103,\n",
       "  'art': 39,\n",
       "  'new': 292,\n",
       "  'potenti': 328,\n",
       "  'innov': 218,\n",
       "  'made': 251,\n",
       "  'center': 66,\n",
       "  'observ': 299,\n",
       "  'address': 9,\n",
       "  'indic': 210,\n",
       "  'identifi': 199,\n",
       "  'site': 420,\n",
       "  'allow': 21,\n",
       "  'specif': 428,\n",
       "  'train': 463,\n",
       "  'deliveri': 111,\n",
       "  'effect': 137,\n",
       "  'event': 154,\n",
       "  'benefit': 49,\n",
       "  'learn': 236,\n",
       "  'achiev': 4,\n",
       "  'seri': 407,\n",
       "  'network': 291,\n",
       "  'enabl': 140,\n",
       "  'investig': 226,\n",
       "  'organis': 304,\n",
       "  'plan': 323,\n",
       "  'year': 498,\n",
       "  'chariti': 71,\n",
       "  'aim': 17,\n",
       "  'staff': 430,\n",
       "  'england': 142,\n",
       "  'initi': 217,\n",
       "  'help': 190,\n",
       "  'local': 245,\n",
       "  'upon': 477,\n",
       "  'hospit': 195,\n",
       "  'surviv': 446,\n",
       "  'continu': 93,\n",
       "  'function': 175,\n",
       "  'day': 104,\n",
       "  'knowledg': 231,\n",
       "  'histori': 194,\n",
       "  'significantli': 417,\n",
       "  'reduc': 369,\n",
       "  'anti': 31,\n",
       "  'higher': 192,\n",
       "  'maker': 254,\n",
       "  'author': 44,\n",
       "  'assess': 41,\n",
       "  'factor': 162,\n",
       "  'limit': 242,\n",
       "  'locat': 246,\n",
       "  'famili': 163,\n",
       "  'conflict': 90,\n",
       "  'state': 434,\n",
       "  'regul': 373,\n",
       "  'set': 409,\n",
       "  'shape': 412,\n",
       "  'respons': 384,\n",
       "  'region': 372,\n",
       "  'process': 340,\n",
       "  'recommend': 368,\n",
       "  'abus': 1,\n",
       "  'standard': 433,\n",
       "  'user': 481,\n",
       "  'sensit': 404,\n",
       "  'need': 289,\n",
       "  'framework': 174,\n",
       "  'equal': 145,\n",
       "  'second': 400,\n",
       "  'bodi': 53,\n",
       "  'global': 182,\n",
       "  'campaign': 58,\n",
       "  'provis': 355,\n",
       "  'servic': 408,\n",
       "  'co': 76,\n",
       "  'regard': 371,\n",
       "  'women': 493,\n",
       "  'play': 324,\n",
       "  'cycl': 102,\n",
       "  'sport': 429,\n",
       "  'adopt': 10,\n",
       "  'method': 271,\n",
       "  'medic': 265,\n",
       "  'london': 247,\n",
       "  'common': 83,\n",
       "  'us': 478,\n",
       "  'direct': 122,\n",
       "  'consequ': 91,\n",
       "  'strategi': 437,\n",
       "  'death': 106,\n",
       "  'cost': 97,\n",
       "  'prevent': 335,\n",
       "  'treatment': 467,\n",
       "  'psycholog': 356,\n",
       "  'recent': 366,\n",
       "  'profession': 343,\n",
       "  'establish': 147,\n",
       "  'care': 60,\n",
       "  'previous': 337,\n",
       "  'type': 471,\n",
       "  'condit': 88,\n",
       "  'healthcar': 189,\n",
       "  'form': 172,\n",
       "  'skill': 422,\n",
       "  'intervent': 224,\n",
       "  'approach': 35,\n",
       "  'advanc': 12,\n",
       "  'publish': 358,\n",
       "  'reduct': 370,\n",
       "  'disabl': 124,\n",
       "  'low': 249,\n",
       "  'outcom': 305,\n",
       "  'shown': 414,\n",
       "  'independ': 209,\n",
       "  'current': 101,\n",
       "  'govern': 183,\n",
       "  'scale': 394,\n",
       "  'concern': 87,\n",
       "  'older': 301,\n",
       "  'unit': 475,\n",
       "  'measur': 261,\n",
       "  'analys': 26,\n",
       "  'disord': 127,\n",
       "  'long': 248,\n",
       "  'term': 453,\n",
       "  'previou': 336,\n",
       "  'sector': 401,\n",
       "  'nh': 293,\n",
       "  'small': 423,\n",
       "  'exercis': 158,\n",
       "  'order': 303,\n",
       "  'diseas': 126,\n",
       "  'nurs': 298,\n",
       "  'monitor': 282,\n",
       "  'trial': 468,\n",
       "  'respect': 383,\n",
       "  'guidanc': 186,\n",
       "  'right': 387,\n",
       "  'person': 319,\n",
       "  'imag': 201,\n",
       "  'consist': 92,\n",
       "  'protect': 352,\n",
       "  'distribut': 129,\n",
       "  'employ': 139,\n",
       "  'age': 14,\n",
       "  'parent': 307,\n",
       "  'decreas': 109,\n",
       "  'better': 50,\n",
       "  'self': 403,\n",
       "  'experi': 159,\n",
       "  'control': 95,\n",
       "  'earli': 134,\n",
       "  'mental': 268,\n",
       "  'collect': 80,\n",
       "  'child': 72,\n",
       "  'particularli': 310,\n",
       "  'follow': 170,\n",
       "  'system': 447,\n",
       "  'ad': 7,\n",
       "  'combin': 81,\n",
       "  'like': 241,\n",
       "  'valu': 483,\n",
       "  'violenc': 485,\n",
       "  'treat': 466,\n",
       "  'neg': 290,\n",
       "  'risk': 388,\n",
       "  'inhibit': 216,\n",
       "  'depend': 114,\n",
       "  'express': 161,\n",
       "  'problem': 339,\n",
       "  'highli': 193,\n",
       "  'medicin': 266,\n",
       "  'read': 364,\n",
       "  'therefor': 456,\n",
       "  'total': 462,\n",
       "  'pathway': 311,\n",
       "  'athlet': 43,\n",
       "  'abil': 0,\n",
       "  'screen': 399,\n",
       "  'howev': 196,\n",
       "  'statu': 436,\n",
       "  'alcohol': 20,\n",
       "  'mechan': 262,\n",
       "  'integr': 220,\n",
       "  'valid': 482,\n",
       "  'cohort': 78,\n",
       "  'cancer': 59,\n",
       "  'analysi': 27,\n",
       "  'may': 259,\n",
       "  'smoke': 424,\n",
       "  'found': 173,\n",
       "  'could': 98,\n",
       "  'pre': 331,\n",
       "  'stage': 431,\n",
       "  'detect': 117,\n",
       "  'progress': 347,\n",
       "  'test': 454,\n",
       "  'profil': 345,\n",
       "  'determin': 118,\n",
       "  'figur': 166,\n",
       "  'avail': 45,\n",
       "  'line': 243,\n",
       "  'rate': 362,\n",
       "  'suggest': 444,\n",
       "  'similar': 418,\n",
       "  'de': 105,\n",
       "  'mean': 260,\n",
       "  'phase': 320,\n",
       "  'dna': 130,\n",
       "  'genom': 180,\n",
       "  'whether': 490,\n",
       "  'statist': 435,\n",
       "  'marker': 257,\n",
       "  'mediat': 264,\n",
       "  'obtain': 300,\n",
       "  'coach': 77,\n",
       "  'accord': 3,\n",
       "  'et': 149,\n",
       "  'al': 19,\n",
       "  'ca': 56,\n",
       "  'resist': 381,\n",
       "  'rs': 391,\n",
       "  'size': 421,\n",
       "  'migrat': 275,\n",
       "  'presenc': 333,\n",
       "  'overal': 306,\n",
       "  'month': 283,\n",
       "  'differenti': 121,\n",
       "  'dose': 131,\n",
       "  'although': 24,\n",
       "  'invas': 225,\n",
       "  'breast': 55,\n",
       "  'cd': 64,\n",
       "  'hr': 197,\n",
       "  'prolifer': 349,\n",
       "  'score': 398,\n",
       "  'correl': 96,\n",
       "  'predict': 332,\n",
       "  'pc': 313,\n",
       "  'signal': 415,\n",
       "  'bind': 51,\n",
       "  'tumor': 469,\n",
       "  'tabl': 448,\n",
       "  'transcript': 464,\n",
       "  'er': 146,\n",
       "  'gene': 177,\n",
       "  'pcr': 315,\n",
       "  'transfect': 465,\n",
       "  'sequenc': 406,\n",
       "  'prostat': 351,\n",
       "  'antibodi': 32,\n",
       "  'induc': 212,\n",
       "  'ml': 278,\n",
       "  'stain': 432,\n",
       "  'calcul': 57,\n",
       "  'seq': 405,\n",
       "  'snp': 425,\n",
       "  'metastasi': 269,\n",
       "  'assay': 40,\n",
       "  'methyl': 272,\n",
       "  'pca': 314,\n",
       "  'mice': 274,\n",
       "  'phenotyp': 321,\n",
       "  'metastat': 270,\n",
       "  'mir': 277,\n",
       "  'mrna': 284,\n",
       "  'brca': 54,\n",
       "  'mutat': 286,\n",
       "  'incub': 208,\n",
       "  'lung': 250,\n",
       "  'analyz': 28,\n",
       "  'kinas': 230,\n",
       "  'nsclc': 296,\n",
       "  'il': 200,\n",
       "  'androgen': 29,\n",
       "  'molecular': 281,\n",
       "  'subtyp': 442,\n",
       "  'ci': 74,\n",
       "  'egfr': 138,\n",
       "  'fig': 165,\n",
       "  'lesion': 238,\n",
       "  'rna': 389,\n",
       "  'epitheli': 144,\n",
       "  'genotyp': 181,\n",
       "  'ar': 36,\n",
       "  'mm': 279,\n",
       "  'akt': 18,\n",
       "  'mg': 273},\n",
       " 'extra_features':       char_count  word_count  word_density  upper_case_word_count  \\\n",
       " 0            137          19      6.850000                      0   \n",
       " 1            215          34      6.142857                      0   \n",
       " 2            167          25      6.423077                      0   \n",
       " 3            141          22      6.130435                      0   \n",
       " 4            144          20      6.857143                      1   \n",
       " ...          ...         ...           ...                    ...   \n",
       " 5368         321          47      6.687500                      2   \n",
       " 5369         146          26      5.407407                      1   \n",
       " 5370         147          18      7.736842                      1   \n",
       " 5371         187          30      6.032258                      7   \n",
       " 5372         216          32      6.545455                      0   \n",
       " \n",
       "       title_word_count  noun_count  verb_count  adj_count  adv_count  \\\n",
       " 0                    4           7           2          1          0   \n",
       " 1                    3           9           7          4          0   \n",
       " 2                    1          10           3          2          1   \n",
       " 3                    8          10           1          0          0   \n",
       " 4                    7          10           2          1          0   \n",
       " ...                ...         ...         ...        ...        ...   \n",
       " 5368                 1          19           4          7          4   \n",
       " 5369                 2           9           5          1          0   \n",
       " 5370                 3          11           0          3          0   \n",
       " 5371                 5          18           4          3          0   \n",
       " 5372                 1          12           3          4          2   \n",
       " \n",
       "       pron_count  sentiment_score  \n",
       " 0              0           0.5106  \n",
       " 1              0           0.8481  \n",
       " 2              0           0.0000  \n",
       " 3              0           0.0000  \n",
       " 4              0           0.0000  \n",
       " ...          ...              ...  \n",
       " 5368           1          -0.9259  \n",
       " 5369           0           0.0000  \n",
       " 5370           0           0.0000  \n",
       " 5371           0           0.0000  \n",
       " 5372           0          -0.0258  \n",
       " \n",
       " [5373 rows x 11 columns]}"
      ]
     },
     "execution_count": 55,
     "metadata": {},
     "output_type": "execute_result"
    }
   ],
   "source": [
    "transformed_txts[0]"
   ]
  },
  {
   "cell_type": "code",
   "execution_count": 56,
   "metadata": {},
   "outputs": [],
   "source": [
    "assert len(transformed_txts[0]['data']) == len(transformed_txts[0]['labels'])"
   ]
  },
  {
   "cell_type": "markdown",
   "metadata": {},
   "source": [
    "## Split data into train and test and save it"
   ]
  },
  {
   "cell_type": "markdown",
   "metadata": {},
   "source": [
    "Iterate over the 180 combinations of text processings and transformations and for each combination hold out a fraction of data for testing the model and save the rest for training the model."
   ]
  },
  {
   "cell_type": "code",
   "execution_count": 19,
   "metadata": {},
   "outputs": [],
   "source": [
    "random_state = np.random.RandomState(1234)  # set a random seed for reproducibility purposes"
   ]
  },
  {
   "cell_type": "code",
   "execution_count": 58,
   "metadata": {},
   "outputs": [
    {
     "name": "stdout",
     "output_type": "stream",
     "text": [
      "100%|██████████| 72/72 [03:04<00:00,  2.56s/it]\n"
     ]
    }
   ],
   "source": [
    "with tqdm(total=total_cycles, file=sys.stdout) as pbar:\n",
    "    for transformed_txt in transformed_txts:\n",
    "        transformation = transformed_txt['transformation']\n",
    "        max_features = str(transformed_txt['max_features'])\n",
    "        ngram_range = str(transformed_txt['ngram_range'])\n",
    "        processing_task = transformed_txt['processing_task']\n",
    "        vocabulary = transformed_txt['vocabulary']\n",
    "        data = pd.DataFrame({'sentence': list(transformed_txt['data']), 'label': transformed_txt['labels']})\n",
    "        data = pd.concat([data, transformed_txt['extra_features']], axis=1)\n",
    "        # select 20% of each class for testing\n",
    "        test_label_1 = data[data['label']==1].sample(frac=0.2, random_state=random_state)\n",
    "        test_label_0 = data[data['label']==0].sample(frac=0.2, random_state=random_state)        \n",
    "        test_data = pd.concat([test_label_1, test_label_0], ignore_index=True)\n",
    "        # take the rest for training\n",
    "        test_indexes = list(test_label_1.index) + list(test_label_0.index)\n",
    "        train_data = data[~data.index.isin(test_indexes)]\n",
    "        # check if the number of rows in train and test are equal to the number of rows in data\n",
    "        assert (train_data.shape[0]+test_data.shape[0]) == data.shape[0], 'Number of rows in train and test datasets should be equal to the numeber of rows in the entire dataset'\n",
    "        # save data\n",
    "        data = None\n",
    "        data_filename = f'data_{transformation}_{max_features}_{ngram_range}_{processing_task}.pkl'\n",
    "        dict_data = dict(train_data=train_data, test_data=test_data, vocabulary=vocabulary, \n",
    "                         transformation=transformation, max_features=max_features, ngram_range=ngram_range,\n",
    "                         processing_task=processing_task)\n",
    "        with open(os.path.join('data', 'train_test', data_filename), \"wb\") as f:\n",
    "            joblib.dump(dict_data, f)    \n",
    "        pbar.update(1)"
   ]
  },
  {
   "cell_type": "markdown",
   "metadata": {},
   "source": [
    "## Build ML model"
   ]
  },
  {
   "cell_type": "markdown",
   "metadata": {},
   "source": [
    "Here we build the machine learning classifier. The decision on the algorithms to be used was based on algorithms that have been reported to perform well on unbalanced, small, and textual datasets, which is our case. Therefore, we try the following algorithms: Naive-Bayes, Support Vector Machine, Logistic Regression, Random Forest, and Gradient Boosting.\n",
    "\n",
    "In bulding the model we proceed as following:\n",
    "1. Compare the performance of the choosen algorithms by training them in each of the 180 different training sets;\n",
    "2. Choose the best performing model for each algorithm;\n",
    "3. Perform hyper-parameters optimization for the best models, except Naive-Bayes. GridSearch is used for SVM and Logistic Regression while RandomGridSearch with 100 iterations is employed for Random Forest and Gradient Boosting;\n",
    "4. Plot learning curves for the best models to analyze the overfitting effect on the training set and the effect of the training size on the performance metric;\n",
    "5. Select the model that best generalize the prediction.\n",
    "\n",
    "Models are trained using the cross-validation approach. The performance metric to be optimized is **`recall`** because, in spite of over-identifying sentences that might not contain evidence of social impact and even when more sentences mean an overload of work for evaluators, the aim is to avoid losing sentences that can potentially contain evidence of impact and thus might be deciding in understanding the social impact of the research."
   ]
  },
  {
   "cell_type": "code",
   "execution_count": 17,
   "metadata": {},
   "outputs": [],
   "source": [
    "def get_classifier(algorithm_name):\n",
    "    if algorithm_name == 'NB':\n",
    "        classifier = GaussianNB()\n",
    "    elif algorithm_name == 'SVM':\n",
    "        classifier = SVC(random_state=random_state)   \n",
    "    elif algorithm_name == 'LR':\n",
    "        classifier = LogisticRegression(random_state=random_state)\n",
    "    elif algorithm_name == 'RF':        \n",
    "        classifier = RandomForestClassifier(random_state=random_state)\n",
    "    elif algorithm_name == 'GB':\n",
    "        classifier = GradientBoostingClassifier(random_state=random_state)\n",
    "    else:\n",
    "        print(\"Unknown algorithm: {0}\",format(algorithm_name))\n",
    "    return classifier"
   ]
  },
  {
   "cell_type": "code",
   "execution_count": 27,
   "metadata": {},
   "outputs": [],
   "source": [
    "num_splits = 3\n",
    "kfold = KFold(n_splits=num_splits, shuffle=True, random_state=42)\n",
    "algorithms = ['NB', 'SVM', 'LR', 'RF', 'GB']"
   ]
  },
  {
   "cell_type": "code",
   "execution_count": 15,
   "metadata": {},
   "outputs": [],
   "source": [
    "total_cycles *= len(algorithms)"
   ]
  },
  {
   "cell_type": "code",
   "execution_count": 20,
   "metadata": {},
   "outputs": [
    {
     "name": "stdout",
     "output_type": "stream",
     "text": [
      "73it [1:29:17, 73.39s/it]                         \n"
     ]
    }
   ],
   "source": [
    "outputs = []\n",
    "with tqdm(total=total_cycles, file=sys.stdout) as pbar:\n",
    "    data_path = os.path.join('data', 'train_test', '*.pkl')\n",
    "    files = glob.glob(data_path)            \n",
    "    for file in files:\n",
    "        with open(file, \"rb\") as f:\n",
    "            data = joblib.load(f)\n",
    "        train_data = data['train_data']\n",
    "        y_train = train_data['label'].values\n",
    "        text_features = list(train_data.iloc[:,0].values)        \n",
    "        extra_features = np.array(train_data.iloc[:,2:].values)\n",
    "        X_train = np.concatenate((text_features, extra_features), axis=1)\n",
    "        for algorithm in algorithms:            \n",
    "            classifier = get_classifier(algorithm)                \n",
    "            scores = cross_val_score(classifier, X_train, y=y_train, scoring=\"balanced_accuracy\", cv=kfold, n_jobs=3)\n",
    "            outputs.append(\n",
    "                {\n",
    "                    'algorithm': algorithm,\n",
    "                    'train_filename': file,                \n",
    "                    'metric_scores': scores,\n",
    "                }\n",
    "            )   \n",
    "            pbar.update(1)"
   ]
  },
  {
   "cell_type": "code",
   "execution_count": 21,
   "metadata": {},
   "outputs": [],
   "source": [
    "output_df = pd.DataFrame(columns=['algorithm', 'train_data_file', 'mean_balanced_accuracy'])\n",
    "for output in outputs:\n",
    "    row = {\n",
    "        'algorithm': output['algorithm'],\n",
    "        'train_data_file': output['train_filename'],\n",
    "        'mean_balanced_accuracy': round(output['metric_scores'].mean(), 2),\n",
    "        'std_balanced_accuracy': round(output['metric_scores'].std(), 2)\n",
    "    }\n",
    "    output_df = output_df.append(row, ignore_index=True)"
   ]
  },
  {
   "cell_type": "code",
   "execution_count": 18,
   "metadata": {},
   "outputs": [
    {
     "data": {
      "text/html": [
       "<div>\n",
       "<style scoped>\n",
       "    .dataframe tbody tr th:only-of-type {\n",
       "        vertical-align: middle;\n",
       "    }\n",
       "\n",
       "    .dataframe tbody tr th {\n",
       "        vertical-align: top;\n",
       "    }\n",
       "\n",
       "    .dataframe thead th {\n",
       "        text-align: right;\n",
       "    }\n",
       "</style>\n",
       "<table border=\"1\" class=\"dataframe\">\n",
       "  <thead>\n",
       "    <tr style=\"text-align: right;\">\n",
       "      <th></th>\n",
       "      <th>algorithm</th>\n",
       "      <th>train_data_file</th>\n",
       "      <th>mean_balanced_accuracy</th>\n",
       "      <th>std_balanced_accuracy</th>\n",
       "    </tr>\n",
       "  </thead>\n",
       "  <tbody>\n",
       "    <tr>\n",
       "      <th>0</th>\n",
       "      <td>NB</td>\n",
       "      <td>data/train_test/data_tfidf_10000_(1, 1)_clean_...</td>\n",
       "      <td>0.95</td>\n",
       "      <td>0.01</td>\n",
       "    </tr>\n",
       "    <tr>\n",
       "      <th>1</th>\n",
       "      <td>LR</td>\n",
       "      <td>data/train_test/data_tfidf_10000_(1, 1)_clean_...</td>\n",
       "      <td>0.93</td>\n",
       "      <td>0.01</td>\n",
       "    </tr>\n",
       "    <tr>\n",
       "      <th>2</th>\n",
       "      <td>RF</td>\n",
       "      <td>data/train_test/data_tfidf_10000_(1, 1)_clean_...</td>\n",
       "      <td>0.92</td>\n",
       "      <td>0.01</td>\n",
       "    </tr>\n",
       "    <tr>\n",
       "      <th>3</th>\n",
       "      <td>GB</td>\n",
       "      <td>data/train_test/data_tfidf_10000_(1, 1)_clean_...</td>\n",
       "      <td>0.91</td>\n",
       "      <td>0.01</td>\n",
       "    </tr>\n",
       "    <tr>\n",
       "      <th>4</th>\n",
       "      <td>NB</td>\n",
       "      <td>data/train_test/data_tfidf_1000_(1, 1)_clean_l...</td>\n",
       "      <td>0.95</td>\n",
       "      <td>0.00</td>\n",
       "    </tr>\n",
       "  </tbody>\n",
       "</table>\n",
       "</div>"
      ],
      "text/plain": [
       "  algorithm                                    train_data_file  \\\n",
       "0        NB  data/train_test/data_tfidf_10000_(1, 1)_clean_...   \n",
       "1        LR  data/train_test/data_tfidf_10000_(1, 1)_clean_...   \n",
       "2        RF  data/train_test/data_tfidf_10000_(1, 1)_clean_...   \n",
       "3        GB  data/train_test/data_tfidf_10000_(1, 1)_clean_...   \n",
       "4        NB  data/train_test/data_tfidf_1000_(1, 1)_clean_l...   \n",
       "\n",
       "   mean_balanced_accuracy  std_balanced_accuracy  \n",
       "0                    0.95                   0.01  \n",
       "1                    0.93                   0.01  \n",
       "2                    0.92                   0.01  \n",
       "3                    0.91                   0.01  \n",
       "4                    0.95                   0.00  "
      ]
     },
     "execution_count": 18,
     "metadata": {},
     "output_type": "execute_result"
    }
   ],
   "source": [
    "output_df.head()"
   ]
  },
  {
   "cell_type": "markdown",
   "metadata": {},
   "source": [
    "Save training results to a csv"
   ]
  },
  {
   "cell_type": "code",
   "execution_count": 19,
   "metadata": {},
   "outputs": [],
   "source": [
    "experiment_dir = 'experiments'  # directory to store experiments\n",
    "os.makedirs(experiment_dir, exist_ok=True)  # ensure the directory exists\n",
    "output_df.to_csv(experiment_dir+'/e_03062020.csv', index=False)"
   ]
  },
  {
   "cell_type": "markdown",
   "metadata": {},
   "source": [
    "### Compare the best models of each type"
   ]
  },
  {
   "cell_type": "code",
   "execution_count": 28,
   "metadata": {},
   "outputs": [
    {
     "name": "stdout",
     "output_type": "stream",
     "text": [
      "Algorithm: NB, Mean: 0.97, Std.: 0.01, Train Data File: data/train_test/data_tfidf_10000_(1, 2)_clean_lemmatization.pkl\n",
      "Algorithm: SVM, Mean: 0.63, Std.: 0.02, Train Data File: data/train_test/data_tfidf_5000_(1, 1)_clean.pkl\n",
      "Algorithm: LR, Mean: 0.96, Std.: 0.01, Train Data File: data/train_test/data_tc_5000_(1, 1)_clean.pkl\n",
      "Algorithm: RF, Mean: 0.94, Std.: 0.01, Train Data File: data/train_test/data_tfidf_10000_(1, 1)_clean.pkl\n",
      "Algorithm: GB, Mean: 0.92, Std.: 0.01, Train Data File: data/train_test/data_tfidf_10000_(1, 3)_clean_lemmatization.pkl\n"
     ]
    }
   ],
   "source": [
    "mean_best_models, std_best_models = [], []\n",
    "for algorithm in algorithms:\n",
    "    best_model = output_df[output_df['algorithm']==algorithm].sort_values(by=['mean_balanced_accuracy', 'std_balanced_accuracy'], ascending=False).head(1)\n",
    "    mean_recall = best_model['mean_balanced_accuracy'].values[0]\n",
    "    std_recall = best_model['std_balanced_accuracy'].values[0]\n",
    "    mean_best_models.append(mean_recall)    \n",
    "    std_best_models.append(std_recall)\n",
    "    data_fn = best_model['train_data_file'].values[0]    \n",
    "    print(f'Algorithm: {algorithm}, Mean: {mean_recall}, Std.: {std_recall}, Train Data File: {data_fn}')"
   ]
  },
  {
   "cell_type": "code",
   "execution_count": 29,
   "metadata": {},
   "outputs": [
    {
     "data": {
      "image/png": "[encoded data removed]",
      "text/plain": [
       "<Figure size 864x432 with 1 Axes>"
      ]
     },
     "metadata": {
      "needs_background": "light"
     },
     "output_type": "display_data"
    }
   ],
   "source": [
    "cv_res = pd.DataFrame({\n",
    "    'cross_val_means': mean_best_models,\n",
    "    'cross_val_std': std_best_models,\n",
    "    'algorithm': algorithms\n",
    "})\n",
    "plt.figure(figsize=(12,6))\n",
    "g = sns.barplot('cross_val_means', 'algorithm', data = cv_res, palette='Blues_r', orient = \"h\", **{'xerr':std_best_models})\n",
    "g.set_xlabel('Mean Balanced Accuracy')\n",
    "g = g.set_title('Cross validation scores')"
   ]
  },
  {
   "cell_type": "markdown",
   "metadata": {},
   "source": [
    "### Perform hyper-parameters optimization"
   ]
  },
  {
   "cell_type": "markdown",
   "metadata": {},
   "source": [
    "**Hyperparametrization processes have been run outside the notebook through the script `train.py`**"
   ]
  },
  {
   "cell_type": "markdown",
   "metadata": {},
   "source": [
    "### Plot learning curve"
   ]
  },
  {
   "cell_type": "code",
   "execution_count": 7,
   "metadata": {},
   "outputs": [],
   "source": [
    "# Taken from \n",
    "# https://scikit-learn.org/stable/auto_examples/model_selection/plot_learning_curve.html\n",
    "def plot_learning_curve(estimator, title, X, y, ylim=None, cv=None, n_jobs=-1, train_sizes=np.linspace(.1, 1.0, 5), shuffle=False):\n",
    "    \"\"\"Generate a simple plot of the test and training learning curve\"\"\"\n",
    "    \n",
    "    plt.figure(figsize=(12,6))\n",
    "    plt.title(title)\n",
    "    if ylim is not None:\n",
    "        plt.ylim(*ylim)\n",
    "    plt.xlabel(\"Training examples\")\n",
    "    plt.ylabel(\"Score\")\n",
    "    \n",
    "    train_sizes, train_scores, test_scores = learning_curve(estimator, X, y, n_jobs=n_jobs, cv=cv, train_sizes=train_sizes, shuffle=shuffle)\n",
    "    train_scores_mean = np.mean(train_scores, axis=1)\n",
    "    train_scores_std = np.std(train_scores, axis=1)\n",
    "    test_scores_mean = np.mean(test_scores, axis=1)\n",
    "    test_scores_std = np.std(test_scores, axis=1)\n",
    "    \n",
    "    plt.grid()\n",
    "    plt.fill_between(train_sizes, train_scores_mean - train_scores_std, train_scores_mean + train_scores_std, alpha=0.1, color=\"r\")\n",
    "    plt.fill_between(train_sizes, test_scores_mean - test_scores_std, test_scores_mean + test_scores_std, alpha=0.1, color=\"g\")\n",
    "    plt.plot(train_sizes, train_scores_mean, 'o-', color=\"r\", label=\"Training score\")\n",
    "    plt.plot(train_sizes, test_scores_mean, 'o-', color=\"g\",label=\"Cross-validation score\")\n",
    "\n",
    "    plt.legend(loc=\"best\")\n",
    "    return plt"
   ]
  },
  {
   "cell_type": "markdown",
   "metadata": {},
   "source": [
    "#### **Naive-Bayes (NB)**"
   ]
  },
  {
   "cell_type": "code",
   "execution_count": 11,
   "metadata": {},
   "outputs": [
    {
     "data": {
      "image/png": "[encoded data removed]",
      "text/plain": [
       "<Figure size 864x432 with 1 Axes>"
      ]
     },
     "metadata": {
      "needs_background": "light"
     },
     "output_type": "display_data"
    }
   ],
   "source": [
    "best_model = output_df[output_df['algorithm']=='NB'].sort_values(by=['mean_balanced_accuracy', 'std_balanced_accuracy'], ascending=False).head(1)\n",
    "with open(best_model['train_data_file'].values[0], \"rb\") as f:\n",
    "    data = joblib.load(f)\n",
    "train_data = data['train_data']\n",
    "X_train_nb = list(train_data['sentence'].values)\n",
    "y_train_nb = train_data['label'].values\n",
    "g = plot_learning_curve(GaussianNB(), \"NB learning curves\", X_train_nb, y_train_nb, cv=kfold)\n",
    "g.show()"
   ]
  },
  {
   "cell_type": "markdown",
   "metadata": {},
   "source": [
    "**Diagnosis**. Scores in the learning curve of the NB model vary little as the size of the training set increases. This indicates that the model might overfit on the training data (high variance). On the other hand, the validation curve increases as more training examples are available, which tells us that the model is correctly learning from the training examples. The small gap between training and validation is a sign of low variance."
   ]
  },
  {
   "cell_type": "markdown",
   "metadata": {},
   "source": [
    "#### **Support Vector Machine (SVM)**"
   ]
  },
  {
   "cell_type": "code",
   "execution_count": 30,
   "metadata": {},
   "outputs": [],
   "source": [
    "# get data\n",
    "best_model = output_df[output_df['algorithm']=='SVM'].sort_values(by=['mean_balanced_accuracy', 'std_balanced_accuracy'], ascending=False).head(1)\n",
    "with open(best_model['train_data_file'].values[0], \"rb\") as f:\n",
    "    data = joblib.load(f)\n",
    "train_data = data['train_data']\n",
    "y_train_svm = train_data['label'].values\n",
    "text_features = list(train_data.iloc[:,0].values)        \n",
    "extra_features = np.array(train_data.iloc[:,2:].values)\n",
    "X_train_svm = np.concatenate((text_features, extra_features), axis=1)"
   ]
  },
  {
   "cell_type": "code",
   "execution_count": 3,
   "metadata": {},
   "outputs": [],
   "source": [
    "svm_best = joblib.load('./models/best_support_vector_machine-tfidf_5000_(1, 1)_clean.joblib')"
   ]
  },
  {
   "cell_type": "code",
   "execution_count": 32,
   "metadata": {},
   "outputs": [
    {
     "data": {
      "image/png": "[encoded data removed]",
      "text/plain": [
       "<Figure size 864x432 with 1 Axes>"
      ]
     },
     "metadata": {
      "needs_background": "light"
     },
     "output_type": "display_data"
    }
   ],
   "source": [
    "g = plot_learning_curve(svm_best, \"SVM learning curves\", X_train_svm, y_train_svm, cv=kfold, shuffle=True)\n",
    "g.show()"
   ]
  },
  {
   "cell_type": "markdown",
   "metadata": {},
   "source": [
    "**Diagnosis**. Scores in the learning curve of the SVM model slightly decrease as the number of training examples increases. This might indicate that the model does not overfitting on training data (low variance). On the contrary, the validation curve increases as more training examples are available, which tells us that the model is correctly learning from the training examples. It seems that with more data curves will converge at some point."
   ]
  },
  {
   "cell_type": "markdown",
   "metadata": {},
   "source": [
    "#### **Logistic Regression (LR)**"
   ]
  },
  {
   "cell_type": "code",
   "execution_count": 5,
   "metadata": {},
   "outputs": [],
   "source": [
    "# get data\n",
    "best_model = output_df[output_df['algorithm']=='LR'].sort_values(by=['mean_balanced_accuracy', 'std_balanced_accuracy'], ascending=False).head(1)\n",
    "with open(best_model['train_data_file'].values[0], \"rb\") as f:\n",
    "    data = joblib.load(f)\n",
    "train_data = data['train_data']\n",
    "y_train_lr = train_data['label'].values\n",
    "text_features = list(train_data.iloc[:,0].values)        \n",
    "extra_features = np.array(train_data.iloc[:,2:].values)\n",
    "X_train_lr = np.concatenate((text_features, extra_features), axis=1)"
   ]
  },
  {
   "cell_type": "code",
   "execution_count": 4,
   "metadata": {},
   "outputs": [],
   "source": [
    "lr_best = joblib.load('./models/best_logistic_regression-tc_5000_(1, 1)_clean.joblib')"
   ]
  },
  {
   "cell_type": "code",
   "execution_count": 8,
   "metadata": {},
   "outputs": [
    {
     "data": {
      "image/png": "[encoded data removed]",
      "text/plain": [
       "<Figure size 864x432 with 1 Axes>"
      ]
     },
     "metadata": {
      "needs_background": "light"
     },
     "output_type": "display_data"
    }
   ],
   "source": [
    "g = plot_learning_curve(lr_best, \"LR learning curves\", X_train_lr, y_train_lr, cv=kfold, shuffle=True)\n",
    "g.show()"
   ]
  },
  {
   "cell_type": "markdown",
   "metadata": {},
   "source": [
    "**Diagnosis**. Scores in the learning curve of the SVM model decrease as the number of training examples increases. This indicate that the model does not overfitting on training data (low variance). On the contrary, the validation curve increases as more training examples are available, which tells us that the model is correctly learning from the training examples."
   ]
  },
  {
   "cell_type": "markdown",
   "metadata": {},
   "source": [
    "#### **Random Forest (RF)**"
   ]
  },
  {
   "cell_type": "code",
   "execution_count": 9,
   "metadata": {},
   "outputs": [],
   "source": [
    "# get data\n",
    "best_model = output_df[output_df['algorithm']=='RF'].sort_values(by=['mean_balanced_accuracy', 'std_balanced_accuracy'], ascending=False).head(1)\n",
    "with open(best_model['train_data_file'].values[0], \"rb\") as f:\n",
    "    data = joblib.load(f)\n",
    "train_data = data['train_data']\n",
    "y_train_rf = train_data['label'].values\n",
    "text_features = list(train_data.iloc[:,0].values)        \n",
    "extra_features = np.array(train_data.iloc[:,2:].values)\n",
    "X_train_rf = np.concatenate((text_features, extra_features), axis=1)"
   ]
  },
  {
   "cell_type": "code",
   "execution_count": 5,
   "metadata": {},
   "outputs": [],
   "source": [
    "rf_best = joblib.load('./models/best_random_forest-tfidf_10000_(1, 1)_clean.joblib')"
   ]
  },
  {
   "cell_type": "code",
   "execution_count": 11,
   "metadata": {},
   "outputs": [
    {
     "data": {
      "image/png": "[encoded data removed]",
      "text/plain": [
       "<Figure size 864x432 with 1 Axes>"
      ]
     },
     "metadata": {
      "needs_background": "light"
     },
     "output_type": "display_data"
    }
   ],
   "source": [
    "g = plot_learning_curve(rf_best, \"RF learning curves\", X_train_rf, y_train_rf, cv=kfold)\n",
    "g.show()"
   ]
  },
  {
   "cell_type": "markdown",
   "metadata": {},
   "source": [
    "**Diagnosis**. In this model the training score is at maximum regardless of the training size, which is signal of overfitting."
   ]
  },
  {
   "cell_type": "markdown",
   "metadata": {},
   "source": [
    "#### **Gradient Boosting (GB)**"
   ]
  },
  {
   "cell_type": "code",
   "execution_count": 12,
   "metadata": {},
   "outputs": [],
   "source": [
    "# get train data\n",
    "best_model = output_df[output_df['algorithm']=='GB'].sort_values(by=['mean_balanced_accuracy', 'std_balanced_accuracy'], ascending=False).head(1)\n",
    "with open(best_model['train_data_file'].values[0], \"rb\") as f:\n",
    "    data = joblib.load(f)\n",
    "train_data = data['train_data']\n",
    "y_train_gb = train_data['label'].values\n",
    "text_features = list(train_data.iloc[:,0].values)        \n",
    "extra_features = np.array(train_data.iloc[:,2:].values)\n",
    "X_train_gb = np.concatenate((text_features, extra_features), axis=1)"
   ]
  },
  {
   "cell_type": "code",
   "execution_count": 6,
   "metadata": {},
   "outputs": [],
   "source": [
    "gb_best = joblib.load('./models/best_gradient_boosting-tfidf_10000_(1, 3)_clean_lemmatization.joblib')"
   ]
  },
  {
   "cell_type": "code",
   "execution_count": 17,
   "metadata": {},
   "outputs": [
    {
     "data": {
      "image/png": "[encoded data removed]",
      "text/plain": [
       "<Figure size 864x432 with 1 Axes>"
      ]
     },
     "metadata": {
      "needs_background": "light"
     },
     "output_type": "display_data"
    }
   ],
   "source": [
    "g = plot_learning_curve(gb_best, \"GB learning curves\", X_train_gb, y_train_gb, cv=kfold, shuffle=True)\n",
    "g.show()"
   ]
  },
  {
   "cell_type": "markdown",
   "metadata": {},
   "source": [
    "**Diagnosis**. In this model the training score is at maximum regardless of the training size, which is signal of overfitting. The large gap between training and validation confirms a high-variance scenario."
   ]
  },
  {
   "cell_type": "markdown",
   "metadata": {},
   "source": [
    "### Select model"
   ]
  },
  {
   "cell_type": "markdown",
   "metadata": {},
   "source": [
    "Based on the previous diagnosis, a Support Vector Machine model is selected as the best option to conduct the classification task."
   ]
  },
  {
   "cell_type": "markdown",
   "metadata": {},
   "source": [
    "#### Save Model"
   ]
  },
  {
   "cell_type": "code",
   "execution_count": 5,
   "metadata": {},
   "outputs": [],
   "source": [
    "train_fn = output_df[output_df['algorithm']=='SVM'].sort_values(by=['mean_balanced_accuracy', 'std_balanced_accuracy'], ascending=False).head(1)['train_data_file'].values[0]\n",
    "save_model(svm_best, 'support-vector-machine', 'SVM', 'balanced_accuracy', train_fn)"
   ]
  },
  {
   "cell_type": "markdown",
   "metadata": {},
   "source": [
    "## Evaluate model"
   ]
  },
  {
   "cell_type": "markdown",
   "metadata": {},
   "source": [
    "### Load model"
   ]
  },
  {
   "cell_type": "code",
   "execution_count": 7,
   "metadata": {},
   "outputs": [],
   "source": [
    "model_dict = joblib.load('./models/support-vector-machine.joblib')\n",
    "model = model_dict['model']"
   ]
  },
  {
   "cell_type": "markdown",
   "metadata": {},
   "source": [
    "### Load test data"
   ]
  },
  {
   "cell_type": "code",
   "execution_count": 11,
   "metadata": {},
   "outputs": [],
   "source": [
    "data_fn = model_dict['data_fn']\n",
    "with open(os.path.join('data','train_test',data_fn), 'rb') as f:\n",
    "    data = joblib.load(f)\n",
    "test_data = data['test_data']\n",
    "y_test = test_data['label'].values\n",
    "text_features = list(test_data.iloc[:,0].values)        \n",
    "extra_features = np.array(test_data.iloc[:,2:].values)\n",
    "X_test = np.concatenate((text_features, extra_features), axis=1)"
   ]
  },
  {
   "cell_type": "markdown",
   "metadata": {},
   "source": [
    "### Make predictions"
   ]
  },
  {
   "cell_type": "code",
   "execution_count": 12,
   "metadata": {},
   "outputs": [],
   "source": [
    "pred = model.predict(X_test)"
   ]
  },
  {
   "cell_type": "markdown",
   "metadata": {},
   "source": [
    "### Compute performance metrics"
   ]
  },
  {
   "cell_type": "code",
   "execution_count": 13,
   "metadata": {},
   "outputs": [
    {
     "name": "stdout",
     "output_type": "stream",
     "text": [
      "Balanced Accuracy: 0.94\n"
     ]
    }
   ],
   "source": [
    "print(f'Balanced Accuracy: {round(metrics.recall_score(y_test, pred),2)}')"
   ]
  },
  {
   "cell_type": "code",
   "execution_count": null,
   "metadata": {},
   "outputs": [],
   "source": []
  },
  {
   "cell_type": "code",
   "execution_count": 3,
   "metadata": {},
   "outputs": [],
   "source": [
    "s = 'RD-CONNECT Report Summary Project ID: 305444 Funded under: FP7-HEALTH Country: United Kingdom Periodic Report Summary 5 - RD-CONNECT (RD-CONNECT: An integrated platform connecting registries, biobanks and clinical bioinformatics for rare disease research) Project Context and Objectives: RD-Connect is a global research and infrastructure resource for rare diseases (RD).'"
   ]
  },
  {
   "cell_type": "code",
   "execution_count": 5,
   "metadata": {},
   "outputs": [
    {
     "data": {
      "text/plain": [
       "['rd',\n",
       " 'connect',\n",
       " 'report',\n",
       " 'summary',\n",
       " 'project',\n",
       " 'id',\n",
       " 'funded',\n",
       " 'fp',\n",
       " 'health',\n",
       " 'country',\n",
       " 'united',\n",
       " 'kingdom',\n",
       " 'periodic',\n",
       " 'report',\n",
       " 'summary',\n",
       " 'rd',\n",
       " 'connect',\n",
       " 'rd',\n",
       " 'connect',\n",
       " 'integrated',\n",
       " 'platform',\n",
       " 'connecting',\n",
       " 'registries',\n",
       " 'biobanks',\n",
       " 'clinical',\n",
       " 'bioinformatics',\n",
       " 'rare',\n",
       " 'disease',\n",
       " 'research',\n",
       " 'project',\n",
       " 'context',\n",
       " 'objectives',\n",
       " 'rd',\n",
       " 'connect',\n",
       " 'global',\n",
       " 'research',\n",
       " 'infrastructure',\n",
       " 'resource',\n",
       " 'rare',\n",
       " 'diseases',\n",
       " 'rd']"
      ]
     },
     "execution_count": 5,
     "metadata": {},
     "output_type": "execute_result"
    }
   ],
   "source": [
    "sentence_words = sentence_to_words(s)\n",
    "sentence_words"
   ]
  },
  {
   "cell_type": "code",
   "execution_count": 10,
   "metadata": {},
   "outputs": [],
   "source": [
    "with open('./data/train_test/data_tc_800_(1, 3)_clean.pkl', 'rb') as f:\n",
    "        data = joblib.load(f)"
   ]
  },
  {
   "cell_type": "code",
   "execution_count": 14,
   "metadata": {},
   "outputs": [],
   "source": [
    "vectorizer = CountVectorizer(max_features=800, ngram_range=(1, 3),\n",
    "                             vocabulary=data['vocabulary'],\n",
    "                             preprocessor=lambda x: x, tokenizer=lambda x: x,\n",
    "                             lowercase=False)"
   ]
  },
  {
   "cell_type": "code",
   "execution_count": 31,
   "metadata": {},
   "outputs": [],
   "source": [
    "data['vocabulary']\n",
    "x = {k:v for k, v in sorted(data['vocabulary'].items(), key=lambda x: x[1])}"
   ]
  },
  {
   "cell_type": "code",
   "execution_count": 17,
   "metadata": {},
   "outputs": [],
   "source": [
    "bag_of_words = vectorizer.transform([sentence_words]).toarray()"
   ]
  },
  {
   "cell_type": "code",
   "execution_count": 29,
   "metadata": {},
   "outputs": [
    {
     "data": {
      "text/plain": [
       "array([1, 1, 1, 1, 2, 2, 1])"
      ]
     },
     "execution_count": 29,
     "metadata": {},
     "output_type": "execute_result"
    }
   ],
   "source": [
    "bag_of_words[bag_of_words!=0]"
   ]
  },
  {
   "cell_type": "code",
   "execution_count": 27,
   "metadata": {},
   "outputs": [
    {
     "data": {
      "text/plain": [
       "array([134, 150, 204, 303, 604, 608, 755])"
      ]
     },
     "execution_count": 27,
     "metadata": {},
     "output_type": "execute_result"
    }
   ],
   "source": [
    "np.where(bag_of_words!=0)[1]"
   ]
  },
  {
   "cell_type": "code",
   "execution_count": 30,
   "metadata": {},
   "outputs": [
    {
     "name": "stdout",
     "output_type": "stream",
     "text": [
      "clinical\n",
      "context\n",
      "disease\n",
      "health\n",
      "report\n",
      "research\n",
      "united\n"
     ]
    }
   ],
   "source": [
    "idxs = np.where(bag_of_words!=0)[1]\n",
    "for k, v in x.items():\n",
    "    if v in idxs:\n",
    "        print(k)"
   ]
  },
  {
   "cell_type": "code",
   "execution_count": 9,
   "metadata": {},
   "outputs": [
    {
     "data": {
      "text/plain": [
       "array([1])"
      ]
     },
     "execution_count": 9,
     "metadata": {},
     "output_type": "execute_result"
    }
   ],
   "source": [
    "model.predict(bag_of_words)"
   ]
  }
 ],
 "metadata": {
  "kernelspec": {
   "display_name": "Impact Env",
   "language": "python",
   "name": "impact-env"
  },
  "language_info": {
   "codemirror_mode": {
    "name": "ipython",
    "version": 3
   },
   "file_extension": ".py",
   "mimetype": "text/x-python",
   "name": "python",
   "nbconvert_exporter": "python",
   "pygments_lexer": "ipython3",
   "version": "3.6.9"
  }
 },
 "nbformat": 4,
 "nbformat_minor": 4
}
