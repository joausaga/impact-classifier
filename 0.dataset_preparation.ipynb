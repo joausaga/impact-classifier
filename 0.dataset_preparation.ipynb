{
 "cells": [
  {
   "cell_type": "markdown",
   "metadata": {},
   "source": [
    "# Dataset Preparation"
   ]
  },
  {
   "cell_type": "markdown",
   "metadata": {},
   "source": [
    "The project proposes to leverage machine learning (ML) and natural language processing (NLP) techniques to build a text classifier that automatizes the processing and identification of evidence of social impact in research documents. The proposal aims to solve  a classification problem in which the model takes a sentence contained in a research document as input and produces as output a binary answer (1=True, 0=False) that states whether the sentence contains or not evidence of social impact. In this sense, training a machine-learning algorithm to automatically identify evidence of social impact in research documents requires having a dataset with both examples, namely sentences that provide evidence of impact and general sentences.\n",
    "\n",
    "From all research fields, this project focuses on Medical, Health, and Biological science because the ultimately goal is to understand the social impact of the research projects of the Spanish National Institue of Bioinformatics (INB by its Spanish Acronym), which is an institution that conducts medical and biological investigations.\n",
    "\n",
    "The plan is to collect and process general sentences that are commonly available in scientific documents in the field of Health and Biology. Later, the processed sentences will be used to complement the dataset of evidence of social impact. Here, the dataset of full-text of 29,437 articles of health and biology produced by Ye et al. as part of their publication [SparkText:Biomedical Text Mining on Big Data Framework](https://www.researchgate.net/publication/308759738_SparkText_Biomedical_Text_Mining_on_Big_Data_Framework) will be used."
   ]
  },
  {
   "cell_type": "markdown",
   "metadata": {},
   "source": [
    "## Load dependencies"
   ]
  },
  {
   "cell_type": "code",
   "execution_count": 1,
   "metadata": {},
   "outputs": [],
   "source": [
    "import pandas as pd\n",
    "import numpy as np\n",
    "import matplotlib.pyplot as plt\n",
    "import os\n",
    "import re\n",
    "\n",
    "from nltk.tokenize import sent_tokenize, word_tokenize\n",
    "from nltk import pos_tag"
   ]
  },
  {
   "cell_type": "code",
   "execution_count": 3,
   "metadata": {},
   "outputs": [
    {
     "name": "stdout",
     "output_type": "stream",
     "text": [
      "Directory of project: /home/jorge/Dropbox/Development/impact-classifier\n"
     ]
    }
   ],
   "source": [
    "project_dir = os.getcwd()\n",
    "print('Directory of project: {}'.format(project_dir))"
   ]
  },
  {
   "cell_type": "markdown",
   "metadata": {},
   "source": [
    "## Collection of medical and biological sentences"
   ]
  },
  {
   "cell_type": "markdown",
   "metadata": {},
   "source": [
    "Here, I collect sentences available in health and biology academic articles. In this part of the notebook, the dataset of full-text of 29,437 articles of health and biology produced by Ye et al. as part of their publication [SparkText:Biomedical Text Mining on Big Data Framework](https://www.researchgate.net/publication/308759738_SparkText_Biomedical_Text_Mining_on_Big_Data_Framework) is used. Every row in the dataset represents the full-text of an article."
   ]
  },
  {
   "cell_type": "markdown",
   "metadata": {},
   "source": [
    "## Load data"
   ]
  },
  {
   "cell_type": "markdown",
   "metadata": {},
   "source": [
    "Let's load the dataset. I am using the default CSV library of Python because instead of Pandas because in this case I do not need a full dataframe but only a list of strings, which will represent the articles."
   ]
  },
  {
   "cell_type": "code",
   "execution_count": 3,
   "metadata": {},
   "outputs": [],
   "source": [
    "import csv\n",
    "texts = []\n",
    "with open('data/source/SparkText_SampleDataset_29437Fulltexts.csv', encoding='utf-8', errors='ignore') as csvfile:\n",
    "    reader = csv.DictReader(csvfile, fieldnames=['code','text'], delimiter= ' ')\n",
    "    for row in reader:\n",
    "        if row['text'] == 'text': # header\n",
    "            continue\n",
    "        texts.append(row['text'])"
   ]
  },
  {
   "cell_type": "markdown",
   "metadata": {},
   "source": [
    "### Sample"
   ]
  },
  {
   "cell_type": "code",
   "execution_count": 4,
   "metadata": {},
   "outputs": [
    {
     "data": {
      "text/plain": [
       "'In this case, apoptosis-deficient Becn1+/+ iMMECs stably expressing ERBB2 under low (1%) oxygen and glucose-deprivation conditions showed decreased number of autophagosomes compared with their non-ERBB2-expressing Becn1+/+ counterparts (Fig. 2F and G). Interestingly, the level of autophagy induction in metabolically stressed ERBB2-expressing Becn1+/+ iMMECs was similar to that of vector-expressing Becn1+/? iMMECs (Fig. 2F and G), confirming that ERBB2 overexpression renders mammary epithelial cells partially autophagy-deficient under stress. To further investigate the impact of ERBB2 overexpression on stress-induced autophagy in an alternate system and in an apoptosis-competent background, we used a transient ERBB2 expression system.40 To this intent, Becn1+/+ iMMECs stably overexpressing EGFP-LC3B were transiently transfected with a ERBB2-expressing or vector control plasmid and, after overnight recovery in regular culture medium, were incubated in Hanks medium for up to 3.5 h. Similar to the results described above (Fig. 2BE), transient ERBB2 overexpression did not affect basal autophagy, but suppressed autophagy induction in wild-type iMMECs in response to nutrient deprivation (Fig. 3AD, P < 0.01). This result was confirmed by decreased LC3B-I to LC3B-II conversion in iMMECs transiently overexpressing ERBB2 in both the absence and presence of BafA1 (Fig. 3C and D). ERBB2 overexpression did not affect expression of the essential autophagy regulators BECN1 and ATG7 (Fig. S2), but resulted in decreased conversion of endogenous LC3B-I to LC3B-II (Fig. 3C), indicating that ERBB2-promoted suppression of the autophagic response to stress was not associated with alterations in ATG expression. Figure 3. Transient ERBB2 overexpression inhibits stress-induced autophagy in Becn1+/+ iMMECs to the level observed in partially autophagy-defective non-ERBB2-expressing Becn1+/? iMMECs. (A) GFP-fluorescence microscopy of EGFP-LC3B-expressing Becn1+/+ iMMECs transiently transfected with a ERBB2-expressing or vector control plasmid under nutrient deprivation conditions without or with bafilomycin A1 (BafA1, 25 nM). (B) Autophagy quantification of (A) based on number of GFP-fluorescent puncta per cell. Each data point is an average of triplicate experiments  SD after quantifying puncta in 100 cells per experiment. *P value < 0.05; **P value < 0.01. (C) GFP and ACTB western blots of whole cell protein lysates from Becn1+/+ iMMECs transiently expressing ERBB2 under nutrient deprivation without and with BafA1. (D) Densitometric analysis of LC3B-II/LC3B-I ratio, as normalized to ACTB, using ImageJ. (E) EGFP-LC3B-expressing Becn1+/+ and Becn1+/? iMMECs transiently transfected with a ERBB2-expressing or vector control plasmid were subjected to nutrient deprivation, and autophagy was quantified by the number of GFP-fluorescent puncta per cell. Each data point is an average of triplicate experiments  SD after quantifying puncta in 100 cells per experiment. *P value < 0.05; **P value < 0.01. Finally, when EGFP-LC3B-expressing Becn1+/+ and Becn1+/? iMMECs were transiently transfected with a ERBB2-expressing or vector control plasmid and subjected to nutrient starvation, ERBB2 overexpression in either Becn1+/+ or Becn1+/? iMMECs induced similar number of autophagic puncta to those observed in vector-transfected Becn1+/? iMMECs (Fig. 3E, P < 0.05), indicating that ERBB2 expression rendered mammary epithelial cells autophagy-defective, independent of allelic Becn1 status. The effect of ERBB2 overexpression on the functional status of autophagy in human breast cancer cells was examined by transfection of stably EGFP-LC3B-expressing MCF7 cells with an ERBB2-expressing or vector control plasmid. Similar to the iMMEC results described above (Fig. 2; Fig. 3), transient ERBB2 expression did not alter basal autophagy levels in MCF7 cells, but suppressed autophagy induction in response to nutrient starvation (Fig. 4A and B). Inhibition of autophagic flux by bafilomycin A1 resulted in higher GFP puncta accumulation per cell in vector-compared with ERBB2-expressing MCF7 cells (Fig. 4A and B, P < 0.05), again indicating that the ERBB2 signaling pathway decreases autophagy induction in response to stress and, thus, suggesting that ERBB2-positive breast tumors may be functionally autophagy-defective, independent of BECN1 expression. Figure 4. Transient ERBB2 overexpression inhibits stress-induced autophagy in human breast cancer cells. (A) GFP-fluorescence microscopy of EGFP-LC3B-expressing MCF7 cells transiently transfected with a ERBB2-expressing or vector control plasmid under nutrient deprivation conditions for 0, 1, and 2 h without and with bafilomycin A1 (BafA1, 25 nM). (B) Autophagy quantification of (A) based on number of GFP-fluorescent puncta per cell. Each data point is an average of triplicate experiments  SD after quantifying puncta in 100 cells per experiment. *P value < 0.05; **P value < 0.01. (C) GFP-fluorescence confocal microscopy of tumor cell plaques dissected 24 h post orthotopic implantation of BCL2-expressing Becn1+/+ (left panel), BCL2- and ERBB2-expressing Becn1+/+ (middle panel), and BCL2 expressing Becn1+/? (right panel) iMMECs in nude mice. To examine the effect of ERBB2 overexpression on the functional status of autophagy in vivo, BCL2-, ERBB2- and EGFP-LC3B-expressing Becn1+/+ iMMECs, as well as BCL2-expressing Becn1+/+ and Becn1+/? iMMECs, were orthotopically implanted into the mammary fat pad of nude mice. Plaques were dissected 24 h post iMMEC implantation and LC3B translocation was qualitatively evaluated using fluorescence confocal microscopy. Similar to Figures 2D and 3E, ERBB2-overexpressing Becn1+/+ mammary cells exhibited similar number and size of GFP-LC3B puncta to Becn1+/? cells in vivo, but fewer and smaller in size puncta than Becn1+/+ cells (Fig. 4C). Monoallelic Becn1 loss does not alter ERBB2- and PyMT-driven mammary tumorigenesis To investigate whether allelic Becn1 status impacts ERBB2-induced mammary tumorigenesis, ERBB2-overexpressing Becn1+/+ and Becn1+/? iMMECs were orthotopically implanted in NCR nude female mice. The kinetics of allograft mammary tumor formation were independent of Becn1 status (Fig. 5A), indicating that, in our mouse mammary epithelial model,37 monoallelic Becn1 loss does not alter ERBB2-induced mammary tumorigenesis. Mammary tumors generated by ERBB2-overexpressing Becn1+/+ and Becn1+/? iMMECs exhibited similar ERBB2, MKI67 (Ki67) and cleaved CASP3 levels, indicating that ERBB2-overexpressing Becn1+/+ and Becn1+/? iMMEC-generated tumors were similar in oncogene expression and in cell proliferation and death rates. However, given lower total LC3B expression, but similar SQSTM1 levels in Becn1+/? compared with Becn1+/+ tumors (Fig. 5B), differences in the functional status of autophagy could not be reliably determined. Figure 5. ERBB2-expressing Becn1+/+ and Becn1+/? iMMECs have similar tumor-forming capacities in nude mice. (A) Independent ERBB2-overexpressing Becn1+/+ and Becn1+/? iMMEC lines (e.g., A and B) were bilaterally implanted into the 3rd mammary fat pads of nude mice. Mice were monitored for tumor growth. Each data point represents the average volume of iMMEC-generated mammary tumors in 5 mice (2 tumors per mouse) per genotype  SD (B) Representative images of ERBB2, LC3B, SQSTM1, MKI67, and cleaved CASP3 expression, as determined by IHC, in ERBB2-expressing Becn1+/+ (Becn1+/+;ERBB2) and ERBB2-expressing Becn1+/? (Becn1+/?;ERBB2) iMMEC-generated allograft mammary tumors from (A). The functional interactions between the ERBB2 and autophagy pathways were further studied by crossing Becn1+/? mice to 2 well-characterized mouse mammary tumor models, namely the MMTV-Neu42 and MMTV-PyMT43 models, which show cosegregating tumor gene expression profiles when compared with other mouse mammary tumor models.44 Similar to the iMMEC studies described above (Fig. 5A), monoallelic Becn1 loss did not alter the incidence, MMTV-latency or multiplicity of ERBB2-induced mammary tumors, independent of parity status (Fig. 6A). Similar ERBB2, but lower BECN1 and LC3B, levels were observed in Becn1+/?;Neu compared with Becn1+/+;MMTV-Neu mammary glands (Fig. 6B). Figure 6. Monoallelic Becn1 deletion does not affect ERBB2-driven mammary tumorigenesis. (A) Kaplan-Meier curve depicting percentage of tumor-free virgin (nulliparous-NP) mice over a period of 600 d post birth. (B) Kaplan-Meier curve depicting percentage of tumor-free retired breeder (multiparous-MP) mice over a period of 600 d post birth. (C) Table summarizing tumor frequency, latency, multiplicity, and anatomical distribution per genotype. MG, mammary gland; SlG, salivary gland. (D) Representative images of hematoxylin and eosin (H&E) and ERBB2, BECN1, and LC3B expression by IHC in mammary tumors from Becn1+/+;MMTV-Neu and Becn1+/?;MMTV-Neu virgin mice. Mice used: Becn1+/? (C57BL/6); MMTV-Neu (FVB/N). It is of interest to note that the cross between Becn1+/?8 and MMTV-Neu mice resulted in a mixed C57BL/6:FVB (50:50) background and mammary tumors arose with greater latency and lower penetrance in Becn1+/+;MMTV-Neu mice than in the FVB/N MMTV-Neu model,42 in agreement with earlier reports that the C57BL/6 background suppresses ERBB2-induced mammary tumor formation.45,46 To generate a Becn1+/? mouse model that is more readily amenable to mammary tumorigenesis studies, we changed the genetic background of the Becn1+/? mice from C57BL/68 to FVB/N. Rather than repeating the lengthier cross with MMTV-Neu mice, we instead crossed FVB Becn1+/? mice to the MMTV-PyMT mouse model, which develops mammary tumors in all mammary glands within 6 to 8 wk43 and is frequently used as a surrogate model for ERBB2-driven mammary tumorigenesis, as NEU- and PyMT-induced mammary tumors exhibit cosegregating gene expression signatures and high ERBB2 expression.47 Similar to the cross between Becn1+/? and MMTV-Neu mice (Fig. 6A), Becn1 heterozygosity did not impact PyMT-induced mammary tumorigenesis (Fig. 7A). Compared with Becn1+/+;MMTV-PyMT mammary tumors, Becn1+/?;MMTV-PyMT tumors exhibited lower BECN1 expression, but comparable ERBB2, LC3B, SQSTM1 and MKI67 levels (Fig. 7B), indicating that cell proliferation and likely functional autophagy status in PyMT-driven mammary tumors were not affected by monoallelic Becn1 deletion. Figure 7. Monoallelic Becn1 loss does not impact PyMT-driven mammary tumorigenesis. (A) Kaplan-Meier curve depicting percentage of tumor-free virgin mice over a period of 100 d post birth. (B) Table summarizing tumor latency, multiplicity, and size. (C) Representative images of H&E and ERBB2, BECN1, LC3B, SQSTM1, and MKI67 expression by IHC in mammary tumors from Becn1+/+;MMTV-PyMT and Becn1+/?;MMTV-PyMT mice. Mice used: Becn1+/? (FVB/N); MMTV-PyMT (FVB/N). Autophagy inhibition enhances the response of tzb-responsive human breast cancer cells to trastuzumab Our findings that ERBB2-positive breast tumors often exhibit low BECN1 expression (Fig. 1), ERBB2 overexpression suppresses stress-induced autophagy in mammary tumor cells in vitro and in vivo (Figs. 24), and Becn1 heterozygosity does not impact ERBB2-induced mammary tumorigenesis in the mouse tumor models examined (Figs. 57) suggest that, in contrast to mutant RAS-driven tumors,38,48-50 ERBB2-overexpressing cancer cells do not depend on high functional autophagy levels for growth. It is possible, however, that the suppressed, but not absent, autophagic potential is still essential for ERBB2-positive cancer cell survival under stress and that further autophagy inhibition may promote tumor cell death. To investigate this clinically significant hypothesis, we examined whether pharmacological or genetic autophagy inhibition increased sensitivity of the ERBB2-positive human breast cancer cell line, BT474, to the humanized mouse monoclonal ERBB2 antibody trastuzumab.51 Previous reports have shown that tzb-sensitive BT474 cancer cells exhibit low levels of basal autophagy and fail to upregulate autophagy in response to stress to the levels of other human breast cancer cell lines,33,52,53 further supporting our finding that ERBB2 overexpression suppresses autophagy. As shown in Figure 8A, trastuzumab inhibited BT474 cell growth at 48 and 72 h of treatment (P < 0.05 and < 0.01, respectively), whereas the lysosomotropic agent and indirect autophagy inhibitor chloroquine (CQ), at a concentration that blocks autophagic flux (25 ?M, Fig. 8B and C), had minimal effect on BT474 cell growth. The combination of trastuzumab and CQ showed statistically significant enhanced antitumor effect relative to the single agent trastuzumab (Fig. 8A), indicating that pharmacological autophagy inhibition with CQ augments the therapeutic efficacy of trastuzumab on tzb-sensitive BT474 breast cancer cells (P < 0.05). Near-complete BECN1 knockdown with siRNA (Fig. 8E) did not affect BT474 cell growth, but increased the antitumor effect of trastuzumab at 72 h (Fig. 8D, P < 0.05), indicating that targeted suppression of BECN1 expression also impacts ERBB2-positive breast cancer cell responsiveness to trastuzumab. Figure 8. Autophagy inhibition sensitizes tzb-responsive ERBB2-positive breast cancer cells to trastuzumab. (A) Viability assays of BT474 cells treated with trastuzumab (TZB, 150 g/ml), chloroquine (CQ, 25 M), or combination of both for 0, 3, and 5 d. (B) Viability of BT474 after 3 d of treatment with increasing CQ concentrations. (C) LC3B western blot of BT474 cells treated with increasing CQ concentrations. #middle panel is higher exposure of top panel (D) Viability assays of BT474 cells treated with TZB (150 g/ml) for 0 to 3 d, starting at 24 h after transfection with BECN1 or scrambled siRNA. (E) BECN1 immunoblot confirms target knockdown by siRNA during 0 to 3 d of treatment. P values were calculated using paired Student t test. Each data point is an average of triplicate experiments  SD. *P value < 0.05; **P value < 0.01. ERBB2-positive human breast tumors exhibit a low autophagy gene signature independent of BECN1 mRNA status Given our initial observation that low BECN1 expression in human breast tumors correlates with the ERBB2 and basal-like subtypes in independent, but rather small, gene profiling databases (Fig. 1), we examined whether this finding holds true in much larger and unrelated breast cancer cohorts.54-57 Tumors were clustered into 4 subgroups based on BECN1 expression levels [high (BECN1+) vs. low (BECN1?) for BECN1 levels above or below the mean across samples, respectively] and reported ERBB2 status [positive (ERBB2+) vs. negative (ERBB2?)] and their expression profiles were compared regarding hormone receptor status, autophagy-related gene expression, and gene signatures of metabolic pathways (Fig. S3) previously reported to be affected by functional autophagy status.38,48,49,58-60 This analysis confirmed that ERBB2-positive and triple negative breast tumors commonly express low levels of BECN1 mRNA (Fig. 9, Fig. S4, P = 5.70E-18). We also discovered that ERBB2-positive tumors, independent of BECN1 expression and very similar to non-ERBB2-expressing BECN1-low tumors, exhibited low expression of autophagy-regulated genes, possibly indicating functional autophagy suppression in ERBB2-positive breast cancers even when BECN1 is highly expressed (Fig. 9, Fig. S4, P = 2.60E-03). It is of great interest and worthy of further investigation that, similar to non-ERBB2-expressing BECN1-low tumors and in contrast to non-ERBB2-expressing BECN1-high tumors, ERBB2-positive breast tumors showed decreased fatty acid ?-oxidation and oxidative phosphorylation gene signatures, independent of BECN1 expression. Intriguingly, ERBB2-positive breast cancers seem to have glycolysis and cell proliferation gene signatures between the significantly upregulated and significantly downregulated patterns observed in non-ERBB2-expressing BECN1-low (i.e., mostly triple negative) and non-ERBB2-expressing BECN1-high (i.e., mostly hormone receptor-positive) tumors, respectively (Fig. 9, Fig. S4, P = 1.60E-05 and P = 3.10E-06). Figure 9. ERBB2-positive breast cancers have, independent of BECN1 expression, gene expression signatures similar to those of non-ERBB2-expressing breast cancers with low BECN1 mRNA levels. The heatmap reports gene set enrichment analysis (GSEA) for selected gene signatures (rows) in breast cancer cohorts defined by ERBB2 and BECN1 status. The color indicates the enrichment (Fischer exact test) of samples with gene signature upregulation (red, P+, enrichment < 0.05), downregulation (blue, P?, enrichment < 0.05), or no difference (black, P+, enrichment ? 0.05 and P?, enrichment ? 0.05) within a cohort subgroup relative to the remaining samples in the cohort. Gene signature lists and statistical analysis are provided in Figures S3 and S4, respectively. Databases: 1) Decremoux et al. 2011, 2) Hatzis et al. 2011 (ERBB2-negative breast cancers only), 3) Servant et al. 2012, and 4) Sabatier et al. 2011. Discussion Role of autophagy in mammary tumorigenesis The human epidermal growth factor receptor and tyrosine kinase ERBB2 has been widely studied because of its strong transforming potential, its role in the pathogenesis of breast cancer, and its use as a therapeutic target in patients with ERBB2-positive breast tumors. ERBB2 amplification is likely an early genetic event in mammary tumorigenesis, as it is commonly observed in ductal carcinoma in situ, in the absence of invasive disease.61 ERBB2 status remains constant as disease progresses to invasive and then metastatic stages.62-65 Becn1 has been identified as a haplo-insufficient tumor suppressor, as Becn1+/? mice develop mammary hyperplasias, lymphomas, and lung and liver carcinomas, which retain a wild-type Becn1 allele.4,7 Epithelial cells with autophagy defects, including Becn1 heterozygosity, exhibit susceptibility to metabolic stress, which is accompanied by DNA damage and increased genomic instability, in turn likely driving cancer progression.4 In our study, and in agreement with earlier work,14 ERBB2 overexpression and low BECN1 mRNA levels are positively correlated in human breast cancers (Fig. 1), indicating that many ERBB2-positive breast malignancies may be functionally autophagy-deficient. In support of this hypothesis, we found that ERBB2 axis activation suppresses stress-induced autophagy (Figs. 24), suggesting that ERBB2-positive premalignant and malignant breast lesions may exhibit decreased autophagic potential, even if BECN1 is genomically intact. Given the contribution of allelic Becn1 loss to DNA damage and genomic instability,4 it is conceivable that, by functionally suppressing autophagy, early ERBB2 activation may lead to further ERBB2 amplification and, thus, a positive feedback loop maintaining and increasing the protumorigenic function of the ERBB2 axis. In this case, defective autophagy, but not necessarily allelic BECN1 deletion, may indeed play a role in ERBB2-positive breast cancer, particularly during tumor initiation. Recent studies support the concept that autophagy suppression is important for aberrant tyrosine kinase-induced tumorigenesis, such as those mediated by AKT1 and EGFR,66,67 which inhibit autophagy by phosphorylation of BECN1. Upon expression of a BECN1 mutant resistant to phosphorylation in cancer cell lines, autophagy could not be inhibited and tyrosine kinase-mediated xenograft tumor formation in nude mice was suppressed.66,67 It would be very informative to further investigate the role of autophagy in ERBB2-induced tumorigenesis by generating a transgenic mouse model that combines ERBB2 overexpression and a constitutively activated or non-suppressible autophagy status. As it is evident from our in vitro and in vivo allograft and spontaneous tumorigenesis studies, unless autophagy is ectopically induced or engineered to be in a nonsuppressible state, activation of the ERBB2 axis suppresses the autophagic response to stress and renders ERBB2-positive breast cancer cells autophagy-deficient, thus providing an explanation for why partial Becn1 deficiency does not impact ERBB2-driven mammary tumor formation (Figs. 57). Our bi-transgenic mouse models combining monoallelic Becn1 loss and ERBB2 or PyMT activation under the MMTV-promoter join the efforts to study the role of defective autophagy in mammary tumorigenesis using mammary tumor-prone mouse models.68,69 In the first such publication, mammary gland-targeted deletion of the positive autophagy regulator Rb1cc1/Fip200 suppresses mammary tumor initiation and progression in the MMTV-PyMT model, in association with defective autophagy in tumor cells, as indicated by accumulation of ubiquitinated protein aggregates and SQSTM1, deficient LC3B conversion, and increased number of abnormal-appearing mitochondria.68 In a more recently published study, monoallelic Becn1 loss suppresses mammary tumor formation driven by Palb2 deletion in mammary epithelial cells (MECs) in a wild-type Trp53 background, but fails to impact tumorigenesis induced by combined MEC-specific Palb2 and Trp53 loss,69 suggesting that the role of allelic Becn1 status in mammary tumorigenesis is greatly influenced by other oncogenic events. The results mentioned above, including our studies, once more indicate that the role of autophagy in breast cancer is complex and warrants further investigation. Autophagy modulation for ERBB2-positive breast cancer treatment Our treatment studies (Fig. 8) demonstrate that pharmacological inhibition of autophagy increases sensitivity of tzb-responsive breast cancer cells to trastuzumab, indicating that the functionally reduced autophagy status in ERBB2-overexpressing breast cancer cells still preserves cell viability and provides protection against chemotherapy. This finding is in agreement with previously published studies, which implicated autophagy in resistance to breast cancer treatment, as autophagy inhibition by CQ or silencing of Atg genes resensitized tzb-resistant SKBR3 cells and hormone-resistant MCF7 cells to trastuzumab and tamoxifen, respectively.33,70 Tumor cell addiction to autophagy The suppressive effect of ERBB2 overexpression on the functional status of autophagy is in sharp contrast to the upregulation of basal autophagy and the strong dependence of RAS-mutant tumors on autophagy for growth.38,48-50,58 RAS-mediated adhesion-independent transformation is dependent on autophagy, as autophagy inhibition reduced glycolytic capacity and attenuated cell proliferation and transformation.48 Furthermore, RAS-expressing cells have high basal autophagy to maintain a functional mitochondrial pool and meet energy demands imposed by oncogenic RAS, as autophagy suppression decreased tumor cell survival under starvation and abrogated tumorigenesis in nude mice, in association with depletion of oxidative phosphorylation and tricarboxylic acid cycle intermediates.38,49 Whereas the aforementioned work38,48-50,58 suggests an oncogene-induced requirement for autophagy induction during tumorigenesis, our present studies indicate that autophagy addiction is not a generalized phenomenon in cancer pathophysiology, but its activation is instead specific to particular oncogenic events. Despite the differences in autophagy functional status in RAS-mutant and ERBB2-positive tumors and the potentially discrete roles of defective autophagy in RAS- and ERBB2-driven tumor initiation and maintenance, our studies reveal a common role for autophagy in resistance to cancer therapy. Similar to the sensitization of different tumor types to standard anticancer agents,13,71-73 tzb-responsive breast cancer cells were rendered more sensitive to trastuzumab by pharmacological and genetic autophagy suppression, thus further supporting use of autophagy inhibitors in combination with conventional cancer therapies. Autophagy functional status in ERBB2-positive breast tumors Our finding that ERBB2 activation suppresses stress-induced autophagy in breast cancer cells in vitro and in vivo (Figs. 24) is in agreement with our analysis of human breast tumor DNA microarray data showing that ERBB2-expressing breast cancers exhibit lower expression of autophagy-related genes (Figs. S3 and S4), independent of BECN1 expression levels (Fig. 9). It is, thus, likely that ERBB2-positive breast tumors are functionally autophagy-defective and, similar to Becn1+/? iMMECs,74 sensitive to oxidative and endoplasmic reticulum (ER) stress-inducing agents; this hypothesis will be investigated in subsequent studies. An interesting and thought-provoking finding from our gene expression analysis is the striking downregulation of glycolysis and proliferation gene signatures in non-ERBB2-expressing BECN1-high breast cancers, which are highly enriched in hormone receptor-positive tumors and also exhibit high and relative upregulation of fatty acid ?-oxidation and oxidative phosphorylation gene signatures, respectively. ERBB2-positive breast cancers, independent of BECN1 expression, are characterized by a relative upregulation of glycolysis and proliferation gene signatures compared with non-ERBB2-expressing BECN1-high (mostly hormone receptor-positive) tumors, but not to levels observed in non-ERBB2-expressing BECN1-low (mostly triple negative breast) tumors. Upregulation of glycolysis in association with ERBB2 activation has been reported before.75-77 However, the high expression of glycolysis-related genes in conjunction with a low autophagic gene signature is surprising considering that, in RAS-mediated transformation, defective autophagy reduces glycolytic capacity.48 It is possible that breast tumors with high functional autophagy do not rely on glycolysis for meeting their metabolic demands, as fatty acid ?-oxidation and oxidative phosphorylation can be sustained at high levels in autophagy-maintained healthy mitochondria. In contrast, low BECN1 expression, and likely defective autophagy and deregulation of mitochondrial homeostasis, correlates with significant suppression of fatty acid ?-oxidation and oxidative phosphorylation, as previously reported,38,60 thus forcing the cancer cell metabolic machinery toward glycolysis. '"
      ]
     },
     "execution_count": 4,
     "metadata": {},
     "output_type": "execute_result"
    }
   ],
   "source": [
    "texts[0]"
   ]
  },
  {
   "cell_type": "markdown",
   "metadata": {},
   "source": [
    "## Split text in sentences"
   ]
  },
  {
   "cell_type": "code",
   "execution_count": 5,
   "metadata": {},
   "outputs": [],
   "source": [
    "%%time\n",
    "general_sentences = [sentence for text in texts for sentence in sent_tokenize(text)]"
   ]
  },
  {
   "cell_type": "code",
   "execution_count": 6,
   "metadata": {},
   "outputs": [
    {
     "name": "stdout",
     "output_type": "stream",
     "text": [
      "There are 2,318,588 sentences contained in the 29,437 articles in the dataset.\n"
     ]
    }
   ],
   "source": [
    "print('There are {0:,} sentences contained in the 29,437 articles in the dataset.'.format(len(general_sentences)))"
   ]
  },
  {
   "cell_type": "markdown",
   "metadata": {},
   "source": [
    "## Sentences selection"
   ]
  },
  {
   "cell_type": "markdown",
   "metadata": {},
   "source": [
    "Now, I will randomly select 3,000 sentences to complement the sentences that contain evidence of social impact. The number 3,000 was chosen to have approximately 5,000 sentences in the combined dataset that will be used train and test the machine learning model. More than 3,000 sentences can be selected but this will increase the unbalance in dataset. **The big assumption here is that the selection is composed of general sentences that do not contain evidence of social impact**. In the process of selecting sentences, I check whether sentences to be chosen are grammatically complete. For the purpose of this project, sentences are considered complete if they have at least two nouns (subject, object) and a verb."
   ]
  },
  {
   "cell_type": "code",
   "execution_count": 7,
   "metadata": {},
   "outputs": [],
   "source": [
    "def is_sentence_complete(sentence):\n",
    "    sentence_pos_tags = pos_tag(word_tokenize(sentence))\n",
    "    num_nouns, num_verb = 2, 1\n",
    "    nouns_counter, verbs_counter = 0, 0\n",
    "    for s_pos_tag in sentence_pos_tags:\n",
    "        s_tag = s_pos_tag[1]\n",
    "        if s_tag[:2] == 'NN':\n",
    "            nouns_counter += 1\n",
    "        if s_tag[:2] == 'VB':\n",
    "            verbs_counter += 1\n",
    "    return nouns_counter >= num_nouns and verbs_counter >= num_verb"
   ]
  },
  {
   "cell_type": "code",
   "execution_count": 8,
   "metadata": {},
   "outputs": [],
   "source": [
    "# generate a list of 3000 random numbers between 0 and 2,318,588\n",
    "total_sentences = 3000\n",
    "selection_on = True\n",
    "selected_gral_sentences = []\n",
    "while selection_on:\n",
    "    random_idxs = np.random.randint(low=0, high=len(general_sentences), size=total_sentences)\n",
    "    for idx in random_idxs:\n",
    "        selected_sentence = general_sentences[idx]\n",
    "        if is_sentence_complete(selected_sentence):\n",
    "            selected_gral_sentences.append(selected_sentence)\n",
    "            total_sentences -= 1\n",
    "    if total_sentences == 0:\n",
    "        selection_on = False"
   ]
  },
  {
   "cell_type": "markdown",
   "metadata": {},
   "source": [
    "### Sanity check"
   ]
  },
  {
   "cell_type": "code",
   "execution_count": 9,
   "metadata": {},
   "outputs": [
    {
     "name": "stdout",
     "output_type": "stream",
     "text": [
      "Out of the 2,318,588 sentences 3,000 of them were selected\n"
     ]
    }
   ],
   "source": [
    "print('Out of the {0:,} sentences {1:,} of them were selected'.format(len(general_sentences), len(selected_gral_sentences)))"
   ]
  },
  {
   "cell_type": "markdown",
   "metadata": {},
   "source": [
    "### Sample"
   ]
  },
  {
   "cell_type": "code",
   "execution_count": 10,
   "metadata": {},
   "outputs": [
    {
     "data": {
      "text/plain": [
       "'Univariate analysis revealed that NSCLC patients with serum high KLK11 had a longer overall survival (OS) and progression-free survival (PFS) than those with low KLK11 (HR of 0.36, P?=?0.002; HR of 0.46, P?=?0.009).'"
      ]
     },
     "execution_count": 10,
     "metadata": {},
     "output_type": "execute_result"
    }
   ],
   "source": [
    "selected_gral_sentences[50]"
   ]
  },
  {
   "cell_type": "markdown",
   "metadata": {},
   "source": [
    "### Save sentences"
   ]
  },
  {
   "cell_type": "code",
   "execution_count": 11,
   "metadata": {},
   "outputs": [],
   "source": [
    "pd.DataFrame(selected_gral_sentences, columns=['sentence']).to_csv('data/sentences/gral_sentences_3000.csv')"
   ]
  }
 ],
 "metadata": {
  "kernelspec": {
   "display_name": "Impact Env",
   "language": "python",
   "name": "impact-env"
  },
  "language_info": {
   "codemirror_mode": {
    "name": "ipython",
    "version": 3
   },
   "file_extension": ".py",
   "mimetype": "text/x-python",
   "name": "python",
   "nbconvert_exporter": "python",
   "pygments_lexer": "ipython3",
   "version": "3.6.9"
  }
 },
 "nbformat": 4,
 "nbformat_minor": 4
}
