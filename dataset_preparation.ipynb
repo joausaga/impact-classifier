{
 "cells": [
  {
   "cell_type": "markdown",
   "metadata": {},
   "source": [
    "# Dataset Generation"
   ]
  },
  {
   "cell_type": "markdown",
   "metadata": {},
   "source": [
    "The project proposes to leverage machine learning (ML) and natural language processing (NLP) techniques to build a text classifier that automatizes the processing and identification of evidence of social impact in research documents. The proposal aims to solve  a classification problem in which the model takes a sentence contained in a research document as input and produces as output a binary answer (1=True, 0=False) that states whether the sentence contains or not evidence of social impact. In this sense, training a machine-learning algorithm to automatically identify evidence of social impact in research documents requires having a dataset with both examples, namely sentences that provide evidence of impact and general sentences.\n",
    "\n",
    "From all research fields, this project focuses on Medical, Health, and Biological science because the ultimately goal is to understand the social impact of the research projects of the Spanish National Institue of Bioinformatics (INB by its Spanish Acronym), which is an institution that conducts medical and biological investigations.\n",
    "\n",
    "In the first part of this notebook, I experiment with **sentiment analysis** and **k-means** to see whether they can be useful to automatize at least part of the process of detection of sentences with evidence of social impact. The reason of using Sentiment Analysis is to automatically identify positive sentences, which might contain evidence of social impact since it is expected that evidence of social impact is written in a positive tone. The use of K-means is motivated by the fact that it might be that senteces with evidence of social impact follow similar patterns in the words they use. So, it is expected that they k-means algorithms will be able to identify group sentences with similar patterns. Either in the case of sentiment analysis and k-means, a posterior manual processing will be conducted to validate the result.\n",
    "\n",
    "Summaries of the societal impact of Medical, Health, and Biological research published by the Research Excellence Framework (REF)---REF is the evaluation system used in the United Kingdom to measure the quality of research of their higher education institutions---will be used to this part of the work.\n",
    "\n",
    "In the second part of the notebook, the plan is to collect and process general sentences that are commonly available in scientific documents in the field of Health and Biology. Late, the processed sentences will be used to complemente the dataset of evidence of social impact. Here, the dataset of full-text of 29,437 articles of health and biology produced by Ye et al. as part of their publication [SparkText:Biomedical Text Mining on Big Data Framework](https://www.researchgate.net/publication/308759738_SparkText_Biomedical_Text_Mining_on_Big_Data_Framework) will be used.\n",
    "\n",
    "The goal here is to generate a dataset that include both sentences that contain evidence of social impact of research and sentences that do not contain evidence of social impact."
   ]
  },
  {
   "cell_type": "markdown",
   "metadata": {},
   "source": [
    "## Load dependencies"
   ]
  },
  {
   "cell_type": "code",
   "execution_count": 2,
   "metadata": {},
   "outputs": [],
   "source": [
    "import pandas as pd\n",
    "import numpy as np\n",
    "import matplotlib.pyplot as plt\n",
    "import os\n",
    "import re\n",
    "\n",
    "from nltk.tokenize import sent_tokenize, word_tokenize"
   ]
  },
  {
   "cell_type": "code",
   "execution_count": 3,
   "metadata": {},
   "outputs": [
    {
     "name": "stdout",
     "output_type": "stream",
     "text": [
      "Directory of project: /home/jorge/Dropbox/Development/impact-classifier\n"
     ]
    }
   ],
   "source": [
    "project_dir = os.getcwd()\n",
    "print('Directory of project: {}'.format(project_dir))"
   ]
  },
  {
   "cell_type": "markdown",
   "metadata": {},
   "source": [
    "---\n",
    "# First Part"
   ]
  },
  {
   "cell_type": "markdown",
   "metadata": {},
   "source": [
    "## Load data"
   ]
  },
  {
   "cell_type": "markdown",
   "metadata": {},
   "source": [
    "The data were extracted from the impact case studies published by REF (Research Excellence Framework) and it contains the summary of societal impact of Medical, Health, and Biological research. Summaries can be access [here](https://impact.ref.ac.uk/casestudies/Results.aspx?Type=I&Tag=5085)."
   ]
  },
  {
   "cell_type": "code",
   "execution_count": 4,
   "metadata": {},
   "outputs": [],
   "source": [
    "data = pd.read_csv('data/social_impact_ref_bio_medicine.csv')"
   ]
  },
  {
   "cell_type": "code",
   "execution_count": 5,
   "metadata": {},
   "outputs": [
    {
     "data": {
      "text/html": [
       "<div>\n",
       "<style scoped>\n",
       "    .dataframe tbody tr th:only-of-type {\n",
       "        vertical-align: middle;\n",
       "    }\n",
       "\n",
       "    .dataframe tbody tr th {\n",
       "        vertical-align: top;\n",
       "    }\n",
       "\n",
       "    .dataframe thead th {\n",
       "        text-align: right;\n",
       "    }\n",
       "</style>\n",
       "<table border=\"1\" class=\"dataframe\">\n",
       "  <thead>\n",
       "    <tr style=\"text-align: right;\">\n",
       "      <th></th>\n",
       "      <th>Case Study Id</th>\n",
       "      <th>Institution</th>\n",
       "      <th>Unit of Assessment</th>\n",
       "      <th>Title</th>\n",
       "      <th>Summary of the impact</th>\n",
       "    </tr>\n",
       "  </thead>\n",
       "  <tbody>\n",
       "    <tr>\n",
       "      <th>0</th>\n",
       "      <td>942</td>\n",
       "      <td>\\n    University of Kent and University of Gre...</td>\n",
       "      <td>Allied Health Professions, Dentistry, Nursing ...</td>\n",
       "      <td>\\n    The Guide to Receptors and Channels: a k...</td>\n",
       "      <td>\\n    The Guide to Receptors and Channels has ...</td>\n",
       "    </tr>\n",
       "    <tr>\n",
       "      <th>1</th>\n",
       "      <td>3405</td>\n",
       "      <td>\\nCardiff University\\n</td>\n",
       "      <td>Geography, Environmental Studies and Archaeology</td>\n",
       "      <td>\\nChanging people's perceptions of the human:a...</td>\n",
       "      <td>\\nThe Cardiff Osteological Research Group (COR...</td>\n",
       "    </tr>\n",
       "    <tr>\n",
       "      <th>2</th>\n",
       "      <td>15620</td>\n",
       "      <td>\\n    Royal Veterinary College\\n</td>\n",
       "      <td>Agriculture, Veterinary and Food Science</td>\n",
       "      <td>\\n    Giant Animals: evolution and biomechanic...</td>\n",
       "      <td>\\n    Professor Hutchinson's team has pursued ...</td>\n",
       "    </tr>\n",
       "    <tr>\n",
       "      <th>3</th>\n",
       "      <td>16710</td>\n",
       "      <td>\\n    University of Cambridge\\n</td>\n",
       "      <td>Physics</td>\n",
       "      <td>\\n    Mainstreaming Biological Physics in the ...</td>\n",
       "      <td>\\n    Material has been prepared for the Insti...</td>\n",
       "    </tr>\n",
       "    <tr>\n",
       "      <th>4</th>\n",
       "      <td>18226</td>\n",
       "      <td>\\n    University of Chester\\n</td>\n",
       "      <td>Psychology, Psychiatry and Neuroscience</td>\n",
       "      <td>\\n    Informing Global Improvements on the Wel...</td>\n",
       "      <td>\\n    This research programme has provided con...</td>\n",
       "    </tr>\n",
       "  </tbody>\n",
       "</table>\n",
       "</div>"
      ],
      "text/plain": [
       "   Case Study Id                                        Institution  \\\n",
       "0            942  \\n    University of Kent and University of Gre...   \n",
       "1           3405                             \\nCardiff University\\n   \n",
       "2          15620               \\n    Royal Veterinary College\\n       \n",
       "3          16710                \\n    University of Cambridge\\n       \n",
       "4          18226                  \\n    University of Chester\\n       \n",
       "\n",
       "                                  Unit of Assessment  \\\n",
       "0  Allied Health Professions, Dentistry, Nursing ...   \n",
       "1   Geography, Environmental Studies and Archaeology   \n",
       "2           Agriculture, Veterinary and Food Science   \n",
       "3                                            Physics   \n",
       "4            Psychology, Psychiatry and Neuroscience   \n",
       "\n",
       "                                               Title  \\\n",
       "0  \\n    The Guide to Receptors and Channels: a k...   \n",
       "1  \\nChanging people's perceptions of the human:a...   \n",
       "2  \\n    Giant Animals: evolution and biomechanic...   \n",
       "3  \\n    Mainstreaming Biological Physics in the ...   \n",
       "4  \\n    Informing Global Improvements on the Wel...   \n",
       "\n",
       "                               Summary of the impact  \n",
       "0  \\n    The Guide to Receptors and Channels has ...  \n",
       "1  \\nThe Cardiff Osteological Research Group (COR...  \n",
       "2  \\n    Professor Hutchinson's team has pursued ...  \n",
       "3  \\n    Material has been prepared for the Insti...  \n",
       "4  \\n    This research programme has provided con...  "
      ]
     },
     "execution_count": 5,
     "metadata": {},
     "output_type": "execute_result"
    }
   ],
   "source": [
    "data.head()"
   ]
  },
  {
   "cell_type": "markdown",
   "metadata": {},
   "source": [
    "Special attention will be paid to the column **Summary of the impact**, which is the column of interest here."
   ]
  },
  {
   "cell_type": "code",
   "execution_count": 6,
   "metadata": {},
   "outputs": [
    {
     "name": "stdout",
     "output_type": "stream",
     "text": [
      "Data set dimension. Rows: 571, Columns: 5\n"
     ]
    }
   ],
   "source": [
    "print('Data set dimension. Rows: {0}, Columns: {1}'.format(data.shape[0], data.shape[1]))"
   ]
  },
  {
   "cell_type": "markdown",
   "metadata": {},
   "source": [
    "## Clean and Transform Data"
   ]
  },
  {
   "cell_type": "markdown",
   "metadata": {},
   "source": [
    "Remove no-ascii characters and split summaries of impact into sentences."
   ]
  },
  {
   "cell_type": "code",
   "execution_count": 7,
   "metadata": {},
   "outputs": [],
   "source": [
    "def process_data(text):\n",
    "    # remove any character except letter, numbers, and percentage sign\n",
    "    text = re.sub(r\"[^a-zA-Z0-9%]\", \" \", text.lower())\n",
    "    # remove newlines, tabs, and extra spaces\n",
    "    text = re.sub(r\"\\t\", \" \", text)\n",
    "    text = re.sub(r\"\\n\", \" \", text)\n",
    "    text = re.sub(\"  \", \" \", text)\n",
    "    text = re.sub(\"   \", \" \", text)\n",
    "    text = text.strip()  # remove leading and trailing spaces\n",
    "    return text"
   ]
  },
  {
   "cell_type": "code",
   "execution_count": 8,
   "metadata": {},
   "outputs": [],
   "source": [
    "clean_data = pd.DataFrame(columns=['title', 'impact_sentence'])\n",
    "for i in data.index:\n",
    "    title = process_data(data.loc[i, 'Title'])\n",
    "    sentences = sent_tokenize(data.loc[i, 'Summary of the impact'])\n",
    "    for sentence in sentences:\n",
    "        clean_data = clean_data.append({'title': title, 'impact_sentence': process_data(sentence)}, \n",
    "                                       ignore_index=True)        "
   ]
  },
  {
   "cell_type": "code",
   "execution_count": 9,
   "metadata": {},
   "outputs": [
    {
     "data": {
      "text/html": [
       "<div>\n",
       "<style scoped>\n",
       "    .dataframe tbody tr th:only-of-type {\n",
       "        vertical-align: middle;\n",
       "    }\n",
       "\n",
       "    .dataframe tbody tr th {\n",
       "        vertical-align: top;\n",
       "    }\n",
       "\n",
       "    .dataframe thead th {\n",
       "        text-align: right;\n",
       "    }\n",
       "</style>\n",
       "<table border=\"1\" class=\"dataframe\">\n",
       "  <thead>\n",
       "    <tr style=\"text-align: right;\">\n",
       "      <th></th>\n",
       "      <th>title</th>\n",
       "      <th>impact_sentence</th>\n",
       "    </tr>\n",
       "  </thead>\n",
       "  <tbody>\n",
       "    <tr>\n",
       "      <th>0</th>\n",
       "      <td>the guide to receptors and channels a key tool...</td>\n",
       "      <td>the guide to receptors and channels has contri...</td>\n",
       "    </tr>\n",
       "    <tr>\n",
       "      <th>1</th>\n",
       "      <td>the guide to receptors and channels a key tool...</td>\n",
       "      <td>the key tools it provides have influenced appr...</td>\n",
       "    </tr>\n",
       "    <tr>\n",
       "      <th>2</th>\n",
       "      <td>the guide to receptors and channels a key tool...</td>\n",
       "      <td>it is used widely as a teaching aid for  under...</td>\n",
       "    </tr>\n",
       "    <tr>\n",
       "      <th>3</th>\n",
       "      <td>the guide to receptors and channels a key tool...</td>\n",
       "      <td>it led to the  formation of the guide to pharm...</td>\n",
       "    </tr>\n",
       "    <tr>\n",
       "      <th>4</th>\n",
       "      <td>changing people s perceptions of the human ani...</td>\n",
       "      <td>the cardiff osteological research group corg h...</td>\n",
       "    </tr>\n",
       "  </tbody>\n",
       "</table>\n",
       "</div>"
      ],
      "text/plain": [
       "                                               title  \\\n",
       "0  the guide to receptors and channels a key tool...   \n",
       "1  the guide to receptors and channels a key tool...   \n",
       "2  the guide to receptors and channels a key tool...   \n",
       "3  the guide to receptors and channels a key tool...   \n",
       "4  changing people s perceptions of the human ani...   \n",
       "\n",
       "                                     impact_sentence  \n",
       "0  the guide to receptors and channels has contri...  \n",
       "1  the key tools it provides have influenced appr...  \n",
       "2  it is used widely as a teaching aid for  under...  \n",
       "3  it led to the  formation of the guide to pharm...  \n",
       "4  the cardiff osteological research group corg h...  "
      ]
     },
     "execution_count": 9,
     "metadata": {},
     "output_type": "execute_result"
    }
   ],
   "source": [
    "clean_data.head()"
   ]
  },
  {
   "cell_type": "code",
   "execution_count": 21,
   "metadata": {},
   "outputs": [
    {
     "name": "stdout",
     "output_type": "stream",
     "text": [
      "Total number of sentences: 2373\n"
     ]
    }
   ],
   "source": [
    "print('Total number of sentences: {0}'.format(clean_data.shape[0]))"
   ]
  },
  {
   "cell_type": "markdown",
   "metadata": {},
   "source": [
    "## Sentiment Analysis"
   ]
  },
  {
   "cell_type": "markdown",
   "metadata": {},
   "source": [
    "Sentiment analysis is used to focus the manual processing only on sentences with a positive tone since it is expected that sentences with evidence of social impact are written using a positive attitude."
   ]
  },
  {
   "cell_type": "code",
   "execution_count": null,
   "metadata": {},
   "outputs": [],
   "source": [
    "# Load the required libraries\n",
    "from vaderSentiment.vaderSentiment import SentimentIntensityAnalyzer"
   ]
  },
  {
   "cell_type": "code",
   "execution_count": 10,
   "metadata": {},
   "outputs": [],
   "source": [
    "analyzer = SentimentIntensityAnalyzer()"
   ]
  },
  {
   "cell_type": "code",
   "execution_count": 17,
   "metadata": {},
   "outputs": [],
   "source": [
    "def analyze_sentiment(row):\n",
    "    score = analyzer.polarity_scores(row['impact_sentence'])\n",
    "    if score['compound'] >= 0.05:\n",
    "        sentiment = 'positive'\n",
    "    elif 0.05 > score['compound'] >= -0.05:\n",
    "        sentiment = 'neutral'\n",
    "    else:\n",
    "        sentiment = 'negative'    \n",
    "    \n",
    "    return pd.Series([row['title'], row['impact_sentence'], sentiment, score['compound']], \n",
    "                     index=['title', 'sentence', 'sentiment', 'score'])    "
   ]
  },
  {
   "cell_type": "code",
   "execution_count": 18,
   "metadata": {},
   "outputs": [],
   "source": [
    "#todo: remove stopwords before applying sentiment\n",
    "sa_impact_text = clean_data.apply(analyze_sentiment, axis=1)"
   ]
  },
  {
   "cell_type": "code",
   "execution_count": 54,
   "metadata": {},
   "outputs": [
    {
     "data": {
      "text/html": [
       "<div>\n",
       "<style scoped>\n",
       "    .dataframe tbody tr th:only-of-type {\n",
       "        vertical-align: middle;\n",
       "    }\n",
       "\n",
       "    .dataframe tbody tr th {\n",
       "        vertical-align: top;\n",
       "    }\n",
       "\n",
       "    .dataframe thead th {\n",
       "        text-align: right;\n",
       "    }\n",
       "</style>\n",
       "<table border=\"1\" class=\"dataframe\">\n",
       "  <thead>\n",
       "    <tr style=\"text-align: right;\">\n",
       "      <th></th>\n",
       "      <th>title</th>\n",
       "      <th>sentence</th>\n",
       "      <th>sentiment</th>\n",
       "      <th>score</th>\n",
       "    </tr>\n",
       "  </thead>\n",
       "  <tbody>\n",
       "    <tr>\n",
       "      <th>0</th>\n",
       "      <td>the guide to receptors and channels a key tool in the maintenance and   development of pharmacology</td>\n",
       "      <td>the guide to receptors and channels has contributed to the  development and maintenance of the intellectual infrastructure of  pharmacology</td>\n",
       "      <td>positive</td>\n",
       "      <td>0.5106</td>\n",
       "    </tr>\n",
       "    <tr>\n",
       "      <th>1</th>\n",
       "      <td>the guide to receptors and channels a key tool in the maintenance and   development of pharmacology</td>\n",
       "      <td>the key tools it provides have influenced appropriate  identification of lead drug targets and how best to study them and as a  result it has received endorsement and financial support from the  pharmaceutical industry</td>\n",
       "      <td>positive</td>\n",
       "      <td>0.8481</td>\n",
       "    </tr>\n",
       "    <tr>\n",
       "      <th>2</th>\n",
       "      <td>the guide to receptors and channels a key tool in the maintenance and   development of pharmacology</td>\n",
       "      <td>it is used widely as a teaching aid for  undergraduates and research postgraduates and provides the general public  with accurate information on prescription drug action</td>\n",
       "      <td>neutral</td>\n",
       "      <td>0.0000</td>\n",
       "    </tr>\n",
       "    <tr>\n",
       "      <th>3</th>\n",
       "      <td>the guide to receptors and channels a key tool in the maintenance and   development of pharmacology</td>\n",
       "      <td>it led to the  formation of the guide to pharmacology website in collaboration with the  international union of basic and clinical pharmacology</td>\n",
       "      <td>neutral</td>\n",
       "      <td>0.0000</td>\n",
       "    </tr>\n",
       "    <tr>\n",
       "      <th>4</th>\n",
       "      <td>changing people s perceptions of the human animal relationship</td>\n",
       "      <td>the cardiff osteological research group corg has researched the complex relationship between animals and people across britain europe and beyond</td>\n",
       "      <td>neutral</td>\n",
       "      <td>0.0000</td>\n",
       "    </tr>\n",
       "    <tr>\n",
       "      <th>5</th>\n",
       "      <td>changing people s perceptions of the human animal relationship</td>\n",
       "      <td>corg has taken its research as the basis for a programme of activities that seeks to challenge modern attitudes to animals through archaeological studies and to provoke reflection on the present relevance and future development of animals</td>\n",
       "      <td>negative</td>\n",
       "      <td>-0.3400</td>\n",
       "    </tr>\n",
       "    <tr>\n",
       "      <th>6</th>\n",
       "      <td>changing people s perceptions of the human animal relationship</td>\n",
       "      <td>their impact has built on relationships developed with artists and practitioners in creative industries who have been influenced by the issues researched</td>\n",
       "      <td>positive</td>\n",
       "      <td>0.4404</td>\n",
       "    </tr>\n",
       "    <tr>\n",
       "      <th>7</th>\n",
       "      <td>changing people s perceptions of the human animal relationship</td>\n",
       "      <td>by encouraging a range of audiences to consider the economic social ritual and symbolic roles of animals corg has enriched informed and changed the perspectives of individuals who do not normally engage with the archaeological past including target groups traditionally excluded from or not aware of academic research</td>\n",
       "      <td>neutral</td>\n",
       "      <td>-0.0093</td>\n",
       "    </tr>\n",
       "    <tr>\n",
       "      <th>8</th>\n",
       "      <td>giant animals evolution and biomechanics inspiring future science</td>\n",
       "      <td>professor hutchinson s team has pursued research into movement of large  land animals and how  they have evolved under biomechanical constraints such as gravity which  dominate their  lifestyles</td>\n",
       "      <td>negative</td>\n",
       "      <td>-0.1280</td>\n",
       "    </tr>\n",
       "    <tr>\n",
       "      <th>9</th>\n",
       "      <td>giant animals evolution and biomechanics inspiring future science</td>\n",
       "      <td>their findings relating to elephants and to dinosaurs  applying physics maths and  computer science to study the natural world have captured the public s  imagination through a  variety of engagement activities</td>\n",
       "      <td>positive</td>\n",
       "      <td>0.6705</td>\n",
       "    </tr>\n",
       "  </tbody>\n",
       "</table>\n",
       "</div>"
      ],
      "text/plain": [
       "                                                                                                 title  \\\n",
       "0  the guide to receptors and channels a key tool in the maintenance and   development of pharmacology   \n",
       "1  the guide to receptors and channels a key tool in the maintenance and   development of pharmacology   \n",
       "2  the guide to receptors and channels a key tool in the maintenance and   development of pharmacology   \n",
       "3  the guide to receptors and channels a key tool in the maintenance and   development of pharmacology   \n",
       "4                                       changing people s perceptions of the human animal relationship   \n",
       "5                                       changing people s perceptions of the human animal relationship   \n",
       "6                                       changing people s perceptions of the human animal relationship   \n",
       "7                                       changing people s perceptions of the human animal relationship   \n",
       "8                                    giant animals evolution and biomechanics inspiring future science   \n",
       "9                                    giant animals evolution and biomechanics inspiring future science   \n",
       "\n",
       "                                                                                                                                                                                                                                                                                                                        sentence  \\\n",
       "0                                                                                                                                                                                    the guide to receptors and channels has contributed to the  development and maintenance of the intellectual infrastructure of  pharmacology   \n",
       "1                                                                                                     the key tools it provides have influenced appropriate  identification of lead drug targets and how best to study them and as a  result it has received endorsement and financial support from the  pharmaceutical industry   \n",
       "2                                                                                                                                                      it is used widely as a teaching aid for  undergraduates and research postgraduates and provides the general public  with accurate information on prescription drug action   \n",
       "3                                                                                                                                                                                it led to the  formation of the guide to pharmacology website in collaboration with the  international union of basic and clinical pharmacology   \n",
       "4                                                                                                                                                                               the cardiff osteological research group corg has researched the complex relationship between animals and people across britain europe and beyond   \n",
       "5                                                                                 corg has taken its research as the basis for a programme of activities that seeks to challenge modern attitudes to animals through archaeological studies and to provoke reflection on the present relevance and future development of animals   \n",
       "6                                                                                                                                                                      their impact has built on relationships developed with artists and practitioners in creative industries who have been influenced by the issues researched   \n",
       "7  by encouraging a range of audiences to consider the economic social ritual and symbolic roles of animals corg has enriched informed and changed the perspectives of individuals who do not normally engage with the archaeological past including target groups traditionally excluded from or not aware of academic research   \n",
       "8                                                                                                                             professor hutchinson s team has pursued research into movement of large  land animals and how  they have evolved under biomechanical constraints such as gravity which  dominate their  lifestyles   \n",
       "9                                                                                                             their findings relating to elephants and to dinosaurs  applying physics maths and  computer science to study the natural world have captured the public s  imagination through a  variety of engagement activities   \n",
       "\n",
       "  sentiment   score  \n",
       "0  positive  0.5106  \n",
       "1  positive  0.8481  \n",
       "2   neutral  0.0000  \n",
       "3   neutral  0.0000  \n",
       "4   neutral  0.0000  \n",
       "5  negative -0.3400  \n",
       "6  positive  0.4404  \n",
       "7   neutral -0.0093  \n",
       "8  negative -0.1280  \n",
       "9  positive  0.6705  "
      ]
     },
     "execution_count": 54,
     "metadata": {},
     "output_type": "execute_result"
    }
   ],
   "source": [
    "sa_impact_text.head(10)"
   ]
  },
  {
   "cell_type": "code",
   "execution_count": 30,
   "metadata": {},
   "outputs": [
    {
     "data": {
      "text/plain": [
       "positive    1346\n",
       "neutral      579\n",
       "negative     448\n",
       "Name: sentiment, dtype: int64"
      ]
     },
     "execution_count": 30,
     "metadata": {},
     "output_type": "execute_result"
    }
   ],
   "source": [
    "dist_sentiments = sa_impact_text['sentiment'].value_counts()\n",
    "dist_sentiments"
   ]
  },
  {
   "cell_type": "code",
   "execution_count": 31,
   "metadata": {},
   "outputs": [
    {
     "data": {
      "image/png": "[encoded data removed]",
      "text/plain": [
       "<Figure size 432x288 with 1 Axes>"
      ]
     },
     "metadata": {
      "needs_background": "light"
     },
     "output_type": "display_data"
    }
   ],
   "source": [
    "plt.bar(dist_sentiments.index, dist_sentiments, color=['green', 'red', 'gray'])\n",
    "plt.title('Sentiment of sentences')\n",
    "plt.show()"
   ]
  },
  {
   "cell_type": "markdown",
   "metadata": {},
   "source": [
    "### Sanity check"
   ]
  },
  {
   "cell_type": "markdown",
   "metadata": {},
   "source": [
    "The plan now is to manually random sample of the positive sentences to check whether they contain evidence of social impact. However, before we have to make sure that neutral and negative sentences (false negatives) are correct. So, let's manually inspect a random sample of sentences in the neutral and negative group. We will discard the option of using sentiment analysis to automatically identifies sentences with evidence of social impact if we find more 5% of error in either group, neutral or negative."
   ]
  },
  {
   "cell_type": "code",
   "execution_count": 39,
   "metadata": {},
   "outputs": [],
   "source": [
    "# avoid pandas to truncate string columns\n",
    "pd.set_option('display.max_colwidth', None)"
   ]
  },
  {
   "cell_type": "code",
   "execution_count": 53,
   "metadata": {},
   "outputs": [],
   "source": [
    "sample_size = 20"
   ]
  },
  {
   "cell_type": "code",
   "execution_count": 43,
   "metadata": {},
   "outputs": [
    {
     "data": {
      "text/plain": [
       "(50, 4)"
      ]
     },
     "execution_count": 43,
     "metadata": {},
     "output_type": "execute_result"
    }
   ],
   "source": [
    "sample_negative = sa_impact_text[sa_impact_text['sentiment']=='negative'].sample(n=sample_size, random_state=1)\n",
    "sample_negative.shape"
   ]
  },
  {
   "cell_type": "code",
   "execution_count": 44,
   "metadata": {},
   "outputs": [
    {
     "data": {
      "text/html": [
       "<div>\n",
       "<style scoped>\n",
       "    .dataframe tbody tr th:only-of-type {\n",
       "        vertical-align: middle;\n",
       "    }\n",
       "\n",
       "    .dataframe tbody tr th {\n",
       "        vertical-align: top;\n",
       "    }\n",
       "\n",
       "    .dataframe thead th {\n",
       "        text-align: right;\n",
       "    }\n",
       "</style>\n",
       "<table border=\"1\" class=\"dataframe\">\n",
       "  <thead>\n",
       "    <tr style=\"text-align: right;\">\n",
       "      <th></th>\n",
       "      <th>title</th>\n",
       "      <th>sentence</th>\n",
       "      <th>sentiment</th>\n",
       "      <th>score</th>\n",
       "    </tr>\n",
       "  </thead>\n",
       "  <tbody>\n",
       "    <tr>\n",
       "      <th>1026</th>\n",
       "      <td>informing rights based challenges to mainstream policy responses to   human trafficking</td>\n",
       "      <td>o connell davidson s pioneering research delivered the first systematic  study of the demand for prostitution and domestic work and contested  mainstream policy responses to human trafficking childhood and migration</td>\n",
       "      <td>negative</td>\n",
       "      <td>-0.1280</td>\n",
       "    </tr>\n",
       "    <tr>\n",
       "      <th>1497</th>\n",
       "      <td>reshaping resilience practices a co production approach</td>\n",
       "      <td>collaborative research with practitioners parents and young people has  led to the development of resilient therapy rt a new approach to  building resilience in disadvantaged families</td>\n",
       "      <td>negative</td>\n",
       "      <td>-0.4019</td>\n",
       "    </tr>\n",
       "    <tr>\n",
       "      <th>1002</th>\n",
       "      <td>the big picture show depictions of truce at the imperial war museum</td>\n",
       "      <td>second a big picture   show bps  part of the rolling programme at the imperial war museum  north iwmn</td>\n",
       "      <td>negative</td>\n",
       "      <td>-0.5994</td>\n",
       "    </tr>\n",
       "    <tr>\n",
       "      <th>183</th>\n",
       "      <td>how the development and application of techniques for assessing the   payback or impact from health research informs policies to support   health research</td>\n",
       "      <td>second  many stakeholders made extensive use the findings of payback studies in  public debate and private lobbying for public expenditure on health  research</td>\n",
       "      <td>negative</td>\n",
       "      <td>-0.0772</td>\n",
       "    </tr>\n",
       "    <tr>\n",
       "      <th>1262</th>\n",
       "      <td>bullying cyberbullying and e safety in children and young people the  impact of research by the unit for child and youth studies york st john  university</td>\n",
       "      <td>research has shown that being a victim of bullying can have serious  and long term  negative effects on psychological well being hawker amp boulton 2000</td>\n",
       "      <td>negative</td>\n",
       "      <td>-0.8360</td>\n",
       "    </tr>\n",
       "  </tbody>\n",
       "</table>\n",
       "</div>"
      ],
      "text/plain": [
       "                                                                                                                                                           title  \\\n",
       "1026                                                                     informing rights based challenges to mainstream policy responses to   human trafficking   \n",
       "1497                                                                                                     reshaping resilience practices a co production approach   \n",
       "1002                                                                                         the big picture show depictions of truce at the imperial war museum   \n",
       "183   how the development and application of techniques for assessing the   payback or impact from health research informs policies to support   health research   \n",
       "1262   bullying cyberbullying and e safety in children and young people the  impact of research by the unit for child and youth studies york st john  university   \n",
       "\n",
       "                                                                                                                                                                                                                     sentence  \\\n",
       "1026  o connell davidson s pioneering research delivered the first systematic  study of the demand for prostitution and domestic work and contested  mainstream policy responses to human trafficking childhood and migration   \n",
       "1497                                  collaborative research with practitioners parents and young people has  led to the development of resilient therapy rt a new approach to  building resilience in disadvantaged families   \n",
       "1002                                                                                                                    second a big picture   show bps  part of the rolling programme at the imperial war museum  north iwmn   \n",
       "183                                                            second  many stakeholders made extensive use the findings of payback studies in  public debate and private lobbying for public expenditure on health  research   \n",
       "1262                                                                 research has shown that being a victim of bullying can have serious  and long term  negative effects on psychological well being hawker amp boulton 2000   \n",
       "\n",
       "     sentiment   score  \n",
       "1026  negative -0.1280  \n",
       "1497  negative -0.4019  \n",
       "1002  negative -0.5994  \n",
       "183   negative -0.0772  \n",
       "1262  negative -0.8360  "
      ]
     },
     "execution_count": 44,
     "metadata": {},
     "output_type": "execute_result"
    }
   ],
   "source": [
    "sample_negative.head()"
   ]
  },
  {
   "cell_type": "code",
   "execution_count": 49,
   "metadata": {},
   "outputs": [],
   "source": [
    "sample_negative.to_csv('data/sa_evaluation/sample_negative_sentences.csv')"
   ]
  },
  {
   "cell_type": "markdown",
   "metadata": {},
   "source": [
    "Sentences in the negative sample were imported in [here](https://docs.google.com/spreadsheets/d/1UFmlKuCEoOB8toKuQUCTWBBL6ZO2RhhLJloomJtaqvY/edit#gid=0). After a manual inspection of the sentences, we found that the sentiment analysis could correctly derive the sentiment of only 12% of the sentences. So, it produced an **error of 0.88**. It seems that the negative term (e.g., disadvantages, abuse, human trafficking, victim, bullying) used to express social situations that has changed because of the research, undermined the correct classification of sentences."
   ]
  },
  {
   "cell_type": "code",
   "execution_count": 38,
   "metadata": {},
   "outputs": [
    {
     "data": {
      "text/plain": [
       "(20, 4)"
      ]
     },
     "execution_count": 38,
     "metadata": {},
     "output_type": "execute_result"
    }
   ],
   "source": [
    "sample_neutral = sa_impact_text[sa_impact_text['sentiment']=='neutral'].sample(n=sample_size, random_state=1)\n",
    "sample_neutral.shape"
   ]
  },
  {
   "cell_type": "code",
   "execution_count": 46,
   "metadata": {},
   "outputs": [
    {
     "data": {
      "text/html": [
       "<div>\n",
       "<style scoped>\n",
       "    .dataframe tbody tr th:only-of-type {\n",
       "        vertical-align: middle;\n",
       "    }\n",
       "\n",
       "    .dataframe tbody tr th {\n",
       "        vertical-align: top;\n",
       "    }\n",
       "\n",
       "    .dataframe thead th {\n",
       "        text-align: right;\n",
       "    }\n",
       "</style>\n",
       "<table border=\"1\" class=\"dataframe\">\n",
       "  <thead>\n",
       "    <tr style=\"text-align: right;\">\n",
       "      <th></th>\n",
       "      <th>title</th>\n",
       "      <th>sentence</th>\n",
       "      <th>sentiment</th>\n",
       "      <th>score</th>\n",
       "    </tr>\n",
       "  </thead>\n",
       "  <tbody>\n",
       "    <tr>\n",
       "      <th>887</th>\n",
       "      <td>empowering french front line hospital nursing managers to deal   positively with the pressures of modernisation</td>\n",
       "      <td>vaughan rogers work with ca</td>\n",
       "      <td>neutral</td>\n",
       "      <td>0.0</td>\n",
       "    </tr>\n",
       "    <tr>\n",
       "      <th>1767</th>\n",
       "      <td>building a safer surgical workforce driving innovation in simulation  training amp educational research</td>\n",
       "      <td>this body of  multidisciplinary research brings together imperial s contributions in  simulation science skills assessment performance shaping factors  educational theory and surgical practice to contribute to national and  international healthcare education and policy</td>\n",
       "      <td>neutral</td>\n",
       "      <td>0.0</td>\n",
       "    </tr>\n",
       "    <tr>\n",
       "      <th>1515</th>\n",
       "      <td>redesigning tourism policy and practices in africa</td>\n",
       "      <td>in the gambia the research led to the  ministry of tourism and culture developing service standards and  establishing the  8364 2 7m gambia tourism and hospitability institute</td>\n",
       "      <td>neutral</td>\n",
       "      <td>0.0</td>\n",
       "    </tr>\n",
       "    <tr>\n",
       "      <th>1744</th>\n",
       "      <td>human rights and older people</td>\n",
       "      <td>this case study involves the research of professor john williams on the  law and older people and its impact on health and welfare practitioners  and public policy law and services within the uk and his contribution to  an international debate on the need for a un convention on the rights of  older people</td>\n",
       "      <td>neutral</td>\n",
       "      <td>0.0</td>\n",
       "    </tr>\n",
       "    <tr>\n",
       "      <th>2003</th>\n",
       "      <td>emerging biomedical technologies shaping practices and influencing   policy</td>\n",
       "      <td>professor andrew webster s sociological research on developments in  biomedical science has been impactful in shaping regulatory practice and  influencing policy in relation to biobanking stem cell research and  regenerative medicine</td>\n",
       "      <td>neutral</td>\n",
       "      <td>0.0</td>\n",
       "    </tr>\n",
       "  </tbody>\n",
       "</table>\n",
       "</div>"
      ],
      "text/plain": [
       "                                                                                                                title  \\\n",
       "887   empowering french front line hospital nursing managers to deal   positively with the pressures of modernisation   \n",
       "1767          building a safer surgical workforce driving innovation in simulation  training amp educational research   \n",
       "1515                                                               redesigning tourism policy and practices in africa   \n",
       "1744                                                                                    human rights and older people   \n",
       "2003                                      emerging biomedical technologies shaping practices and influencing   policy   \n",
       "\n",
       "                                                                                                                                                                                                                                                                                                                sentence  \\\n",
       "887                                                                                                                                                                                                                                                                                          vaughan rogers work with ca   \n",
       "1767                                       this body of  multidisciplinary research brings together imperial s contributions in  simulation science skills assessment performance shaping factors  educational theory and surgical practice to contribute to national and  international healthcare education and policy   \n",
       "1515                                                                                                                                     in the gambia the research led to the  ministry of tourism and culture developing service standards and  establishing the  8364 2 7m gambia tourism and hospitability institute   \n",
       "1744  this case study involves the research of professor john williams on the  law and older people and its impact on health and welfare practitioners  and public policy law and services within the uk and his contribution to  an international debate on the need for a un convention on the rights of  older people   \n",
       "2003                                                                           professor andrew webster s sociological research on developments in  biomedical science has been impactful in shaping regulatory practice and  influencing policy in relation to biobanking stem cell research and  regenerative medicine   \n",
       "\n",
       "     sentiment  score  \n",
       "887    neutral    0.0  \n",
       "1767   neutral    0.0  \n",
       "1515   neutral    0.0  \n",
       "1744   neutral    0.0  \n",
       "2003   neutral    0.0  "
      ]
     },
     "execution_count": 46,
     "metadata": {},
     "output_type": "execute_result"
    }
   ],
   "source": [
    "sample_neutral.head()"
   ]
  },
  {
   "cell_type": "code",
   "execution_count": 51,
   "metadata": {},
   "outputs": [],
   "source": [
    "sample_neutral.to_csv('data/sa_evaluation/sample_neutral_sentences.csv')"
   ]
  },
  {
   "cell_type": "markdown",
   "metadata": {},
   "source": [
    "Sentences in the negative sample were imported in [here](https://docs.google.com/spreadsheets/d/1UFmlKuCEoOB8toKuQUCTWBBL6ZO2RhhLJloomJtaqvY/edit#gid=1799513637). After a manual inspection of the sentences, we found that the sentiment analysis could correctly derive the sentiment of 45% of the sentences. So, it produced an **error of 0.55**."
   ]
  },
  {
   "cell_type": "markdown",
   "metadata": {},
   "source": [
    "Due to the high-errors, we discarded the idea of using sentiment analysis to automoatically identify sentences with evidence of social impact."
   ]
  },
  {
   "cell_type": "markdown",
   "metadata": {},
   "source": [
    "---\n",
    "## K-means"
   ]
  },
  {
   "cell_type": "markdown",
   "metadata": {},
   "source": [
    "K-means will be used to see whether applying this clustering algorithm can help to distinguish sentences with evidence of impact from sentences without evidence of social impact. The code in this section is an adaptation of the document clustering tutorial presented in the blog post [Document Clustering with Python](http://brandonrose.org/clustering_mobile)."
   ]
  },
  {
   "cell_type": "code",
   "execution_count": 69,
   "metadata": {},
   "outputs": [],
   "source": [
    "# Import the required libraries\n",
    "from sklearn.feature_extraction.text import TfidfVectorizer, CountVectorizer\n",
    "from sklearn.cluster import KMeans\n",
    "from sklearn.metrics.pairwise import cosine_similarity\n",
    "from nltk.stem.snowball import SnowballStemmer\n",
    "\n",
    "import joblib\n",
    "import nltk"
   ]
  },
  {
   "cell_type": "code",
   "execution_count": 204,
   "metadata": {},
   "outputs": [],
   "source": [
    "stopwords = nltk.corpus.stopwords.words('english')\n",
    "stopwords.extend(['research', 'uk'])\n",
    "stemmer = SnowballStemmer(\"english\")"
   ]
  },
  {
   "cell_type": "code",
   "execution_count": 205,
   "metadata": {},
   "outputs": [],
   "source": [
    "def tokenize_sentence(sentence, do_stemming=True):\n",
    "    # tokenize sentence by words\n",
    "    tokens = word_tokenize(sentence)\n",
    "    filtered_tokens = []\n",
    "    # filter out any tokens not containing numbers and letters\n",
    "    for token in tokens:\n",
    "        if re.search('[a-zA-Z0-9]', token) and token not in stopwords:\n",
    "            filtered_tokens.append(token)\n",
    "    if do_stemming:\n",
    "        stems = [stemmer.stem(t) for t in filtered_tokens]\n",
    "        return stems\n",
    "    else:\n",
    "        return filtered_tokens"
   ]
  },
  {
   "cell_type": "code",
   "execution_count": 206,
   "metadata": {},
   "outputs": [],
   "source": [
    "vocabulary_stemmed = []\n",
    "vocabulary = []\n",
    "for sentence in list(clean_data['impact_sentence']):\n",
    "    vocabulary_stemmed.extend(tokenize_sentence(sentence))\n",
    "    vocabulary.extend(tokenize_sentence(sentence, do_stemming=False))"
   ]
  },
  {
   "cell_type": "code",
   "execution_count": 207,
   "metadata": {},
   "outputs": [
    {
     "name": "stdout",
     "output_type": "stream",
     "text": [
      "There are 41812 items in vocabulary\n"
     ]
    }
   ],
   "source": [
    "vocabulary_df = pd.DataFrame({'words': vocabulary}, index = vocabulary_stemmed)\n",
    "print('There are ' + str(vocabulary_df.shape[0]) + ' items in vocabulary')"
   ]
  },
  {
   "cell_type": "code",
   "execution_count": 208,
   "metadata": {},
   "outputs": [
    {
     "data": {
      "text/html": [
       "<div>\n",
       "<style scoped>\n",
       "    .dataframe tbody tr th:only-of-type {\n",
       "        vertical-align: middle;\n",
       "    }\n",
       "\n",
       "    .dataframe tbody tr th {\n",
       "        vertical-align: top;\n",
       "    }\n",
       "\n",
       "    .dataframe thead th {\n",
       "        text-align: right;\n",
       "    }\n",
       "</style>\n",
       "<table border=\"1\" class=\"dataframe\">\n",
       "  <thead>\n",
       "    <tr style=\"text-align: right;\">\n",
       "      <th></th>\n",
       "      <th>words</th>\n",
       "    </tr>\n",
       "  </thead>\n",
       "  <tbody>\n",
       "    <tr>\n",
       "      <th>guid</th>\n",
       "      <td>guide</td>\n",
       "    </tr>\n",
       "    <tr>\n",
       "      <th>receptor</th>\n",
       "      <td>receptors</td>\n",
       "    </tr>\n",
       "    <tr>\n",
       "      <th>channel</th>\n",
       "      <td>channels</td>\n",
       "    </tr>\n",
       "    <tr>\n",
       "      <th>contribut</th>\n",
       "      <td>contributed</td>\n",
       "    </tr>\n",
       "    <tr>\n",
       "      <th>develop</th>\n",
       "      <td>development</td>\n",
       "    </tr>\n",
       "  </tbody>\n",
       "</table>\n",
       "</div>"
      ],
      "text/plain": [
       "                 words\n",
       "guid             guide\n",
       "receptor     receptors\n",
       "channel       channels\n",
       "contribut  contributed\n",
       "develop    development"
      ]
     },
     "execution_count": 208,
     "metadata": {},
     "output_type": "execute_result"
    }
   ],
   "source": [
    "vocabulary_df.head()"
   ]
  },
  {
   "cell_type": "code",
   "execution_count": 209,
   "metadata": {},
   "outputs": [],
   "source": [
    "#define vectorizer\n",
    "tfidf_vectorizer = TfidfVectorizer(max_df=0.7, max_features=500,\n",
    "                                   min_df=0.03, use_idf=True, tokenizer=tokenize_sentence, \n",
    "                                   ngram_range=(1,3))\n",
    "#fit the vectorizer to sentences\n",
    "tfidf_matrix = tfidf_vectorizer.fit_transform(list(clean_data['impact_sentence']))"
   ]
  },
  {
   "cell_type": "code",
   "execution_count": 210,
   "metadata": {},
   "outputs": [
    {
     "data": {
      "text/html": [
       "<div>\n",
       "<style scoped>\n",
       "    .dataframe tbody tr th:only-of-type {\n",
       "        vertical-align: middle;\n",
       "    }\n",
       "\n",
       "    .dataframe tbody tr th {\n",
       "        vertical-align: top;\n",
       "    }\n",
       "\n",
       "    .dataframe thead th {\n",
       "        text-align: right;\n",
       "    }\n",
       "</style>\n",
       "<table border=\"1\" class=\"dataframe\">\n",
       "  <thead>\n",
       "    <tr style=\"text-align: right;\">\n",
       "      <th></th>\n",
       "      <th>across</th>\n",
       "      <th>activ</th>\n",
       "      <th>also</th>\n",
       "      <th>approach</th>\n",
       "      <th>awar</th>\n",
       "      <th>base</th>\n",
       "      <th>benefit</th>\n",
       "      <th>bodi</th>\n",
       "      <th>care</th>\n",
       "      <th>case</th>\n",
       "      <th>...</th>\n",
       "      <th>understand</th>\n",
       "      <th>univers</th>\n",
       "      <th>use</th>\n",
       "      <th>well</th>\n",
       "      <th>wide</th>\n",
       "      <th>within</th>\n",
       "      <th>work</th>\n",
       "      <th>world</th>\n",
       "      <th>young</th>\n",
       "      <th>young peopl</th>\n",
       "    </tr>\n",
       "  </thead>\n",
       "  <tbody>\n",
       "    <tr>\n",
       "      <th>0</th>\n",
       "      <td>0.000000</td>\n",
       "      <td>0.0</td>\n",
       "      <td>0.0</td>\n",
       "      <td>0.0</td>\n",
       "      <td>0.0</td>\n",
       "      <td>0.0</td>\n",
       "      <td>0.0</td>\n",
       "      <td>0.0</td>\n",
       "      <td>0.0</td>\n",
       "      <td>0.0</td>\n",
       "      <td>...</td>\n",
       "      <td>0.0</td>\n",
       "      <td>0.0</td>\n",
       "      <td>0.000000</td>\n",
       "      <td>0.0</td>\n",
       "      <td>0.000000</td>\n",
       "      <td>0.0</td>\n",
       "      <td>0.0</td>\n",
       "      <td>0.0</td>\n",
       "      <td>0.0</td>\n",
       "      <td>0.0</td>\n",
       "    </tr>\n",
       "    <tr>\n",
       "      <th>1</th>\n",
       "      <td>0.000000</td>\n",
       "      <td>0.0</td>\n",
       "      <td>0.0</td>\n",
       "      <td>0.0</td>\n",
       "      <td>0.0</td>\n",
       "      <td>0.0</td>\n",
       "      <td>0.0</td>\n",
       "      <td>0.0</td>\n",
       "      <td>0.0</td>\n",
       "      <td>0.0</td>\n",
       "      <td>...</td>\n",
       "      <td>0.0</td>\n",
       "      <td>0.0</td>\n",
       "      <td>0.000000</td>\n",
       "      <td>0.0</td>\n",
       "      <td>0.000000</td>\n",
       "      <td>0.0</td>\n",
       "      <td>0.0</td>\n",
       "      <td>0.0</td>\n",
       "      <td>0.0</td>\n",
       "      <td>0.0</td>\n",
       "    </tr>\n",
       "    <tr>\n",
       "      <th>2</th>\n",
       "      <td>0.000000</td>\n",
       "      <td>0.0</td>\n",
       "      <td>0.0</td>\n",
       "      <td>0.0</td>\n",
       "      <td>0.0</td>\n",
       "      <td>0.0</td>\n",
       "      <td>0.0</td>\n",
       "      <td>0.0</td>\n",
       "      <td>0.0</td>\n",
       "      <td>0.0</td>\n",
       "      <td>...</td>\n",
       "      <td>0.0</td>\n",
       "      <td>0.0</td>\n",
       "      <td>0.391007</td>\n",
       "      <td>0.0</td>\n",
       "      <td>0.548067</td>\n",
       "      <td>0.0</td>\n",
       "      <td>0.0</td>\n",
       "      <td>0.0</td>\n",
       "      <td>0.0</td>\n",
       "      <td>0.0</td>\n",
       "    </tr>\n",
       "    <tr>\n",
       "      <th>3</th>\n",
       "      <td>0.000000</td>\n",
       "      <td>0.0</td>\n",
       "      <td>0.0</td>\n",
       "      <td>0.0</td>\n",
       "      <td>0.0</td>\n",
       "      <td>0.0</td>\n",
       "      <td>0.0</td>\n",
       "      <td>0.0</td>\n",
       "      <td>0.0</td>\n",
       "      <td>0.0</td>\n",
       "      <td>...</td>\n",
       "      <td>0.0</td>\n",
       "      <td>0.0</td>\n",
       "      <td>0.000000</td>\n",
       "      <td>0.0</td>\n",
       "      <td>0.000000</td>\n",
       "      <td>0.0</td>\n",
       "      <td>0.0</td>\n",
       "      <td>0.0</td>\n",
       "      <td>0.0</td>\n",
       "      <td>0.0</td>\n",
       "    </tr>\n",
       "    <tr>\n",
       "      <th>4</th>\n",
       "      <td>0.617766</td>\n",
       "      <td>0.0</td>\n",
       "      <td>0.0</td>\n",
       "      <td>0.0</td>\n",
       "      <td>0.0</td>\n",
       "      <td>0.0</td>\n",
       "      <td>0.0</td>\n",
       "      <td>0.0</td>\n",
       "      <td>0.0</td>\n",
       "      <td>0.0</td>\n",
       "      <td>...</td>\n",
       "      <td>0.0</td>\n",
       "      <td>0.0</td>\n",
       "      <td>0.000000</td>\n",
       "      <td>0.0</td>\n",
       "      <td>0.000000</td>\n",
       "      <td>0.0</td>\n",
       "      <td>0.0</td>\n",
       "      <td>0.0</td>\n",
       "      <td>0.0</td>\n",
       "      <td>0.0</td>\n",
       "    </tr>\n",
       "  </tbody>\n",
       "</table>\n",
       "<p>5 rows × 91 columns</p>\n",
       "</div>"
      ],
      "text/plain": [
       "     across  activ  also  approach  awar  base  benefit  bodi  care  case  \\\n",
       "0  0.000000    0.0   0.0       0.0   0.0   0.0      0.0   0.0   0.0   0.0   \n",
       "1  0.000000    0.0   0.0       0.0   0.0   0.0      0.0   0.0   0.0   0.0   \n",
       "2  0.000000    0.0   0.0       0.0   0.0   0.0      0.0   0.0   0.0   0.0   \n",
       "3  0.000000    0.0   0.0       0.0   0.0   0.0      0.0   0.0   0.0   0.0   \n",
       "4  0.617766    0.0   0.0       0.0   0.0   0.0      0.0   0.0   0.0   0.0   \n",
       "\n",
       "   ...  understand  univers       use  well      wide  within  work  world  \\\n",
       "0  ...         0.0      0.0  0.000000   0.0  0.000000     0.0   0.0    0.0   \n",
       "1  ...         0.0      0.0  0.000000   0.0  0.000000     0.0   0.0    0.0   \n",
       "2  ...         0.0      0.0  0.391007   0.0  0.548067     0.0   0.0    0.0   \n",
       "3  ...         0.0      0.0  0.000000   0.0  0.000000     0.0   0.0    0.0   \n",
       "4  ...         0.0      0.0  0.000000   0.0  0.000000     0.0   0.0    0.0   \n",
       "\n",
       "   young  young peopl  \n",
       "0    0.0          0.0  \n",
       "1    0.0          0.0  \n",
       "2    0.0          0.0  \n",
       "3    0.0          0.0  \n",
       "4    0.0          0.0  \n",
       "\n",
       "[5 rows x 91 columns]"
      ]
     },
     "execution_count": 210,
     "metadata": {},
     "output_type": "execute_result"
    }
   ],
   "source": [
    "pd.DataFrame(tfidf_matrix.toarray(), columns=tfidf_vectorizer.get_feature_names()).head()"
   ]
  },
  {
   "cell_type": "code",
   "execution_count": 211,
   "metadata": {},
   "outputs": [
    {
     "name": "stdout",
     "output_type": "stream",
     "text": [
      "['across', 'activ', 'also', 'approach', 'awar', 'base', 'benefit', 'bodi', 'care', 'case', 'case studi', 'centr', 'chang', 'child', 'children', 'communiti', 'contribut', 'countri', 'debat', 'demonstr', 'design', 'develop', 'direct', 'educ', 'effect', 'engag', 'enhanc', 'evalu', 'evid', 'famili', 'find', 'first', 'focus', 'govern', 'group', 'guidelin', 'health', 'help', 'impact', 'improv', 'includ', 'increas', 'influenc', 'inform', 'intern', 'intervent', 'issu', 'key', 'lead', 'led', 'level', 'local', 'major', 'manag', 'media', 'nation', 'need', 'new', 'organis', 'patient', 'peopl', 'perform', 'polici', 'practic', 'practition', 'profession', 'professor', 'programm', 'project', 'provid', 'public', 'relat', 'result', 'school', 'servic', 'signific', 'social', 'sport', 'studi', 'support', 'train', 'understand', 'univers', 'use', 'well', 'wide', 'within', 'work', 'world', 'young', 'young peopl']\n"
     ]
    }
   ],
   "source": [
    "terms = tfidf_vectorizer.get_feature_names()\n",
    "print(terms)"
   ]
  },
  {
   "cell_type": "code",
   "execution_count": 266,
   "metadata": {},
   "outputs": [],
   "source": [
    "num_clusters = 3 # tried different values from 2 to 6 and 3 seems to be best option\n",
    "km_model = KMeans(n_clusters=num_clusters)\n",
    "km_model.fit(tfidf_matrix)\n",
    "clusters = km_model.labels_.tolist()"
   ]
  },
  {
   "cell_type": "code",
   "execution_count": 267,
   "metadata": {},
   "outputs": [],
   "source": [
    "sentences = {'sentence': list(clean_data['impact_sentence']), 'cluster': clusters}\n",
    "clusters_df = pd.DataFrame(sentences, index = [clusters] , columns = ['sentence'])"
   ]
  },
  {
   "cell_type": "code",
   "execution_count": 268,
   "metadata": {},
   "outputs": [
    {
     "data": {
      "text/html": [
       "<div>\n",
       "<style scoped>\n",
       "    .dataframe tbody tr th:only-of-type {\n",
       "        vertical-align: middle;\n",
       "    }\n",
       "\n",
       "    .dataframe tbody tr th {\n",
       "        vertical-align: top;\n",
       "    }\n",
       "\n",
       "    .dataframe thead th {\n",
       "        text-align: right;\n",
       "    }\n",
       "</style>\n",
       "<table border=\"1\" class=\"dataframe\">\n",
       "  <thead>\n",
       "    <tr style=\"text-align: right;\">\n",
       "      <th></th>\n",
       "      <th>sentence</th>\n",
       "    </tr>\n",
       "  </thead>\n",
       "  <tbody>\n",
       "    <tr>\n",
       "      <th>0</th>\n",
       "      <td>the guide to receptors and channels has contributed to the  development and maintenance of the intellectual infrastructure of  pharmacology</td>\n",
       "    </tr>\n",
       "    <tr>\n",
       "      <th>0</th>\n",
       "      <td>the key tools it provides have influenced appropriate  identification of lead drug targets and how best to study them and as a  result it has received endorsement and financial support from the  pharmaceutical industry</td>\n",
       "    </tr>\n",
       "    <tr>\n",
       "      <th>0</th>\n",
       "      <td>it is used widely as a teaching aid for  undergraduates and research postgraduates and provides the general public  with accurate information on prescription drug action</td>\n",
       "    </tr>\n",
       "    <tr>\n",
       "      <th>2</th>\n",
       "      <td>it led to the  formation of the guide to pharmacology website in collaboration with the  international union of basic and clinical pharmacology</td>\n",
       "    </tr>\n",
       "    <tr>\n",
       "      <th>0</th>\n",
       "      <td>the cardiff osteological research group corg has researched the complex relationship between animals and people across britain europe and beyond</td>\n",
       "    </tr>\n",
       "  </tbody>\n",
       "</table>\n",
       "</div>"
      ],
      "text/plain": [
       "                                                                                                                                                                                                                     sentence\n",
       "0                                                                                 the guide to receptors and channels has contributed to the  development and maintenance of the intellectual infrastructure of  pharmacology\n",
       "0  the key tools it provides have influenced appropriate  identification of lead drug targets and how best to study them and as a  result it has received endorsement and financial support from the  pharmaceutical industry\n",
       "0                                                   it is used widely as a teaching aid for  undergraduates and research postgraduates and provides the general public  with accurate information on prescription drug action\n",
       "2                                                                             it led to the  formation of the guide to pharmacology website in collaboration with the  international union of basic and clinical pharmacology\n",
       "0                                                                            the cardiff osteological research group corg has researched the complex relationship between animals and people across britain europe and beyond"
      ]
     },
     "execution_count": 268,
     "metadata": {},
     "output_type": "execute_result"
    }
   ],
   "source": [
    "clusters_df.head()"
   ]
  },
  {
   "cell_type": "code",
   "execution_count": 269,
   "metadata": {},
   "outputs": [
    {
     "name": "stdout",
     "output_type": "stream",
     "text": [
      "Top terms per cluster:\n",
      "\n",
      "Cluster 0 words: development, impact, used, public, work, people,\n",
      "\n",
      "Cluster 1 words: health, care, public, social, services, impact,\n",
      "\n",
      "Cluster 2 words: policy, international, national, governments, practical, changed,\n",
      "\n"
     ]
    }
   ],
   "source": [
    "print(\"Top terms per cluster:\")\n",
    "print()\n",
    "#sort cluster centers by proximity to centroid\n",
    "order_centroids = km_model.cluster_centers_.argsort()[:, ::-1] \n",
    "words_per_cluster = 6\n",
    "for i in range(num_clusters):\n",
    "    print(\"Cluster %d words:\" % i, end='')    \n",
    "    for ind in order_centroids[i, :words_per_cluster]:\n",
    "        print(' %s' % vocabulary_df.loc[terms[ind].split(' ')].values.tolist()[0][0], end=',')\n",
    "    print() #add whitespace\n",
    "    print() #add whitespace"
   ]
  },
  {
   "cell_type": "code",
   "execution_count": 270,
   "metadata": {},
   "outputs": [
    {
     "name": "stdout",
     "output_type": "stream",
     "text": [
      "Number of sentences in Cluster 0: 1582\n",
      "\n",
      "Number of sentences in Cluster 1: 286\n",
      "\n",
      "Number of sentences in Cluster 2: 505\n",
      "\n"
     ]
    }
   ],
   "source": [
    "for i in range(0, num_clusters):\n",
    "    print('Number of sentences in Cluster {0}: {1}'.format(i, len(clusters_df.loc[i])))\n",
    "    print()"
   ]
  },
  {
   "cell_type": "markdown",
   "metadata": {},
   "source": [
    "### Sanity check"
   ]
  },
  {
   "cell_type": "markdown",
   "metadata": {},
   "source": [
    "Let's check some examples of sentences in each group to see whether there is a group that contains only sentence with (or without) evidence of social impact."
   ]
  },
  {
   "cell_type": "code",
   "execution_count": 216,
   "metadata": {},
   "outputs": [],
   "source": [
    "sample_size=20"
   ]
  },
  {
   "cell_type": "markdown",
   "metadata": {},
   "source": [
    "#### Cluster 0"
   ]
  },
  {
   "cell_type": "code",
   "execution_count": 271,
   "metadata": {},
   "outputs": [
    {
     "data": {
      "text/html": [
       "<div>\n",
       "<style scoped>\n",
       "    .dataframe tbody tr th:only-of-type {\n",
       "        vertical-align: middle;\n",
       "    }\n",
       "\n",
       "    .dataframe tbody tr th {\n",
       "        vertical-align: top;\n",
       "    }\n",
       "\n",
       "    .dataframe thead th {\n",
       "        text-align: right;\n",
       "    }\n",
       "</style>\n",
       "<table border=\"1\" class=\"dataframe\">\n",
       "  <thead>\n",
       "    <tr style=\"text-align: right;\">\n",
       "      <th></th>\n",
       "      <th>sentence</th>\n",
       "    </tr>\n",
       "  </thead>\n",
       "  <tbody>\n",
       "    <tr>\n",
       "      <th>0</th>\n",
       "      <td>we have also trained over 1300 professionals to deliver mbct  within the nhs and other contexts leading to several successful spin off  businesses</td>\n",
       "    </tr>\n",
       "    <tr>\n",
       "      <th>0</th>\n",
       "      <td>key beneficiaries have been community  organisations whose skills have been enhanced to use research evidence in  identifying user requirements successfully securing funding and meeting  user needs</td>\n",
       "    </tr>\n",
       "    <tr>\n",
       "      <th>0</th>\n",
       "      <td>professor richard berthoud has addressed the  issues by exploring the interaction between disabled people s impairments  and employers expectations</td>\n",
       "    </tr>\n",
       "    <tr>\n",
       "      <th>0</th>\n",
       "      <td>this research has helped the equality and  human rights commission ehrc to fulfil its statutory role to promote  equality and human rights</td>\n",
       "    </tr>\n",
       "    <tr>\n",
       "      <th>0</th>\n",
       "      <td>these impacts have reached far  beyond the uk extending  to ireland central and eastern europe australia and elsewhere</td>\n",
       "    </tr>\n",
       "    <tr>\n",
       "      <th>0</th>\n",
       "      <td>as a direct result of research conducted by professor bencie woll at the  deafness cognition and language research centre dcal  ucl the nhs has  established the first neuropsychology clinic for deaf patients who use  british sign language within the cognitive disorders clinic at the  national hospital for neurology and neurosurgery nhnn</td>\n",
       "    </tr>\n",
       "    <tr>\n",
       "      <th>0</th>\n",
       "      <td>findings  of the project led to the hlp concept being rolled out across england in  2012 to 20 pathfinder sites areas regions site sounds like an  individual pharmacy involving 100 pharmacies</td>\n",
       "    </tr>\n",
       "    <tr>\n",
       "      <th>0</th>\n",
       "      <td>jones has  engaged in theological and philosophical research in bioethics at st  mary s university college smuc since 2002</td>\n",
       "    </tr>\n",
       "    <tr>\n",
       "      <th>0</th>\n",
       "      <td>since the end of march 2006 smoking  has been prohibited by law in all enclosed public spaces throughout  scotland with the specific aim of protecting non smokers from the effects  of second hand smoke</td>\n",
       "    </tr>\n",
       "    <tr>\n",
       "      <th>0</th>\n",
       "      <td>using an innovative platform to target  the delivery of complex  biomedical science to young people the zombie science comedy show has  effectively engaged  more than 26 000 young people and adults at more than 300 events touring  festivals and  secondary schools around the uk</td>\n",
       "    </tr>\n",
       "    <tr>\n",
       "      <th>0</th>\n",
       "      <td>research conducted at ucl by professor orazio attanasio and his direct  engagement with policymakers has been instrumental in the implementation  design and evaluation of conditional cash transfer cct programmes to  stimulate the accumulation of human capital in mexico and colombia</td>\n",
       "    </tr>\n",
       "    <tr>\n",
       "      <th>0</th>\n",
       "      <td>frances gardner and her team in oxford have been studying antisocial  behaviour in children for  two decades</td>\n",
       "    </tr>\n",
       "    <tr>\n",
       "      <th>0</th>\n",
       "      <td>nind s research has shaped the  implementation of intensive interaction and provided practitioners in  eastern europe new zealand and australia with new data and concepts that  help to inform practice to enrich the lives of a vulnerable population</td>\n",
       "    </tr>\n",
       "    <tr>\n",
       "      <th>0</th>\n",
       "      <td>high intensity training impact can be evidenced on multiple levels  ranging from adding to the  public debate on exercise duration and providing information to the sports  industry</td>\n",
       "    </tr>\n",
       "    <tr>\n",
       "      <th>0</th>\n",
       "      <td>training programmes have  equipped therapists to deliver cft</td>\n",
       "    </tr>\n",
       "    <tr>\n",
       "      <th>0</th>\n",
       "      <td>this intervention programme has been adapted  into a workshop a self  help book a dvd and a clinical handbook</td>\n",
       "    </tr>\n",
       "    <tr>\n",
       "      <th>0</th>\n",
       "      <td>sheffield  researchers have been pioneers in translational dyslexia  8212 developing  theory and turning it into applied action</td>\n",
       "    </tr>\n",
       "    <tr>\n",
       "      <th>0</th>\n",
       "      <td>they are now recommended by the department  for education and are commercially available from down syndrome education  international and have influenced the procedures of the special  educational needs tribunal service</td>\n",
       "    </tr>\n",
       "    <tr>\n",
       "      <th>0</th>\n",
       "      <td>we have provided an evidence base of effective  intervention approaches across settings in hard to engage populations  and through distinctive planning and delivery approaches</td>\n",
       "    </tr>\n",
       "    <tr>\n",
       "      <th>0</th>\n",
       "      <td>it is now well established that early identification and intervention is  the most effective method of reducing these problems</td>\n",
       "    </tr>\n",
       "  </tbody>\n",
       "</table>\n",
       "</div>"
      ],
      "text/plain": [
       "                                                                                                                                                                                                                                                                                                                                             sentence\n",
       "0                                                                                                                                                                                                  we have also trained over 1300 professionals to deliver mbct  within the nhs and other contexts leading to several successful spin off  businesses\n",
       "0                                                                                                                                               key beneficiaries have been community  organisations whose skills have been enhanced to use research evidence in  identifying user requirements successfully securing funding and meeting  user needs\n",
       "0                                                                                                                                                                                                 professor richard berthoud has addressed the  issues by exploring the interaction between disabled people s impairments  and employers expectations\n",
       "0                                                                                                                                                                                                          this research has helped the equality and  human rights commission ehrc to fulfil its statutory role to promote  equality and human rights\n",
       "0                                                                                                                                                                                                                              these impacts have reached far  beyond the uk extending  to ireland central and eastern europe australia and elsewhere\n",
       "0  as a direct result of research conducted by professor bencie woll at the  deafness cognition and language research centre dcal  ucl the nhs has  established the first neuropsychology clinic for deaf patients who use  british sign language within the cognitive disorders clinic at the  national hospital for neurology and neurosurgery nhnn\n",
       "0                                                                                                                                                     findings  of the project led to the hlp concept being rolled out across england in  2012 to 20 pathfinder sites areas regions site sounds like an  individual pharmacy involving 100 pharmacies\n",
       "0                                                                                                                                                                                                                          jones has  engaged in theological and philosophical research in bioethics at st  mary s university college smuc since 2002\n",
       "0                                                                                                                                           since the end of march 2006 smoking  has been prohibited by law in all enclosed public spaces throughout  scotland with the specific aim of protecting non smokers from the effects  of second hand smoke\n",
       "0                                                               using an innovative platform to target  the delivery of complex  biomedical science to young people the zombie science comedy show has  effectively engaged  more than 26 000 young people and adults at more than 300 events touring  festivals and  secondary schools around the uk\n",
       "0                                                          research conducted at ucl by professor orazio attanasio and his direct  engagement with policymakers has been instrumental in the implementation  design and evaluation of conditional cash transfer cct programmes to  stimulate the accumulation of human capital in mexico and colombia\n",
       "0                                                                                                                                                                                                                                        frances gardner and her team in oxford have been studying antisocial  behaviour in children for  two decades\n",
       "0                                                                                             nind s research has shaped the  implementation of intensive interaction and provided practitioners in  eastern europe new zealand and australia with new data and concepts that  help to inform practice to enrich the lives of a vulnerable population\n",
       "0                                                                                                                                                                high intensity training impact can be evidenced on multiple levels  ranging from adding to the  public debate on exercise duration and providing information to the sports  industry\n",
       "0                                                                                                                                                                                                                                                                                        training programmes have  equipped therapists to deliver cft\n",
       "0                                                                                                                                                                                                                                       this intervention programme has been adapted  into a workshop a self  help book a dvd and a clinical handbook\n",
       "0                                                                                                                                                                                                                     sheffield  researchers have been pioneers in translational dyslexia  8212 developing  theory and turning it into applied action\n",
       "0                                                                                                                          they are now recommended by the department  for education and are commercially available from down syndrome education  international and have influenced the procedures of the special  educational needs tribunal service\n",
       "0                                                                                                                                                                     we have provided an evidence base of effective  intervention approaches across settings in hard to engage populations  and through distinctive planning and delivery approaches\n",
       "0                                                                                                                                                                                                                      it is now well established that early identification and intervention is  the most effective method of reducing these problems"
      ]
     },
     "execution_count": 271,
     "metadata": {},
     "output_type": "execute_result"
    }
   ],
   "source": [
    "sample_cluster0 = clusters_df.loc[0].sample(n=sample_size, random_state=1)\n",
    "sample_cluster0"
   ]
  },
  {
   "cell_type": "markdown",
   "metadata": {},
   "source": [
    "#### Cluster 1"
   ]
  },
  {
   "cell_type": "code",
   "execution_count": 272,
   "metadata": {},
   "outputs": [
    {
     "data": {
      "text/html": [
       "<div>\n",
       "<style scoped>\n",
       "    .dataframe tbody tr th:only-of-type {\n",
       "        vertical-align: middle;\n",
       "    }\n",
       "\n",
       "    .dataframe tbody tr th {\n",
       "        vertical-align: top;\n",
       "    }\n",
       "\n",
       "    .dataframe thead th {\n",
       "        text-align: right;\n",
       "    }\n",
       "</style>\n",
       "<table border=\"1\" class=\"dataframe\">\n",
       "  <thead>\n",
       "    <tr style=\"text-align: right;\">\n",
       "      <th></th>\n",
       "      <th>sentence</th>\n",
       "    </tr>\n",
       "  </thead>\n",
       "  <tbody>\n",
       "    <tr>\n",
       "      <th>1</th>\n",
       "      <td>the critical  success of his monograph decolonizing international health and  its positive reception among non academic specialists in the field led to  his involvement in dialogues with policymakers in international ngos and  invitations to contribute a historical perspective to discussions about  public health issues in the developing world</td>\n",
       "    </tr>\n",
       "    <tr>\n",
       "      <th>1</th>\n",
       "      <td>the state of the art electronic rostering  programme improves use of  resources reduces reliance on costly agency staff reduces the risk of  fines for breaching legal  requirements such as the european working time directive and leads to  significant savings in the  health and social care sectors</td>\n",
       "    </tr>\n",
       "    <tr>\n",
       "      <th>1</th>\n",
       "      <td>these  are based on oxford findings that revealed major effects of parental aids  on children s  psychological educational and sexual health</td>\n",
       "    </tr>\n",
       "    <tr>\n",
       "      <th>1</th>\n",
       "      <td>in addition the research has informed coaches ice  hockey and rugby union  and people working in the fitness industry personnel trainers  and has  contributed to the debate  on exercise for health scottish government</td>\n",
       "    </tr>\n",
       "    <tr>\n",
       "      <th>1</th>\n",
       "      <td>the research has had  practical applications in  foot health and welfare of elephants in captivity and through examining  constraints of growth on  anatomy has also led to applications in health of broiler chickens</td>\n",
       "    </tr>\n",
       "    <tr>\n",
       "      <th>1</th>\n",
       "      <td>our research has had substantial impact on the mental health and welfare  of children with suspected autistic disorders on their education on the  well being of their families and on the activities of healthcare  professionals and their services for children in both paediatric and  psychiatric practice</td>\n",
       "    </tr>\n",
       "    <tr>\n",
       "      <th>1</th>\n",
       "      <td>through work with the departments of health and education in northern  ireland ni and ireland irl  our research led to the introduction of an  educational resource into the national curricula of post primary schools  in irl and ni</td>\n",
       "    </tr>\n",
       "    <tr>\n",
       "      <th>1</th>\n",
       "      <td>the ioe s evidence for policy and practice information and co ordinating  eppi centre has helped uk and overseas governments to make  better informed decisions on education public health and health  education social welfare and international development through the use  of systematic reviews</td>\n",
       "    </tr>\n",
       "    <tr>\n",
       "      <th>1</th>\n",
       "      <td>second  many stakeholders made extensive use the findings of payback studies in  public debate and private lobbying for public expenditure on health  research</td>\n",
       "    </tr>\n",
       "    <tr>\n",
       "      <th>1</th>\n",
       "      <td>policymakers in the government departments responsible for health and  education local safeguarding children boards lscbs and many thousands  of professionals with child protection roles have benefited from bristol s  research into inter agency training</td>\n",
       "    </tr>\n",
       "    <tr>\n",
       "      <th>1</th>\n",
       "      <td>professor sonia mckay researched the relationship between precarious work  and migration for the european directorate general for employment  social affairs and equality acas the health and safety executive and the  european union s framework 6 programme</td>\n",
       "    </tr>\n",
       "    <tr>\n",
       "      <th>1</th>\n",
       "      <td>food consumer behaviour and health research centre fcbh at surrey has  conducted a number of studies on how people make use of and understand  the labels on food products</td>\n",
       "    </tr>\n",
       "    <tr>\n",
       "      <th>1</th>\n",
       "      <td>this case study highlights a body of research around health research  priority setting rps that assists policy makers in effectively targeting  research that has the greatest potential health benefit</td>\n",
       "    </tr>\n",
       "    <tr>\n",
       "      <th>1</th>\n",
       "      <td>school staff and  public health advisors have reported a significant impact on their  knowledge and skills as well as the training programme having influenced  practice and shared learning between colleagues</td>\n",
       "    </tr>\n",
       "    <tr>\n",
       "      <th>1</th>\n",
       "      <td>third governments public research funding bodies and medical  research charities from the uk to australia used the findings from  payback studies to inform decisions regarding the levels and distribution  of health research funding with the aim of increasing the health and  economic benefits that come from investments in research</td>\n",
       "    </tr>\n",
       "    <tr>\n",
       "      <th>1</th>\n",
       "      <td>funding has been secured to  rollout the new service across nhs greater glasgow and clyde health board  nhs ggc  1 2m population in 2013</td>\n",
       "    </tr>\n",
       "    <tr>\n",
       "      <th>1</th>\n",
       "      <td>the university of liverpool uol team at the who collaborating centre  for policy research on  social determinants of health liverpool who cc has made a leading  internationally recognised  contribution to addressing the adverse health consequences of household  air pollution a problem  responsible for an estimated 4 million premature deaths among 2 8 billion  of the world s poorest  people</td>\n",
       "    </tr>\n",
       "    <tr>\n",
       "      <th>1</th>\n",
       "      <td>university of huddersfield research into the history of mental health  care has encouraged a broad  range of stakeholders and individuals to challenge their values and  beliefs about people who live  with mental health issues and the services they use</td>\n",
       "    </tr>\n",
       "    <tr>\n",
       "      <th>1</th>\n",
       "      <td>it has also been used in large organisations including  professional services  companies law firms and health insurance bodies where it has  demonstrably improved workplace  welfare in connection with bias wellbeing and stress</td>\n",
       "    </tr>\n",
       "    <tr>\n",
       "      <th>1</th>\n",
       "      <td>the results have generated significant levels of media  publicity and interest from the health and well being community both  nationally and internationally</td>\n",
       "    </tr>\n",
       "  </tbody>\n",
       "</table>\n",
       "</div>"
      ],
      "text/plain": [
       "                                                                                                                                                                                                                                                                                                                                                                                                   sentence\n",
       "1                                                  the critical  success of his monograph decolonizing international health and  its positive reception among non academic specialists in the field led to  his involvement in dialogues with policymakers in international ngos and  invitations to contribute a historical perspective to discussions about  public health issues in the developing world\n",
       "1                                                                                                 the state of the art electronic rostering  programme improves use of  resources reduces reliance on costly agency staff reduces the risk of  fines for breaching legal  requirements such as the european working time directive and leads to  significant savings in the  health and social care sectors\n",
       "1                                                                                                                                                                                                                                                              these  are based on oxford findings that revealed major effects of parental aids  on children s  psychological educational and sexual health\n",
       "1                                                                                                                                                                                  in addition the research has informed coaches ice  hockey and rugby union  and people working in the fitness industry personnel trainers  and has  contributed to the debate  on exercise for health scottish government\n",
       "1                                                                                                                                                                                    the research has had  practical applications in  foot health and welfare of elephants in captivity and through examining  constraints of growth on  anatomy has also led to applications in health of broiler chickens\n",
       "1                                                                                           our research has had substantial impact on the mental health and welfare  of children with suspected autistic disorders on their education on the  well being of their families and on the activities of healthcare  professionals and their services for children in both paediatric and  psychiatric practice\n",
       "1                                                                                                                                                                    through work with the departments of health and education in northern  ireland ni and ireland irl  our research led to the introduction of an  educational resource into the national curricula of post primary schools  in irl and ni\n",
       "1                                                                                                      the ioe s evidence for policy and practice information and co ordinating  eppi centre has helped uk and overseas governments to make  better informed decisions on education public health and health  education social welfare and international development through the use  of systematic reviews\n",
       "1                                                                                                                                                                                                                                            second  many stakeholders made extensive use the findings of payback studies in  public debate and private lobbying for public expenditure on health  research\n",
       "1                                                                                                                                             policymakers in the government departments responsible for health and  education local safeguarding children boards lscbs and many thousands  of professionals with child protection roles have benefited from bristol s  research into inter agency training\n",
       "1                                                                                                                                            professor sonia mckay researched the relationship between precarious work  and migration for the european directorate general for employment  social affairs and equality acas the health and safety executive and the  european union s framework 6 programme\n",
       "1                                                                                                                                                                                                                                food consumer behaviour and health research centre fcbh at surrey has  conducted a number of studies on how people make use of and understand  the labels on food products\n",
       "1                                                                                                                                                                                                   this case study highlights a body of research around health research  priority setting rps that assists policy makers in effectively targeting  research that has the greatest potential health benefit\n",
       "1                                                                                                                                                                                           school staff and  public health advisors have reported a significant impact on their  knowledge and skills as well as the training programme having influenced  practice and shared learning between colleagues\n",
       "1                                                               third governments public research funding bodies and medical  research charities from the uk to australia used the findings from  payback studies to inform decisions regarding the levels and distribution  of health research funding with the aim of increasing the health and  economic benefits that come from investments in research\n",
       "1                                                                                                                                                                                                                                                                  funding has been secured to  rollout the new service across nhs greater glasgow and clyde health board  nhs ggc  1 2m population in 2013\n",
       "1  the university of liverpool uol team at the who collaborating centre  for policy research on  social determinants of health liverpool who cc has made a leading  internationally recognised  contribution to addressing the adverse health consequences of household  air pollution a problem  responsible for an estimated 4 million premature deaths among 2 8 billion  of the world s poorest  people\n",
       "1                                                                                                                                               university of huddersfield research into the history of mental health  care has encouraged a broad  range of stakeholders and individuals to challenge their values and  beliefs about people who live  with mental health issues and the services they use\n",
       "1                                                                                                                                                                        it has also been used in large organisations including  professional services  companies law firms and health insurance bodies where it has  demonstrably improved workplace  welfare in connection with bias wellbeing and stress\n",
       "1                                                                                                                                                                                                                                              the results have generated significant levels of media  publicity and interest from the health and well being community both  nationally and internationally"
      ]
     },
     "execution_count": 272,
     "metadata": {},
     "output_type": "execute_result"
    }
   ],
   "source": [
    "sample_cluster1 = clusters_df.loc[1].sample(n=sample_size, random_state=1)\n",
    "sample_cluster1"
   ]
  },
  {
   "cell_type": "markdown",
   "metadata": {},
   "source": [
    "#### Cluster 2"
   ]
  },
  {
   "cell_type": "code",
   "execution_count": 273,
   "metadata": {},
   "outputs": [
    {
     "data": {
      "text/html": [
       "<div>\n",
       "<style scoped>\n",
       "    .dataframe tbody tr th:only-of-type {\n",
       "        vertical-align: middle;\n",
       "    }\n",
       "\n",
       "    .dataframe tbody tr th {\n",
       "        vertical-align: top;\n",
       "    }\n",
       "\n",
       "    .dataframe thead th {\n",
       "        text-align: right;\n",
       "    }\n",
       "</style>\n",
       "<table border=\"1\" class=\"dataframe\">\n",
       "  <thead>\n",
       "    <tr style=\"text-align: right;\">\n",
       "      <th></th>\n",
       "      <th>sentence</th>\n",
       "    </tr>\n",
       "  </thead>\n",
       "  <tbody>\n",
       "    <tr>\n",
       "      <th>2</th>\n",
       "      <td>the findings of university of reading research around the contemporary  proliferation of regulatory myths and media misrepresentation of health  and safety law have been used by a number of stakeholder organisations and  charitable bodies in evidence given to official government reviews and  drawn upon by those reviews as part of the development of policy  recommendations for government</td>\n",
       "    </tr>\n",
       "    <tr>\n",
       "      <th>2</th>\n",
       "      <td>it has also informed service and  policy developments in the united kingdom and internationally</td>\n",
       "    </tr>\n",
       "    <tr>\n",
       "      <th>2</th>\n",
       "      <td>furthermore the research  has influenced international public food policies such as those of the  united nations</td>\n",
       "    </tr>\n",
       "    <tr>\n",
       "      <th>2</th>\n",
       "      <td>there has been impact at national and local government  level driving changes in policy and practice</td>\n",
       "    </tr>\n",
       "    <tr>\n",
       "      <th>2</th>\n",
       "      <td>child protection policy and practice has largely ignored young people s  experiences of child sexual exploitation cse and peer on peer violence</td>\n",
       "    </tr>\n",
       "    <tr>\n",
       "      <th>2</th>\n",
       "      <td>jacqueline barnes evaluations of government initiatives promoting  parenting and child development for vulnerable families have directly  affected major policy decisions since 2008</td>\n",
       "    </tr>\n",
       "    <tr>\n",
       "      <th>2</th>\n",
       "      <td>the worst of institutional child care came to the attention of the public  and policy makers in the  1990s following the fall of ceau 351 escu in 1989 when pictures of children in  romanian orphanages  were broadcast around europe and america</td>\n",
       "    </tr>\n",
       "    <tr>\n",
       "      <th>2</th>\n",
       "      <td>the case described shows that work reported in the 2008 rae exploring the  information seeking strategies of older users is currently having a direct  and significant impact on government policy in respect of the broad area  of digital inclusion</td>\n",
       "    </tr>\n",
       "    <tr>\n",
       "      <th>2</th>\n",
       "      <td>the main  beneficiaries of this research are liverpool city council the national  union of students nus and the student population within merseyside</td>\n",
       "    </tr>\n",
       "    <tr>\n",
       "      <th>2</th>\n",
       "      <td>anna lawson s research into disability equality and human rights  has shaped and strengthened the disability policy of the european union  eu and council of europe coe</td>\n",
       "    </tr>\n",
       "    <tr>\n",
       "      <th>2</th>\n",
       "      <td>our impact has  been in promoting policies to reshape the conditions for good low impact  consumption through  a generating high level debate about sustainable  diets what to eat at population and individual levels  b identifying  and mapping the cultural and spatial realities that shape consumer  choices and c foregrounding the challenge of health literacy</td>\n",
       "    </tr>\n",
       "    <tr>\n",
       "      <th>2</th>\n",
       "      <td>chronologically the impact of this  evidence has been to  a introduce new evidence based concepts to  policy makers and the public 2007 2009  b inform national government  policies and programmes 2009 2011  c inform regional and local plans  programmes and activities 2010 2012  d hold government policy to  account and inform international debate 2010 2013</td>\n",
       "    </tr>\n",
       "    <tr>\n",
       "      <th>2</th>\n",
       "      <td>the impact  of gardner s studies  has subsequently expanded beyond the uk contributing to family  intervention development in us  trials and to policy change by organisations such as who and the un  office on drugs and crime  unodc  and by policymakers in new zealand malta slovenia estonia and  south africa</td>\n",
       "    </tr>\n",
       "    <tr>\n",
       "      <th>2</th>\n",
       "      <td>this involvement has led to changes  in guidelines international standards the development of best practice  documents and new products in both healthcare and the rail industry in  both the uk and worldwide particularly the us</td>\n",
       "    </tr>\n",
       "    <tr>\n",
       "      <th>2</th>\n",
       "      <td>research into participative practice and well being with older people has  contributed directly to the development and application of an ethic of  care in policy and service delivery as well as to practices in older  people s participation locally nationally and internationally</td>\n",
       "    </tr>\n",
       "    <tr>\n",
       "      <th>2</th>\n",
       "      <td>research by the university of southampton into ageing intergenerational  relations and the life course has influenced policy debate and practice at  national and international levels highlighting the importance of adapting  social policy to take account of the changing shape of the life course</td>\n",
       "    </tr>\n",
       "    <tr>\n",
       "      <th>2</th>\n",
       "      <td>research taken up by the audit commission and  tsb dti has further influenced uk remote care policy by developing the  evidence base and evaluating gaps in basic research</td>\n",
       "    </tr>\n",
       "    <tr>\n",
       "      <th>2</th>\n",
       "      <td>industry bodies are now  working with government to produce guidelines to reduce risks identified</td>\n",
       "    </tr>\n",
       "    <tr>\n",
       "      <th>2</th>\n",
       "      <td>the impact of the  research has been commended nationally and internationally by professional  bodies e g  british  psychological society american association of behavior therapy</td>\n",
       "    </tr>\n",
       "    <tr>\n",
       "      <th>2</th>\n",
       "      <td>the impact encompassed  changes in policy direction and programmes aimed at tackling youth  violence including policies in scotland such as no knives better lives</td>\n",
       "    </tr>\n",
       "  </tbody>\n",
       "</table>\n",
       "</div>"
      ],
      "text/plain": [
       "                                                                                                                                                                                                                                                                                                                                                                                                sentence\n",
       "2  the findings of university of reading research around the contemporary  proliferation of regulatory myths and media misrepresentation of health  and safety law have been used by a number of stakeholder organisations and  charitable bodies in evidence given to official government reviews and  drawn upon by those reviews as part of the development of policy  recommendations for government\n",
       "2                                                                                                                                                                                                                                                                                                        it has also informed service and  policy developments in the united kingdom and internationally\n",
       "2                                                                                                                                                                                                                                                                                       furthermore the research  has influenced international public food policies such as those of the  united nations\n",
       "2                                                                                                                                                                                                                                                                                                   there has been impact at national and local government  level driving changes in policy and practice\n",
       "2                                                                                                                                                                                                                                                        child protection policy and practice has largely ignored young people s  experiences of child sexual exploitation cse and peer on peer violence\n",
       "2                                                                                                                                                                                                                   jacqueline barnes evaluations of government initiatives promoting  parenting and child development for vulnerable families have directly  affected major policy decisions since 2008\n",
       "2                                                                                                                                                     the worst of institutional child care came to the attention of the public  and policy makers in the  1990s following the fall of ceau 351 escu in 1989 when pictures of children in  romanian orphanages  were broadcast around europe and america\n",
       "2                                                                                                                                                  the case described shows that work reported in the 2008 rae exploring the  information seeking strategies of older users is currently having a direct  and significant impact on government policy in respect of the broad area  of digital inclusion\n",
       "2                                                                                                                                                                                                                                                   the main  beneficiaries of this research are liverpool city council the national  union of students nus and the student population within merseyside\n",
       "2                                                                                                                                                                                                                                anna lawson s research into disability equality and human rights  has shaped and strengthened the disability policy of the european union  eu and council of europe coe\n",
       "2                                our impact has  been in promoting policies to reshape the conditions for good low impact  consumption through  a generating high level debate about sustainable  diets what to eat at population and individual levels  b identifying  and mapping the cultural and spatial realities that shape consumer  choices and c foregrounding the challenge of health literacy\n",
       "2                                  chronologically the impact of this  evidence has been to  a introduce new evidence based concepts to  policy makers and the public 2007 2009  b inform national government  policies and programmes 2009 2011  c inform regional and local plans  programmes and activities 2010 2012  d hold government policy to  account and inform international debate 2010 2013\n",
       "2                                                                                   the impact  of gardner s studies  has subsequently expanded beyond the uk contributing to family  intervention development in us  trials and to policy change by organisations such as who and the un  office on drugs and crime  unodc  and by policymakers in new zealand malta slovenia estonia and  south africa\n",
       "2                                                                                                                                                                     this involvement has led to changes  in guidelines international standards the development of best practice  documents and new products in both healthcare and the rail industry in  both the uk and worldwide particularly the us\n",
       "2                                                                                                                 research into participative practice and well being with older people has  contributed directly to the development and application of an ethic of  care in policy and service delivery as well as to practices in older  people s participation locally nationally and internationally\n",
       "2                                                                                                 research by the university of southampton into ageing intergenerational  relations and the life course has influenced policy debate and practice at  national and international levels highlighting the importance of adapting  social policy to take account of the changing shape of the life course\n",
       "2                                                                                                                                                                                                                             research taken up by the audit commission and  tsb dti has further influenced uk remote care policy by developing the  evidence base and evaluating gaps in basic research\n",
       "2                                                                                                                                                                                                                                                                                                      industry bodies are now  working with government to produce guidelines to reduce risks identified\n",
       "2                                                                                                                                                                                                                     the impact of the  research has been commended nationally and internationally by professional  bodies e g  british  psychological society american association of behavior therapy\n",
       "2                                                                                                                                                                                                                                     the impact encompassed  changes in policy direction and programmes aimed at tackling youth  violence including policies in scotland such as no knives better lives"
      ]
     },
     "execution_count": 273,
     "metadata": {},
     "output_type": "execute_result"
    }
   ],
   "source": [
    "sample_cluster2 = clusters_df.loc[2].sample(n=sample_size, random_state=1)\n",
    "sample_cluster2"
   ]
  },
  {
   "cell_type": "markdown",
   "metadata": {},
   "source": [
    "In contrast to sentiment analysis, K-means shows to be useful in grouping together sentences with similar topics. **`Cluster 0`** contains a mix of sentences with evidence of social impact with more general phrases. **`Cluster 1`** has sentences that show how the research has impacted in medical practices while **`cluster 2`** includes sentences that tells how the research informed public policies. Next, the plan is to export the sentences and their clusters to a CSV file. Then, with the help of Google Spreadsheet, go manually through sentences in the clusters and label them to indicate whether they contain evidence of impact or not."
   ]
  },
  {
   "cell_type": "code",
   "execution_count": 274,
   "metadata": {},
   "outputs": [],
   "source": [
    "# save sentences and clusters into a CSV file\n",
    "clusters_df.to_csv('data/k_means/clusters.csv')"
   ]
  },
  {
   "cell_type": "markdown",
   "metadata": {},
   "source": [
    "A sample of sentences in each cluster were manually processed to identify those that contain evidence of social impact. In total, 1037 sentences were annonated. In particular, 511, 263, and 263 sentences from **`Cluster 0`**, **`Cluster 1`**, and **`Cluster 2`**, respectively, were labeled with 1 if the sentence contains evidence of social impact while with 0 otherwise. The annotation process was valided through a cross-checking procedure; a second annotator was asked to label a random sample of 200 annotated sentences. The level of agreement between the two annotators was 86%. Out of the 1037 annotated sentences, 197 were found to contain evidence of social impact. The following [Google Spreadsheet](https://docs.google.com/spreadsheets/d/1A-8W4ajP1vSJSvciajxvPg3phga9BKUTVhHi_wDuy9o/edit?usp=sharing) was used to conduct the annotation and validation process."
   ]
  },
  {
   "cell_type": "markdown",
   "metadata": {},
   "source": [
    "---\n",
    "# Second Part"
   ]
  },
  {
   "cell_type": "markdown",
   "metadata": {},
   "source": [
    "In this part of the notebook, the dataset of full-text of 29,437 articles of health and biology produced by Ye et al. as part of their publication [SparkText:Biomedical Text Mining on Big Data Framework](https://www.researchgate.net/publication/308759738_SparkText_Biomedical_Text_Mining_on_Big_Data_Framework) is used. Every row in the dataset represents the full-text of an article."
   ]
  },
  {
   "cell_type": "markdown",
   "metadata": {},
   "source": [
    "## Load data"
   ]
  },
  {
   "cell_type": "markdown",
   "metadata": {},
   "source": [
    "Let's load the dataset. I am using the default CSV library of Python because instead of Pandas because in this case I do not need a full dataframe but only a list of strings, which will represent the articles."
   ]
  },
  {
   "cell_type": "code",
   "execution_count": 32,
   "metadata": {},
   "outputs": [],
   "source": [
    "import csv\n",
    "texts = []\n",
    "with open('data/SparkText_SampleDataset_29437Fulltexts.csv', encoding='utf-8', errors='ignore') as csvfile:\n",
    "    reader = csv.DictReader(csvfile, fieldnames=['code','text'], delimiter= ' ')\n",
    "    for row in reader:\n",
    "        if row['text'] == 'text': # header\n",
    "            continue\n",
    "        texts.append(row['text'])"
   ]
  },
  {
   "cell_type": "markdown",
   "metadata": {},
   "source": [
    "### Sample"
   ]
  },
  {
   "cell_type": "code",
   "execution_count": 36,
   "metadata": {},
   "outputs": [
    {
     "data": {
      "text/plain": [
       "'In this case, apoptosis-deficient Becn1+/+ iMMECs stably expressing ERBB2 under low (1%) oxygen and glucose-deprivation conditions showed decreased number of autophagosomes compared with their non-ERBB2-expressing Becn1+/+ counterparts (Fig. 2F and G). Interestingly, the level of autophagy induction in metabolically stressed ERBB2-expressing Becn1+/+ iMMECs was similar to that of vector-expressing Becn1+/? iMMECs (Fig. 2F and G), confirming that ERBB2 overexpression renders mammary epithelial cells partially autophagy-deficient under stress. To further investigate the impact of ERBB2 overexpression on stress-induced autophagy in an alternate system and in an apoptosis-competent background, we used a transient ERBB2 expression system.40 To this intent, Becn1+/+ iMMECs stably overexpressing EGFP-LC3B were transiently transfected with a ERBB2-expressing or vector control plasmid and, after overnight recovery in regular culture medium, were incubated in Hanks medium for up to 3.5 h. Similar to the results described above (Fig. 2BE), transient ERBB2 overexpression did not affect basal autophagy, but suppressed autophagy induction in wild-type iMMECs in response to nutrient deprivation (Fig. 3AD, P < 0.01). This result was confirmed by decreased LC3B-I to LC3B-II conversion in iMMECs transiently overexpressing ERBB2 in both the absence and presence of BafA1 (Fig. 3C and D). ERBB2 overexpression did not affect expression of the essential autophagy regulators BECN1 and ATG7 (Fig. S2), but resulted in decreased conversion of endogenous LC3B-I to LC3B-II (Fig. 3C), indicating that ERBB2-promoted suppression of the autophagic response to stress was not associated with alterations in ATG expression. Figure 3. Transient ERBB2 overexpression inhibits stress-induced autophagy in Becn1+/+ iMMECs to the level observed in partially autophagy-defective non-ERBB2-expressing Becn1+/? iMMECs. (A) GFP-fluorescence microscopy of EGFP-LC3B-expressing Becn1+/+ iMMECs transiently transfected with a ERBB2-expressing or vector control plasmid under nutrient deprivation conditions without or with bafilomycin A1 (BafA1, 25 nM). (B) Autophagy quantification of (A) based on number of GFP-fluorescent puncta per cell. Each data point is an average of triplicate experiments  SD after quantifying puncta in 100 cells per experiment. *P value < 0.05; **P value < 0.01. (C) GFP and ACTB western blots of whole cell protein lysates from Becn1+/+ iMMECs transiently expressing ERBB2 under nutrient deprivation without and with BafA1. (D) Densitometric analysis of LC3B-II/LC3B-I ratio, as normalized to ACTB, using ImageJ. (E) EGFP-LC3B-expressing Becn1+/+ and Becn1+/? iMMECs transiently transfected with a ERBB2-expressing or vector control plasmid were subjected to nutrient deprivation, and autophagy was quantified by the number of GFP-fluorescent puncta per cell. Each data point is an average of triplicate experiments  SD after quantifying puncta in 100 cells per experiment. *P value < 0.05; **P value < 0.01. Finally, when EGFP-LC3B-expressing Becn1+/+ and Becn1+/? iMMECs were transiently transfected with a ERBB2-expressing or vector control plasmid and subjected to nutrient starvation, ERBB2 overexpression in either Becn1+/+ or Becn1+/? iMMECs induced similar number of autophagic puncta to those observed in vector-transfected Becn1+/? iMMECs (Fig. 3E, P < 0.05), indicating that ERBB2 expression rendered mammary epithelial cells autophagy-defective, independent of allelic Becn1 status. The effect of ERBB2 overexpression on the functional status of autophagy in human breast cancer cells was examined by transfection of stably EGFP-LC3B-expressing MCF7 cells with an ERBB2-expressing or vector control plasmid. Similar to the iMMEC results described above (Fig. 2; Fig. 3), transient ERBB2 expression did not alter basal autophagy levels in MCF7 cells, but suppressed autophagy induction in response to nutrient starvation (Fig. 4A and B). Inhibition of autophagic flux by bafilomycin A1 resulted in higher GFP puncta accumulation per cell in vector-compared with ERBB2-expressing MCF7 cells (Fig. 4A and B, P < 0.05), again indicating that the ERBB2 signaling pathway decreases autophagy induction in response to stress and, thus, suggesting that ERBB2-positive breast tumors may be functionally autophagy-defective, independent of BECN1 expression. Figure 4. Transient ERBB2 overexpression inhibits stress-induced autophagy in human breast cancer cells. (A) GFP-fluorescence microscopy of EGFP-LC3B-expressing MCF7 cells transiently transfected with a ERBB2-expressing or vector control plasmid under nutrient deprivation conditions for 0, 1, and 2 h without and with bafilomycin A1 (BafA1, 25 nM). (B) Autophagy quantification of (A) based on number of GFP-fluorescent puncta per cell. Each data point is an average of triplicate experiments  SD after quantifying puncta in 100 cells per experiment. *P value < 0.05; **P value < 0.01. (C) GFP-fluorescence confocal microscopy of tumor cell plaques dissected 24 h post orthotopic implantation of BCL2-expressing Becn1+/+ (left panel), BCL2- and ERBB2-expressing Becn1+/+ (middle panel), and BCL2 expressing Becn1+/? (right panel) iMMECs in nude mice. To examine the effect of ERBB2 overexpression on the functional status of autophagy in vivo, BCL2-, ERBB2- and EGFP-LC3B-expressing Becn1+/+ iMMECs, as well as BCL2-expressing Becn1+/+ and Becn1+/? iMMECs, were orthotopically implanted into the mammary fat pad of nude mice. Plaques were dissected 24 h post iMMEC implantation and LC3B translocation was qualitatively evaluated using fluorescence confocal microscopy. Similar to Figures 2D and 3E, ERBB2-overexpressing Becn1+/+ mammary cells exhibited similar number and size of GFP-LC3B puncta to Becn1+/? cells in vivo, but fewer and smaller in size puncta than Becn1+/+ cells (Fig. 4C). Monoallelic Becn1 loss does not alter ERBB2- and PyMT-driven mammary tumorigenesis To investigate whether allelic Becn1 status impacts ERBB2-induced mammary tumorigenesis, ERBB2-overexpressing Becn1+/+ and Becn1+/? iMMECs were orthotopically implanted in NCR nude female mice. The kinetics of allograft mammary tumor formation were independent of Becn1 status (Fig. 5A), indicating that, in our mouse mammary epithelial model,37 monoallelic Becn1 loss does not alter ERBB2-induced mammary tumorigenesis. Mammary tumors generated by ERBB2-overexpressing Becn1+/+ and Becn1+/? iMMECs exhibited similar ERBB2, MKI67 (Ki67) and cleaved CASP3 levels, indicating that ERBB2-overexpressing Becn1+/+ and Becn1+/? iMMEC-generated tumors were similar in oncogene expression and in cell proliferation and death rates. However, given lower total LC3B expression, but similar SQSTM1 levels in Becn1+/? compared with Becn1+/+ tumors (Fig. 5B), differences in the functional status of autophagy could not be reliably determined. Figure 5. ERBB2-expressing Becn1+/+ and Becn1+/? iMMECs have similar tumor-forming capacities in nude mice. (A) Independent ERBB2-overexpressing Becn1+/+ and Becn1+/? iMMEC lines (e.g., A and B) were bilaterally implanted into the 3rd mammary fat pads of nude mice. Mice were monitored for tumor growth. Each data point represents the average volume of iMMEC-generated mammary tumors in 5 mice (2 tumors per mouse) per genotype  SD (B) Representative images of ERBB2, LC3B, SQSTM1, MKI67, and cleaved CASP3 expression, as determined by IHC, in ERBB2-expressing Becn1+/+ (Becn1+/+;ERBB2) and ERBB2-expressing Becn1+/? (Becn1+/?;ERBB2) iMMEC-generated allograft mammary tumors from (A). The functional interactions between the ERBB2 and autophagy pathways were further studied by crossing Becn1+/? mice to 2 well-characterized mouse mammary tumor models, namely the MMTV-Neu42 and MMTV-PyMT43 models, which show cosegregating tumor gene expression profiles when compared with other mouse mammary tumor models.44 Similar to the iMMEC studies described above (Fig. 5A), monoallelic Becn1 loss did not alter the incidence, MMTV-latency or multiplicity of ERBB2-induced mammary tumors, independent of parity status (Fig. 6A). Similar ERBB2, but lower BECN1 and LC3B, levels were observed in Becn1+/?;Neu compared with Becn1+/+;MMTV-Neu mammary glands (Fig. 6B). Figure 6. Monoallelic Becn1 deletion does not affect ERBB2-driven mammary tumorigenesis. (A) Kaplan-Meier curve depicting percentage of tumor-free virgin (nulliparous-NP) mice over a period of 600 d post birth. (B) Kaplan-Meier curve depicting percentage of tumor-free retired breeder (multiparous-MP) mice over a period of 600 d post birth. (C) Table summarizing tumor frequency, latency, multiplicity, and anatomical distribution per genotype. MG, mammary gland; SlG, salivary gland. (D) Representative images of hematoxylin and eosin (H&E) and ERBB2, BECN1, and LC3B expression by IHC in mammary tumors from Becn1+/+;MMTV-Neu and Becn1+/?;MMTV-Neu virgin mice. Mice used: Becn1+/? (C57BL/6); MMTV-Neu (FVB/N). It is of interest to note that the cross between Becn1+/?8 and MMTV-Neu mice resulted in a mixed C57BL/6:FVB (50:50) background and mammary tumors arose with greater latency and lower penetrance in Becn1+/+;MMTV-Neu mice than in the FVB/N MMTV-Neu model,42 in agreement with earlier reports that the C57BL/6 background suppresses ERBB2-induced mammary tumor formation.45,46 To generate a Becn1+/? mouse model that is more readily amenable to mammary tumorigenesis studies, we changed the genetic background of the Becn1+/? mice from C57BL/68 to FVB/N. Rather than repeating the lengthier cross with MMTV-Neu mice, we instead crossed FVB Becn1+/? mice to the MMTV-PyMT mouse model, which develops mammary tumors in all mammary glands within 6 to 8 wk43 and is frequently used as a surrogate model for ERBB2-driven mammary tumorigenesis, as NEU- and PyMT-induced mammary tumors exhibit cosegregating gene expression signatures and high ERBB2 expression.47 Similar to the cross between Becn1+/? and MMTV-Neu mice (Fig. 6A), Becn1 heterozygosity did not impact PyMT-induced mammary tumorigenesis (Fig. 7A). Compared with Becn1+/+;MMTV-PyMT mammary tumors, Becn1+/?;MMTV-PyMT tumors exhibited lower BECN1 expression, but comparable ERBB2, LC3B, SQSTM1 and MKI67 levels (Fig. 7B), indicating that cell proliferation and likely functional autophagy status in PyMT-driven mammary tumors were not affected by monoallelic Becn1 deletion. Figure 7. Monoallelic Becn1 loss does not impact PyMT-driven mammary tumorigenesis. (A) Kaplan-Meier curve depicting percentage of tumor-free virgin mice over a period of 100 d post birth. (B) Table summarizing tumor latency, multiplicity, and size. (C) Representative images of H&E and ERBB2, BECN1, LC3B, SQSTM1, and MKI67 expression by IHC in mammary tumors from Becn1+/+;MMTV-PyMT and Becn1+/?;MMTV-PyMT mice. Mice used: Becn1+/? (FVB/N); MMTV-PyMT (FVB/N). Autophagy inhibition enhances the response of tzb-responsive human breast cancer cells to trastuzumab Our findings that ERBB2-positive breast tumors often exhibit low BECN1 expression (Fig. 1), ERBB2 overexpression suppresses stress-induced autophagy in mammary tumor cells in vitro and in vivo (Figs. 24), and Becn1 heterozygosity does not impact ERBB2-induced mammary tumorigenesis in the mouse tumor models examined (Figs. 57) suggest that, in contrast to mutant RAS-driven tumors,38,48-50 ERBB2-overexpressing cancer cells do not depend on high functional autophagy levels for growth. It is possible, however, that the suppressed, but not absent, autophagic potential is still essential for ERBB2-positive cancer cell survival under stress and that further autophagy inhibition may promote tumor cell death. To investigate this clinically significant hypothesis, we examined whether pharmacological or genetic autophagy inhibition increased sensitivity of the ERBB2-positive human breast cancer cell line, BT474, to the humanized mouse monoclonal ERBB2 antibody trastuzumab.51 Previous reports have shown that tzb-sensitive BT474 cancer cells exhibit low levels of basal autophagy and fail to upregulate autophagy in response to stress to the levels of other human breast cancer cell lines,33,52,53 further supporting our finding that ERBB2 overexpression suppresses autophagy. As shown in Figure 8A, trastuzumab inhibited BT474 cell growth at 48 and 72 h of treatment (P < 0.05 and < 0.01, respectively), whereas the lysosomotropic agent and indirect autophagy inhibitor chloroquine (CQ), at a concentration that blocks autophagic flux (25 ?M, Fig. 8B and C), had minimal effect on BT474 cell growth. The combination of trastuzumab and CQ showed statistically significant enhanced antitumor effect relative to the single agent trastuzumab (Fig. 8A), indicating that pharmacological autophagy inhibition with CQ augments the therapeutic efficacy of trastuzumab on tzb-sensitive BT474 breast cancer cells (P < 0.05). Near-complete BECN1 knockdown with siRNA (Fig. 8E) did not affect BT474 cell growth, but increased the antitumor effect of trastuzumab at 72 h (Fig. 8D, P < 0.05), indicating that targeted suppression of BECN1 expression also impacts ERBB2-positive breast cancer cell responsiveness to trastuzumab. Figure 8. Autophagy inhibition sensitizes tzb-responsive ERBB2-positive breast cancer cells to trastuzumab. (A) Viability assays of BT474 cells treated with trastuzumab (TZB, 150 g/ml), chloroquine (CQ, 25 M), or combination of both for 0, 3, and 5 d. (B) Viability of BT474 after 3 d of treatment with increasing CQ concentrations. (C) LC3B western blot of BT474 cells treated with increasing CQ concentrations. #middle panel is higher exposure of top panel (D) Viability assays of BT474 cells treated with TZB (150 g/ml) for 0 to 3 d, starting at 24 h after transfection with BECN1 or scrambled siRNA. (E) BECN1 immunoblot confirms target knockdown by siRNA during 0 to 3 d of treatment. P values were calculated using paired Student t test. Each data point is an average of triplicate experiments  SD. *P value < 0.05; **P value < 0.01. ERBB2-positive human breast tumors exhibit a low autophagy gene signature independent of BECN1 mRNA status Given our initial observation that low BECN1 expression in human breast tumors correlates with the ERBB2 and basal-like subtypes in independent, but rather small, gene profiling databases (Fig. 1), we examined whether this finding holds true in much larger and unrelated breast cancer cohorts.54-57 Tumors were clustered into 4 subgroups based on BECN1 expression levels [high (BECN1+) vs. low (BECN1?) for BECN1 levels above or below the mean across samples, respectively] and reported ERBB2 status [positive (ERBB2+) vs. negative (ERBB2?)] and their expression profiles were compared regarding hormone receptor status, autophagy-related gene expression, and gene signatures of metabolic pathways (Fig. S3) previously reported to be affected by functional autophagy status.38,48,49,58-60 This analysis confirmed that ERBB2-positive and triple negative breast tumors commonly express low levels of BECN1 mRNA (Fig. 9, Fig. S4, P = 5.70E-18). We also discovered that ERBB2-positive tumors, independent of BECN1 expression and very similar to non-ERBB2-expressing BECN1-low tumors, exhibited low expression of autophagy-regulated genes, possibly indicating functional autophagy suppression in ERBB2-positive breast cancers even when BECN1 is highly expressed (Fig. 9, Fig. S4, P = 2.60E-03). It is of great interest and worthy of further investigation that, similar to non-ERBB2-expressing BECN1-low tumors and in contrast to non-ERBB2-expressing BECN1-high tumors, ERBB2-positive breast tumors showed decreased fatty acid ?-oxidation and oxidative phosphorylation gene signatures, independent of BECN1 expression. Intriguingly, ERBB2-positive breast cancers seem to have glycolysis and cell proliferation gene signatures between the significantly upregulated and significantly downregulated patterns observed in non-ERBB2-expressing BECN1-low (i.e., mostly triple negative) and non-ERBB2-expressing BECN1-high (i.e., mostly hormone receptor-positive) tumors, respectively (Fig. 9, Fig. S4, P = 1.60E-05 and P = 3.10E-06). Figure 9. ERBB2-positive breast cancers have, independent of BECN1 expression, gene expression signatures similar to those of non-ERBB2-expressing breast cancers with low BECN1 mRNA levels. The heatmap reports gene set enrichment analysis (GSEA) for selected gene signatures (rows) in breast cancer cohorts defined by ERBB2 and BECN1 status. The color indicates the enrichment (Fischer exact test) of samples with gene signature upregulation (red, P+, enrichment < 0.05), downregulation (blue, P?, enrichment < 0.05), or no difference (black, P+, enrichment ? 0.05 and P?, enrichment ? 0.05) within a cohort subgroup relative to the remaining samples in the cohort. Gene signature lists and statistical analysis are provided in Figures S3 and S4, respectively. Databases: 1) Decremoux et al. 2011, 2) Hatzis et al. 2011 (ERBB2-negative breast cancers only), 3) Servant et al. 2012, and 4) Sabatier et al. 2011. Discussion Role of autophagy in mammary tumorigenesis The human epidermal growth factor receptor and tyrosine kinase ERBB2 has been widely studied because of its strong transforming potential, its role in the pathogenesis of breast cancer, and its use as a therapeutic target in patients with ERBB2-positive breast tumors. ERBB2 amplification is likely an early genetic event in mammary tumorigenesis, as it is commonly observed in ductal carcinoma in situ, in the absence of invasive disease.61 ERBB2 status remains constant as disease progresses to invasive and then metastatic stages.62-65 Becn1 has been identified as a haplo-insufficient tumor suppressor, as Becn1+/? mice develop mammary hyperplasias, lymphomas, and lung and liver carcinomas, which retain a wild-type Becn1 allele.4,7 Epithelial cells with autophagy defects, including Becn1 heterozygosity, exhibit susceptibility to metabolic stress, which is accompanied by DNA damage and increased genomic instability, in turn likely driving cancer progression.4 In our study, and in agreement with earlier work,14 ERBB2 overexpression and low BECN1 mRNA levels are positively correlated in human breast cancers (Fig. 1), indicating that many ERBB2-positive breast malignancies may be functionally autophagy-deficient. In support of this hypothesis, we found that ERBB2 axis activation suppresses stress-induced autophagy (Figs. 24), suggesting that ERBB2-positive premalignant and malignant breast lesions may exhibit decreased autophagic potential, even if BECN1 is genomically intact. Given the contribution of allelic Becn1 loss to DNA damage and genomic instability,4 it is conceivable that, by functionally suppressing autophagy, early ERBB2 activation may lead to further ERBB2 amplification and, thus, a positive feedback loop maintaining and increasing the protumorigenic function of the ERBB2 axis. In this case, defective autophagy, but not necessarily allelic BECN1 deletion, may indeed play a role in ERBB2-positive breast cancer, particularly during tumor initiation. Recent studies support the concept that autophagy suppression is important for aberrant tyrosine kinase-induced tumorigenesis, such as those mediated by AKT1 and EGFR,66,67 which inhibit autophagy by phosphorylation of BECN1. Upon expression of a BECN1 mutant resistant to phosphorylation in cancer cell lines, autophagy could not be inhibited and tyrosine kinase-mediated xenograft tumor formation in nude mice was suppressed.66,67 It would be very informative to further investigate the role of autophagy in ERBB2-induced tumorigenesis by generating a transgenic mouse model that combines ERBB2 overexpression and a constitutively activated or non-suppressible autophagy status. As it is evident from our in vitro and in vivo allograft and spontaneous tumorigenesis studies, unless autophagy is ectopically induced or engineered to be in a nonsuppressible state, activation of the ERBB2 axis suppresses the autophagic response to stress and renders ERBB2-positive breast cancer cells autophagy-deficient, thus providing an explanation for why partial Becn1 deficiency does not impact ERBB2-driven mammary tumor formation (Figs. 57). Our bi-transgenic mouse models combining monoallelic Becn1 loss and ERBB2 or PyMT activation under the MMTV-promoter join the efforts to study the role of defective autophagy in mammary tumorigenesis using mammary tumor-prone mouse models.68,69 In the first such publication, mammary gland-targeted deletion of the positive autophagy regulator Rb1cc1/Fip200 suppresses mammary tumor initiation and progression in the MMTV-PyMT model, in association with defective autophagy in tumor cells, as indicated by accumulation of ubiquitinated protein aggregates and SQSTM1, deficient LC3B conversion, and increased number of abnormal-appearing mitochondria.68 In a more recently published study, monoallelic Becn1 loss suppresses mammary tumor formation driven by Palb2 deletion in mammary epithelial cells (MECs) in a wild-type Trp53 background, but fails to impact tumorigenesis induced by combined MEC-specific Palb2 and Trp53 loss,69 suggesting that the role of allelic Becn1 status in mammary tumorigenesis is greatly influenced by other oncogenic events. The results mentioned above, including our studies, once more indicate that the role of autophagy in breast cancer is complex and warrants further investigation. Autophagy modulation for ERBB2-positive breast cancer treatment Our treatment studies (Fig. 8) demonstrate that pharmacological inhibition of autophagy increases sensitivity of tzb-responsive breast cancer cells to trastuzumab, indicating that the functionally reduced autophagy status in ERBB2-overexpressing breast cancer cells still preserves cell viability and provides protection against chemotherapy. This finding is in agreement with previously published studies, which implicated autophagy in resistance to breast cancer treatment, as autophagy inhibition by CQ or silencing of Atg genes resensitized tzb-resistant SKBR3 cells and hormone-resistant MCF7 cells to trastuzumab and tamoxifen, respectively.33,70 Tumor cell addiction to autophagy The suppressive effect of ERBB2 overexpression on the functional status of autophagy is in sharp contrast to the upregulation of basal autophagy and the strong dependence of RAS-mutant tumors on autophagy for growth.38,48-50,58 RAS-mediated adhesion-independent transformation is dependent on autophagy, as autophagy inhibition reduced glycolytic capacity and attenuated cell proliferation and transformation.48 Furthermore, RAS-expressing cells have high basal autophagy to maintain a functional mitochondrial pool and meet energy demands imposed by oncogenic RAS, as autophagy suppression decreased tumor cell survival under starvation and abrogated tumorigenesis in nude mice, in association with depletion of oxidative phosphorylation and tricarboxylic acid cycle intermediates.38,49 Whereas the aforementioned work38,48-50,58 suggests an oncogene-induced requirement for autophagy induction during tumorigenesis, our present studies indicate that autophagy addiction is not a generalized phenomenon in cancer pathophysiology, but its activation is instead specific to particular oncogenic events. Despite the differences in autophagy functional status in RAS-mutant and ERBB2-positive tumors and the potentially discrete roles of defective autophagy in RAS- and ERBB2-driven tumor initiation and maintenance, our studies reveal a common role for autophagy in resistance to cancer therapy. Similar to the sensitization of different tumor types to standard anticancer agents,13,71-73 tzb-responsive breast cancer cells were rendered more sensitive to trastuzumab by pharmacological and genetic autophagy suppression, thus further supporting use of autophagy inhibitors in combination with conventional cancer therapies. Autophagy functional status in ERBB2-positive breast tumors Our finding that ERBB2 activation suppresses stress-induced autophagy in breast cancer cells in vitro and in vivo (Figs. 24) is in agreement with our analysis of human breast tumor DNA microarray data showing that ERBB2-expressing breast cancers exhibit lower expression of autophagy-related genes (Figs. S3 and S4), independent of BECN1 expression levels (Fig. 9). It is, thus, likely that ERBB2-positive breast tumors are functionally autophagy-defective and, similar to Becn1+/? iMMECs,74 sensitive to oxidative and endoplasmic reticulum (ER) stress-inducing agents; this hypothesis will be investigated in subsequent studies. An interesting and thought-provoking finding from our gene expression analysis is the striking downregulation of glycolysis and proliferation gene signatures in non-ERBB2-expressing BECN1-high breast cancers, which are highly enriched in hormone receptor-positive tumors and also exhibit high and relative upregulation of fatty acid ?-oxidation and oxidative phosphorylation gene signatures, respectively. ERBB2-positive breast cancers, independent of BECN1 expression, are characterized by a relative upregulation of glycolysis and proliferation gene signatures compared with non-ERBB2-expressing BECN1-high (mostly hormone receptor-positive) tumors, but not to levels observed in non-ERBB2-expressing BECN1-low (mostly triple negative breast) tumors. Upregulation of glycolysis in association with ERBB2 activation has been reported before.75-77 However, the high expression of glycolysis-related genes in conjunction with a low autophagic gene signature is surprising considering that, in RAS-mediated transformation, defective autophagy reduces glycolytic capacity.48 It is possible that breast tumors with high functional autophagy do not rely on glycolysis for meeting their metabolic demands, as fatty acid ?-oxidation and oxidative phosphorylation can be sustained at high levels in autophagy-maintained healthy mitochondria. In contrast, low BECN1 expression, and likely defective autophagy and deregulation of mitochondrial homeostasis, correlates with significant suppression of fatty acid ?-oxidation and oxidative phosphorylation, as previously reported,38,60 thus forcing the cancer cell metabolic machinery toward glycolysis. '"
      ]
     },
     "execution_count": 36,
     "metadata": {},
     "output_type": "execute_result"
    }
   ],
   "source": [
    "texts[0]"
   ]
  },
  {
   "cell_type": "markdown",
   "metadata": {},
   "source": [
    "## Split text in sentences"
   ]
  },
  {
   "cell_type": "code",
   "execution_count": 37,
   "metadata": {},
   "outputs": [],
   "source": [
    "general_sentences = [sentence for text in texts for sentence in sent_tokenize(text)]"
   ]
  },
  {
   "cell_type": "code",
   "execution_count": 40,
   "metadata": {},
   "outputs": [
    {
     "name": "stdout",
     "output_type": "stream",
     "text": [
      "There are 2,318,588 sentences contained in the 29,437 articles in the dataset.\n"
     ]
    }
   ],
   "source": [
    "print('There are {0:,} sentences contained in the 29,437 articles in the dataset.'.format(len(general_sentences)))"
   ]
  },
  {
   "cell_type": "markdown",
   "metadata": {},
   "source": [
    "## Sentences selection"
   ]
  },
  {
   "cell_type": "markdown",
   "metadata": {},
   "source": [
    "Now, I will randomly select 800 sentences to complement the sentences that contain evidence of social impact. The number 800 was choosen to have in total 1,000 sentences in the combined dataset that will be used train and test the machine learning model. More than 800 sentences can be selected but this will increase the unbalance in dataset. **The big assumption here is that the selection is composed of general sentences that do not contain evidence of social impact**."
   ]
  },
  {
   "cell_type": "code",
   "execution_count": 44,
   "metadata": {},
   "outputs": [],
   "source": [
    "# generate a list of 800 random numbers between 0 and 2,318,588\n",
    "total_sentences = 800\n",
    "random_idxs = np.random.randint(low=0, high=len(general_sentences), size=total_sentences)"
   ]
  },
  {
   "cell_type": "code",
   "execution_count": 46,
   "metadata": {},
   "outputs": [],
   "source": [
    "selected_gral_sentences = [general_sentences[idx] for idx in random_idxs]"
   ]
  },
  {
   "cell_type": "markdown",
   "metadata": {},
   "source": [
    "### Sanity check"
   ]
  },
  {
   "cell_type": "code",
   "execution_count": 50,
   "metadata": {},
   "outputs": [
    {
     "name": "stdout",
     "output_type": "stream",
     "text": [
      "Out of the 2,318,588 sentences 800 of them were selected\n"
     ]
    }
   ],
   "source": [
    "print('Out of the {0:,} sentences {1:,} of them were selected'.format(len(general_sentences), len(selected_gral_sentences)))"
   ]
  },
  {
   "cell_type": "markdown",
   "metadata": {},
   "source": [
    "### Sample"
   ]
  },
  {
   "cell_type": "code",
   "execution_count": 51,
   "metadata": {},
   "outputs": [
    {
     "data": {
      "text/plain": [
       "'This is an interesting result, given that to date only one SNP, rs4691139 in the 4q35.3 region, also identified through the iCOGS effort, has been found to modify ovarian cancer risk specifically in BRCA1 carriers [32].'"
      ]
     },
     "execution_count": 51,
     "metadata": {},
     "output_type": "execute_result"
    }
   ],
   "source": [
    "selected_gral_sentences[50]"
   ]
  },
  {
   "cell_type": "markdown",
   "metadata": {},
   "source": [
    "## Normalization"
   ]
  }
 ],
 "metadata": {
  "kernelspec": {
   "display_name": "Python 3",
   "language": "python",
   "name": "python3"
  },
  "language_info": {
   "codemirror_mode": {
    "name": "ipython",
    "version": 3
   },
   "file_extension": ".py",
   "mimetype": "text/x-python",
   "name": "python",
   "nbconvert_exporter": "python",
   "pygments_lexer": "ipython3",
   "version": "3.6.9"
  }
 },
 "nbformat": 4,
 "nbformat_minor": 2
}
